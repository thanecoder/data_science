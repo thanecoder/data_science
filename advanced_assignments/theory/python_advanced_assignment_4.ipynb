{
 "cells": [
  {
   "cell_type": "markdown",
   "metadata": {
    "id": "7aU7l0kKC7Ix"
   },
   "source": [
    "# Advanced Assignment 4"
   ]
  },
  {
   "cell_type": "markdown",
   "metadata": {
    "id": "9rJ8BnUFDAG_"
   },
   "source": [
    "#### Submitted By : Paritosh Nichat\n",
    "\n",
    "#### Submitted Date : January 9, 2022"
   ]
  },
  {
   "cell_type": "markdown",
   "metadata": {
    "id": "_qU7gYwICzCZ"
   },
   "source": [
    "**Q1. Which two operator overloading methods can you use in your classes to support iteration?**"
   ]
  },
  {
   "cell_type": "markdown",
   "metadata": {
    "id": "WpXbREPFDFm7"
   },
   "source": [
    "#### Solution :\n",
    "\n",
    "* Classes can support iteration by defining (or inheriting) __getitem__ or __iter__.\n",
    "* In all iteration contexts, Python tries to use __iter__ (which returns an object that supports the iteration protocol with a __next__ method) first: if no __iter__ is found by inheritance search, Python falls back on the __getitem__ indexing method (which is called repeatedly, with successively higher indexes)."
   ]
  },
  {
   "cell_type": "markdown",
   "metadata": {
    "id": "nXYPAwJBCzAJ"
   },
   "source": [
    "**Q2. In what contexts do the two operator overloading methods manage printing?**"
   ]
  },
  {
   "cell_type": "markdown",
   "metadata": {
    "id": "95OOHx6tDF8n"
   },
   "source": [
    "#### Solution :\n",
    "\n",
    "* The __str__ and __repr__ methods implement object print displays. \n",
    "* The former is called by the print and str built-in functions; the latter is called by print and str if there is no __str__, and always by the repr built-in, interactive echoes, and nested appearances. \n",
    "* That is, __repr__ is used everywhere, except by print and str when a __str__ is defined. A __str__ is usually used for user-friendly displays;__repr__ gives extra details or the object’s as-code form."
   ]
  },
  {
   "cell_type": "markdown",
   "metadata": {
    "id": "tbkoofDYCy8v"
   },
   "source": [
    "**Q3. In a class, how do you intercept slice operations?**"
   ]
  },
  {
   "cell_type": "markdown",
   "metadata": {
    "id": "IrMkKMzkDGNn"
   },
   "source": [
    "#### Solution :\n",
    "\n",
    "* Slicing is caught by the __getitem__ indexing method: it is called with a slice object,instead of a simple index."
   ]
  },
  {
   "cell_type": "markdown",
   "metadata": {
    "id": "eBtid8P_Cy6A"
   },
   "source": [
    "**Q4. In a class, how do you capture in-place addition?**"
   ]
  },
  {
   "cell_type": "markdown",
   "metadata": {
    "id": "iZ3V1clVDGkM"
   },
   "source": [
    "#### Solution :\n",
    "\n",
    "* In-place addition tries __iadd__ first, and __add__ with an assignment second. \n",
    "* The same pattern holds true for all binary operators. The __radd__ method is also available for right-side addition."
   ]
  },
  {
   "cell_type": "markdown",
   "metadata": {
    "id": "SuJW-MXDCy0c"
   },
   "source": [
    "**Q5. When is it appropriate to use operator overloading?**"
   ]
  },
  {
   "cell_type": "markdown",
   "metadata": {
    "id": "v06Jro8nDG6s"
   },
   "source": [
    "#### Solution :\n",
    "\n",
    "* When a class naturally matches, or needs to emulate, a built-in type’s interfaces.\n",
    "* For example, collections might imitate sequence or mapping interfaces. \n",
    "* You generally shouldn’t implement expression operators if they don’t naturally map to your objects, though—use normally named methods instead."
   ]
  }
 ],
 "metadata": {
  "colab": {
   "authorship_tag": "ABX9TyMmMuOIXHzFtdVK6W/sNkcH",
   "collapsed_sections": [],
   "name": "python_advanced_assignment_4",
   "provenance": []
  },
  "kernelspec": {
   "display_name": "Python 3",
   "language": "python",
   "name": "python3"
  },
  "language_info": {
   "codemirror_mode": {
    "name": "ipython",
    "version": 3
   },
   "file_extension": ".py",
   "mimetype": "text/x-python",
   "name": "python",
   "nbconvert_exporter": "python",
   "pygments_lexer": "ipython3",
   "version": "3.8.5"
  }
 },
 "nbformat": 4,
 "nbformat_minor": 1
}

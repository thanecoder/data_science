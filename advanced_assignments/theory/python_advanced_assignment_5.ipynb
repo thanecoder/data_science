{
  "nbformat": 4,
  "nbformat_minor": 0,
  "metadata": {
    "colab": {
      "name": "python_advanced_assignment_5",
      "provenance": [],
      "collapsed_sections": [],
      "authorship_tag": "ABX9TyPQyHu7wSQ7Vw/Oha6G6Z3H"
    },
    "kernelspec": {
      "name": "python3",
      "display_name": "Python 3"
    },
    "language_info": {
      "name": "python"
    }
  },
  "cells": [
    {
      "cell_type": "markdown",
      "metadata": {
        "id": "5rCFIvt1tN4x"
      },
      "source": [
        "# Advanced Assignment 5"
      ]
    },
    {
      "cell_type": "markdown",
      "metadata": {
        "id": "6s2Uo9XztQCW"
      },
      "source": [
        "#### Submitted By:Paritosh Nichat\n",
        "\n",
        "#### Submitted Date:September 28,2021"
      ]
    },
    {
      "cell_type": "markdown",
      "metadata": {
        "id": "HV-tYCiXs7TN"
      },
      "source": [
        "Q1. What is the meaning of multiple inheritance?"
      ]
    },
    {
      "cell_type": "markdown",
      "metadata": {
        "id": "NaHxidyXtLLG"
      },
      "source": [
        "#### Solution :\n",
        "\n",
        "* Multiple inheritance occurs when a class inherits from more than one superclass;it’s useful for mixing together multiple packages of class-based code. \n",
        "* The left-to-right order in class statement headers determines the order of attribute searches."
      ]
    },
    {
      "cell_type": "markdown",
      "metadata": {
        "id": "b5X-ml1Gs7Qm"
      },
      "source": [
        "Q2. What is the concept of delegation?"
      ]
    },
    {
      "cell_type": "markdown",
      "metadata": {
        "id": "jr4E26avtLnZ"
      },
      "source": [
        "#### Solution :\n",
        "\n",
        "* Delegation involves wrapping an object in a proxy class, which adds extra behavior and passes other operations to the wrapped object. \n",
        "* The proxy retains the interface of the wrapped object."
      ]
    },
    {
      "cell_type": "markdown",
      "metadata": {
        "id": "MHe1eiY9s7OF"
      },
      "source": [
        "Q3. What is the concept of composition?"
      ]
    },
    {
      "cell_type": "markdown",
      "metadata": {
        "id": "srEGsVuQtMGm"
      },
      "source": [
        "#### Solution :\n",
        "\n",
        "* Composition is a technique whereby a controller class embeds and directs a number of objects, and provides an interface all its own. \n",
        "* It’s a way to build up larger structures with classes."
      ]
    },
    {
      "cell_type": "markdown",
      "metadata": {
        "id": "nEdfs6Nds7LP"
      },
      "source": [
        "Q4. What are bound methods and how do we use them?"
      ]
    },
    {
      "cell_type": "markdown",
      "metadata": {
        "id": "pP4H0H3XtMnf"
      },
      "source": [
        "#### Solution :\n",
        "\n",
        "* Bound methods combine an instance and a method function. \n",
        "* You can call them without passing in an instance object explicitly because the original instance is still available."
      ]
    },
    {
      "cell_type": "markdown",
      "metadata": {
        "id": "TXF9QukNs7IT"
      },
      "source": [
        "Q5. What is the purpose of pseudoprivate attributes?"
      ]
    },
    {
      "cell_type": "markdown",
      "metadata": {
        "id": "NqBFFTlMs7F-"
      },
      "source": [
        "#### Solution :\n",
        "\n",
        "* Pseudoprivate attributes (whose names begin with two leading underscores: __X) are used to localize names to the enclosing class. \n",
        "* This includes both class attributes like methods defined inside the class, and self instance attributes assigned inside the class. \n",
        "* Such names are expanded to include the class name, which makes them unique."
      ]
    }
  ]
}
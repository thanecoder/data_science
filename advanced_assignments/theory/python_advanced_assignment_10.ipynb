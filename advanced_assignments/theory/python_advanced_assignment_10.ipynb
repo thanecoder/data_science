{
 "cells": [
  {
   "cell_type": "markdown",
   "metadata": {
    "id": "dvOT0O326LBK"
   },
   "source": [
    "# Advanced Assignment 10"
   ]
  },
  {
   "cell_type": "markdown",
   "metadata": {
    "id": "NLFm5PQo6K3S"
   },
   "source": [
    "#### Submitted By:Paritosh Nichat\n",
    "\n",
    "#### Submitted Date:January 9,2022"
   ]
  },
  {
   "cell_type": "markdown",
   "metadata": {
    "id": "G5hGrkEv6Kzg"
   },
   "source": [
    "**Q1. What is the difference between __getattr__ and __getattribute__?**"
   ]
  },
  {
   "cell_type": "markdown",
   "metadata": {
    "id": "iRPp_ikQ7Kfe"
   },
   "source": [
    "#### Solution : \n",
    "\n",
    "* The __getattr__ method is run for fetches of undefined attributes only—i.e., those not present on an instance and not inherited from any of its classes. \n",
    "* By contrast,the __getattribute__ method is called for every attribute fetch, whether the attribute is defined or not. \n",
    "* Because of this, code inside a __getattr__ can freely fetch other attributes if they are defined, whereas __getattribute__ must use special code for all such attribute fetches to avoid looping (it must route fetches to a superclass to skip itself)."
   ]
  },
  {
   "cell_type": "markdown",
   "metadata": {
    "id": "6ZCOcY0h6KxH"
   },
   "source": [
    "**Q2. What is the difference between properties and descriptors?**"
   ]
  },
  {
   "cell_type": "markdown",
   "metadata": {
    "id": "uoSUuPL27LBN"
   },
   "source": [
    "#### Solution : \n",
    "\n",
    "* Properties serve a specific role, while descriptors are more general. \n",
    "* Properties define get, set, and delete functions for a specific attribute; descriptors provide a class with methods for these actions, too, but they provide extra flexibility to support more arbitrary actions. \n",
    "* In fact, properties are really a simple way to create a specific kind of descriptor—one that runs functions on attribute accesses. \n",
    "* Coding differs too: a property is created with a built-in function, and a descriptor is coded with a class; as such, descriptors can leverage all the usual OOP features of classes, such as inheritance. \n",
    "* Moreover, in addition to the instance’s state information, descriptors have local state of their own, so they can avoid name collisions in the instance."
   ]
  },
  {
   "cell_type": "markdown",
   "metadata": {
    "id": "FAD_hnhW6Ku9"
   },
   "source": [
    "**Q3. What are the key differences in functionality between __getattr__ and __getattribute__, as well as properties and descriptors?**"
   ]
  },
  {
   "cell_type": "markdown",
   "metadata": {
    "id": "TUXhi6Ru6Ktf"
   },
   "source": [
    "#### Solution : \n",
    "\n",
    "* Properties can be coded with decorator syntax. Because the property built-in accepts a single function argument, it can be used directly as a function decorator todefine a fetch access property. \n",
    "* Due to the name rebinding behavior of decorators,the name of the decorated function is assigned to a property whose get accessor is set to the original function decorated (name = property(name)). \n",
    "* Property setter and deleter attributes allow us to further add set and delete accessors with decoration syntax—they set the accessor to the decorated function and return the aug-\n",
    "mented property."
   ]
  }
 ],
 "metadata": {
  "colab": {
   "authorship_tag": "ABX9TyNLE6XxKu6Hek7aqqwK9MWY",
   "collapsed_sections": [],
   "name": "python_advanced_assignment_10",
   "provenance": []
  },
  "kernelspec": {
   "display_name": "Python 3",
   "language": "python",
   "name": "python3"
  },
  "language_info": {
   "codemirror_mode": {
    "name": "ipython",
    "version": 3
   },
   "file_extension": ".py",
   "mimetype": "text/x-python",
   "name": "python",
   "nbconvert_exporter": "python",
   "pygments_lexer": "ipython3",
   "version": "3.8.5"
  }
 },
 "nbformat": 4,
 "nbformat_minor": 1
}

{
 "cells": [
  {
   "cell_type": "markdown",
   "metadata": {
    "id": "0lw-4_zfygu5"
   },
   "source": [
    "# Advanced Assignment 6"
   ]
  },
  {
   "cell_type": "markdown",
   "metadata": {
    "id": "_LghJ5SRyi3k"
   },
   "source": [
    "#### Submitted By : Paritosh Nichat\n",
    "\n",
    "#### Submitted Date : January 9, 2022"
   ]
  },
  {
   "cell_type": "markdown",
   "metadata": {
    "id": "dbuKm21Qxtlm"
   },
   "source": [
    "**Q1. Describe three applications for exception processing.**"
   ]
  },
  {
   "cell_type": "markdown",
   "metadata": {
    "id": "rAJkR2D2yvb5"
   },
   "source": [
    "#### Solution : \n",
    "\n",
    "* Exception processing is useful for error handling, termination actions, and event notification. \n",
    "* It can also simplify the handling of special cases and can be used to implement alternative control flows. \n",
    "* In general, exception processing also cuts down on the amount of error-checking code your program may require—because all errors filter up to handlers, you may not need to test the outcome of every operation."
   ]
  },
  {
   "cell_type": "markdown",
   "metadata": {
    "id": "REQgbiBVxtfO"
   },
   "source": [
    "**Q2. What happens if you don't do something extra to treat an exception?**"
   ]
  },
  {
   "cell_type": "markdown",
   "metadata": {
    "id": "4GsIgTfcywHK"
   },
   "source": [
    "#### Solution :\n",
    "\n",
    "* Any uncaught exception eventually filters up to the default exception handler Python provides at the top of your program. \n",
    "* This handler prints the familiar error message and shuts down your program."
   ]
  },
  {
   "cell_type": "markdown",
   "metadata": {
    "id": "OLe8IfDWxtPI"
   },
   "source": [
    "**Q3. What are your options for recovering from an exception in your script?**"
   ]
  },
  {
   "cell_type": "markdown",
   "metadata": {
    "id": "zBOFTLaMywlh"
   },
   "source": [
    "#### Solution : \n",
    "\n",
    "* If you don’t want the default message and shutdown, you can code try/except statements to catch and recover from exceptions that are raised. \n",
    "* Once an exception is caught, the exception is terminated and your program continues."
   ]
  },
  {
   "cell_type": "markdown",
   "metadata": {
    "id": "GLVSkA8AxtGi"
   },
   "source": [
    "**Q4. Describe two methods for triggering exceptions in your script.**"
   ]
  },
  {
   "cell_type": "markdown",
   "metadata": {
    "id": "3a6m8lyryxHM"
   },
   "source": [
    "#### Solution :\n",
    "\n",
    "The raise and assert statements can be used to trigger an exception, exactly as if it had been raised by Python itself."
   ]
  },
  {
   "cell_type": "markdown",
   "metadata": {
    "id": "wOIayDXtxs7B"
   },
   "source": [
    "**Q5. Identify two methods for specifying actions to be executed at termination time, regardless of whether or not an exception exists.**"
   ]
  },
  {
   "cell_type": "markdown",
   "metadata": {
    "id": "tZLaMTYoyxf0"
   },
   "source": [
    "#### Solution :\n",
    "\n",
    "* try/finally statement\n",
    "* with/as statement, but only when processing object types that support it."
   ]
  }
 ],
 "metadata": {
  "colab": {
   "collapsed_sections": [],
   "name": "python_advanced_assignment_6",
   "provenance": []
  },
  "kernelspec": {
   "display_name": "Python 3",
   "language": "python",
   "name": "python3"
  },
  "language_info": {
   "codemirror_mode": {
    "name": "ipython",
    "version": 3
   },
   "file_extension": ".py",
   "mimetype": "text/x-python",
   "name": "python",
   "nbconvert_exporter": "python",
   "pygments_lexer": "ipython3",
   "version": "3.8.5"
  }
 },
 "nbformat": 4,
 "nbformat_minor": 1
}

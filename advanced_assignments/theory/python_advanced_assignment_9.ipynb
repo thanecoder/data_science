{
 "cells": [
  {
   "cell_type": "markdown",
   "metadata": {
    "id": "cF8ENHRG6EDi"
   },
   "source": [
    "# Advanced Assignment 9"
   ]
  },
  {
   "cell_type": "markdown",
   "metadata": {
    "id": "r92H1EAq6D85"
   },
   "source": [
    "#### Submitted By:Paritosh Nichat\n",
    "\n",
    "#### Submitted Date:January 9,2022"
   ]
  },
  {
   "cell_type": "markdown",
   "metadata": {
    "id": "XTXgCUlB6D6a"
   },
   "source": [
    "**Q1. In Python 3.X, what are the names and functions of string object types?**"
   ]
  },
  {
   "cell_type": "markdown",
   "metadata": {
    "id": "px8oRnzM65xP"
   },
   "source": [
    "#### Solution :\n",
    "\n",
    "* Python 3.0 has three string types: str (for Unicode text, including ASCII), bytes(for binary data with absolute byte values), and bytearray (a mutable flavor ofbytes). \n",
    "* The str type usually represents content stored on a text file, and the other two types generally represent content stored on binary files."
   ]
  },
  {
   "cell_type": "markdown",
   "metadata": {
    "id": "5H05l2j86D4F"
   },
   "source": [
    "**Q2. How do the string forms in Python 3.X vary in terms of operations?**"
   ]
  },
  {
   "cell_type": "markdown",
   "metadata": {
    "id": "fvoYd7hX66Re"
   },
   "source": [
    "#### Solution :\n",
    "\n",
    "* Python 3.0’s string types share almost all the same operations: method calls, sequence operations, and even larger tools like pattern matching work the same way.\n",
    "* On the other hand, only str supports string formatting operations, and bytearray has an additional set of operations that perform in-place changes. \n",
    "* The str and bytes types also have methods for encoding and decoding text,respectively."
   ]
  },
  {
   "cell_type": "markdown",
   "metadata": {
    "id": "SV02raty6Dzu"
   },
   "source": [
    "**Q3. In 3.X, how do you put non-ASCII Unicode characters in a string?**"
   ]
  },
  {
   "cell_type": "markdown",
   "metadata": {
    "id": "RVf2Elfo66yQ"
   },
   "source": [
    "#### Solution :\n",
    "\n",
    "* Non-ASCII Unicode characters can be coded in a string with both hex (\\xNN) and Unicode (\\uNNNN, \\UNNNNNNNN) escapes. \n",
    "* On some keyboards, some non-ASCII characters—certain Latin-1 characters, for example can also be typed directly."
   ]
  },
  {
   "cell_type": "markdown",
   "metadata": {
    "id": "w77HCO6-6DxB"
   },
   "source": [
    "**Q4. In Python 3.X, what are the key differences between text-mode and binary-mode files?**"
   ]
  },
  {
   "cell_type": "markdown",
   "metadata": {
    "id": "UY-_a7aZ67Rm"
   },
   "source": [
    "#### Solution :\n",
    "\n",
    "* In 3.0, text-mode files assume their file content is Unicode text (even if it’s ASCII) and automatically decode when reading and encode when writing. \n",
    "* With binary mode files, bytes are transferred to and from the file unchanged. \n",
    "* The contents of text-mode files are usually represented as str objects in your script, and the contents of binary files are represented as bytes (or bytearray) objects. \n",
    "* Text-mode files also handle the BOM for certain encoding types and automatically translate end-of-line sequences to and from the single \\n character on input and output unless this is explicitly disabled; binary-mode files do not perform either of these steps."
   ]
  },
  {
   "cell_type": "markdown",
   "metadata": {
    "id": "jNEGXZxC6Dqc"
   },
   "source": [
    "**Q5. How can you interpret a Unicode text file containing text encoded in a different encoding than your platform's default?**"
   ]
  },
  {
   "cell_type": "markdown",
   "metadata": {
    "id": "2oY_CWSv671-"
   },
   "source": [
    "#### Solution :\n",
    "\n",
    "* To read files encoded in a different encoding than the default for your platform,simply pass the name of the file’s encoding to the open built-in in 3.0 data will be decoded per the specified encoding when it is read from the file."
   ]
  },
  {
   "cell_type": "markdown",
   "metadata": {
    "id": "LYU8FsKS607q"
   },
   "source": [
    "**Q6. What is the best way to make a Unicode text file in a particular encoding format?**"
   ]
  },
  {
   "cell_type": "markdown",
   "metadata": {
    "id": "ZmkJUzIA68S1"
   },
   "source": [
    "#### Solution :\n",
    "\n",
    "* To create a Unicode text file in a specific encoding format, pass the desired encoding name to open in 3.0 (codecs.open() in 2.6); strings will be encoded per the desired encoding when they are written to the file. "
   ]
  },
  {
   "cell_type": "markdown",
   "metadata": {
    "id": "B8Ui8ssi62VA"
   },
   "source": [
    "**Q7. What qualifies ASCII text as a form of Unicode text?**"
   ]
  },
  {
   "cell_type": "markdown",
   "metadata": {
    "id": "wEu2dDp168um"
   },
   "source": [
    "#### Solution :\n",
    "\n",
    "* ASCII text is considered to be a kind of Unicode text, because its 7-bit range of values is a subset of most Unicode encodings. \n",
    "* For example, valid ASCII text is also valid Latin-1 text (Latin-1 simply assigns the remaining possible values in an 8-bit byte to additional characters) and valid UTF-8 text (UTF-8 defines a variable-byte scheme for representing more characters, but ASCII characters are still represented with the same codes, in a single byte)."
   ]
  },
  {
   "cell_type": "markdown",
   "metadata": {
    "id": "J5VRPlRC635r"
   },
   "source": [
    "**Q8. How much of an effect does the change in string types in Python 3.X have on your code?**"
   ]
  },
  {
   "cell_type": "markdown",
   "metadata": {
    "id": "CffjyXF_69Lc"
   },
   "source": [
    "#### Solution :\n",
    "\n",
    "* The impact of Python 3.0’s string types change depends upon the types of strings you use. \n",
    "* For scripts that use simple ASCII text, there is probably no impact at all:the str string type works the same in 2.6 and 3.0 in this case. \n",
    "* If you process Unicode data, the toolset you need is 3.0’s str and open. \n",
    "* If you deal with binary data files, you’ll need to deal with content as bytes objects;though the impact should again be minimal."
   ]
  }
 ],
 "metadata": {
  "colab": {
   "collapsed_sections": [],
   "name": "python_advanced_assignment_9",
   "provenance": []
  },
  "kernelspec": {
   "display_name": "Python 3",
   "language": "python",
   "name": "python3"
  },
  "language_info": {
   "codemirror_mode": {
    "name": "ipython",
    "version": 3
   },
   "file_extension": ".py",
   "mimetype": "text/x-python",
   "name": "python",
   "nbconvert_exporter": "python",
   "pygments_lexer": "ipython3",
   "version": "3.8.5"
  }
 },
 "nbformat": 4,
 "nbformat_minor": 1
}

{
  "nbformat": 4,
  "nbformat_minor": 0,
  "metadata": {
    "colab": {
      "name": "python_advanced_assignment_1",
      "provenance": [],
      "collapsed_sections": [],
      "authorship_tag": "ABX9TyPhGizM/f2aoVvmmqvitbgb"
    },
    "kernelspec": {
      "name": "python3",
      "display_name": "Python 3"
    },
    "language_info": {
      "name": "python"
    }
  },
  "cells": [
    {
      "cell_type": "markdown",
      "metadata": {
        "id": "dVvdw-Y4kzNT"
      },
      "source": [
        "# Advanced Assignment 1"
      ]
    },
    {
      "cell_type": "markdown",
      "metadata": {
        "id": "JWbsKt9-k25I"
      },
      "source": [
        "#### Submitted By:Paritosh Nichat\n",
        "\n",
        "#### Submitted Date:September 24, 2021"
      ]
    },
    {
      "cell_type": "markdown",
      "metadata": {
        "id": "pp5ZA3_YkuZ2"
      },
      "source": [
        "Q1. What is the purpose of Python\\'s OOP?"
      ]
    },
    {
      "cell_type": "markdown",
      "metadata": {
        "id": "b0t2KBOBlLyD"
      },
      "source": [
        "#### Solution :\n",
        "\n",
        "* OOP is about code reuse—you factor code to minimize redundancy and program\n",
        "by customizing what already exists instead of changing code in-place or starting\n",
        "from scratch.\n",
        "* Object-Oriented Programming makes the program easy to understand as well as efficient. \n",
        "* Since the class is sharable, the code can be reused. \n",
        "* Data is safe and secure with data abstraction. \n",
        "* Polymorphism allows the same interface for different objects, so programmers can write efficient code."
      ]
    },
    {
      "cell_type": "markdown",
      "metadata": {
        "id": "Oq1dsUI5kuyd"
      },
      "source": [
        "Q2. Where does an inheritance search look for an attribute?"
      ]
    },
    {
      "cell_type": "markdown",
      "metadata": {
        "id": "Di_TluD2lMQr"
      },
      "source": [
        "#### Solution :\n",
        "\n",
        "* An inheritance search looks for an attribute first in the instance object, then in the\n",
        "class the instance was created from, then in all higher superclasses, progressing\n",
        "from the bottom to the top of the object tree, and from left to right (by default).\n",
        "* The search stops at the first place the attribute is found. Because the lowest version\n",
        "of a name found along the way wins, class hierarchies naturally support customization by extension."
      ]
    },
    {
      "cell_type": "markdown",
      "metadata": {
        "id": "iPvR4kgIkvWZ"
      },
      "source": [
        "Q3. How do you distinguish between a class object and an instance object?"
      ]
    },
    {
      "cell_type": "markdown",
      "metadata": {
        "id": "A3ZSsiCylMqz"
      },
      "source": [
        "#### Solution :\n",
        "\n",
        "* Both class and instance objects are namespaces (packages of variables that appear\n",
        "as attributes). \n",
        "* The main difference between them is that classes are a kind of factory\n",
        "for creating multiple instances. \n",
        "* Classes also support operator overloading methods, which instances inherit, and treat any functions nested within them as special methods for processing instances."
      ]
    },
    {
      "cell_type": "markdown",
      "metadata": {
        "id": "-8ELdalkkxMi"
      },
      "source": [
        "Q4. What makes the first argument in a class’s method function special?"
      ]
    },
    {
      "cell_type": "markdown",
      "metadata": {
        "id": "_5a3buZLlNAV"
      },
      "source": [
        "#### Solution :\n",
        "\n",
        "* The first argument in a class method function is special because it always receives\n",
        "the instance object that is the implied subject of the method call. \n",
        "* We use self for this arguement by convention. \n",
        "* Because method functions always have this implied subject object context by default, we say they are “object-oriented”—i.e., designed to process or change objects."
      ]
    },
    {
      "cell_type": "markdown",
      "metadata": {
        "id": "u4EjzabelAfh"
      },
      "source": [
        "Q5. What is the purpose of the __init__ method?"
      ]
    },
    {
      "cell_type": "markdown",
      "metadata": {
        "id": "orjwfR_ElOGv"
      },
      "source": [
        "#### Solution : \n",
        "\n",
        "* If the __init__ method is coded or inherited in a class, Python calls it automatically\n",
        "each time an instance of that class is created. It’s known as the constructor method;\n",
        "it is passed the new instance implicitly, as well as any arguments passed explicitly\n",
        "to the class name.\n",
        "* You can give .__init__() any number of parameters, but the first parameter will always be a variable called self. \n",
        "* When a new class instance is created, the instance is automatically passed to the self parameter in .__init__() so that new attributes can be defined on the object.\n",
        "* If no __init__ method is present, instances simply begin life as empty namespaces."
      ]
    },
    {
      "cell_type": "markdown",
      "metadata": {
        "id": "PSlB7nqEwu_d"
      },
      "source": [
        "Q6. What is the process for creating a class instance?"
      ]
    },
    {
      "cell_type": "markdown",
      "metadata": {
        "id": "p4plyBJPw1Ow"
      },
      "source": [
        "#### Solution :\n",
        "\n",
        "* You create a class instance by calling the class name as though it were a function; any arguments passed into the class name show up as arguments two and beyond in the __init__ constructor method. \n",
        "* The new instance remembers the class it was created from for inheritance purposes."
      ]
    },
    {
      "cell_type": "markdown",
      "metadata": {
        "id": "QGqHh3WHwusc"
      },
      "source": [
        "Q7. What is the process for creating a class?"
      ]
    },
    {
      "cell_type": "markdown",
      "metadata": {
        "id": "V0RsjzP0w1l_"
      },
      "source": [
        "#### Solution :\n",
        "\n",
        "* All class definitions start with the class keyword, which is followed by the name of the class and a colon. \n",
        "* Any code that is indented below the class definition is considered part of the class’s body.\n",
        "```\n",
        "class Dog:\n",
        "    pass\n",
        "```"
      ]
    },
    {
      "cell_type": "markdown",
      "metadata": {
        "id": "3np_HYNHwumH"
      },
      "source": [
        "Q8. How would you define the superclasses of a class?"
      ]
    },
    {
      "cell_type": "markdown",
      "metadata": {
        "id": "3rAU6wj0w2Pz"
      },
      "source": [
        "#### Solution :\n",
        "\n",
        "* You specify a class’s superclasses by listing them in parentheses in the class statement, after the new class’s name. \n",
        "* The left-to-right order in which the classes are listed in the parentheses gives the left-to-right inheritance search order in the class tree."
      ]
    }
  ]
}
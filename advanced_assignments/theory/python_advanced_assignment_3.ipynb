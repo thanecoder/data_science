{
 "cells": [
  {
   "cell_type": "markdown",
   "metadata": {
    "id": "LhXVAczg_HY5"
   },
   "source": [
    "# Advanced Assignment 3"
   ]
  },
  {
   "cell_type": "markdown",
   "metadata": {
    "id": "O9c5r-70_HTQ"
   },
   "source": [
    "#### Submitted By:Paritosh Nichat\n",
    "\n",
    "#### Submitted Date:January 9, 2022"
   ]
  },
  {
   "cell_type": "markdown",
   "metadata": {
    "id": "enontvW5_HOG"
   },
   "source": [
    "**1. What is the concept of an abstract superclass?**"
   ]
  },
  {
   "cell_type": "markdown",
   "metadata": {
    "id": "kxIjwRNiBlOG"
   },
   "source": [
    "#### Solution :\n",
    "\n",
    "* An abstract superclass is a class that calls a method, but does not inherit or define it—it expects the method to be filled in by a subclass. \n",
    "* This is often used as a way to generalize classes when behavior cannot be predicted until a more specific subclass is coded. \n",
    "* OOP frameworks also use this as a way to dispatch to client-defined,customizable operations."
   ]
  },
  {
   "cell_type": "markdown",
   "metadata": {
    "id": "qAcfvfda_xSV"
   },
   "source": [
    "**2. What happens when a class statement&#39;s top level contains a basic assignment statement?**"
   ]
  },
  {
   "cell_type": "markdown",
   "metadata": {
    "id": "cciEpwyYBk9y"
   },
   "source": [
    "#### Solution :\n",
    "\n",
    "* When a simple assignment statement (X = Y) appears at the top level of a class statement, it attaches a data attribute to the class (Class.X). \n",
    "* Like all class attributes,this will be shared by all instances; data attributes are not callable method functions, though."
   ]
  },
  {
   "cell_type": "markdown",
   "metadata": {
    "id": "2qFJ0Y8T_HJZ"
   },
   "source": [
    "**3. Why does a class need to manually call a superclass&#39;s __init__ method?**"
   ]
  },
  {
   "cell_type": "markdown",
   "metadata": {
    "id": "6pqGwJSnBkfy"
   },
   "source": [
    "#### Solution :\n",
    "\n",
    "* A class must manually call the __init__ method in a superclass if it defines an __init__ constructor of its own, but it also must still kick off the superclass’s construction code. \n",
    "* Python itself automatically runs just one constructor—the lowest one in the tree. \n",
    "* Superclass constructors are called through the class name, passing in the self instance manually: Superclass.__init__(self, ...)."
   ]
  },
  {
   "cell_type": "markdown",
   "metadata": {
    "id": "nhjr3lpy_HEE"
   },
   "source": [
    "**4. How can you augment, instead of completely replacing, an inherited method?**"
   ]
  },
  {
   "cell_type": "markdown",
   "metadata": {
    "id": "sJEP3tCyBkLs"
   },
   "source": [
    "#### Solution :\n",
    "\n",
    "* To augment instead of completely replacing an inherited method, redefine it in a subclass, but call back to the superclass’s version of the method manually from the new version of the method in the subclass. \n",
    "* That is, pass the self instance to the superclass’s version of the method manually: Superclass.method(self, ...)."
   ]
  },
  {
   "cell_type": "markdown",
   "metadata": {
    "id": "vgjhrYxb_G-j"
   },
   "source": [
    "**5. How is the local scope of a class different from that of a function?**"
   ]
  },
  {
   "cell_type": "markdown",
   "metadata": {
    "id": "O0EuZMlC_yjJ"
   },
   "source": [
    "#### Solution :\n",
    "\n",
    "* When Python executes a class statement (not a call to a class), it runs all the statements in its body, from top to bottom. Assignments that happen during this process create names in the class’s local scope, which become attributes in the associated class object. Because of this, classes resemble both modules and functions:\n",
    "    * Like functions, class statements are local scopes where names created by nested\n",
    "    assignments live.\n",
    "    * Like names in a module, names assigned in a class statement become attributes\n",
    "    in a class object.\n",
    "* The main distinction for classes is that their namespaces are also the basis of inheritance in Python; reference attributes that are not found in a class or instance object are fetched from other classes."
   ]
  }
 ],
 "metadata": {
  "colab": {
   "authorship_tag": "ABX9TyNynkl7uA44e7fHVr3PPNWg",
   "collapsed_sections": [],
   "name": "python_advanced_assignment_3",
   "provenance": []
  },
  "kernelspec": {
   "display_name": "Python 3",
   "language": "python",
   "name": "python3"
  },
  "language_info": {
   "codemirror_mode": {
    "name": "ipython",
    "version": 3
   },
   "file_extension": ".py",
   "mimetype": "text/x-python",
   "name": "python",
   "nbconvert_exporter": "python",
   "pygments_lexer": "ipython3",
   "version": "3.8.5"
  }
 },
 "nbformat": 4,
 "nbformat_minor": 1
}

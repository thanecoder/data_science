{
  "nbformat": 4,
  "nbformat_minor": 0,
  "metadata": {
    "colab": {
      "name": "python_advanced_assignment_3",
      "provenance": [],
      "collapsed_sections": [],
      "authorship_tag": "ABX9TyNynkl7uA44e7fHVr3PPNWg"
    },
    "kernelspec": {
      "name": "python3",
      "display_name": "Python 3"
    },
    "language_info": {
      "name": "python"
    }
  },
  "cells": [
    {
      "cell_type": "markdown",
      "metadata": {
        "id": "LhXVAczg_HY5"
      },
      "source": [
        "# Advanced Assignment 3"
      ]
    },
    {
      "cell_type": "markdown",
      "metadata": {
        "id": "O9c5r-70_HTQ"
      },
      "source": [
        "#### Submitted By:Paritosh Nichat\n",
        "\n",
        "#### Submitted Date:September 27, 2021"
      ]
    },
    {
      "cell_type": "markdown",
      "metadata": {
        "id": "enontvW5_HOG"
      },
      "source": [
        "1. What is the concept of an abstract superclass?"
      ]
    },
    {
      "cell_type": "markdown",
      "metadata": {
        "id": "kxIjwRNiBlOG"
      },
      "source": [
        "#### Solution :\n",
        "\n",
        "* An abstract superclass is a class that calls a method, but does not inherit or define it—it expects the method to be filled in by a subclass. \n",
        "* This is often used as a way to generalize classes when behavior cannot be predicted until a more specific subclass is coded. \n",
        "* OOP frameworks also use this as a way to dispatch to client-defined,customizable operations."
      ]
    },
    {
      "cell_type": "markdown",
      "metadata": {
        "id": "qAcfvfda_xSV"
      },
      "source": [
        "2. What happens when a class statement&#39;s top level contains a basic assignment statement?"
      ]
    },
    {
      "cell_type": "markdown",
      "metadata": {
        "id": "cciEpwyYBk9y"
      },
      "source": [
        "#### Solution :\n",
        "\n",
        "* When a simple assignment statement (X = Y) appears at the top level of a class statement, it attaches a data attribute to the class (Class.X). \n",
        "* Like all class attributes,this will be shared by all instances; data attributes are not callable method functions, though."
      ]
    },
    {
      "cell_type": "markdown",
      "metadata": {
        "id": "2qFJ0Y8T_HJZ"
      },
      "source": [
        "3. Why does a class need to manually call a superclass&#39;s __init__ method?"
      ]
    },
    {
      "cell_type": "markdown",
      "metadata": {
        "id": "6pqGwJSnBkfy"
      },
      "source": [
        "#### Solution :\n",
        "\n",
        "* A class must manually call the __init__ method in a superclass if it defines an __init__ constructor of its own, but it also must still kick off the superclass’s construction code. \n",
        "* Python itself automatically runs just one constructor—the lowest one in the tree. \n",
        "* Superclass constructors are called through the class name, passing in the self instance manually: Superclass.__init__(self, ...)."
      ]
    },
    {
      "cell_type": "markdown",
      "metadata": {
        "id": "nhjr3lpy_HEE"
      },
      "source": [
        "4. How can you augment, instead of completely replacing, an inherited method?"
      ]
    },
    {
      "cell_type": "markdown",
      "metadata": {
        "id": "sJEP3tCyBkLs"
      },
      "source": [
        "#### Solution :\n",
        "\n",
        "* To augment instead of completely replacing an inherited method, redefine it in a subclass, but call back to the superclass’s version of the method manually from the new version of the method in the subclass. \n",
        "* That is, pass the self instance to the superclass’s version of the method manually: Superclass.method(self, ...)."
      ]
    },
    {
      "cell_type": "markdown",
      "metadata": {
        "id": "vgjhrYxb_G-j"
      },
      "source": [
        "5. How is the local scope of a class different from that of a function?"
      ]
    },
    {
      "cell_type": "markdown",
      "metadata": {
        "id": "O0EuZMlC_yjJ"
      },
      "source": [
        "#### Solution :\n",
        "\n"
      ]
    }
  ]
}
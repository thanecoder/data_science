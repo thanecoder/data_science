{
  "nbformat": 4,
  "nbformat_minor": 0,
  "metadata": {
    "colab": {
      "name": "python_advanced_assignment_8",
      "provenance": [],
      "collapsed_sections": [],
      "authorship_tag": "ABX9TyMZ4qEIboVzQ6TRzHNeb8hV"
    },
    "kernelspec": {
      "name": "python3",
      "display_name": "Python 3"
    },
    "language_info": {
      "name": "python"
    }
  },
  "cells": [
    {
      "cell_type": "markdown",
      "metadata": {
        "id": "gj8Gx4Y917R6"
      },
      "source": [
        "# Assignment 8"
      ]
    },
    {
      "cell_type": "markdown",
      "metadata": {
        "id": "Lkg7sULz16_f"
      },
      "source": [
        "#### Submitted By : Paritosh Nichat\n",
        "\n",
        "#### Submitted Date : November 27, 2021"
      ]
    },
    {
      "cell_type": "markdown",
      "metadata": {
        "id": "z1tNfNpT1659"
      },
      "source": [
        "Q1. What are the two latest user-defined exception constraints in Python 3.X?"
      ]
    },
    {
      "cell_type": "markdown",
      "metadata": {
        "id": "ae1T6NCC2Fdi"
      },
      "source": [
        "#### Solutions :\n",
        "\n",
        "* In 3.0, exceptions must be defined by classes (that is, a class instance object is raised and caught). \n",
        "* In addition, exception classes must be derived from the built-in class BaseException (most programs inherit from its Exception subclass, to support catchall handlers for normal kinds of exceptions)."
      ]
    },
    {
      "cell_type": "markdown",
      "metadata": {
        "id": "HBRSM0P3161p"
      },
      "source": [
        "Q2. How are class-based exceptions that have been raised matched to handlers?"
      ]
    },
    {
      "cell_type": "markdown",
      "metadata": {
        "id": "Phwnd63B2GAb"
      },
      "source": [
        "#### Solutions :\n",
        "\n",
        "* Class-based exceptions match by superclass relationships: naming a superclass in an exception handler will catch instances of that class, as well as instances of any of its subclasses lower in the class tree. \n",
        "* Because of this, you can think of superclasses as general exception categories and subclasses as more specific types of exceptions within those categories."
      ]
    },
    {
      "cell_type": "markdown",
      "metadata": {
        "id": "c2H-eBDo16w0"
      },
      "source": [
        "Q3. Describe two methods for attaching context information to exception artefacts."
      ]
    },
    {
      "cell_type": "markdown",
      "metadata": {
        "id": "Wma7cQDm2G01"
      },
      "source": [
        "#### Solution :\n",
        "\n",
        "* You can attach context information to class-based exceptions by filling out instance attributes in the instance object raised, usually in a custom class constructor.\n",
        "* For simpler needs, built-in exception superclasses provide a constructor that stores its\n",
        "arguments on the instance automatically (in the attribute args). \n",
        "* In exception handlers, you list a variable to be assigned to the raised instance, then go through this name to access attached state information and call any methods defined in the class."
      ]
    },
    {
      "cell_type": "markdown",
      "metadata": {
        "id": "6XKUgck216sc"
      },
      "source": [
        "Q4. Describe two methods for specifying the text of an exception object's error message."
      ]
    },
    {
      "cell_type": "markdown",
      "metadata": {
        "id": "XF75aGGU2HNm"
      },
      "source": [
        "#### Solution :\n",
        "\n",
        "* The error message text in class-based exceptions can be specified with a custom __str__ operator overloading method. For simpler needs, built-in exception superclasses automatically display anything you pass to the class constructor. \n",
        "* Operations like print and str automatically fetch the display string of an exception object when is it printed either explicitly or as part of an error message."
      ]
    },
    {
      "cell_type": "markdown",
      "metadata": {
        "id": "o-_kw00916mC"
      },
      "source": [
        "Q5. Why do you no longer use string-based exceptions?"
      ]
    },
    {
      "cell_type": "markdown",
      "metadata": {
        "id": "eYX6Nsi42H7X"
      },
      "source": [
        "#### Solution :\n",
        "\n",
        "* String-based exceptions did not support categories, state information, or behavior inheritance in the way class-based exceptions do. \n",
        "* In practice, this made string-based exceptions easier to use at first,when programs were small, but more complex to use as programs grew larger."
      ]
    }
  ]
}
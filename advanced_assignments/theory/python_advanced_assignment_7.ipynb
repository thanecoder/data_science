{
  "nbformat": 4,
  "nbformat_minor": 0,
  "metadata": {
    "colab": {
      "name": "python_advanced_assignment_7",
      "provenance": [],
      "collapsed_sections": [],
      "authorship_tag": "ABX9TyNBr9gzCAE6cHhcU/+tJzF6",
      "include_colab_link": true
    },
    "kernelspec": {
      "name": "python3",
      "display_name": "Python 3"
    },
    "language_info": {
      "name": "python"
    }
  },
  "cells": [
    {
      "cell_type": "markdown",
      "metadata": {
        "id": "view-in-github",
        "colab_type": "text"
      },
      "source": [
        "<a href=\"https://colab.research.google.com/github/thanecoder/data_science/blob/main/advanced_assignments/theory/python_advanced_assignment_7.ipynb\" target=\"_parent\"><img src=\"https://colab.research.google.com/assets/colab-badge.svg\" alt=\"Open In Colab\"/></a>"
      ]
    },
    {
      "cell_type": "markdown",
      "metadata": {
        "id": "2e00261o0qFa"
      },
      "source": [
        "# Assignment 7"
      ]
    },
    {
      "cell_type": "markdown",
      "metadata": {
        "id": "Q0FuFSFF0shX"
      },
      "source": [
        "#### Submitted By : Paritosh Nichat\n",
        "\n",
        "#### Submitted Date : November 27,2021"
      ]
    },
    {
      "cell_type": "markdown",
      "metadata": {
        "id": "hCZiHn_40W1p"
      },
      "source": [
        "Q1. What is the purpose of the try statement?"
      ]
    },
    {
      "cell_type": "markdown",
      "metadata": {
        "id": "NFLBpBq30pug"
      },
      "source": [
        "#### Solution : \n",
        "\n",
        "The try statement catches and recovers from exceptions—it specifies a block of code to run, and one or more handlers for exceptions that may be raised during the block’s execution."
      ]
    },
    {
      "cell_type": "markdown",
      "metadata": {
        "id": "pUn0d3fk0WvN"
      },
      "source": [
        "Q2. What are the two most popular try statement variations?"
      ]
    },
    {
      "cell_type": "markdown",
      "metadata": {
        "id": "awP-ANSY0ozr"
      },
      "source": [
        "#### Solution : \n",
        "\n",
        "* try/except/else\n",
        "* try/finally"
      ]
    },
    {
      "cell_type": "markdown",
      "metadata": {
        "id": "Os7lRx4v0WoP"
      },
      "source": [
        "Q3. What is the purpose of the raise statement?"
      ]
    },
    {
      "cell_type": "markdown",
      "metadata": {
        "id": "q5VyEpS20oh0"
      },
      "source": [
        "#### Solution : \n",
        "\n",
        "* The raise statement raises (triggers) an exception. \n",
        "* Python raises built-in exceptions on errors internally, but your scripts can trigger built-in or user-defined exceptions with raise, too."
      ]
    },
    {
      "cell_type": "markdown",
      "metadata": {
        "id": "5UMbYhi60Wgl"
      },
      "source": [
        "Q4. What does the assert statement do, and what other statement is it like?"
      ]
    },
    {
      "cell_type": "markdown",
      "metadata": {
        "id": "uanE95TA0oK8"
      },
      "source": [
        "#### Solution : \n",
        "\n",
        "* The assert statement raises an AssertionError exception if a condition is false. \n",
        "* It works like a conditional raise statement wrapped up in an if statement."
      ]
    },
    {
      "cell_type": "markdown",
      "metadata": {
        "id": "JBVhf9zF0WYz"
      },
      "source": [
        "Q5. What is the purpose of the with/as argument, and what other statement is it like?"
      ]
    },
    {
      "cell_type": "markdown",
      "metadata": {
        "id": "mone1Rln0WQf"
      },
      "source": [
        "#### Solution : \n",
        "\n",
        "* The with/as statement is designed to automate startup and termination activities that must occur around a block of code. \n",
        "* It is roughly like a try/finally statement in that its exit actions run whether an exception occurred or not, but it allows a richer object-based protocol for specifying entry and exit actions."
      ]
    }
  ]
}
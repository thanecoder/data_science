{
  "nbformat": 4,
  "nbformat_minor": 0,
  "metadata": {
    "colab": {
      "name": "python_advanced_programming_assignment_4",
      "provenance": [],
      "collapsed_sections": []
    },
    "kernelspec": {
      "name": "python3",
      "display_name": "Python 3"
    },
    "language_info": {
      "name": "python"
    }
  },
  "cells": [
    {
      "cell_type": "markdown",
      "source": [
        "# Advanced Programming Assignment 4"
      ],
      "metadata": {
        "id": "AIuN1Z5h66ZD"
      }
    },
    {
      "cell_type": "markdown",
      "source": [
        "Submitted By:Paritosh Nichat\n",
        "\n",
        "Submitted Date:January 8, 2022"
      ],
      "metadata": {
        "id": "isZQUwy-I1gO"
      }
    },
    {
      "cell_type": "markdown",
      "source": [
        "```\n",
        "1. In mathematics, the Fibonacci numbers, commonly denoted Fn, form a sequence, called the Fibonacci sequence, \n",
        "such that each number is the sum of the two preceding ones, starting from 0 and 1:\n",
        "\n",
        "The beginning of the sequence is this:\n",
        "\n",
        "0, 1, 1, 2, 3, 5, 8, 13, 21, 34, 55, 89, 144, ...\n",
        "\n",
        "The function fastFib(num) returns the fibonacci number Fn, of the given num as an argument.\n",
        "\n",
        "Examples\n",
        "\n",
        "fib_fast(5) ➞ 5\n",
        "\n",
        "fib_fast(10) ➞ 55\n",
        "\n",
        "fib_fast(20) ➞ 6765\n",
        "\n",
        "fib_fast(50) ➞ 12586269025\n",
        "\n",
        "```"
      ],
      "metadata": {
        "id": "tVjsy3t95y3t"
      }
    },
    {
      "cell_type": "code",
      "source": [
        "def fib_fast(value_n):\n",
        "    # Using Binet's Formula\n",
        "    golden = (1 + 5 ** 0.5) / 2\n",
        "    golden_reciprcl = 1/golden\n",
        "    fibonacci_num = (golden**value_n - (-golden_reciprcl**value_n))/(5**0.5)\n",
        "    return round(fibonacci_num)\n",
        "\n",
        "try:\n",
        "    input_n = input(\"fib_fast(n) for n = \")\n",
        "    print(\"Result : \",fib_fast(int(input_n)))\n",
        "except:\n",
        "    print(\"Something went wrong, please try again\")"
      ],
      "metadata": {
        "id": "AGzGYKEdH6Hs",
        "colab": {
          "base_uri": "https://localhost:8080/"
        },
        "outputId": "2b87270d-8448-4040-87be-0d21b7a0b870"
      },
      "execution_count": null,
      "outputs": [
        {
          "output_type": "stream",
          "name": "stdout",
          "text": [
            "fib_fast(n) for n = 50\n",
            "Result :  12586269025\n"
          ]
        }
      ]
    },
    {
      "cell_type": "markdown",
      "source": [
        "```\n",
        "2. Create a function that takes a strings characters as ASCII and returns each characters hexadecimal value as a string.\n",
        "\n",
        "Examples\n",
        "\n",
        "convert_to_hex(\"hello world\") ➞ \"68 65 6c 6c 6f 20 77 6f 72 6c 64\"\n",
        "\n",
        "convert_to_hex(\"Big Boi\") ➞ \"42 69 67 20 42 6f 69\"\n",
        "\n",
        "convert_to_hex(\"Marty Poppinson\") ➞ \"4d 61 72 74 79 20 50 6f 70 70 69 6e 73 6f 6e\"\n",
        "```"
      ],
      "metadata": {
        "id": "imy1ftcT5ywD"
      }
    },
    {
      "cell_type": "code",
      "source": [
        "def convert_to_hex(value_string):\n",
        "    output_string = ''\n",
        "    for i in value_string:\n",
        "        print(i)\n",
        "        int_rep = int(i, 16)\n",
        "        hex_value = hex(int_rep)\n",
        "        output_string += hex_value\n",
        "\n",
        "convert_to_hex(\"hello world\")"
      ],
      "metadata": {
        "id": "fPXRjXnUIDhQ",
        "colab": {
          "base_uri": "https://localhost:8080/",
          "height": 338
        },
        "outputId": "88616366-c983-4e88-d8bc-4e842a06bc82"
      },
      "execution_count": null,
      "outputs": [
        {
          "output_type": "stream",
          "name": "stdout",
          "text": [
            "h\n"
          ]
        },
        {
          "output_type": "error",
          "ename": "ValueError",
          "evalue": "ignored",
          "traceback": [
            "\u001b[0;31m---------------------------------------------------------------------------\u001b[0m",
            "\u001b[0;31mValueError\u001b[0m                                Traceback (most recent call last)",
            "\u001b[0;32m<ipython-input-9-53f437564bb1>\u001b[0m in \u001b[0;36m<module>\u001b[0;34m()\u001b[0m\n\u001b[1;32m      7\u001b[0m         \u001b[0moutput_string\u001b[0m \u001b[0;34m+=\u001b[0m \u001b[0mhex_value\u001b[0m\u001b[0;34m\u001b[0m\u001b[0;34m\u001b[0m\u001b[0m\n\u001b[1;32m      8\u001b[0m \u001b[0;34m\u001b[0m\u001b[0m\n\u001b[0;32m----> 9\u001b[0;31m \u001b[0mconvert_to_hex\u001b[0m\u001b[0;34m(\u001b[0m\u001b[0;34m\"hello world\"\u001b[0m\u001b[0;34m)\u001b[0m\u001b[0;34m\u001b[0m\u001b[0;34m\u001b[0m\u001b[0m\n\u001b[0m",
            "\u001b[0;32m<ipython-input-9-53f437564bb1>\u001b[0m in \u001b[0;36mconvert_to_hex\u001b[0;34m(value_string)\u001b[0m\n\u001b[1;32m      3\u001b[0m     \u001b[0;32mfor\u001b[0m \u001b[0mi\u001b[0m \u001b[0;32min\u001b[0m \u001b[0mvalue_string\u001b[0m\u001b[0;34m:\u001b[0m\u001b[0;34m\u001b[0m\u001b[0;34m\u001b[0m\u001b[0m\n\u001b[1;32m      4\u001b[0m         \u001b[0mprint\u001b[0m\u001b[0;34m(\u001b[0m\u001b[0mi\u001b[0m\u001b[0;34m)\u001b[0m\u001b[0;34m\u001b[0m\u001b[0;34m\u001b[0m\u001b[0m\n\u001b[0;32m----> 5\u001b[0;31m         \u001b[0mint_rep\u001b[0m \u001b[0;34m=\u001b[0m \u001b[0mint\u001b[0m\u001b[0;34m(\u001b[0m\u001b[0mi\u001b[0m\u001b[0;34m,\u001b[0m \u001b[0;36m16\u001b[0m\u001b[0;34m)\u001b[0m\u001b[0;34m\u001b[0m\u001b[0;34m\u001b[0m\u001b[0m\n\u001b[0m\u001b[1;32m      6\u001b[0m         \u001b[0mhex_value\u001b[0m \u001b[0;34m=\u001b[0m \u001b[0mhex\u001b[0m\u001b[0;34m(\u001b[0m\u001b[0mint_rep\u001b[0m\u001b[0;34m)\u001b[0m\u001b[0;34m\u001b[0m\u001b[0;34m\u001b[0m\u001b[0m\n\u001b[1;32m      7\u001b[0m         \u001b[0moutput_string\u001b[0m \u001b[0;34m+=\u001b[0m \u001b[0mhex_value\u001b[0m\u001b[0;34m\u001b[0m\u001b[0;34m\u001b[0m\u001b[0m\n",
            "\u001b[0;31mValueError\u001b[0m: invalid literal for int() with base 16: 'h'"
          ]
        }
      ]
    },
    {
      "cell_type": "markdown",
      "source": [
        "```\n",
        "3. Someone has attempted to censor my strings by replacing every vowel with a *, l*k* th*s.\n",
        "Luckily, I've been able to find the vowels that were removed.\n",
        "\n",
        "Given a censored string and a string of the censored vowels, return the original uncensored string.\n",
        "\n",
        "Example\n",
        "\n",
        "uncensor(\"Wh*r* d*d my v*w*ls g*?\", \"eeioeo\") ➞ \"Where did my vowels go?\"\n",
        "\n",
        "uncensor(\"abcd\", \"\") ➞ \"abcd\"\n",
        "\n",
        "uncensor(\"*PP*RC*S*\", \"UEAE\") ➞ \"UPPERCASE\"\n",
        "```"
      ],
      "metadata": {
        "id": "JyS8vt3n5yoW"
      }
    },
    {
      "cell_type": "code",
      "source": [
        "def uncensor(input_str, input_vowels):\n",
        "    if(len(input_vowels) > 0):\n",
        "        list_of_vowels = list(input_vowels);\n",
        "        string_list = list(input_str)\n",
        "        vowel_index = 0\n",
        "        for i in range(0,len(string_list)):\n",
        "            if(string_list[i] == '*'):\n",
        "                string_list[i] = input_vowels[vowel_index]\n",
        "                vowel_index = vowel_index + 1\n",
        "        input_str = ''.join(string_list)\n",
        "    \n",
        "    return input_str;\n",
        "\n",
        "try:\n",
        "    value_str = input(\"Please input censored string : \")\n",
        "    value_vowels = input(\"Please provide vowels to be added : \")\n",
        "    print(\"Result : \", uncensor(value_str, value_vowels))\n",
        "except:\n",
        "    print(\"Something went wrong, please try again\")"
      ],
      "metadata": {
        "id": "kXaCSFGsILz4",
        "colab": {
          "base_uri": "https://localhost:8080/"
        },
        "outputId": "9a56199c-5ce3-4399-fc86-f6ec012a8500"
      },
      "execution_count": 22,
      "outputs": [
        {
          "output_type": "stream",
          "name": "stdout",
          "text": [
            "Please input censored string : Wh*r* d*d my v*w*ls g*?\n",
            "Please provide vowels to be added : eeioeo\n",
            "Result :  Where did my vowels go?\n"
          ]
        }
      ]
    },
    {
      "cell_type": "markdown",
      "source": [
        "```\n",
        "4. Write a function that takes an IP address and returns the domain name using PTR DNS records.\n",
        "\n",
        "Example\n",
        "\n",
        "get_domain(\"8.8.8.8\") ➞ \"dns.google\"\n",
        "\n",
        "get_domain(\"8.8.4.4\") ➞ \"dns.google\"\n",
        "\n",
        "```"
      ],
      "metadata": {
        "id": "IhoS5MHp5yg-"
      }
    },
    {
      "cell_type": "code",
      "source": [
        "import socket\n",
        "\n",
        "def get_domain(value_ip):\n",
        "    result=socket.gethostbyaddr(value_ip)\n",
        "    return list(result)[0]\n",
        "\n",
        "try:\n",
        "    input_ip = input(\"Please provide the IP Address : \")\n",
        "    print(\"Result :\", get_domain(input_ip))\n",
        "except:\n",
        "    print(\"Something went wrong, please try again\")"
      ],
      "metadata": {
        "id": "MvfU4C_8IkX_",
        "colab": {
          "base_uri": "https://localhost:8080/"
        },
        "outputId": "eca07651-46c2-4389-92cf-a248a70201b1"
      },
      "execution_count": null,
      "outputs": [
        {
          "output_type": "stream",
          "name": "stdout",
          "text": [
            "Please provide the IP Address : 8.8.4.4\n",
            "Result : dns.google\n"
          ]
        }
      ]
    },
    {
      "cell_type": "markdown",
      "source": [
        "```\n",
        "5. Create a function that takes an integer n and returns the factorial of factorials. See \n",
        "below examples for a better understanding:\n",
        "\n",
        "Examples\n",
        "\n",
        "fact_of_fact(4) ➞ 288\n",
        "# 4! * 3! * 2! * 1! = 288\n",
        "\n",
        "fact_of_fact(5) ➞ 34560\n",
        "\n",
        "fact_of_fact(6) ➞ 24883200\n",
        "```"
      ],
      "metadata": {
        "id": "CDkPZu165yYW"
      }
    },
    {
      "cell_type": "code",
      "source": [
        ""
      ],
      "metadata": {
        "id": "LzO2obJUIqnL"
      },
      "execution_count": null,
      "outputs": []
    }
  ]
}
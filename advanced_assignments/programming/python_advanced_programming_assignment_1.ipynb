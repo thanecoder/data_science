{
  "nbformat": 4,
  "nbformat_minor": 0,
  "metadata": {
    "colab": {
      "name": "python_advanced_programming_assignment_1",
      "provenance": [],
      "collapsed_sections": []
    },
    "kernelspec": {
      "name": "python3",
      "display_name": "Python 3"
    },
    "language_info": {
      "name": "python"
    }
  },
  "cells": [
    {
      "cell_type": "markdown",
      "metadata": {
        "id": "U7jdLPoAxesl"
      },
      "source": [
        "# Programming Assignment 1"
      ]
    },
    {
      "cell_type": "markdown",
      "metadata": {
        "id": "dnhBjXVLxhcL"
      },
      "source": [
        "#### Submitted By:Paritosh Nichat\n",
        "\n",
        "#### Submitted Date:September 27, 2021"
      ]
    },
    {
      "cell_type": "markdown",
      "metadata": {
        "id": "ysmdm_ozxRlq"
      },
      "source": [
        "#### 1 . Write a function that takes a list of lists and returns the value of all of the symbols in it, where each symbol adds or takes something from the total score.\n",
        "\n",
        "Symbol values:\n",
        "\n",
        "\\# = 5\n",
        "\n",
        "O = 3\n",
        "\n",
        "X = 1\n",
        "\n",
        "! = -1\n",
        "\n",
        "!! = -3\n",
        "\n",
        "!!! = -5"
      ]
    },
    {
      "cell_type": "code",
      "metadata": {
        "id": "K1mhnvezxpH9",
        "colab": {
          "base_uri": "https://localhost:8080/"
        },
        "outputId": "b32beafe-7a2a-4434-fbc5-5a86626ba3b9"
      },
      "source": [
        "symbolValueDict = {\n",
        "    '#':5,\n",
        "    'O':3,\n",
        "    'X':1,\n",
        "    '!':-1,\n",
        "    '!!':-3,\n",
        "    '!!!':-5\n",
        "}\n",
        "def check_score(value_list):\n",
        "    completeList = []\n",
        "    for i in value_list:\n",
        "        for j in i:\n",
        "            completeList.append(j)\n",
        "    result = 0\n",
        "    for i in completeList:\n",
        "        result += symbolValueDict[i] \n",
        "    if result > 0:\n",
        "        return result\n",
        "    else:\n",
        "        return 0\n",
        "\n",
        "print(check_score([[\"#\", \"!\"],[\"!!\", \"X\"]]))\n",
        "print(check_score([[\"!!!\", \"O\", \"!\"],[\"X\", \"#\", \"!!!\"],[\"!!\", \"X\", \"O\"]]))"
      ],
      "execution_count": null,
      "outputs": [
        {
          "output_type": "stream",
          "name": "stdout",
          "text": [
            "2\n",
            "0\n"
          ]
        }
      ]
    },
    {
      "cell_type": "markdown",
      "metadata": {
        "id": "tLW4Ek5dxRfq"
      },
      "source": [
        "#### 2 . Create a function that takes a variable number of arguments, each argument representing the number of items in a group, and returns the number of permutations (combinations) of items that you could get by taking one item from each group."
      ]
    },
    {
      "cell_type": "code",
      "metadata": {
        "id": "CxVIntekxphv",
        "colab": {
          "base_uri": "https://localhost:8080/"
        },
        "outputId": "fbbee8e5-66aa-4b8e-e22f-d2be4ba74f52"
      },
      "source": [
        "def combinations(*args):\n",
        "    result = 1\n",
        "    for i in args:\n",
        "        result *= int(i) \n",
        "    return result\n",
        "\n",
        "try:\n",
        "    inputList = input(\"Please provide comma-separated input integers : \")\n",
        "    inputList = inputList.split(\",\")\n",
        "    print(\"Result : \",combinations(*inputList))\n",
        "except:\n",
        "    print(\"Something went wrong, please try again.\")"
      ],
      "execution_count": null,
      "outputs": [
        {
          "output_type": "stream",
          "name": "stdout",
          "text": [
            "Please provide comma-separated input integers : 2,3,4,5\n",
            "Result :  120\n"
          ]
        }
      ]
    },
    {
      "cell_type": "markdown",
      "metadata": {
        "id": "18zzS_RUxRai"
      },
      "source": [
        "#### 3 . Create a function that takes a string as an argument and returns the Morse code equivalent."
      ]
    },
    {
      "cell_type": "code",
      "metadata": {
        "id": "crSa3fbqxqAw",
        "colab": {
          "base_uri": "https://localhost:8080/"
        },
        "outputId": "59f32f13-deda-4c28-9191-9907decb6d3b"
      },
      "source": [
        "char_to_dots = {\n",
        "'A': '.-', 'B': '-...', 'C': '-.-.', 'D': '-..', 'E': '.', 'F': '..-.',\n",
        "'G': '--.', 'H': '....', 'I': '..', 'J': '.---', 'K': '-.-', 'L': '.-..',\n",
        "'M': '--', 'N': '-.', 'O': '---', 'P': '.--.', 'Q': '--.-', 'R': '.-.',\n",
        "'S': '...', 'T': '-', 'U': '..-', 'V': '...-', 'W': '.--', 'X': '-..-',\n",
        "'Y': '-.--', 'Z': '--..', ' ': ' ', '0': '-----',\n",
        "'1': '.----', '2': '..---', '3': '...--', '4': '....-', '5': '.....',\n",
        "'6': '-....', '7': '--...', '8': '---..', '9': '----.',\n",
        "'&': '.-...', \"'\": '.----.', '@': '.--.-.', ')': '-.--.-', '(': '-.--.',\n",
        "':': '---...', ',': '--..--', '=': '-...-', '!': '-.-.--', '.': '.-.-.-',\n",
        "'-': '-....-', '+': '.-.-.', '\"': '.-..-.', '?': '..--..', '/': '-..-.'\n",
        "}\n",
        "\n",
        "def encode_morse(value_str):\n",
        "    resultStr = ''\n",
        "    for i in value_str:\n",
        "        if i != \" \":\n",
        "            resultStr += \" \"+char_to_dots[i]\n",
        "    return resultStr\n",
        "\n",
        "try:\n",
        "    istr = input(\"Please provide the string you want to convert to morse : \")\n",
        "    print(\"Result : \",encode_morse(istr))\n",
        "except:\n",
        "    print(\"Something went wrong, please try again.\")"
      ],
      "execution_count": null,
      "outputs": [
        {
          "output_type": "stream",
          "name": "stdout",
          "text": [
            "Please provide the string you want to convert to morse : HELP ME !\n",
            "Result :   .... . .-.. .--. -- . -.-.--\n"
          ]
        }
      ]
    },
    {
      "cell_type": "markdown",
      "metadata": {
        "id": "CgYgCFzhxRVH"
      },
      "source": [
        "#### 4 . Write a function that takes a number and returns True if it's a prime; False otherwise. The number can be 2^64-1 (2 to the power of 63, not XOR). With the standard technique it would be O(2^64-1), which is much too large for the 10 second time limit."
      ]
    },
    {
      "cell_type": "code",
      "metadata": {
        "id": "PtJCqWiGxqW8",
        "colab": {
          "base_uri": "https://localhost:8080/"
        },
        "outputId": "f1bd7e78-bb10-4ca6-ab4c-8b2a18c078b9"
      },
      "source": [
        "def prime(num):\n",
        "    if num==2 or num==3:\n",
        "        return True\n",
        "    if num%2==0 or num<2:\n",
        "        return False\n",
        "    for n in range(3,int(num**0.5)+1,2):   \n",
        "        if num%n==0:\n",
        "            return False   \n",
        "    return True\n",
        "\n",
        "try:\n",
        "    prime_input = input(\"Please provide the number for which you want to check if Prime : \")\n",
        "    print(\"Result : \", prime(int(prime_input)))\n",
        "except:\n",
        "    print(\"Something went wrong, please try again.\")"
      ],
      "execution_count": 14,
      "outputs": [
        {
          "output_type": "stream",
          "name": "stdout",
          "text": [
            "Please provide the number for which you want to check Prime : 82589933\n",
            "Result :  True\n"
          ]
        }
      ]
    },
    {
      "cell_type": "markdown",
      "metadata": {
        "id": "jvi1nVNcxROy"
      },
      "source": [
        "#### 5 . Create a function that converts a word to a bitstring and then to a boolean list based on the following criteria:\n",
        "\n",
        "1. Locate the position of the letter in the English alphabet (from 1 to 26).\n",
        "\n",
        "2. Odd positions will be represented as 1 and 0 otherwise.\n",
        "\n",
        "3. Convert the represented positions to boolean values, 1 for True and 0\n",
        "for False.\n",
        "\n",
        "4. Store the conversions into an array."
      ]
    },
    {
      "cell_type": "code",
      "metadata": {
        "id": "OBFIXYQjxqt4",
        "colab": {
          "base_uri": "https://localhost:8080/"
        },
        "outputId": "7116638c-957a-4622-feb2-ba5951be7383"
      },
      "source": [
        "j = 1\n",
        "alphabet_dict = {}  \n",
        "for i in range(97,123):\n",
        "    alphabet_dict[chr(i)]=j\n",
        "    j = j + 1\n",
        "\n",
        "def to_boolean_list(value_str):\n",
        "    result_list = []\n",
        "    for i in value_str:\n",
        "        if alphabet_dict[i]%2 == 0:\n",
        "            result_list.append(bool(0))\n",
        "        else:\n",
        "            result_list.append(bool(1))\n",
        "    \n",
        "    return result_list\n",
        "\n",
        "try:\n",
        "    i_str = input(\"Please provide the input string : \")\n",
        "    print(\"Result : \", to_boolean_list(i_str))\n",
        "except:\n",
        "    print(\"Something went wrong, please try again.\")"
      ],
      "execution_count": null,
      "outputs": [
        {
          "output_type": "stream",
          "name": "stdout",
          "text": [
            "Please provide the input string : tesh\n",
            "Result :  [False, True, True, False]\n"
          ]
        }
      ]
    }
  ]
}
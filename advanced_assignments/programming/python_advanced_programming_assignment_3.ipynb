{
  "nbformat": 4,
  "nbformat_minor": 0,
  "metadata": {
    "colab": {
      "name": "python_advanced_programming_assignment_3",
      "provenance": [],
      "collapsed_sections": [],
      "authorship_tag": "ABX9TyNOdiabuFvTOLszggCn/zEO"
    },
    "kernelspec": {
      "name": "python3",
      "display_name": "Python 3"
    },
    "language_info": {
      "name": "python"
    }
  },
  "cells": [
    {
      "cell_type": "markdown",
      "metadata": {
        "id": "7HYWnc6Yvz7V"
      },
      "source": [
        "# Advanced Assignment 3"
      ]
    },
    {
      "cell_type": "markdown",
      "metadata": {
        "id": "4XHxL66yv2Rs"
      },
      "source": [
        "#### Submitted By:Paritosh Nichat\n",
        "\n",
        "#### Submitted Date:October 12, 2021"
      ]
    },
    {
      "cell_type": "markdown",
      "metadata": {
        "id": "LJR1bCrZvpiw"
      },
      "source": [
        "```\n",
        "1. Create a function to perform basic arithmetic operations that includes addition, subtraction, \n",
        "multiplication and division on a string number (e.g. \"12 + 24\" or \"23 - 21\" or \n",
        "\"12 // 12\" or \"12 * 21\").\n",
        "\n",
        "Here, we have 1 followed by a space, operator followed by another space and 2. \n",
        "For the challenge, we are going to have only two numbers between 1 valid operator. \n",
        "The return value should be a number.\n",
        "\n",
        "eval() is not allowed. In case of division, whenever the second number equals \"0\" return -1.\n",
        "\n",
        "For example:\n",
        "\n",
        "\"15 // 0\"  ➞ -1\n",
        "\n",
        "Examples\n",
        "\n",
        "arithmetic_operation(\"12 + 12\") ➞ 24 // 12 + 12 = 24\n",
        "\n",
        "arithmetic_operation(\"12 - 12\") ➞ 24 // 12 - 12 = 0\n",
        "\n",
        "arithmetic_operation(\"12 * 12\") ➞ 144 // 12 * 12 = 144\n",
        "\n",
        "arithmetic_operation(\"12 // 0\") ➞ -1 // 12 / 0 = -1\n",
        "```"
      ]
    },
    {
      "cell_type": "code",
      "metadata": {
        "id": "s2c6Hl0Cvmhd",
        "colab": {
          "base_uri": "https://localhost:8080/"
        },
        "outputId": "492889d0-e1d1-47b7-98f2-25e8d2c63143"
      },
      "source": [
        "def arithmetic_operation(value_str):\n",
        "    list_str = value_str.split(\" \")\n",
        "    try:\n",
        "        operand1 = list_str[0]\n",
        "        operand2 = list_str[2]\n",
        "        operator = list_str[1]\n",
        "        result = 0\n",
        "        if operator == '+':\n",
        "            result = int(operand1)+int(operand2)\n",
        "        elif operator == '-':\n",
        "            result = int(operand1)-int(operand2)\n",
        "        elif operator == '*':\n",
        "            result = int(operand1)*int(operand2)\n",
        "        elif operator == '//':\n",
        "            if operand2 == '0':\n",
        "                result = -1\n",
        "            else:\n",
        "                result = int(operand1)/int(operand2)\n",
        "        else:\n",
        "            result = \"Incorrect operator!\"\n",
        "        return result\n",
        "    except:\n",
        "        print(\"Something went wrong, please try again\")\n",
        "\n",
        "arithmetic_operation(\"12 * 12\")"
      ],
      "execution_count": null,
      "outputs": [
        {
          "output_type": "execute_result",
          "data": {
            "text/plain": [
              "144"
            ]
          },
          "metadata": {},
          "execution_count": 27
        }
      ]
    },
    {
      "cell_type": "markdown",
      "metadata": {
        "id": "RYLZ5eWbvqIl"
      },
      "source": [
        "```\n",
        "2. Write a function that takes the coordinates of three points in the form of a 2d array and \n",
        "returns the perimeter of the triangle. \n",
        "The given points are the vertices of a triangle on a two-dimensional plane.\n",
        "\n",
        "Examples\n",
        "\n",
        "perimeter( [ [15, 7], [5, 22], [11, 1] ] ) ➞ 47.08\n",
        "\n",
        "perimeter( [ [0, 0], [0, 1], [1, 0] ] ) ➞ 3.42\n",
        "\n",
        "perimeter( [ [-10, -10], [10, 10 ], [-10, 10] ] ) ➞ 68.28\n",
        "```"
      ]
    },
    {
      "cell_type": "code",
      "metadata": {
        "id": "w96s29QKvqdh",
        "colab": {
          "base_uri": "https://localhost:8080/"
        },
        "outputId": "342632a5-5d88-408e-972e-5d5e5ff03e62"
      },
      "source": [
        "def calculate_dist(value_a_x,value_a_y,value_b_x,value_b_y):\n",
        "    dist = ((value_b_x - value_a_x)**2 + (value_b_y - value_a_y)**2)**0.5\n",
        "    return dist\n",
        "\n",
        "def perimeter(value_coords):\n",
        "    value_a, value_b, value_c = value_coords\n",
        "    value_a_x = int(value_a[0])\n",
        "    value_a_y = int(value_a[1])\n",
        "    value_b_x = int(value_b[0])\n",
        "    value_b_y = int(value_b[1])\n",
        "    value_c_x = int(value_c[0])\n",
        "    value_c_y = int(value_c[1])\n",
        "    try:\n",
        "        dist_a_b = calculate_dist(value_a_x,value_a_y,value_b_x,value_b_y)\n",
        "        dist_b_c = calculate_dist(value_b_x,value_b_y,value_c_x,value_c_y)\n",
        "        dist_c_a = calculate_dist(value_c_x,value_c_y,value_a_x,value_a_y)\n",
        "        perimeter = dist_a_b + dist_b_c + dist_c_a\n",
        "        return round(perimeter,2)\n",
        "    except:\n",
        "        return (\"Something went wrong, please try again.\")\n",
        "\n",
        "\n",
        "try:\n",
        "    first_input_coords = input(\"Please input the first point coords(comma-separated) : \").split(\",\")\n",
        "    second_input_coords = input(\"Please input the first point coords(comma-separated) : \").split(\",\")\n",
        "    third_input_coords = input(\"Please input the first point coords(comma-separated) : \").split(\",\")\n",
        "    input_coords = []\n",
        "    input_coords.append(first_input_coords)\n",
        "    input_coords.append(second_input_coords)\n",
        "    input_coords.append(third_input_coords)\n",
        "    print(\"Result : \",perimeter(input_coords))\n",
        "except:\n",
        "    print(\"Something went wrong, please try again.\")"
      ],
      "execution_count": null,
      "outputs": [
        {
          "output_type": "stream",
          "name": "stdout",
          "text": [
            "Please input the first point coords(comma-separated) : 15,7\n",
            "Please input the first point coords(comma-separated) : 5,22\n",
            "Please input the first point coords(comma-separated) : 11,1\n",
            "Result :  47.08\n"
          ]
        }
      ]
    },
    {
      "cell_type": "markdown",
      "metadata": {
        "id": "9WQdyyTFvq3X"
      },
      "source": [
        "```\n",
        "3. A city skyline can be represented as a 2-D list with 1s representing buildings. In the \n",
        "example below, the height of the tallest building is 4 (second-most right column).\n",
        "\n",
        "[[0, 0, 0, 0, 0, 0],\n",
        "[0, 0, 0, 0, 1, 0],\n",
        "[0, 0, 1, 0, 1, 0],\n",
        "[0, 1, 1, 1, 1, 0],\n",
        "[1, 1, 1, 1, 1, 1]]\n",
        "\n",
        "Create a function that takes a skyline (2-D list of 0's and 1's) and returns the height of the tallest skyscraper.\n",
        "\n",
        "Examples\n",
        "\n",
        "tallest_skyscraper([\n",
        "  [0, 0, 0, 0],\n",
        "  [0, 1, 0, 0],\n",
        "  [0, 1, 1, 0],\n",
        "  [1, 1, 1, 1]\n",
        "]) ➞ 3\n",
        "\n",
        "tallest_skyscraper([\n",
        "  [0, 1, 0, 0],\n",
        "  [0, 1, 0, 0],\n",
        "  [0, 1, 1, 0],\n",
        "  [1, 1, 1, 1]\n",
        "]) ➞ 4\n",
        "\n",
        "tallest_skyscraper([\n",
        "  [0, 0, 0, 0],\n",
        "  [0, 0, 0, 0],\n",
        "  [1, 1, 1, 0],\n",
        "  [1, 1, 1, 1]\n",
        "]) ➞ 2\n",
        "```"
      ]
    },
    {
      "cell_type": "code",
      "metadata": {
        "id": "4HsObCN5vrEg",
        "colab": {
          "base_uri": "https://localhost:8080/"
        },
        "outputId": "401bc653-e1a1-4f19-e3c2-affddc1fbb44"
      },
      "source": [
        "def tallest_skyscraper(building_matrix):\n",
        "    building_matrix.reverse()\n",
        "    building_number_dict = {}\n",
        "    for i in range(0, len(building_matrix[0])):\n",
        "        building_number_dict[i+1] = 0\n",
        "    for i in range(0, len(building_matrix)):\n",
        "        for j in range(0, len(building_matrix[0])):\n",
        "            if(building_matrix[i][j] == 1):\n",
        "                building_number_dict[j+1] += 1 \n",
        "\n",
        "    max_height = 0\n",
        "    for item in building_number_dict:\n",
        "        if building_number_dict[item] > max_height:\n",
        "            max_height = building_number_dict[item]\n",
        "    \n",
        "    return max_height\n",
        "\n",
        "tallest_skyscraper([[0, 0, 0, 0, 0, 0],\n",
        "[0, 0, 0, 0, 1, 0],\n",
        "[0, 0, 1, 0, 1, 0],\n",
        "[0, 1, 1, 1, 1, 0],\n",
        "[1, 1, 1, 1, 1, 1]])\n",
        "\n",
        "# tallest_skyscraper([\n",
        "#   [0, 0, 0, 0],\n",
        "#   [0, 0, 0, 0],\n",
        "#   [1, 1, 1, 0],\n",
        "#   [1, 1, 1, 1]\n",
        "# ])\n",
        "\n",
        "# tallest_skyscraper([\n",
        "#   [0, 1, 0, 0],\n",
        "#   [0, 1, 0, 0],\n",
        "#   [0, 1, 1, 0],\n",
        "#   [1, 1, 1, 1]\n",
        "# ])\n",
        "\n",
        "# tallest_skyscraper([\n",
        "#   [0, 0, 0, 0],\n",
        "#   [0, 1, 0, 0],\n",
        "#   [0, 1, 1, 0],\n",
        "#   [1, 1, 1, 1]\n",
        "# ])"
      ],
      "execution_count": 76,
      "outputs": [
        {
          "output_type": "execute_result",
          "data": {
            "text/plain": [
              "4"
            ]
          },
          "metadata": {},
          "execution_count": 76
        }
      ]
    },
    {
      "cell_type": "markdown",
      "metadata": {
        "id": "jJJ3s8elvrYm"
      },
      "source": [
        "```\n",
        "4. A financial institution provides professional services to banks and claims charges from the \n",
        "customers based on the number of man-days provided. Internally, it has set a scheme to motivate\n",
        "and reward staff to meet and exceed targeted billable utilization and revenues \n",
        "by paying a bonus for each day claimed from customers in excess of a threshold target.\n",
        "\n",
        "This quarterly scheme is calculated with a threshold target of 32 days per quarter, and the\n",
        "incentive payment for each billable day in excess of such threshold target is shown as follows:\n",
        "\n",
        "Days\t                             Bonus\n",
        "0 to 32 days\t                   Zero\n",
        "33 to 40 days\t         SGD$325 per billable day\n",
        "41 to 48 days\t         SGD$550 per billable day\n",
        "Greater than 48 days      SGD$600 per billable day\n",
        "\n",
        "Please note that incentive payment is calculated progressively. As an example, if an employee \n",
        "reached total billable days of 45 in a quarter, his/her incentive payment is computed as follows:\n",
        "\n",
        "32*0 + 8*325 + 5*550 = 5350\n",
        "\n",
        "Write a function to read the billable days of an employee and return the bonus he/she has obtained in that quarter.\n",
        "\n",
        "Examples\n",
        "\n",
        "bonus(15) ➞ 0\n",
        "\n",
        "bonus(37) ➞ 1625\n",
        "\n",
        "bonus(50) ➞ 8200\n",
        "```"
      ]
    },
    {
      "cell_type": "code",
      "metadata": {
        "id": "UUvTbMqevrrZ",
        "colab": {
          "base_uri": "https://localhost:8080/"
        },
        "outputId": "94d9e7bd-f2a5-4b38-9e1e-a108e74f3381"
      },
      "source": [
        "days_bonus_dict = {\n",
        "    \"slot_1\":[0],\n",
        "    \"slot_2\":[32,40],\n",
        "    \"slot_3\":[40,48],\n",
        "    \"slot_4\":[48]\n",
        "}\n",
        "bonus_dict = {\n",
        "    \"slot_1\":0,\n",
        "    \"slot_2\":325,\n",
        "    \"slot_3\":550,\n",
        "    \"slot_4\":600\n",
        "}\n",
        "def bonus(value_billable_days):\n",
        "    bonus_days = {\n",
        "        \"days_1\":[0],\n",
        "        \"days_2\":[value_billable_days-days_bonus_dict[\"slot_2\"][0], value_billable_days-days_bonus_dict[\"slot_2\"][1]],\n",
        "        \"days_3\":[value_billable_days-days_bonus_dict[\"slot_3\"][0], value_billable_days-days_bonus_dict[\"slot_3\"][1]],\n",
        "        \"days_4\":[value_billable_days-days_bonus_dict[\"slot_4\"][0]],\n",
        "    }\n",
        "    for item in bonus_days:\n",
        "        if len(bonus_days[item]) > 1:\n",
        "            if(bonus_days[item][0] > 0 and bonus_days[item][1] > 0):\n",
        "                bonus_days[item] = [bonus_days[item][0] - bonus_days[item][1]]\n",
        "            elif(bonus_days[item][0] <= 0 and bonus_days[item][1] > 0):\n",
        "                bonus_days[item] = [bonus_days[item][1]]\n",
        "            elif(bonus_days[item][1] <= 0 and bonus_days[item][0] > 0):\n",
        "                bonus_days[item] = [bonus_days[item][0]]\n",
        "            elif(bonus_days[item][0] <= 0 and bonus_days[item][1] <= 0):\n",
        "                bonus_days[item] = [0]\n",
        "        elif(bonus_days[item][0] <= 0):\n",
        "            bonus_days[item][0] = 0\n",
        "    # print(bonus_days)\n",
        "    return bonus_days['days_1'][0]*bonus_dict[\"slot_1\"]+bonus_days['days_2'][0]*bonus_dict[\"slot_2\"]+bonus_days['days_3'][0]*bonus_dict[\"slot_3\"]+bonus_days['days_4'][0]*bonus_dict[\"slot_4\"]\n",
        "\n",
        "try:\n",
        "    input_days = input(\"Please provide number of days worked : \")\n",
        "    print(\"Result : \", bonus(int(input_days)))\n",
        "except:\n",
        "    print(\"Something went wrong, please try again\")"
      ],
      "execution_count": 43,
      "outputs": [
        {
          "output_type": "stream",
          "name": "stdout",
          "text": [
            "Please provide number of days worked : 50\n",
            "Result :  8200\n"
          ]
        }
      ]
    },
    {
      "cell_type": "markdown",
      "metadata": {
        "id": "2Zl7CTbZvwpA"
      },
      "source": [
        "```\n",
        "5. A number is said to be Disarium if the sum of its digits raised to their respective positions is the number itself.\n",
        "\n",
        "Create a function that determines whether a number is a Disarium or not.\n",
        "\n",
        "Examples\n",
        "\n",
        "is_disarium(75) ➞ False\n",
        "# 7^1 + 5^2 = 7 + 25 = 32\n",
        "\n",
        "is_disarium(135) ➞ True\n",
        "# 1^1 + 3^2 + 5^3 = 1 + 9 + 125 = 135\n",
        "\n",
        "is_disarium(544) ➞ False\n",
        "\n",
        "is_disarium(518) ➞ True\n",
        "\n",
        "is_disarium(466) ➞ False\n",
        "\n",
        "is_disarium(8) ➞ True\n",
        "```"
      ]
    },
    {
      "cell_type": "code",
      "metadata": {
        "id": "kceoJRGwvxf4",
        "colab": {
          "base_uri": "https://localhost:8080/"
        },
        "outputId": "c7943a01-0def-4750-dab2-637538b29e20"
      },
      "source": [
        "def is_disarium(input_number):\n",
        "    digits = []\n",
        "    temp = input_number\n",
        "    while temp > 0:\n",
        "        digits.append(int(temp%10))\n",
        "        temp = int(temp/10)\n",
        "    digits.reverse()\n",
        "    sum_of_digits = 0\n",
        "    for i in digits:\n",
        "        sum_of_digits += i**int(digits.index(i)+1)\n",
        "    if sum_of_digits == input_number:\n",
        "        return True\n",
        "    else:\n",
        "        return False\n",
        "\n",
        "input_number = int(input(\"Enter the number to be checked for Disarium Number : \"))\n",
        "try:\n",
        "    # Check for positive number input\n",
        "    if input_number >= 0:\n",
        "        print(\"Result :\", is_disarium(input_number))\n",
        "    else:\n",
        "        raise Exception\n",
        "except:\n",
        "    print(\"Please provide a valid positive natural number as input.\")"
      ],
      "execution_count": 81,
      "outputs": [
        {
          "output_type": "stream",
          "name": "stdout",
          "text": [
            "Enter the number to be checked for Disarium Number : 8\n",
            "Result : True\n"
          ]
        }
      ]
    }
  ]
}
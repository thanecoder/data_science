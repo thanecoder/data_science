{
  "nbformat": 4,
  "nbformat_minor": 0,
  "metadata": {
    "colab": {
      "name": "python_advanced_programming_assignment_3",
      "provenance": [],
      "collapsed_sections": []
    },
    "kernelspec": {
      "name": "python3",
      "display_name": "Python 3"
    },
    "language_info": {
      "name": "python"
    }
  },
  "cells": [
    {
      "cell_type": "markdown",
      "metadata": {
        "id": "7HYWnc6Yvz7V"
      },
      "source": [
        "# Programming Assignment 3"
      ]
    },
    {
      "cell_type": "markdown",
      "metadata": {
        "id": "4XHxL66yv2Rs"
      },
      "source": [
        "#### Submitted By:Paritosh Nichat\n",
        "\n",
        "#### Submitted Date:October 12, 2021"
      ]
    },
    {
      "cell_type": "markdown",
      "metadata": {
        "id": "LJR1bCrZvpiw"
      },
      "source": [
        "1 . Create a function to perform basic arithmetic operations that includes addition, subtraction, multiplication and division on a string number (e.g. \"12 + 24\" or \"23 - 21\" or \"12 // 12\" or \"12 * 21\").\n",
        "Here, we have 1 followed by a space, operator followed by another space and 2. For the challenge, we are going to have only two numbers between 1 valid operator. \n",
        "The return value should be a number. eval() is not allowed. In case of division, whenever the second number equals \"0\" return -1."
      ]
    },
    {
      "cell_type": "code",
      "metadata": {
        "id": "s2c6Hl0Cvmhd",
        "colab": {
          "base_uri": "https://localhost:8080/"
        },
        "outputId": "492889d0-e1d1-47b7-98f2-25e8d2c63143"
      },
      "source": [
        "def arithmetic_operation(value_str):\n",
        "    list_str = value_str.split(\" \")\n",
        "    try:\n",
        "        operand1 = list_str[0]\n",
        "        operand2 = list_str[2]\n",
        "        operator = list_str[1]\n",
        "        result = 0\n",
        "        if operator == '+':\n",
        "            result = int(operand1)+int(operand2)\n",
        "        elif operator == '-':\n",
        "            result = int(operand1)-int(operand2)\n",
        "        elif operator == '*':\n",
        "            result = int(operand1)*int(operand2)\n",
        "        elif operator == '//':\n",
        "            if operand2 == '0':\n",
        "                result = -1\n",
        "            else:\n",
        "                result = int(operand1)/int(operand2)\n",
        "        else:\n",
        "            result = \"Incorrect operator!\"\n",
        "        return result\n",
        "    except:\n",
        "        print(\"Something went wrong, please try again\")\n",
        "\n",
        "arithmetic_operation(\"12 * 12\")"
      ],
      "execution_count": null,
      "outputs": [
        {
          "output_type": "execute_result",
          "data": {
            "text/plain": [
              "144"
            ]
          },
          "metadata": {},
          "execution_count": 27
        }
      ]
    },
    {
      "cell_type": "markdown",
      "metadata": {
        "id": "RYLZ5eWbvqIl"
      },
      "source": [
        "2 . Write a function that takes the coordinates of three points in the form of a\n",
        "2d array and returns the perimeter of the triangle. The given points are the\n",
        "vertices of a triangle on a two-dimensional plane."
      ]
    },
    {
      "cell_type": "code",
      "metadata": {
        "id": "w96s29QKvqdh",
        "colab": {
          "base_uri": "https://localhost:8080/"
        },
        "outputId": "342632a5-5d88-408e-972e-5d5e5ff03e62"
      },
      "source": [
        "def calculate_dist(value_a_x,value_a_y,value_b_x,value_b_y):\n",
        "    dist = ((value_b_x - value_a_x)**2 + (value_b_y - value_a_y)**2)**0.5\n",
        "    return dist\n",
        "\n",
        "def perimeter(value_coords):\n",
        "    value_a, value_b, value_c = value_coords\n",
        "    value_a_x = int(value_a[0])\n",
        "    value_a_y = int(value_a[1])\n",
        "    value_b_x = int(value_b[0])\n",
        "    value_b_y = int(value_b[1])\n",
        "    value_c_x = int(value_c[0])\n",
        "    value_c_y = int(value_c[1])\n",
        "    try:\n",
        "        dist_a_b = calculate_dist(value_a_x,value_a_y,value_b_x,value_b_y)\n",
        "        dist_b_c = calculate_dist(value_b_x,value_b_y,value_c_x,value_c_y)\n",
        "        dist_c_a = calculate_dist(value_c_x,value_c_y,value_a_x,value_a_y)\n",
        "        perimeter = dist_a_b + dist_b_c + dist_c_a\n",
        "        return round(perimeter,2)\n",
        "    except:\n",
        "        return (\"Something went wrong, please try again.\")\n",
        "\n",
        "\n",
        "try:\n",
        "    first_input_coords = input(\"Please input the first point coords(comma-separated) : \").split(\",\")\n",
        "    second_input_coords = input(\"Please input the first point coords(comma-separated) : \").split(\",\")\n",
        "    third_input_coords = input(\"Please input the first point coords(comma-separated) : \").split(\",\")\n",
        "    input_coords = []\n",
        "    input_coords.append(first_input_coords)\n",
        "    input_coords.append(second_input_coords)\n",
        "    input_coords.append(third_input_coords)\n",
        "    print(\"Result : \",perimeter(input_coords))\n",
        "except:\n",
        "    print(\"Something went wrong, please try again.\")"
      ],
      "execution_count": null,
      "outputs": [
        {
          "output_type": "stream",
          "name": "stdout",
          "text": [
            "Please input the first point coords(comma-separated) : 15,7\n",
            "Please input the first point coords(comma-separated) : 5,22\n",
            "Please input the first point coords(comma-separated) : 11,1\n",
            "Result :  47.08\n"
          ]
        }
      ]
    },
    {
      "cell_type": "markdown",
      "metadata": {
        "id": "9WQdyyTFvq3X"
      },
      "source": [
        "3 . A city skyline can be represented as a 2-D list with 1s representing buildings. \n",
        "\n",
        "In the example below, the height of the tallest building is 4 (second-most right column).\n",
        "\n",
        "[[0, 0, 0, 0, 0, 0],\n",
        "\n",
        "[0, 0, 0, 0, 1, 0],\n",
        "\n",
        "[0, 0, 1, 0, 1, 0],\n",
        "\n",
        "[0, 1, 1, 1, 1, 0],\n",
        "\n",
        "[1, 1, 1, 1, 1, 1]]\n",
        "\n",
        "Create a function that takes a skyline (2-D list of 0's and 1's) and returns the\n",
        "height of the tallest skyscraper."
      ]
    },
    {
      "cell_type": "code",
      "metadata": {
        "id": "4HsObCN5vrEg",
        "colab": {
          "base_uri": "https://localhost:8080/"
        },
        "outputId": "37c76992-be68-479a-f45c-dc74ad95fa39"
      },
      "source": [
        "def tallest_skyscraper(building_matrix):\n",
        "    max_height = len(building_matrix)\n",
        "    building_max_height = (0,0)\n",
        "    building_reverse_matrix = building_matrix[::-1]\n",
        "    for floor in building_matrix:\n",
        "        floor_number = (len(building_matrix) - building_matrix.index(floor))\n",
        "        print(\"floor_number \",floor_number)\n",
        "        for building in floor:\n",
        "            if building == 1 and (building_max_height[0] == floor.index(building)):\n",
        "                print(\"building_number \",floor.index(building),end=\" \")\n",
        "                print(\"building \",building,end=\" \")\n",
        "                building_max_height = (floor.index(building),floor_number)\n",
        "        print(building_max_height)\n",
        "\n",
        "# tallest_skyscraper([\n",
        "#     [0, 0, 0, 0],\n",
        "#     [0, 1, 0, 0],\n",
        "#     [0, 1, 1, 0],\n",
        "#     [1, 1, 1, 1]\n",
        "# ])\n",
        "\n",
        "tallest_skyscraper([\n",
        "    [0, 1, 0, 0],\n",
        "    [0, 1, 0, 0],\n",
        "    [0, 1, 1, 0],\n",
        "    [1, 1, 1, 1]\n",
        "])"
      ],
      "execution_count": null,
      "outputs": [
        {
          "output_type": "stream",
          "name": "stdout",
          "text": [
            "floor_number  4\n",
            "(0, 0)\n",
            "floor_number  4\n",
            "(0, 0)\n",
            "floor_number  2\n",
            "(0, 0)\n",
            "floor_number  1\n",
            "building_number  0 building  1 building_number  0 building  1 building_number  0 building  1 building_number  0 building  1 (0, 1)\n"
          ]
        }
      ]
    },
    {
      "cell_type": "markdown",
      "metadata": {
        "id": "jJJ3s8elvrYm"
      },
      "source": [
        "4 . A financial institution provides professional services to banks and claims\n",
        "charges from the customers based on the number of man-days provided.\n",
        "Internally, it has set a scheme to motivate and reward staff to meet and\n",
        "exceed targeted billable utilization and revenues by paying a bonus for each\n",
        "day claimed from customers in excess of a threshold target."
      ]
    },
    {
      "cell_type": "code",
      "metadata": {
        "id": "UUvTbMqevrrZ"
      },
      "source": [
        ""
      ],
      "execution_count": null,
      "outputs": []
    },
    {
      "cell_type": "markdown",
      "metadata": {
        "id": "2Zl7CTbZvwpA"
      },
      "source": [
        "5 . A number is said to be Disarium if the sum of its digits raised to their\n",
        "respective positions is the number itself.\n",
        "Create a function that determines whether a number is a Disarium or not."
      ]
    },
    {
      "cell_type": "code",
      "metadata": {
        "id": "kceoJRGwvxf4"
      },
      "source": [
        ""
      ],
      "execution_count": null,
      "outputs": []
    }
  ]
}
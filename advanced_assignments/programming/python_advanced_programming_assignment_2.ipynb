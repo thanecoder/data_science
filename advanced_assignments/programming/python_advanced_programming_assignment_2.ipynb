{
  "nbformat": 4,
  "nbformat_minor": 0,
  "metadata": {
    "colab": {
      "name": "python_advanced_programming_assignment_2",
      "provenance": [],
      "collapsed_sections": []
    },
    "kernelspec": {
      "name": "python3",
      "display_name": "Python 3"
    },
    "language_info": {
      "name": "python"
    }
  },
  "cells": [
    {
      "cell_type": "markdown",
      "metadata": {
        "id": "T827W7pSSvxP"
      },
      "source": [
        "# Programming Assignment 2"
      ]
    },
    {
      "cell_type": "markdown",
      "metadata": {
        "id": "UZtNU1fYajec"
      },
      "source": [
        "#### Submitted By:Paritosh Nichat\n",
        "\n",
        "#### Submitted Date:October 12, 2021"
      ]
    },
    {
      "cell_type": "markdown",
      "metadata": {
        "id": "_oActTK9apr6"
      },
      "source": [
        "1 . Write a function that takes a positive integer num and calculates how many dots exist in a pentagonal shape around the center dot on the Nth iteration.In the image below you can see the first iteration is only a single dot. On the second, there are 6 dots. On the third, there are 16 dots, and on the fourth there are 31 dots."
      ]
    },
    {
      "cell_type": "code",
      "metadata": {
        "id": "UDFb-7CPSmDF"
      },
      "source": [
        ""
      ],
      "execution_count": null,
      "outputs": []
    },
    {
      "cell_type": "markdown",
      "metadata": {
        "id": "T4minQ2naqiH"
      },
      "source": [
        "2 . Make a function that encrypts a given input with these steps:\n",
        "\n",
        "Input: \"apple\"\n",
        "\n",
        "Step 1: Reverse the input: \"elppa\"\n",
        "\n",
        "Step 2: Replace all vowels using the following chart:\n",
        "a => 0\n",
        "e => 1\n",
        "i => 2\n",
        "o => 2\n",
        "u => 3\n",
        "\\# \"1lpp0\"\n",
        "\n",
        "Step 3: Add \"aca\" to the end of the word: \"1lpp0aca\"\n",
        "\n",
        "Output: \"1lpp0aca\""
      ]
    },
    {
      "cell_type": "code",
      "metadata": {
        "id": "jZ7rAWgXarVd",
        "colab": {
          "base_uri": "https://localhost:8080/"
        },
        "outputId": "61f073fc-b87c-4bd6-aefb-375211184530"
      },
      "source": [
        "vowel_dict = {\n",
        "    'a':0, \n",
        "    'e':1,\n",
        "    'i':2, \n",
        "    'o':2, \n",
        "    'u':3\n",
        "}\n",
        "\n",
        "def encrypt(value_str):\n",
        "    result = value_str\n",
        "    result = result[::-1]\n",
        "    result_list = list(result)\n",
        "    for i in range(0,len(result_list)):\n",
        "        # print(result_list[i])\n",
        "        if result_list[i] in vowel_dict:\n",
        "            result_list[i] = str(vowel_dict[result_list[i]])\n",
        "\n",
        "    result = \"\".join(result_list)\n",
        "    result = str(result)+'aca'\n",
        "    return result \n",
        "\n",
        "try:\n",
        "    input_str = input(\"Please provide the input string : \")\n",
        "    print(\"Result : \",encrypt(input_str))\n",
        "except:\n",
        "    print(\"Something went wrong, please try again.\",e)"
      ],
      "execution_count": null,
      "outputs": [
        {
          "output_type": "stream",
          "name": "stdout",
          "text": [
            "Please provide the input string : apple\n",
            "Result :  1lpp0aca\n"
          ]
        }
      ]
    },
    {
      "cell_type": "markdown",
      "metadata": {
        "id": "3ISoJ9otjj6d"
      },
      "source": [
        "3 . Given the month and year as numbers, return whether that month contains a Friday 13th.(i.e You can check Python&#39;s datetime module)"
      ]
    },
    {
      "cell_type": "code",
      "metadata": {
        "id": "fGF0YMr7jkIi"
      },
      "source": [
        "def has_friday_13(value_month,value_year):\n",
        "    "
      ],
      "execution_count": null,
      "outputs": []
    },
    {
      "cell_type": "markdown",
      "metadata": {
        "id": "SgjXCh6mjkWv"
      },
      "source": [
        "4 . Write a regular expression that will help us count how many bad cookies are produced every day. You must use RegEx negative lookbehind."
      ]
    },
    {
      "cell_type": "code",
      "metadata": {
        "id": "eHX0CM0xjkoX"
      },
      "source": [
        ""
      ],
      "execution_count": null,
      "outputs": []
    },
    {
      "cell_type": "markdown",
      "metadata": {
        "id": "LuNxo37_j4xs"
      },
      "source": [
        "5 . Given a list of words in the singular form, return a set of those words in the plural form if they appear more than once in the list."
      ]
    },
    {
      "cell_type": "code",
      "metadata": {
        "id": "CAc2VUTHj6wa"
      },
      "source": [
        ""
      ],
      "execution_count": null,
      "outputs": []
    }
  ]
}
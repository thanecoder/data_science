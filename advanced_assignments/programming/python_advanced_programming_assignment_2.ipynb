{
  "nbformat": 4,
  "nbformat_minor": 0,
  "metadata": {
    "colab": {
      "name": "python_advanced_programming_assignment_2",
      "provenance": [],
      "collapsed_sections": [],
      "authorship_tag": "ABX9TyPEeCh3JgQPbVsCwKNHJWuT"
    },
    "kernelspec": {
      "name": "python3",
      "display_name": "Python 3"
    },
    "language_info": {
      "name": "python"
    }
  },
  "cells": [
    {
      "cell_type": "markdown",
      "metadata": {
        "id": "T827W7pSSvxP"
      },
      "source": [
        "# Advanced Assignment 2"
      ]
    },
    {
      "cell_type": "markdown",
      "metadata": {
        "id": "UZtNU1fYajec"
      },
      "source": [
        "#### Submitted By:Paritosh Nichat\n",
        "\n",
        "#### Submitted Date:October 12, 2021"
      ]
    },
    {
      "cell_type": "markdown",
      "source": [
        "```\n",
        "1. Write a function that takes a positive integer num and calculates how many dots exist in a\n",
        " pentagonal shape around the center dot on the Nth iteration.\n",
        "\n",
        "In the image below you can see the first iteration is only a single dot. On the second, there are 6\n",
        " dots. On the third, there are 16 dots, and on the fourth there are 31 dots.\n",
        "\n",
        "Return the number of dots that exist in the whole pentagon on the Nth iteration.\n",
        "\n",
        "Examples\n",
        "\n",
        "pentagonal(1) ➞ 1\n",
        "\n",
        "pentagonal(2) ➞ 6\n",
        "\n",
        "pentagonal(3) ➞ 16\n",
        "\n",
        "pentagonal(8) ➞ 141\n",
        "\n",
        "```"
      ],
      "metadata": {
        "id": "bDH-ZuUYrO6B"
      }
    },
    {
      "cell_type": "code",
      "metadata": {
        "id": "UDFb-7CPSmDF",
        "colab": {
          "base_uri": "https://localhost:8080/"
        },
        "outputId": "d0bf45e9-9210-4b8d-c413-77b16ae2efe6"
      },
      "source": [
        "def pentagonal(value_num):\n",
        "    output_dots = (5*(value_num**2)-5*value_num+2)/2\n",
        "    return output_dots\n",
        "\n",
        "try:\n",
        "    input_num = int(input(\"Please provide input number : \"))\n",
        "    print(\"Output :\", str(pentagonal(input_num)))\n",
        "except:\n",
        "    print(\"Something went wrong, please try again\")"
      ],
      "execution_count": null,
      "outputs": [
        {
          "output_type": "stream",
          "name": "stdout",
          "text": [
            "Please provide input number : 2\n",
            "Output : 6.0\n"
          ]
        }
      ]
    },
    {
      "cell_type": "markdown",
      "metadata": {
        "id": "T4minQ2naqiH"
      },
      "source": [
        "2 . Make a function that encrypts a given input with these steps:\n",
        "\n",
        "Input: \"apple\"\n",
        "\n",
        "Step 1: Reverse the input: \"elppa\"\n",
        "\n",
        "Step 2: Replace all vowels using the following chart:\n",
        "a => 0\n",
        "e => 1\n",
        "i => 2\n",
        "o => 2\n",
        "u => 3\n",
        "\\# \"1lpp0\"\n",
        "\n",
        "Step 3: Add \"aca\" to the end of the word: \"1lpp0aca\"\n",
        "\n",
        "Output: \"1lpp0aca\""
      ]
    },
    {
      "cell_type": "code",
      "metadata": {
        "id": "jZ7rAWgXarVd",
        "colab": {
          "base_uri": "https://localhost:8080/"
        },
        "outputId": "ffe960ec-3038-48ae-d510-09eb69f1b638"
      },
      "source": [
        "vowel_dict = {\n",
        "    'a':0, \n",
        "    'e':1,\n",
        "    'i':2, \n",
        "    'o':2, \n",
        "    'u':3\n",
        "}\n",
        "\n",
        "def encrypt(value_str):\n",
        "    result = value_str\n",
        "    result = result[::-1]\n",
        "    result_list = list(result)\n",
        "    for i in range(0,len(result_list)):\n",
        "        # print(result_list[i])\n",
        "        if result_list[i] in vowel_dict:\n",
        "            result_list[i] = str(vowel_dict[result_list[i]])\n",
        "\n",
        "    result = \"\".join(result_list)\n",
        "    result = str(result)+'aca'\n",
        "    return result \n",
        "\n",
        "try:\n",
        "    input_str = input(\"Please provide the input string : \")\n",
        "    print(\"Result : \",encrypt(input_str))\n",
        "except:\n",
        "    print(\"Something went wrong, please try again.\",e)"
      ],
      "execution_count": null,
      "outputs": [
        {
          "output_type": "stream",
          "name": "stdout",
          "text": [
            "Please provide the input string : apple\n",
            "Result :  1lpp0aca\n"
          ]
        }
      ]
    },
    {
      "cell_type": "markdown",
      "metadata": {
        "id": "3ISoJ9otjj6d"
      },
      "source": [
        "3 . Given the month and year as numbers, return whether that month contains a Friday 13th.(i.e You can check Python&#39;s datetime module)"
      ]
    },
    {
      "cell_type": "code",
      "metadata": {
        "id": "fGF0YMr7jkIi",
        "colab": {
          "base_uri": "https://localhost:8080/"
        },
        "outputId": "56c11fe6-9e11-42a5-ca09-583bc890ba56"
      },
      "source": [
        "import datetime\n",
        "from datetime import datetime\n",
        "import calendar\n",
        "\n",
        "def has_friday_13(value_month,value_year):\n",
        "    date = f'{value_month} 13 {value_year}'.format()\n",
        "    weekDayForThirteen = datetime.strptime(date, '%m %d %Y').weekday()\n",
        "    return (calendar.day_name[weekDayForThirteen]) == \"Friday\"\n",
        "\n",
        "try:\n",
        "    input_month = input(\"Please provide month :\")\n",
        "    input_year = input(\"Please provide year : \")\n",
        "    print(\"Result :\", has_friday_13(input_month,input_year))\n",
        "except:\n",
        "    print(\"Something went wrong , please try again\")"
      ],
      "execution_count": null,
      "outputs": [
        {
          "output_type": "stream",
          "name": "stdout",
          "text": [
            "Please provide month :1\n",
            "Please provide year : 1985\n",
            "Result : False\n"
          ]
        }
      ]
    },
    {
      "cell_type": "markdown",
      "source": [
        "```\n",
        "4. Write a regular expression that will help us count how many bad cookies are produced every day. \n",
        "You must use RegEx negative lookbehind.\n",
        "\n",
        "Example\n",
        "\n",
        "lst = [\"bad cookie\", \"good cookie\", \"bad cookie\", \"good cookie\", \"good cookie\"]\n",
        "pattern = \"yourregularexpressionhere\"\n",
        "\n",
        "len(re.findall(pattern, \", \".join(lst))) ➞ 2\n",
        "```"
      ],
      "metadata": {
        "id": "bPOihyvrq86a"
      }
    },
    {
      "cell_type": "code",
      "metadata": {
        "id": "eHX0CM0xjkoX",
        "colab": {
          "base_uri": "https://localhost:8080/"
        },
        "outputId": "1c6afb6a-66cf-40ff-8cd6-4f0fc99f1c78"
      },
      "source": [
        "import re\n",
        "lst = [\"bad cookie\", \"good cookie\", \"bad cookie\", \"good cookie\", \"good cookie\"]\n",
        "pattern = r\"bad cookie\"\n",
        "\n",
        "len(re.findall(pattern, \", \".join(lst)))"
      ],
      "execution_count": 6,
      "outputs": [
        {
          "output_type": "execute_result",
          "data": {
            "text/plain": [
              "2"
            ]
          },
          "metadata": {},
          "execution_count": 6
        }
      ]
    },
    {
      "cell_type": "markdown",
      "metadata": {
        "id": "LuNxo37_j4xs"
      },
      "source": [
        "5 . Given a list of words in the singular form, return a set of those words in the plural form if they appear more than once in the list."
      ]
    },
    {
      "cell_type": "code",
      "metadata": {
        "id": "CAc2VUTHj6wa",
        "colab": {
          "base_uri": "https://localhost:8080/"
        },
        "outputId": "3f5f9be3-d467-4959-c060-30e90545f29f"
      },
      "source": [
        "def pluralize(value_lst):\n",
        "    occurences_dict = {}\n",
        "    for i in value_lst:\n",
        "        if i in occurences_dict:\n",
        "            occurences_dict[i] += 1\n",
        "        else:\n",
        "            occurences_dict[i] = 1\n",
        "    print(occurences_dict)\n",
        "    plural_dict = []\n",
        "    for item in occurences_dict.items():\n",
        "        if item[1] > 1:\n",
        "            plural_dict.append(item[0]+'s')\n",
        "        else:\n",
        "            plural_dict.append(item[0])\n",
        "    print(plural_dict)\n",
        "\n",
        "pluralize([\"chair\", \"pencil\", \"arm\"])"
      ],
      "execution_count": null,
      "outputs": [
        {
          "output_type": "stream",
          "name": "stdout",
          "text": [
            "{'chair': 1, 'pencil': 1, 'arm': 1}\n",
            "['chair', 'pencil', 'arm']\n"
          ]
        }
      ]
    }
  ]
}
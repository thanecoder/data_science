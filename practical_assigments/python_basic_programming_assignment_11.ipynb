{
 "cells": [
  {
   "cell_type": "markdown",
   "metadata": {},
   "source": [
    "# Assignment 11"
   ]
  },
  {
   "cell_type": "markdown",
   "metadata": {},
   "source": [
    "#### Submitted By : Paritosh Nichat\n",
    "\n",
    "#### Date : July 18, 2021"
   ]
  },
  {
   "cell_type": "markdown",
   "metadata": {
    "id": "Gq8xgO5dEzpY"
   },
   "source": [
    "**1 . Write a Python program to find words which are greater than given length k?**"
   ]
  },
  {
   "cell_type": "code",
   "execution_count": 20,
   "metadata": {
    "id": "ZQpCGrGsEbyU"
   },
   "outputs": [
    {
     "name": "stdout",
     "output_type": "stream",
     "text": [
      "Enter first string, a : alice in wonderland throw baseball\n",
      "Enter the length k : 5\n",
      "Words greater than length 5 :  ['wonderland', 'baseball']\n"
     ]
    }
   ],
   "source": [
    "import re\n",
    "\n",
    "string_a = input(\"Enter first string, a : \")\n",
    "length_k = int(input(\"Enter the length k : \"))\n",
    "\n",
    "wordMatchRegex = re.compile(r\"\\w+\")\n",
    "\n",
    "list_a = wordMatchRegex.findall(string_a)\n",
    "\n",
    "result_list = [i for i in list_a if len(i) > length_k]\n",
    "\n",
    "print(\"Words greater than length {} : \".format(str(length_k)),result_list)"
   ]
  },
  {
   "cell_type": "markdown",
   "metadata": {
    "id": "pJi1nscYE3RN"
   },
   "source": [
    "**2 . Write a Python program for removing i-th character from a string?**"
   ]
  },
  {
   "cell_type": "code",
   "execution_count": 15,
   "metadata": {
    "id": "ALTNjajtE6f0"
   },
   "outputs": [
    {
     "name": "stdout",
     "output_type": "stream",
     "text": [
      "Please enter the input string : alice throws baseball\n",
      "Please enter the value of i : 5\n",
      "Result :  alicethrows baseball\n"
     ]
    }
   ],
   "source": [
    "try:\n",
    "    input_str = input(\"Please enter the input string : \")\n",
    "    i_input = int(input(\"Please enter the value of i : \"))\n",
    "    result_str = input_str[:i_input]+input_str[i_input+1:]\n",
    "    print(\"Result : \",result_str)\n",
    "except:\n",
    "    print(\"Please provide a valid input\")"
   ]
  },
  {
   "cell_type": "markdown",
   "metadata": {
    "id": "y6GqyayWFEcv"
   },
   "source": [
    "**3 . Write a Python program to split and join a string?**"
   ]
  },
  {
   "cell_type": "code",
   "execution_count": 13,
   "metadata": {
    "id": "_8W1ZzFQFHT9"
   },
   "outputs": [
    {
     "name": "stdout",
     "output_type": "stream",
     "text": [
      "Please enter the input string : szjfsa jhsbhs  hv vdhv hdvh sd\n",
      "Splitted Result :  ['szjfsa', 'jhsbhs', 'hv', 'vdhv', 'hdvh', 'sd']\n",
      "Joined Result :  szjfsa jhsbhs hv vdhv hdvh sd\n"
     ]
    }
   ],
   "source": [
    "try:\n",
    "    input_str = input(\"Please enter the input string : \")\n",
    "    split_list = input_str.split()\n",
    "    print(\"Splitted Result : \",split_list)\n",
    "    result_string = \" \".join(split_list)\n",
    "    print(\"Joined Result : \",result_string)\n",
    "except:\n",
    "    print(\"Please provide a valid input\")"
   ]
  },
  {
   "cell_type": "markdown",
   "metadata": {
    "id": "sq96oMIZFKfi"
   },
   "source": [
    "**4 . Write a Python to check if a given string is binary string or not?**"
   ]
  },
  {
   "cell_type": "code",
   "execution_count": 3,
   "metadata": {
    "id": "MI30uXNZFNnZ"
   },
   "outputs": [
    {
     "name": "stdout",
     "output_type": "stream",
     "text": [
      "Please enter the input string : 0110101010100011100001\n",
      "Result : This string is a binary string.\n"
     ]
    }
   ],
   "source": [
    "# To use regex, below module is needed\n",
    "import re\n",
    "\n",
    "# create a Regex object\n",
    "binaryCharRegex = re.compile('[(01)]')\n",
    "\n",
    "try:\n",
    "    input_str = input(\"Please enter the input string : \")\n",
    "    search_result = binaryCharRegex.findall(input_str)\n",
    "    if len(search_result) == len(input_str):\n",
    "        print(\"Result : This string is a binary string.\")\n",
    "    else:\n",
    "        print(\"Result : This string is not a binary string.\")\n",
    "except:\n",
    "    print(\"Sorry, looks like something went wrong.\")"
   ]
  },
  {
   "cell_type": "markdown",
   "metadata": {
    "id": "X_ezcHZZFN-l"
   },
   "source": [
    "**5 . Write a Python program to find uncommon words from two Strings?**"
   ]
  },
  {
   "cell_type": "code",
   "execution_count": 7,
   "metadata": {
    "id": "2-ygDUMIFRLv"
   },
   "outputs": [
    {
     "name": "stdout",
     "output_type": "stream",
     "text": [
      "Enter first string, a : carol throws baseball\n",
      "Enter second string, b : alice throws baseball in wonderland\n",
      "All Uncommon Words in the two strings are :  ['carol', 'in', 'wonderland', 'alice']\n"
     ]
    }
   ],
   "source": [
    "import re\n",
    "\n",
    "string_a = input(\"Enter first string, a : \")\n",
    "string_b = input(\"Enter second string, b : \")\n",
    "\n",
    "wordMatchRegex = re.compile(r\"\\w+\")\n",
    "\n",
    "list_a = wordMatchRegex.findall(string_a)\n",
    "list_b = wordMatchRegex.findall(string_b)\n",
    "\n",
    "uncommon_words = []\n",
    "uncommon_words.extend(set(list_a) - set(list_b))\n",
    "uncommon_words.extend(set(list_b) - set(list_a))\n",
    "\n",
    "print(\"All Uncommon Words in the two strings are : \",uncommon_words)"
   ]
  },
  {
   "cell_type": "markdown",
   "metadata": {
    "id": "rkwlrbFGFRpL"
   },
   "source": [
    "**6 . Write a Python to find all duplicate characters in string?**"
   ]
  },
  {
   "cell_type": "code",
   "execution_count": 9,
   "metadata": {
    "id": "XhcvRwbdFUib"
   },
   "outputs": [
    {
     "name": "stdout",
     "output_type": "stream",
     "text": [
      "Enter the input string : afgdeabedio\n",
      "All duplicate characters in the string are :  ['a', 'd', 'e']\n"
     ]
    }
   ],
   "source": [
    "string_a = input(\"Enter the input string : \")\n",
    "occurences_dict = {}\n",
    "\n",
    "for i in string_a:\n",
    "    if i in occurences_dict:\n",
    "        occurences_dict[i] += 1\n",
    "    else:\n",
    "        occurences_dict[i] = 1\n",
    "\n",
    "print(\"All duplicate characters in the string are : \",[i for i in occurences_dict if occurences_dict[i] > 1])"
   ]
  },
  {
   "cell_type": "markdown",
   "metadata": {
    "id": "XBXwc-xqFU97"
   },
   "source": [
    "**7 . Write a Python Program to check if a string contains any special character?**"
   ]
  },
  {
   "cell_type": "code",
   "execution_count": 15,
   "metadata": {
    "id": "PANwqea9FYRc"
   },
   "outputs": [
    {
     "name": "stdout",
     "output_type": "stream",
     "text": [
      "Please enter the string which is to be searched for special chars : Carol throws baseballs.\n",
      "Result : This string has special characters.\n"
     ]
    }
   ],
   "source": [
    "# To use regex, below module is needed\n",
    "import re\n",
    "\n",
    "# create a Regex object\n",
    "specialCharRegex = re.compile('[.@_!#$%^&*()<>?/\\|}{~:]')\n",
    "\n",
    "try:\n",
    "    input_str = input(\"Please enter the string which is to be searched for special chars : \")\n",
    "\n",
    "    search_result = specialCharRegex.search(input_str)\n",
    "\n",
    "    if search_result == None:\n",
    "        print(\"Result : This string does not have any special characters.\")\n",
    "    else:\n",
    "        print(\"Result : This string has special characters.\")\n",
    "except:\n",
    "    print(\"Sorry, looks like something went wrong.\")"
   ]
  }
 ],
 "metadata": {
  "colab": {
   "authorship_tag": "ABX9TyNjoNbUJVYZWoPQ8Cq3bryQ",
   "collapsed_sections": [],
   "name": "python_basic_programming_assignment_11",
   "provenance": []
  },
  "kernelspec": {
   "display_name": "Python 3",
   "language": "python",
   "name": "python3"
  },
  "language_info": {
   "codemirror_mode": {
    "name": "ipython",
    "version": 3
   },
   "file_extension": ".py",
   "mimetype": "text/x-python",
   "name": "python",
   "nbconvert_exporter": "python",
   "pygments_lexer": "ipython3",
   "version": "3.8.5"
  }
 },
 "nbformat": 4,
 "nbformat_minor": 1
}

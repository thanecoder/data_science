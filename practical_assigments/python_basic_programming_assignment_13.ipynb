{
 "cells": [
  {
   "cell_type": "markdown",
   "metadata": {
    "id": "cGsn_j7YF3jj"
   },
   "source": [
    "# Assignment 13"
   ]
  },
  {
   "cell_type": "markdown",
   "metadata": {
    "id": "sB7x2RSqF5-s"
   },
   "source": [
    "#### Submitted By : Paritosh Nichat\n",
    "\n",
    "#### Date : July 18, 2021"
   ]
  },
  {
   "cell_type": "markdown",
   "metadata": {
    "id": "mBbq2m9_bDjY"
   },
   "source": [
    "1 . Write a program that calculates and prints the value according to the given formula:\n",
    "\n",
    "Q = Square root of [(2 * C * D)/H]\n",
    "\n",
    "Following are the fixed values of C and H:\n",
    "\n",
    "C is 50. H is 30.\n",
    "\n",
    "D is the variable whose values should be input to your program in a comma-separated\n",
    "sequence.\n",
    "\n",
    "Example\n",
    "\n",
    "Let us assume the following comma separated input sequence is given to the program:\n",
    "\n",
    "100,150,180\n",
    "\n",
    "The output of the program should be:\n",
    "\n",
    "18,22,24"
   ]
  },
  {
   "cell_type": "code",
   "execution_count": null,
   "metadata": {
    "colab": {
     "base_uri": "https://localhost:8080/"
    },
    "id": "O6ntfMKfa9Uy",
    "outputId": "ca6ebff7-f319-4bc3-9eae-f78861b608ea"
   },
   "outputs": [
    {
     "name": "stdout",
     "output_type": "stream",
     "text": [
      "Please enter the value/s of D(comma-separated) : 100,150,180\n",
      "Result :  [18, 22, 24]\n"
     ]
    }
   ],
   "source": [
    "def calculate_using_formula(value_d):\n",
    "    constant_c = 50\n",
    "    constant_h = 30\n",
    "    output_q = ((2 * constant_c * value_d)/constant_h) ** 0.5\n",
    "    return round(output_q)\n",
    "\n",
    "try:\n",
    "    input_d = input(\"Please enter the value/s of D(comma-separated) : \")\n",
    "    array_d = input_d.split(\",\")\n",
    "    output_list = []\n",
    "    for i in range(0, len(array_d)):\n",
    "        output_list.append(calculate_using_formula(int(array_d[i])))\n",
    "    print('Result : ',output_list)\n",
    "except:\n",
    "    print(\"Error occured, please check the value of D\")"
   ]
  },
  {
   "cell_type": "markdown",
   "metadata": {
    "id": "Xnnh5eqMmkkT"
   },
   "source": [
    "2 . Write a program which takes 2 digits, X,Y as input and generates a 2-dimensional array. \n",
    "The element value in the i-th row and j-th column of the array should be i*j.\n",
    "\n",
    "Note: i=0,1.., X-1; j=0,1,¡Y-1.\n",
    "\n",
    "Example\n",
    "\n",
    "Suppose the following inputs are given to the program:\n",
    "\n",
    "3,5\n",
    "\n",
    "Then, the output of the program should be:\n",
    "\n",
    "[[0, 0, 0, 0, 0], [0, 1, 2, 3, 4], [0, 2, 4, 6, 8]]"
   ]
  },
  {
   "cell_type": "code",
   "execution_count": null,
   "metadata": {
    "colab": {
     "base_uri": "https://localhost:8080/"
    },
    "id": "qk2MEeu4mj3h",
    "outputId": "eecf2140-8c25-4fc0-c6aa-331fba6a40bb"
   },
   "outputs": [
    {
     "name": "stdout",
     "output_type": "stream",
     "text": [
      "Please enter the numeric input X and Y : 3,5\n",
      "Result :  [[0, 0, 0, 0, 0], [0, 1, 2, 3, 4], [0, 2, 4, 6, 8]]\n"
     ]
    }
   ],
   "source": [
    "def create_two_dim_matrix(value_x,value_y):\n",
    "    result_matrix = [[i*y for y in range(0, int(value_y))] for i in range(0, int(value_x))]\n",
    "    return result_matrix\n",
    "\n",
    "try:\n",
    "    input_values = input(\"Please enter the numeric input X and Y : \")\n",
    "    input_values = input_values.split(\",\")\n",
    "    print(\"Result : \",create_two_dim_matrix(input_values[0],input_values[1]))\n",
    "except:\n",
    "    print(\"Error occured, please provide numeric input for X and Y.\")"
   ]
  },
  {
   "cell_type": "markdown",
   "metadata": {
    "id": "GSYm5z4_9dOh"
   },
   "source": [
    "3 . Write a program that accepts a comma separated sequence of words as input and prints the words in a comma-separated sequence after sorting them alphabetically.\n",
    "\n",
    "Suppose the following input is supplied to the program:\n",
    "\n",
    "without,hello,bag,world\n",
    "\n",
    "Then, the output should be:\n",
    "\n",
    "bag,hello,without,world"
   ]
  },
  {
   "cell_type": "code",
   "execution_count": 1,
   "metadata": {
    "colab": {
     "base_uri": "https://localhost:8080/"
    },
    "id": "efkfpnVi9qUh",
    "outputId": "1c823984-e06f-4b8f-cc63-cc7fed3674bf"
   },
   "outputs": [
    {
     "name": "stdout",
     "output_type": "stream",
     "text": [
      "Please enter a comma-separated sequence of words : without,hello,bag,world\n",
      "Result :  bag,hello,without,world\n"
     ]
    }
   ],
   "source": [
    "def sort_words_in_list(value_list):\n",
    "    value_list.sort()\n",
    "    value_str = \",\".join(value_list)\n",
    "    return value_str\n",
    "\n",
    "try:\n",
    "    input_str = input(\"Please enter a comma-separated sequence of words : \")\n",
    "    input_list = input_str.split(\",\")\n",
    "    result_str = sort_words_in_list(input_list)\n",
    "    print(\"Result : \",result_str)\n",
    "except:\n",
    "    print(\"Oops, something went wrong, please try again.\")"
   ]
  },
  {
   "cell_type": "markdown",
   "metadata": {
    "id": "gsM1Tg-yEi_W"
   },
   "source": [
    "4 . Write a program that accepts a sequence of whitespace separated words as input and prints\n",
    "the words after removing all duplicate words and sorting them alphanumerically.\n",
    "\n",
    "Suppose the following input is supplied to the program:\n",
    "\n",
    "hello world and practice makes perfect and hello world again\n",
    "\n",
    "Then, the output should be:\n",
    "\n",
    "again and hello makes perfect practice world"
   ]
  },
  {
   "cell_type": "code",
   "execution_count": 2,
   "metadata": {
    "colab": {
     "base_uri": "https://localhost:8080/"
    },
    "id": "Tb8yI5wTEis1",
    "outputId": "b7c298a4-738a-4144-cd9d-d76c18f174a9"
   },
   "outputs": [
    {
     "name": "stdout",
     "output_type": "stream",
     "text": [
      "Please enter a whitespace-separated sequence of words : hello world and practice makes perfect and hello world again\n",
      "Result : again and hello makes perfect practice world\n"
     ]
    }
   ],
   "source": [
    "def remove_duplicates_from_list(value_list):\n",
    "    result_set = set(value_list)\n",
    "    return list(result_set)\n",
    "\n",
    "def sort_words_in_list(value_list):\n",
    "    value_list.sort()\n",
    "    value_str = \" \".join(value_list)\n",
    "    return value_str\n",
    "\n",
    "try:\n",
    "    input_str = input(\"Please enter a whitespace-separated sequence of words : \")\n",
    "    input_list = input_str.split(\" \")\n",
    "    input_list = remove_duplicates_from_list(input_list)\n",
    "\n",
    "    result_str = sort_words_in_list(input_list)\n",
    "\n",
    "    print(\"Result : \" + result_str)\n",
    "except:\n",
    "    print(\"Error occured , please check the input once\")"
   ]
  },
  {
   "cell_type": "markdown",
   "metadata": {
    "id": "2DeiXZpNHo7-"
   },
   "source": [
    "5 . Write a program that accepts a sentence and calculate the number of letters and digits.Suppose the following input is supplied to the program:\n",
    "\n",
    "hello world! 123\n",
    "\n",
    "Then, the output should be:\n",
    "\n",
    "LETTERS 10\n",
    "\n",
    "DIGITS 3"
   ]
  },
  {
   "cell_type": "code",
   "execution_count": null,
   "metadata": {
    "colab": {
     "base_uri": "https://localhost:8080/"
    },
    "id": "6B4UFs79HvZa",
    "outputId": "3cd541c9-c808-4d00-aed9-c69aac0b26e9"
   },
   "outputs": [
    {
     "name": "stdout",
     "output_type": "stream",
     "text": [
      "Please enter a sentence for which you want the letters and digit : hello world! 123\n",
      "LETTERS  10\n",
      "DIGITS  3\n"
     ]
    }
   ],
   "source": [
    "import re\n",
    "\n",
    "def count_letters_digits_in_sting(value_str):\n",
    "    count_of_letters_digits = {\n",
    "        'LETTERS':0,\n",
    "        'DIGITS':0\n",
    "    }\n",
    "    lettersRegex = re.compile(r\"[a-zA-Z]\")\n",
    "    numbersRegex = re.compile(r\"[0-9]\")\n",
    "    lettersStr = re.findall(lettersRegex,value_str)\n",
    "    count_of_letters_digits['LETTERS'] = len(lettersStr)\n",
    "    numbersStr = re.findall(numbersRegex,value_str)\n",
    "    count_of_letters_digits['DIGITS'] = len(numbersStr)\n",
    "    return count_of_letters_digits\n",
    "\n",
    "try:\n",
    "    input_str = input(\"Please enter a sentence for which you want the letters and digit : \")\n",
    "    letters_digits_count = count_letters_digits_in_sting(input_str)\n",
    "    print(\"LETTERS \",letters_digits_count['LETTERS'])\n",
    "    print(\"DIGITS \",letters_digits_count['DIGITS'])\n",
    "except:\n",
    "    print(\"Error occured, please check the input sentence once.\")"
   ]
  },
  {
   "cell_type": "markdown",
   "metadata": {
    "id": "MaS4w8NMIzq9"
   },
   "source": [
    "6 . A website requires the users to input username and password to register. Write a program to\n",
    "check the validity of password input by users.\n",
    "\n",
    "Following are the criteria for checking the password:\n",
    "\n",
    "1. At least 1 letter between [a-z]\n",
    "\n",
    "2. At least 1 number between [0-9]\n",
    "\n",
    "3. At least 1 letter between [A-Z]\n",
    "\n",
    "4. At least 1 character from [$#@]\n",
    "\n",
    "5. Minimum length of transaction password: 6\n",
    "\n",
    "6. Maximum length of transaction password: 12\n",
    "\n",
    "Your program should accept a sequence of comma separated passwords and will check them\n",
    "according to the above criteria. Passwords that match the criteria are to be printed, each\n",
    "separated by a comma.\n",
    "\n",
    "Example\n",
    "\n",
    "If the following passwords are given as input to the program:\n",
    "\n",
    "ABd1234@1,a F1#,2w3E*,2We3345\n",
    "\n",
    "Then, the output of the program should be:\n",
    "\n",
    "ABd1234@1"
   ]
  },
  {
   "cell_type": "code",
   "execution_count": null,
   "metadata": {
    "colab": {
     "base_uri": "https://localhost:8080/"
    },
    "id": "uAxhPjQKI0ql",
    "outputId": "1bc49d5c-5c54-424d-933e-b73d7f0bb42b"
   },
   "outputs": [
    {
     "name": "stdout",
     "output_type": "stream",
     "text": [
      "Please enter comma-separated passwords : ABd1234@1,a F1#,2w3E*,2We3345\n",
      "Result :  ABd1234@1\n"
     ]
    }
   ],
   "source": [
    "import re\n",
    "\n",
    "def check_if_valid_password(input_password):\n",
    "    passwordRegEx = re.compile(r'^(?=.*?[A-Z])(?=.*?[a-z])(?=.*?[0-9])(?=.*?[$#@]).{6,12}$')\n",
    "    if re.match(passwordRegEx, input_password):\n",
    "        return True\n",
    "    else:\n",
    "        return False\n",
    "\n",
    "\n",
    "try:\n",
    "    passwordsString = input(\"Please enter comma-separated passwords : \")\n",
    "    passwordsList = passwordsString.split(\",\")\n",
    "    validPasswordsStr = ''\n",
    "    for i in range(0, len(passwordsList)):\n",
    "        if check_if_valid_password(passwordsList[i]):\n",
    "            if len(validPasswordsStr) > 0:\n",
    "                validPasswordsStr = validPasswordsStr + \",\" + passwordsList[i]\n",
    "            else:\n",
    "                validPasswordsStr = passwordsList[i]\n",
    "    \n",
    "    print(\"Result : \",validPasswordsStr)\n",
    "except:\n",
    "    print(\"Error occured, please check the input once\")"
   ]
  }
 ],
 "metadata": {
  "colab": {
   "collapsed_sections": [],
   "name": "python_basic_programming_assignment_13",
   "provenance": []
  },
  "kernelspec": {
   "display_name": "Python 3",
   "language": "python",
   "name": "python3"
  },
  "language_info": {
   "codemirror_mode": {
    "name": "ipython",
    "version": 3
   },
   "file_extension": ".py",
   "mimetype": "text/x-python",
   "name": "python",
   "nbconvert_exporter": "python",
   "pygments_lexer": "ipython3",
   "version": "3.8.5"
  }
 },
 "nbformat": 4,
 "nbformat_minor": 1
}

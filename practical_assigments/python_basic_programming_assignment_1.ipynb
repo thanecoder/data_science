{
 "cells": [
  {
   "cell_type": "markdown",
   "metadata": {},
   "source": [
    "# Assignment 1"
   ]
  },
  {
   "cell_type": "markdown",
   "metadata": {},
   "source": [
    "#### Submitted By : Paritosh Nichat\n",
    "#### Date : April 02, 2021"
   ]
  },
  {
   "cell_type": "markdown",
   "metadata": {},
   "source": [
    "**1 . Write a Python program to print \"Hello Python\"?**"
   ]
  },
  {
   "cell_type": "code",
   "execution_count": 5,
   "metadata": {},
   "outputs": [
    {
     "name": "stdout",
     "output_type": "stream",
     "text": [
      "Hello Python\n"
     ]
    }
   ],
   "source": [
    "print(\"Hello Python\")"
   ]
  },
  {
   "cell_type": "markdown",
   "metadata": {},
   "source": [
    "**2 . Write a Python program to do arithmetical operations addition and division.?**"
   ]
  },
  {
   "cell_type": "code",
   "execution_count": 7,
   "metadata": {},
   "outputs": [
    {
     "name": "stdout",
     "output_type": "stream",
     "text": [
      "Enter first number : 45\n",
      "Enter second number : 0\n",
      "Sum of first number and second number is : 45.0\n",
      "Cannot do first number / second number, since that is division by zero\n",
      "Result of second number / first number  is : 0.0\n"
     ]
    }
   ],
   "source": [
    "# Get input numbers from user\n",
    "a = float(input(\"Enter first number : \"))\n",
    "b = float(input(\"Enter second number : \"))\n",
    "\n",
    "# Addition result\n",
    "sumResult = a+b\n",
    "print(\"Sum of first number and second number is : \",end=\"\")\n",
    "print(sumResult)\n",
    "\n",
    "# Division result\n",
    "if(b == 0):\n",
    "    print(\"Cannot do first number / second number, since that is division by zero\")\n",
    "else:\n",
    "    one_division_result = a/b\n",
    "    print(\"Result of first number / second number is : \",end=\"\")\n",
    "    print(one_division_result)\n",
    "if(a == 0):\n",
    "    print(\"Cannot do second number / first number, since that is division by zero\")\n",
    "else:\n",
    "    two_division_result = b/a\n",
    "    print(\"Result of second number / first number  is : \",end=\"\")\n",
    "    print(two_division_result)"
   ]
  },
  {
   "cell_type": "markdown",
   "metadata": {},
   "source": [
    "**3 . Write a Python program to find the area of a triangle?**"
   ]
  },
  {
   "cell_type": "code",
   "execution_count": 3,
   "metadata": {},
   "outputs": [
    {
     "name": "stdout",
     "output_type": "stream",
     "text": [
      "Enter value for base of triangle : 23\n",
      "Enter value for height of triangle : 45\n",
      "Area of triangle is : 517.5\n"
     ]
    }
   ],
   "source": [
    "# Get the inputs for Base and Height of Triangle\n",
    "base = float(input(\"Enter value for base of triangle : \"))\n",
    "height = float(input(\"Enter value for height of triangle : \"))\n",
    "\n",
    "# Area of triangle is 0.5 * base of triangle * height of triangle\n",
    "area_of_triangle = 0.5 * base * height\n",
    "\n",
    "print(\"Area of triangle is : {}\".format(str(area_of_triangle)))"
   ]
  },
  {
   "cell_type": "markdown",
   "metadata": {},
   "source": [
    "**4 . Write a Python program to swap two variables?**"
   ]
  },
  {
   "cell_type": "code",
   "execution_count": 1,
   "metadata": {},
   "outputs": [
    {
     "name": "stdout",
     "output_type": "stream",
     "text": [
      "Enter first number a: 23\n",
      "Enter second number b: 789\n",
      "Input Variables\n",
      "a is : 23\n",
      "b is : 789\n",
      "Variables Swapped\n",
      "a is : 789\n",
      "b is : 23\n"
     ]
    }
   ],
   "source": [
    "# Get the two inputs from user\n",
    "a = int(input(\"Enter first number a: \"))\n",
    "b = int(input(\"Enter second number b: \"))\n",
    "print(\"Input Variables\")\n",
    "print(\"a is : \"+str(a))\n",
    "print(\"b is : \"+str(b))\n",
    "\n",
    "# Swapping operation\n",
    "a = a + b\n",
    "b = a - b\n",
    "a = a - b\n",
    "\n",
    "print(\"Variables Swapped\")\n",
    "print(\"a is : \"+str(a))\n",
    "print(\"b is : \"+str(b))"
   ]
  },
  {
   "cell_type": "markdown",
   "metadata": {},
   "source": [
    "**5 . Write a Python program to generate a random number?**"
   ]
  },
  {
   "cell_type": "code",
   "execution_count": 132,
   "metadata": {},
   "outputs": [
    {
     "name": "stdout",
     "output_type": "stream",
     "text": [
      "Generated random number : 322\n"
     ]
    }
   ],
   "source": [
    "import random as rd\n",
    "\n",
    "just_a_random_no = rd.randint(0,1000)\n",
    "\n",
    "print(\"Generated random number : {}\".format(str(just_a_random_no)))"
   ]
  }
 ],
 "metadata": {
  "kernelspec": {
   "display_name": "Python 3",
   "language": "python",
   "name": "python3"
  },
  "language_info": {
   "codemirror_mode": {
    "name": "ipython",
    "version": 3
   },
   "file_extension": ".py",
   "mimetype": "text/x-python",
   "name": "python",
   "nbconvert_exporter": "python",
   "pygments_lexer": "ipython3",
   "version": "3.8.5"
  }
 },
 "nbformat": 4,
 "nbformat_minor": 4
}

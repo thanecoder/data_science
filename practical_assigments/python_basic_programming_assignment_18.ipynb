{
 "cells": [
  {
   "cell_type": "markdown",
   "metadata": {
    "id": "6keSm4PCgz7U"
   },
   "source": [
    "# Assignment 18"
   ]
  },
  {
   "cell_type": "markdown",
   "metadata": {
    "id": "ZFpx-Wkcg2Ga"
   },
   "source": [
    "#### Submitted By : Paritosh Nichat\n",
    "\n",
    "#### Date : July 22, 2021"
   ]
  },
  {
   "cell_type": "markdown",
   "metadata": {
    "id": "6WdVAZgehs5U"
   },
   "source": [
    "1 . Create a function that takes a list of non-negative integers and strings and return a new list without the strings.Examples\n",
    "\n",
    "filter_list([1, 2, \"a\", \"b\"]) ➞ [1, 2]\n",
    "\n",
    "filter_list([1, \"a\", \"b\", 0, 15]) ➞ [1, 0, 15]\n",
    "\n",
    "filter_list([1, 2, \"aasf\", \"1\", \"123\", 123]) ➞ [1, 2, 123]"
   ]
  },
  {
   "cell_type": "code",
   "execution_count": 2,
   "metadata": {
    "colab": {
     "base_uri": "https://localhost:8080/"
    },
    "id": "KPP11qJVhsVR",
    "outputId": "06240721-2a9e-42f2-8f61-820ad6f7680a"
   },
   "outputs": [
    {
     "name": "stdout",
     "output_type": "stream",
     "text": [
      "[1, 2]\n",
      "[1, 0, 15]\n",
      "[1, 2, 123]\n"
     ]
    }
   ],
   "source": [
    "def filter_list(value_list):\n",
    "    output_list = []\n",
    "    for i in value_list:\n",
    "        if type(i) == int and i >= 0:\n",
    "            output_list.append(i)\n",
    "    \n",
    "    return output_list\n",
    "\n",
    "print(filter_list([1, 2, \"a\", \"b\"]))\n",
    "print(filter_list([1, \"a\", \"b\", 0, 15]))\n",
    "print(filter_list([1, 2, \"aasf\", \"1\", \"123\", 123]))"
   ]
  },
  {
   "cell_type": "markdown",
   "metadata": {
    "id": "U1-YJ7Guh2Ew"
   },
   "source": [
    "2 . The \"Reverser\" takes a string as input and returns that string in reverse order, with the opposite case.Examples\n",
    "\n",
    "reverse(\"Hello World\") ➞ \"DLROw OLLEh\"\n",
    "\n",
    "reverse(\"ReVeRsE\") ➞ \"eSrEvEr\"\n",
    "\n",
    "reverse(\"Radar\") ➞ \"RADAr\""
   ]
  },
  {
   "cell_type": "code",
   "execution_count": 12,
   "metadata": {
    "colab": {
     "base_uri": "https://localhost:8080/"
    },
    "id": "3HtMuSfWh5JM",
    "outputId": "69dee57b-f5f6-49e4-9481-7e9bea6e3137"
   },
   "outputs": [
    {
     "name": "stdout",
     "output_type": "stream",
     "text": [
      "Please provide input string : Radar\n",
      "Result :  RADAr\n"
     ]
    }
   ],
   "source": [
    "def reverse(value_str):\n",
    "    value_str = value_str[::-1]\n",
    "    output_str = ''\n",
    "    for i in value_str:\n",
    "        if ord(i) <= 90 and ord(i) >= 65:\n",
    "            output_str += chr(ord(i)+32)\n",
    "        elif ord(i) <= 122 and ord(i) >= 97:\n",
    "            output_str += chr(ord(i)-32)\n",
    "        else:\n",
    "            output_str += i\n",
    "    \n",
    "    return output_str\n",
    "\n",
    "try:\n",
    "    input_str = input(\"Please provide input string : \")\n",
    "    print(\"Result : \", reverse(input_str))\n",
    "except:\n",
    "    print(\"Error occured, please try again\")"
   ]
  },
  {
   "cell_type": "markdown",
   "metadata": {
    "id": "N_l5_lcvh5bW"
   },
   "source": [
    "3 . You can assign variables from lists like this:\n",
    "\n",
    "lst = [1, 2, 3, 4, 5, 6]\n",
    "\n",
    "first = lst[0]\n",
    "\n",
    "middle = lst[1:-1]\n",
    "\n",
    "last = lst[-1]\n",
    "\n",
    "print(first) ➞ outputs 1\n",
    "\n",
    "print(middle) ➞ outputs [2, 3, 4, 5]\n",
    "\n",
    "print(last) ➞ outputs 6\n",
    "\n",
    "With Python 3, you can assign variables from lists in a much more succinct way. \n",
    "\n",
    "Create variables first, middle and last from the given list using destructuring assignment (check the Resources tab for some examples), where:\n",
    "\n",
    "first  ➞ 1\n",
    "\n",
    "middle ➞ [2, 3, 4, 5]\n",
    "\n",
    "last ➞ 6\n",
    "\n",
    "Your task is to unpack the list writeyourcodehere into three variables, being first, middle, and last, with middle being everything in between the first and last element. Then print all three variables."
   ]
  },
  {
   "cell_type": "code",
   "execution_count": 1,
   "metadata": {
    "id": "uP9d05sAiKRJ"
   },
   "outputs": [
    {
     "name": "stdout",
     "output_type": "stream",
     "text": [
      "w\n",
      "['r', 'i', 't', 'e', 'y', 'o', 'u', 'r', 'c', 'o', 'd', 'e', 'h', 'e', 'r']\n",
      "e\n"
     ]
    }
   ],
   "source": [
    "input_list = list(\"writeyourcodehere\")\n",
    "first, *middle, last = input_list\n",
    "print(first)\n",
    "print(middle)\n",
    "print(last)"
   ]
  },
  {
   "cell_type": "markdown",
   "metadata": {
    "id": "zeJggT98icP7"
   },
   "source": [
    "4 . Write a function that calculates the factorial of a number recursively.Examples\n",
    "\n",
    "factorial(5) ➞ 120\n",
    "\n",
    "factorial(3) ➞ 6\n",
    "\n",
    "factorial(1) ➞ 1\n",
    "\n",
    "factorial(0) ➞ 1"
   ]
  },
  {
   "cell_type": "code",
   "execution_count": 10,
   "metadata": {
    "colab": {
     "base_uri": "https://localhost:8080/"
    },
    "id": "hTPHXJYEih0-",
    "outputId": "020418d6-b1e0-44db-9146-b7083c8d0376"
   },
   "outputs": [
    {
     "name": "stdout",
     "output_type": "stream",
     "text": [
      "Enter a number for which factorial is to be found : 5\n",
      "Factorial(5) => 120\n"
     ]
    }
   ],
   "source": [
    "def factorial(a):\n",
    "    if a == 1:\n",
    "        return a\n",
    "    elif a == 0:\n",
    "        return 1\n",
    "    else:\n",
    "        return a * factorial(a-1)\n",
    "\n",
    "try:\n",
    "    # Get input from user\n",
    "    input_number = int(input(\"Enter a number for which factorial is to be found : \"))\n",
    "    result = factorial(input_number)\n",
    "    print(\"Factorial({}) => {}\".format(str(input_number),str(result)))\n",
    "except:\n",
    "    print(\"Error occured, please check the input once\")"
   ]
  },
  {
   "cell_type": "markdown",
   "metadata": {
    "id": "Tvh6_jUQihKR"
   },
   "source": [
    "5 . Write a function that moves all elements of one type to the end of the list.Examples\n",
    "\n",
    "move_to_end([1, 3, 2, 4, 4, 1], 1) ➞ [3, 2, 4, 4, 1, 1]\n",
    "\n",
    "\\# Move all the 1s to the end of the array.\n",
    "\n",
    "move_to_end([7, 8, 9, 1, 2, 3, 4], 9) ➞ [7, 8, 1, 2, 3, 4, 9]\n",
    "\n",
    "move_to_end([\"a\", \"a\", \"a\", \"b\"], \"a\") ➞ [\"b\", \"a\", \"a\", \"a\"]"
   ]
  },
  {
   "cell_type": "code",
   "execution_count": 9,
   "metadata": {
    "colab": {
     "base_uri": "https://localhost:8080/"
    },
    "id": "ODEXsMUSio4f",
    "outputId": "2d3150e8-9d42-4d86-a472-6855ea6dfdf6"
   },
   "outputs": [
    {
     "name": "stdout",
     "output_type": "stream",
     "text": [
      "Please provide the input list : 7,8,9,1,2,3,4\n",
      "Please provide the input element : 9\n",
      "Result :  ['7', '8', '1', '2', '3', '4', '9']\n"
     ]
    }
   ],
   "source": [
    "def move_to_end(value_list, value_elem):\n",
    "    for i in value_list:\n",
    "        if i == value_elem:\n",
    "            value_list.remove(i)\n",
    "            value_list.append(value_elem)\n",
    "    \n",
    "    return value_list\n",
    "\n",
    "try:\n",
    "    input_list = input(\"Please provide the input list : \")\n",
    "    input_elem = input(\"Please provide the input element : \")\n",
    "    input_list = input_list.split(\",\")\n",
    "    print(\"Result : \",move_to_end(input_list,input_elem))\n",
    "except:\n",
    "    print(\"Error occured, please try again\")"
   ]
  }
 ],
 "metadata": {
  "colab": {
   "collapsed_sections": [],
   "name": "python_basic_programming_assignment_18",
   "provenance": []
  },
  "kernelspec": {
   "display_name": "Python 3",
   "language": "python",
   "name": "python3"
  },
  "language_info": {
   "codemirror_mode": {
    "name": "ipython",
    "version": 3
   },
   "file_extension": ".py",
   "mimetype": "text/x-python",
   "name": "python",
   "nbconvert_exporter": "python",
   "pygments_lexer": "ipython3",
   "version": "3.8.5"
  }
 },
 "nbformat": 4,
 "nbformat_minor": 1
}

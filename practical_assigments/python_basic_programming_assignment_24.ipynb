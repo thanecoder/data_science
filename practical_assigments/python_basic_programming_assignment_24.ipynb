{
 "cells": [
  {
   "cell_type": "markdown",
   "metadata": {
    "id": "r7PTzMx5EYF8"
   },
   "source": [
    "# Assignment 24"
   ]
  },
  {
   "cell_type": "markdown",
   "metadata": {
    "id": "OsvE4MFxEa8b"
   },
   "source": [
    "#### Submitted By : Paritosh Nichat\n",
    "\n",
    "#### Date : July 22,2021"
   ]
  },
  {
   "cell_type": "markdown",
   "metadata": {
    "id": "BoW_3LDw3yOR"
   },
   "source": [
    "1 . Create a function that takes an integer and returns a list from 1 to the given number, where:\n",
    "If the number can be divided evenly by 4, amplify it by 10 (i.e. return 10 times the number).\n",
    "If the number cannot be divided evenly by 4, simply return the number.Examples\n",
    "\n",
    "amplify(4) ➞ [1, 2, 3, 40]\n",
    "\n",
    "amplify(3) ➞ [1, 2, 3]\n",
    "\n",
    "amplify(25) ➞ [1, 2, 3, 40, 5, 6, 7, 80, 9, 10, 11, 120, 13, 14, 15, 160, 17, 18, 19, 200, 21, 22, 23, 240, 25]\n",
    "\n",
    "Notes\n",
    "\n",
    "The given integer will always be equal to or greater than 1.\n",
    "\n",
    "Include the number (see example above).\n",
    "\n",
    "To perform this problem with its intended purpose, try doing it with list comprehensions. If that's too difficult, just solve the challenge any way you can."
   ]
  },
  {
   "cell_type": "code",
   "execution_count": 1,
   "metadata": {
    "colab": {
     "base_uri": "https://localhost:8080/"
    },
    "id": "cKYJpIAX3s4n",
    "outputId": "bb99bae1-4872-438c-8af1-24f202f5afdc"
   },
   "outputs": [
    {
     "name": "stdout",
     "output_type": "stream",
     "text": [
      "Please provide the input number : 25\n",
      "Result :  [1, 2, 3, 40, 5, 6, 7, 80, 9, 10, 11, 120, 13, 14, 15, 160, 17, 18, 19, 200, 21, 22, 23, 240, 25]\n"
     ]
    }
   ],
   "source": [
    "def amplify(value_n):\n",
    "    output_list = [i*10 if i%4 == 0 else i for i in range(1,value_n+1)]\n",
    "    return output_list\n",
    "\n",
    "try:\n",
    "    input_n = int(input(\"Please provide the input number : \"))\n",
    "    print(\"Result : \",amplify(input_n))\n",
    "except:\n",
    "    print(\"Error occured, please try again\")"
   ]
  },
  {
   "cell_type": "markdown",
   "metadata": {
    "id": "LFNKy7lZ3y3Q"
   },
   "source": [
    "2 . Create a function that takes a list of numbers and return the number that's unique.Examples\n",
    "\n",
    "unique([3, 3, 3, 7, 3, 3]) ➞ 7\n",
    "\n",
    "unique([0, 0, 0.77, 0, 0]) ➞ 0.77\n",
    "\n",
    "unique([0, 1, 1, 1, 1, 1, 1, 1]) ➞ 0\n",
    "\n",
    "Notes\n",
    "\n",
    "Test cases will always have exactly one unique number while all others are the same."
   ]
  },
  {
   "cell_type": "code",
   "execution_count": 2,
   "metadata": {
    "colab": {
     "base_uri": "https://localhost:8080/"
    },
    "id": "iy7sgnvnEWzr",
    "outputId": "5b8f2cee-1225-4205-98b7-fe1bae310fb8"
   },
   "outputs": [
    {
     "name": "stdout",
     "output_type": "stream",
     "text": [
      "Please provide the list of numbers(comma-separated) : 3,3,3,3,7,3,3\n",
      "Result :  7\n"
     ]
    }
   ],
   "source": [
    "def unique(value_list):\n",
    "    count_of_nums = {}\n",
    "    unique_value = -1\n",
    "    for i in value_list:\n",
    "        if i in count_of_nums:\n",
    "            count_of_nums[i] += 1\n",
    "        else:\n",
    "            count_of_nums[i] = 1\n",
    "    \n",
    "    for i in count_of_nums.items():\n",
    "        if i[1] == 1:\n",
    "            unique_value = i[0]\n",
    "    \n",
    "    return unique_value\n",
    "\n",
    "try:\n",
    "    input_list = input(\"Please provide the list of numbers(comma-separated) : \")\n",
    "    input_list = input_list.split(\",\")\n",
    "    print(\"Result : \",unique(input_list))\n",
    "except:\n",
    "    print(\"Error occured, please try again\")"
   ]
  },
  {
   "cell_type": "markdown",
   "metadata": {
    "id": "KOHY8tY2EXG7"
   },
   "source": [
    "3 . Your task is to create a Circle constructor that creates a circle with a radius provided by an argument. The circles constructed must have two getters getArea() (PIr^2) and getPerimeter() (2PI*r) which give both respective areas and perimeter (circumference).\n",
    "\n",
    "For help with this class, I have provided you with a Rectangle constructor which you can use as a base example.\n",
    "\n",
    "Examples\n",
    "\n",
    "circy = Circle(11)\n",
    "\n",
    "circy.getArea()\n",
    "\n",
    "\\# Should return 380.132711084365\n",
    "\n",
    "circy = Circle(4.44)\n",
    "\n",
    "circy.getPerimeter()\n",
    "\n",
    "\\# Should return 27.897342763877365\n",
    "\n",
    "Notes\n",
    "\n",
    "Round results up to the nearest integer."
   ]
  },
  {
   "cell_type": "code",
   "execution_count": 4,
   "metadata": {
    "colab": {
     "base_uri": "https://localhost:8080/"
    },
    "id": "C-8dsHeJErr_",
    "outputId": "ae0444b6-dcc5-4d39-bc3c-579672372215"
   },
   "outputs": [
    {
     "name": "stdout",
     "output_type": "stream",
     "text": [
      "380\n",
      "28\n"
     ]
    }
   ],
   "source": [
    "import math\n",
    "\n",
    "class Circle():\n",
    "    def __init__(self, radius):\n",
    "        try:\n",
    "            self.radius = float(radius)\n",
    "        except:\n",
    "            print(\"Error occured, please check the input once\")\n",
    "    \n",
    "    def getArea(self):\n",
    "        try:\n",
    "            area = (math.pi * self.radius**2)\n",
    "            return round(area)\n",
    "        except:\n",
    "            return \"Error occured, please check the input once\" \n",
    "    \n",
    "    def getPerimeter(self):\n",
    "        try:\n",
    "            perimeter = (2 * math.pi * self.radius) \n",
    "            return round(perimeter)\n",
    "        except:\n",
    "            return \"Error occured, please check the input once\" \n",
    "\n",
    "\n",
    "circy = Circle(11)\n",
    "circx = Circle(4.44)\n",
    "print(circy.getArea())\n",
    "print(circx.getPerimeter())"
   ]
  },
  {
   "cell_type": "markdown",
   "metadata": {
    "id": "3NW09vn_ErKK"
   },
   "source": [
    "4 . Create a function that takes a list of strings and return a list, sorted from shortest to longest.Examples\n",
    "\n",
    "sort_by_length([\"Google\", \"Apple\", \"Microsoft\"])\n",
    "➞ [\"Apple\", \"Google\", \"Microsoft\"]\n",
    "\n",
    "sort_by_length([\"Leonardo\", \"Michelangelo\", \"Raphael\", \"Donatello\"])\n",
    "➞ [\"Raphael\", \"Leonardo\", \"Donatello\", \"Michelangelo\"]\n",
    "\n",
    "sort_by_length([\"Turing\", \"Einstein\", \"Jung\"])\n",
    "➞ [\"Jung\", \"Turing\", \"Einstein\"]\n",
    "\n",
    "Notes\n",
    "\n",
    "All test cases contain lists with strings of different lengths, so you won't have to deal with multiple strings of the same length.\n"
   ]
  },
  {
   "cell_type": "code",
   "execution_count": 7,
   "metadata": {
    "colab": {
     "base_uri": "https://localhost:8080/"
    },
    "id": "UnaoqB1REyM3",
    "outputId": "0f003632-6e2c-4855-eb0f-89e2eb2bc589"
   },
   "outputs": [
    {
     "name": "stdout",
     "output_type": "stream",
     "text": [
      "Please provide the input list(comma-separated) : \"Leonardo\",\"Michelangelo\",\"Raphael\",\"Donatello\"\n",
      "Result :  ['\"Raphael\"', '\"Leonardo\"', '\"Donatello\"', '\"Michelangelo\"']\n"
     ]
    }
   ],
   "source": [
    "def sort_by_length(value_list):\n",
    "    i = 0\n",
    "    j = 0\n",
    "    while i < len(value_list):\n",
    "        j = 0\n",
    "        while j < i:\n",
    "            if len(value_list[i]) < len(value_list[j]):\n",
    "                temp = value_list[i]\n",
    "                value_list[i] = value_list[j]\n",
    "                value_list[j] = temp\n",
    "            j = j + 1\n",
    "        i = i + 1\n",
    "    \n",
    "    return value_list\n",
    "\n",
    "try:\n",
    "    input_list = input(\"Please provide the input list(comma-separated) : \")\n",
    "    input_list = input_list.split(\",\")\n",
    "    print(\"Result : \",sort_by_length(input_list))\n",
    "except:\n",
    "    print(\"Error occured, please try again\")"
   ]
  },
  {
   "cell_type": "markdown",
   "metadata": {
    "id": "Yl67_kuoEyh-"
   },
   "source": [
    "5 . Create a function that validates whether three given integers form a Pythagorean triplet. The sum of the squares of the two smallest integers must equal the square of the largest number to be validated.Examples\n",
    "\n",
    "is_triplet(3, 4, 5) ➞ True\n",
    "\n",
    "\\# 3² + 4² = 25\n",
    "\n",
    "\\# 5² = 25\n",
    "\n",
    "is_triplet(13, 5, 12) ➞ True\n",
    "\n",
    "\\# 5² + 12² = 169\n",
    "\n",
    "\\# 13² = 169\n",
    "\n",
    "is_triplet(1, 2, 3) ➞ False\n",
    "\n",
    "\\# 1² + 2² = 5\n",
    "\n",
    "\\# 3² = 9\n",
    "\n",
    "Notes\n",
    "\n",
    "Numbers may not be given in a sorted order."
   ]
  },
  {
   "cell_type": "code",
   "execution_count": 6,
   "metadata": {
    "colab": {
     "base_uri": "https://localhost:8080/"
    },
    "id": "Oq-5XsSQE9j2",
    "outputId": "485a2aa1-6da7-400a-e65d-6640f6e7e977"
   },
   "outputs": [
    {
     "name": "stdout",
     "output_type": "stream",
     "text": [
      "Please provide the inputs a, b, c(comma-separated) : 13,5,12\n",
      "Result :  True\n"
     ]
    }
   ],
   "source": [
    "def is_triplet(a, b, c):\n",
    "    if (a**2 + b**2 == c**2) or (b**2 + c**2 == a**2) or (a**2 + c**2 == b**2):\n",
    "        return True\n",
    "    else:\n",
    "        return False\n",
    "\n",
    "try:\n",
    "    input_nums = input(\"Please provide the inputs a, b, c(comma-separated) : \")\n",
    "    input_nums = input_nums.split(\",\")\n",
    "    input_a,input_b,input_c = input_nums\n",
    "    print(\"Result : \",is_triplet(int(input_a), int(input_b), int(input_c)))\n",
    "except:\n",
    "    print(\"Error occured, please try again\")"
   ]
  }
 ],
 "metadata": {
  "colab": {
   "collapsed_sections": [],
   "name": "python_basic_programming_assignment_24",
   "provenance": []
  },
  "kernelspec": {
   "display_name": "Python 3",
   "language": "python",
   "name": "python3"
  },
  "language_info": {
   "codemirror_mode": {
    "name": "ipython",
    "version": 3
   },
   "file_extension": ".py",
   "mimetype": "text/x-python",
   "name": "python",
   "nbconvert_exporter": "python",
   "pygments_lexer": "ipython3",
   "version": "3.8.5"
  }
 },
 "nbformat": 4,
 "nbformat_minor": 1
}

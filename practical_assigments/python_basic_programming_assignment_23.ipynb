{
 "cells": [
  {
   "cell_type": "markdown",
   "metadata": {
    "id": "bpoOXysToaYf"
   },
   "source": [
    "# Assignment 23"
   ]
  },
  {
   "cell_type": "markdown",
   "metadata": {
    "id": "9KOa-Lchocdq"
   },
   "source": [
    "#### Submitted By : Paritosh Nichat\n",
    "\n",
    "#### Date :  July 21, 2021"
   ]
  },
  {
   "cell_type": "markdown",
   "metadata": {
    "id": "vmM_bG41oVTP"
   },
   "source": [
    "1 . Create a function that takes a number as an argument and returns True or False depending on whether the number is symmetrical or not. A number is symmetrical when it is the same as its reverse.Examples\n",
    "\n",
    "is_symmetrical(7227) ➞ True\n",
    "\n",
    "is_symmetrical(12567) ➞ False\n",
    "\n",
    "is_symmetrical(44444444) ➞ True\n",
    "\n",
    "is_symmetrical(9939) ➞ False\n",
    "\n",
    "is_symmetrical(1112111) ➞ True"
   ]
  },
  {
   "cell_type": "code",
   "execution_count": 1,
   "metadata": {
    "colab": {
     "base_uri": "https://localhost:8080/"
    },
    "id": "g4VKte-HoVIF",
    "outputId": "d751598e-9f34-4cd2-d029-8c0a687a1d1a"
   },
   "outputs": [
    {
     "name": "stdout",
     "output_type": "stream",
     "text": [
      "Please provide the input num : 1112111\n",
      "Result :  True\n"
     ]
    }
   ],
   "source": [
    "def is_symmetrical(value_num):\n",
    "    value_list = list(str(value_num))\n",
    "    copy_value_list = list(str(value_num))\n",
    "    copy_value_list.reverse()\n",
    "    if value_list == copy_value_list:\n",
    "        return True\n",
    "    else:\n",
    "        return False\n",
    "\n",
    "try:\n",
    "    input_num = int(input(\"Please provide the input num : \"))\n",
    "    print(\"Result : \",is_symmetrical(input_num))\n",
    "except:\n",
    "    print(\"Error occured, please try again\")"
   ]
  },
  {
   "cell_type": "markdown",
   "metadata": {
    "id": "4B3OKEKdoOv6"
   },
   "source": [
    "2 . Given a string of numbers separated by a comma and space, return the product of the numbers.Examples\n",
    "\n",
    "multiply_nums(\"2, 3\") ➞ 6\n",
    "\n",
    "multiply_nums(\"1, 2, 3, 4\") ➞ 24\n",
    "\n",
    "multiply_nums(\"54, 75, 453, 0\") ➞ 0\n",
    "\n",
    "multiply_nums(\"10, -2\") ➞ -20"
   ]
  },
  {
   "cell_type": "code",
   "execution_count": 2,
   "metadata": {
    "colab": {
     "base_uri": "https://localhost:8080/"
    },
    "id": "UyYUMrL4oOmz",
    "outputId": "68c8346a-bdbd-4610-c67f-1403a647d321"
   },
   "outputs": [
    {
     "name": "stdout",
     "output_type": "stream",
     "text": [
      "Please provide input numbers separated by a comma and space : 10, -2\n",
      "Result :  -20\n"
     ]
    }
   ],
   "source": [
    "def multiply_nums(value_str):\n",
    "    value_list = value_str.split(\", \")\n",
    "    output = 1\n",
    "    for i in value_list:\n",
    "        output = output*int(i)\n",
    "\n",
    "    return int(output)\n",
    "\n",
    "try:\n",
    "    input_str = input(\"Please provide input numbers separated by a comma and space : \")\n",
    "    print(\"Result : \",multiply_nums(input_str))\n",
    "except:\n",
    "    print(\"Error occured, please try again\")"
   ]
  },
  {
   "cell_type": "markdown",
   "metadata": {
    "id": "-lRQ9nPhoIur"
   },
   "source": [
    "3 . Create a function that squares every digit of a number. Examples\n",
    "\n",
    "square_digits(9119) ➞ 811181\n",
    "\n",
    "square_digits(2483) ➞ 416649\n",
    "\n",
    "square_digits(3212) ➞ 9414\n",
    "\n",
    "Notes\n",
    "\n",
    "The function receives an integer and must return an integer."
   ]
  },
  {
   "cell_type": "code",
   "execution_count": 3,
   "metadata": {
    "colab": {
     "base_uri": "https://localhost:8080/"
    },
    "id": "_Yf-N8tJoImF",
    "outputId": "2edc6291-2da3-4d10-c898-5a80feeacc30"
   },
   "outputs": [
    {
     "name": "stdout",
     "output_type": "stream",
     "text": [
      "Please provide the input number : 3212\n",
      "Result :  9414\n"
     ]
    }
   ],
   "source": [
    "def square_digits(value_num):\n",
    "    value_list = list(str(value_num))\n",
    "    output_num = ''\n",
    "    for i in value_list:\n",
    "        output_num += str(int(i)**2)\n",
    "    \n",
    "    output_num = int(output_num)\n",
    "    return output_num\n",
    "\n",
    "try:\n",
    "    input_num = int(input(\"Please provide the input number : \"))\n",
    "    print(\"Result : \",square_digits(input_num))\n",
    "except:\n",
    "    print(\"Error occured, please try again\")"
   ]
  },
  {
   "cell_type": "markdown",
   "metadata": {
    "id": "4HqMMntRoDxH"
   },
   "source": [
    "4 . Create a function that sorts a list and removes all duplicate items from it.Examples\n",
    "\n",
    "setify([1, 3, 3, 5, 5]) ➞ [1, 3, 5]\n",
    "\n",
    "setify([4, 4, 4, 4]) ➞ [4]\n",
    "\n",
    "setify([5, 7, 8, 9, 10, 15]) ➞ [5, 7, 8, 9, 10, 15]\n",
    "\n",
    "setify([3, 3, 3, 2, 1]) ➞ [1, 2, 3]"
   ]
  },
  {
   "cell_type": "code",
   "execution_count": 6,
   "metadata": {
    "colab": {
     "base_uri": "https://localhost:8080/"
    },
    "id": "CB6bzSYaoDhk",
    "outputId": "aeeb4b4c-1ea3-43c4-e2a8-f911ef2862af"
   },
   "outputs": [
    {
     "name": "stdout",
     "output_type": "stream",
     "text": [
      "Please provide the numbers input list(comma-separated) : 3,3,3,2,1\n",
      "Result :  [1, 2, 3]\n"
     ]
    }
   ],
   "source": [
    "def setify(value_list):\n",
    "    value_dict = {}\n",
    "    for i in value_list:\n",
    "        if i in value_dict:\n",
    "            value_dict[i] += 1\n",
    "        else:\n",
    "            value_dict[i] = 1\n",
    "    \n",
    "    output_list = list(value_dict.keys())\n",
    "    output_list = [int(i) for i in output_list]\n",
    "    output_list.sort()\n",
    "    return output_list\n",
    "\n",
    "try:\n",
    "    input_list = input(\"Please provide the numbers input list(comma-separated) : \")\n",
    "    input_list = input_list.split(\",\")\n",
    "    print(\"Result : \",setify(input_list))\n",
    "except:\n",
    "    print(\"Error occured, please try again\")"
   ]
  },
  {
   "cell_type": "markdown",
   "metadata": {
    "id": "umtFV-bnn-22"
   },
   "source": [
    "5 . Create a function that returns the mean of all digits.Examples\n",
    "\n",
    "mean(42) ➞ 3\n",
    "\n",
    "mean(12345) ➞ 3\n",
    "\n",
    "mean(666) ➞ 6\n",
    "\n",
    "Notes\n",
    "\n",
    "The mean of all digits is the sum of digits / how many digits there are (e.g. mean of digits in 512 is (5+1+2)/3(number of digits) = 8/3=2).\n",
    "\n",
    "The mean will always be an integer."
   ]
  },
  {
   "cell_type": "code",
   "execution_count": 7,
   "metadata": {
    "colab": {
     "base_uri": "https://localhost:8080/"
    },
    "id": "lohYEtCzm3kv",
    "outputId": "2a4b985b-c2f5-47cc-d4e4-69c73ccfc7c6"
   },
   "outputs": [
    {
     "name": "stdout",
     "output_type": "stream",
     "text": [
      "Please provide the input number : 12345\n",
      "Result :  3\n"
     ]
    }
   ],
   "source": [
    "def mean(value_num):\n",
    "    value_list = list(str(value_num))\n",
    "    output_mean = 0\n",
    "    for i in value_list:\n",
    "        output_mean += int(i)\n",
    "    \n",
    "    output_mean = int(int(output_mean)/len(value_list))\n",
    "    return output_mean\n",
    "\n",
    "try:\n",
    "    input_num = int(input(\"Please provide the input number : \"))\n",
    "    print(\"Result : \",mean(input_num))\n",
    "except:\n",
    "    print(\"Error occured, please try again\")"
   ]
  }
 ],
 "metadata": {
  "colab": {
   "collapsed_sections": [],
   "name": "python_basic_programming_assignment_23",
   "provenance": []
  },
  "kernelspec": {
   "display_name": "Python 3",
   "language": "python",
   "name": "python3"
  },
  "language_info": {
   "codemirror_mode": {
    "name": "ipython",
    "version": 3
   },
   "file_extension": ".py",
   "mimetype": "text/x-python",
   "name": "python",
   "nbconvert_exporter": "python",
   "pygments_lexer": "ipython3",
   "version": "3.8.5"
  }
 },
 "nbformat": 4,
 "nbformat_minor": 1
}

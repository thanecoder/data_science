{
 "cells": [
  {
   "cell_type": "markdown",
   "metadata": {},
   "source": [
    "# Assignment 6"
   ]
  },
  {
   "cell_type": "markdown",
   "metadata": {},
   "source": [
    "#### Submitted By : Paritosh Nichat\n",
    "\n",
    "#### Date : May 29, 2021"
   ]
  },
  {
   "cell_type": "markdown",
   "metadata": {
    "id": "2lLcY8UCrR1Q"
   },
   "source": [
    "**1 . Write a Python Program to Display Fibonacci Sequence Using Recursion?**"
   ]
  },
  {
   "cell_type": "code",
   "execution_count": 31,
   "metadata": {
    "colab": {
     "base_uri": "https://localhost:8080/"
    },
    "id": "p8YvMy86r94Z",
    "outputId": "148ca667-2361-412e-a816-d36359fa65f1"
   },
   "outputs": [
    {
     "name": "stdout",
     "output_type": "stream",
     "text": [
      "Enter the number of Fibonacci Seq. terms needed : 15\n",
      "Result is : \n",
      "[0, 1, 1, 2, 3, 5, 8, 13, 21, 34, 55, 89, 144, 233, 377]\n"
     ]
    }
   ],
   "source": [
    "def find_fibonacci(a):\n",
    "      if a <= 1:\n",
    "        return a\n",
    "      else:\n",
    "        return find_fibonacci(a-1) + find_fibonacci(a-2) \n",
    "\n",
    "try:\n",
    "    # Get input from user\n",
    "    input_number = int(input(\"Enter the number of Fibonacci Seq. terms needed : \"))\n",
    "    fibonacci_sequence = [];\n",
    "    \n",
    "    # Check for positive input\n",
    "    if input_number > 0:\n",
    "        for i in range(input_number):\n",
    "            fibonacci_sequence.append(find_fibonacci(i))\n",
    "    elif input_number == 0:\n",
    "        pass\n",
    "    else:\n",
    "        raise Exception\n",
    "\n",
    "    # Print result\n",
    "    print(\"Result is : \")\n",
    "    print(fibonacci_sequence)\n",
    "\n",
    "except:\n",
    "    print(\"Please enter a valid positive natural number as input.\")"
   ]
  },
  {
   "cell_type": "markdown",
   "metadata": {
    "id": "QkcjX85wrZhA"
   },
   "source": [
    "**2 . Write a Python Program to Find Factorial of Number Using Recursion?**"
   ]
  },
  {
   "cell_type": "code",
   "execution_count": 35,
   "metadata": {
    "colab": {
     "base_uri": "https://localhost:8080/"
    },
    "id": "6wZilYW6r-xp",
    "outputId": "87491b1a-b900-4d55-b6ce-6dac00d8dcec"
   },
   "outputs": [
    {
     "name": "stdout",
     "output_type": "stream",
     "text": [
      "Enter a natural number for which factorial is to be found : 5\n",
      "Factorial is : 120\n"
     ]
    }
   ],
   "source": [
    "def find_factorial(a):\n",
    "    if a == 1:\n",
    "        return a\n",
    "    else:\n",
    "        return a * find_factorial(a-1)\n",
    "\n",
    "try:\n",
    "    # Get input from user\n",
    "    input_number = int(input(\"Enter a natural number for which factorial is to be found : \"))\n",
    "    \n",
    "    # Check for positive input\n",
    "    if input_number > 0:\n",
    "        result = find_factorial(input_number)\n",
    "    elif input_number == 0:\n",
    "        result = 1\n",
    "    else:\n",
    "        raise Exception\n",
    "    \n",
    "    # Print result\n",
    "    print(\"Factorial is : {}\".format(str(result)))\n",
    "\n",
    "except:\n",
    "    print(\"Please enter a valid positive natural number as input.\")"
   ]
  },
  {
   "cell_type": "markdown",
   "metadata": {
    "id": "XEDijrSbregZ"
   },
   "source": [
    "**3 . Write a Python Program to calculate your Body Mass Index?**"
   ]
  },
  {
   "cell_type": "code",
   "execution_count": 42,
   "metadata": {
    "colab": {
     "base_uri": "https://localhost:8080/"
    },
    "id": "ZzP3cDAUr_bS",
    "outputId": "ec19e66a-a22f-4c67-ba41-885012595c1a"
   },
   "outputs": [
    {
     "name": "stdout",
     "output_type": "stream",
     "text": [
      "Enter weight in kg : 65\n",
      "Enter height in cm : 120\n",
      "Result BMI is : 45.1 kg/m^2\n"
     ]
    }
   ],
   "source": [
    "def get_bmi(weight, height):\n",
    "    \"\"\"\n",
    "    This function calculates BMI using formula which is weight in kilograms divided \n",
    "    by height in meters squared.\n",
    "    Input - (weight - positive number, height - positive number)\n",
    "    Output - BMI\n",
    "    \"\"\" \n",
    "    bmi = (weight / ((height/100) ** 2))\n",
    "    return (str(round(bmi,1))+\" kg/m^2\")\n",
    "\n",
    "try:\n",
    "    # Get input from user \n",
    "    input_weight = float(input(\"Enter weight in kg : \"))\n",
    "    input_height = float(input(\"Enter height in cm : \"))\n",
    "    \n",
    "    # Check for positive input\n",
    "    if input_weight > 0 and input_height > 0:\n",
    "        print(\"Result BMI is : \"+get_bmi(input_weight,input_height))\n",
    "    else:\n",
    "        raise Exception\n",
    "\n",
    "except:\n",
    "    print(\"Please enter a valid, positive number for weight and height\")"
   ]
  },
  {
   "cell_type": "markdown",
   "metadata": {
    "id": "HQ7tORCbropt"
   },
   "source": [
    "**4 . Write a Python Program to calculate the natural logarithm of any number?**"
   ]
  },
  {
   "cell_type": "code",
   "execution_count": 46,
   "metadata": {
    "id": "9bz4pcEor_3R"
   },
   "outputs": [
    {
     "name": "stdout",
     "output_type": "stream",
     "text": [
      "Please enter a positive number input: 12\n",
      "Log of input is : 2.4849066497880004\n"
     ]
    }
   ],
   "source": [
    "import math\n",
    "try:\n",
    "    input_number = float(input(\"Please enter a positive number input: \"))\n",
    "    print(\"Log of input is : \"+str(math.log(input_number)))\n",
    "except:\n",
    "    print(\"Please enter a valid positive number as input\")"
   ]
  },
  {
   "cell_type": "markdown",
   "metadata": {
    "id": "l-0rM7NTrpQo"
   },
   "source": [
    "**5 . Write a Python Program for cube sum of first n natural numbers?**"
   ]
  },
  {
   "cell_type": "code",
   "execution_count": 38,
   "metadata": {
    "colab": {
     "base_uri": "https://localhost:8080/"
    },
    "id": "685MsxnKsAYg",
    "outputId": "9e1b75e2-b632-4502-9b4f-5cce03448721"
   },
   "outputs": [
    {
     "name": "stdout",
     "output_type": "stream",
     "text": [
      "Please enter the n value : 5\n",
      "Result : 225.0\n"
     ]
    }
   ],
   "source": [
    "def get_cube_sum(n):\n",
    "    \"\"\"\n",
    "    This function uses mathematical formula which is (n ( n + 1 ) / 2) ^ 2\n",
    "    Input - n value, should be natural number\n",
    "    Output - Sum of n natural numbers\n",
    "    \"\"\"\n",
    "    temp = (n * (n + 1)) / 2\n",
    "    result = temp ** 2\n",
    "    return result\n",
    "\n",
    "try:\n",
    "    # Get input from user\n",
    "    input_number = int(input(\"Please enter the n value : \"))\n",
    "    \n",
    "    # Check for positive input\n",
    "    if input_number >= 0:\n",
    "        print(\"Result : \"+str(get_cube_sum(input_number)))\n",
    "    else:\n",
    "        raise Exception\n",
    "\n",
    "except:\n",
    "    print(\"Please enter a valid positive natural number as input.\")"
   ]
  }
 ],
 "metadata": {
  "colab": {
   "collapsed_sections": [],
   "name": "python_basic_programming_assignment_6",
   "provenance": []
  },
  "kernelspec": {
   "display_name": "Python 3",
   "language": "python",
   "name": "python3"
  },
  "language_info": {
   "codemirror_mode": {
    "name": "ipython",
    "version": 3
   },
   "file_extension": ".py",
   "mimetype": "text/x-python",
   "name": "python",
   "nbconvert_exporter": "python",
   "pygments_lexer": "ipython3",
   "version": "3.8.5"
  }
 },
 "nbformat": 4,
 "nbformat_minor": 1
}

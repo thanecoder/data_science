{
 "cells": [
  {
   "cell_type": "markdown",
   "metadata": {},
   "source": [
    "# Assignment 4"
   ]
  },
  {
   "cell_type": "markdown",
   "metadata": {},
   "source": [
    "#### Submitted By : Paritosh Nichat\n",
    "#### Date : May 8, 2021"
   ]
  },
  {
   "cell_type": "markdown",
   "metadata": {},
   "source": [
    "**1 . Write a Python Program to Find the Factorial of a Number?**"
   ]
  },
  {
   "cell_type": "code",
   "execution_count": 3,
   "metadata": {
    "colab": {
     "base_uri": "https://localhost:8080/"
    },
    "id": "0dPoBtDTBMod",
    "outputId": "d538a7f1-9da3-43df-f1c6-a03d996f1eda"
   },
   "outputs": [
    {
     "name": "stdout",
     "output_type": "stream",
     "text": [
      "Enter a integer whole number number whose factorial is required : 5\n",
      "Factorial is :120\n"
     ]
    }
   ],
   "source": [
    "def find_factorial(factorialFor):\n",
    "    \"\"\"Function to get the value of factorial of the input number.\"\"\"\n",
    "    result = 1\n",
    "    i = 1\n",
    "    while i <= factorialFor:\n",
    "        result = result * i\n",
    "        i = i + 1\n",
    "    return result\n",
    "\n",
    "try:\n",
    "    # Get input from user\n",
    "    factorialFor = int(input(\"Enter a integer whole number number whose factorial is required : \"))\n",
    "    result = find_factorial(factorialFor)\n",
    "    print(\"Factorial is :\"+str(result))\n",
    "except:\n",
    "    print(\"Error occured, Please provide a valid integer as input.\")"
   ]
  },
  {
   "cell_type": "markdown",
   "metadata": {},
   "source": [
    "**2 . Write a Python Program to Display the multiplication Table?**"
   ]
  },
  {
   "cell_type": "code",
   "execution_count": 1,
   "metadata": {
    "colab": {
     "base_uri": "https://localhost:8080/"
    },
    "id": "5Jelr_Y8oOoX",
    "outputId": "e6145bb0-1d97-4c4a-c12c-e5d7234b215a"
   },
   "outputs": [
    {
     "name": "stdout",
     "output_type": "stream",
     "text": [
      "Enter a number for which you want to get mutiplication table(12 rows will be printed.) : 4\n",
      "4 x 1 = 4\n",
      "4 x 2 = 8\n",
      "4 x 3 = 12\n",
      "4 x 4 = 16\n",
      "4 x 5 = 20\n",
      "4 x 6 = 24\n",
      "4 x 7 = 28\n",
      "4 x 8 = 32\n",
      "4 x 9 = 36\n",
      "4 x 10 = 40\n",
      "4 x 11 = 44\n",
      "4 x 12 = 48\n"
     ]
    }
   ],
   "source": [
    "def print_multiplication_table(input_number):\n",
    "    \"\"\"Function to print a multiplication table till 12 for a given input number.\"\"\"\n",
    "    i = 1\n",
    "    while i <= 12:\n",
    "        print(\"{} x {} = {}\".format(input_number, i, input_number * i))\n",
    "        i = i + 1\n",
    "\n",
    "try:\n",
    "    # Get number from user for which multiple table to be printed\n",
    "    input_number = int(input(\"Enter a number for which you want to get mutiplication table(12 rows will be printed.) : \"))\n",
    "    print_multiplication_table(input_number)\n",
    "except:\n",
    "    print(\"Error occured, Please provide a valid integer as input.\")"
   ]
  },
  {
   "cell_type": "markdown",
   "metadata": {},
   "source": [
    "**3 . Write a Python Program to Print the Fibonacci sequence?**"
   ]
  },
  {
   "cell_type": "code",
   "execution_count": 4,
   "metadata": {
    "colab": {
     "base_uri": "https://localhost:8080/"
    },
    "id": "xPonS0VbCSqi",
    "outputId": "a24ad2ab-301d-4fe8-ae45-3cea10f3c004"
   },
   "outputs": [
    {
     "name": "stdout",
     "output_type": "stream",
     "text": [
      "Enter the upper limit till which Fibonacci sequence to be printed : 1000\n",
      "[0, 1, 1, 2, 3, 5, 8, 13, 21, 34, 55, 89, 144, 233, 377, 610, 987]\n"
     ]
    }
   ],
   "source": [
    "def fibonacci(upper_limit):\n",
    "    \"\"\"Function to generate fibonacci sequence.\"\"\"\n",
    "    i = 1\n",
    "    result = 0\n",
    "    fibonacci_list = []\n",
    "    fibonacci_list.append(result)\n",
    "    while i < upper_limit:\n",
    "        if result == 0:\n",
    "            result = i + result\n",
    "            fibonacci_list.append(result)    \n",
    "            i = result\n",
    "        else:\n",
    "            result = fibonacci_list[-1]+fibonacci_list[-2]\n",
    "            i = result\n",
    "            if result < upper_limit:\n",
    "                fibonacci_list.append(result)\n",
    "    print(fibonacci_list)\n",
    "\n",
    "try:\n",
    "    fibonacci_limit = int(input(\"Enter the upper limit till which Fibonacci sequence to be printed : \"))\n",
    "    fibonacci(fibonacci_limit)\n",
    "except:\n",
    "    print(\"Error occured, Please provide a valid integer as input.\")"
   ]
  },
  {
   "cell_type": "markdown",
   "metadata": {},
   "source": [
    "**4 . Write a Python Program to Check Armstrong Number?**"
   ]
  },
  {
   "cell_type": "code",
   "execution_count": 7,
   "metadata": {
    "colab": {
     "base_uri": "https://localhost:8080/"
    },
    "id": "_Btg0ilxW0EZ",
    "outputId": "eefffe3b-c2c9-4efc-ff62-485ec60b7959"
   },
   "outputs": [
    {
     "name": "stdout",
     "output_type": "stream",
     "text": [
      "Enter the number which is to be checked for Armstrong No. : 371\n",
      "Yes , 371 is an Armstrong No.\n"
     ]
    }
   ],
   "source": [
    "def is_armstrong_number(input_number):\n",
    "    \"\"\"Function to check if a given input is an Armstrong number.\"\"\"\n",
    "    digits = []\n",
    "    temp = input_number\n",
    "    while temp > 0:\n",
    "        digits.append(int(temp%10))\n",
    "        temp = int(temp/10)\n",
    "    digits = digits[::-1]\n",
    "    i = 0\n",
    "    sum_of_cube_digits = 0\n",
    "    while i < len(digits):\n",
    "        sum_of_cube_digits = sum_of_cube_digits + int(digits[i]) ** 3\n",
    "        i = i + 1\n",
    "    if sum_of_cube_digits ==  input_number:\n",
    "        return True\n",
    "    else:\n",
    "        return False\n",
    "\n",
    "try:\n",
    "    input_test_for_armstrong = int(input(\"Enter the number which is to be checked for Armstrong No. : \"))\n",
    "    if is_armstrong_number(input_test_for_armstrong):\n",
    "          print(\"Yes , {} is an Armstrong No.\".format(str(input_test_for_armstrong)))\n",
    "    else:\n",
    "          print(\"No , {} is not an Armstrong No.\".format(str(input_test_for_armstrong)))\n",
    "except:\n",
    "    print(\"Error occured, Please provide a valid integer as input.\")"
   ]
  },
  {
   "cell_type": "markdown",
   "metadata": {},
   "source": [
    "**5 . Write a Python Program to Find Armstrong Number in an Interval?**"
   ]
  },
  {
   "cell_type": "code",
   "execution_count": 10,
   "metadata": {
    "colab": {
     "base_uri": "https://localhost:8080/"
    },
    "id": "WE1mesRmglgP",
    "outputId": "b57cfd48-766a-4006-cb8a-e31fe8abc0cb"
   },
   "outputs": [
    {
     "name": "stdout",
     "output_type": "stream",
     "text": [
      "Enter the upper limit till which the Armstrong numbers to be printed : 671\n",
      "0\n",
      "1\n",
      "153\n",
      "370\n",
      "371\n",
      "407\n"
     ]
    }
   ],
   "source": [
    "def is_armstrong_number(input_number):\n",
    "    \"\"\"Function to check if a given input is an Armstrong number.\"\"\"\n",
    "    digits = []\n",
    "    temp = input_number\n",
    "    while temp > 0:\n",
    "        digits.append(int(temp%10))\n",
    "        temp = int(temp/10)\n",
    "    digits = digits[::-1]\n",
    "    i = 0\n",
    "    sum_of_cube_digits = 0\n",
    "    while i < len(digits):\n",
    "        sum_of_cube_digits = sum_of_cube_digits + int(digits[i]) ** 3\n",
    "        i = i + 1\n",
    "    if sum_of_cube_digits ==  input_number:\n",
    "        return True\n",
    "    else:\n",
    "        return False\n",
    "\n",
    "try:\n",
    "    upper_limit = int(input(\"Enter the upper limit till which the Armstrong numbers to be printed : \"))\n",
    "    i = 0\n",
    "    while i <= upper_limit:\n",
    "        if is_armstrong_number(i):\n",
    "            print(i)\n",
    "        i = i + 1\n",
    "except:\n",
    "    print(\"Error occured, Please provide a valid integer as input.\")"
   ]
  },
  {
   "cell_type": "markdown",
   "metadata": {},
   "source": [
    "#### 6 . Write a Python Program to Find the Sum of Natural Numbers?"
   ]
  },
  {
   "cell_type": "code",
   "execution_count": 12,
   "metadata": {},
   "outputs": [
    {
     "name": "stdout",
     "output_type": "stream",
     "text": [
      "Enter the natural number till which you want to get the sum : 200\n",
      "Result is : :20100.0\n"
     ]
    }
   ],
   "source": [
    "def get_sum_of_natural_numbers(upper_limit):\n",
    "    \"\"\"\n",
    "    Using the artihmetic progression formula, this function will get the sum of natural numbers.\n",
    "    Input \n",
    "    upper_limit - Integer value is the upper limit till which the natural numbers to be considered for sum.\n",
    "    \"\"\"\n",
    "    n = upper_limit\n",
    "    sum_of_natural_numbers = ((n * (n + 1))/2)\n",
    "    return sum_of_natural_numbers\n",
    "    \n",
    "try:\n",
    "    upper_limit_for_sum = int(input(\"Enter the natural number till which you want to get the sum : \"))\n",
    "    if upper_limit_for_sum <= 0:\n",
    "        raise Exception(\"Sorry, no numbers below zero\")\n",
    "    else:\n",
    "        print(\"Result is : :\"+str(get_sum_of_natural_numbers(upper_limit_for_sum)))\n",
    "except:\n",
    "    print(\"Error occured, Please provide a natural number as input. Negative number or Zero is not allowed.\")"
   ]
  }
 ],
 "metadata": {
  "colab": {
   "collapsed_sections": [],
   "name": "python_basic_programming_assignment_4",
   "provenance": []
  },
  "kernelspec": {
   "display_name": "Python 3",
   "language": "python",
   "name": "python3"
  },
  "language_info": {
   "codemirror_mode": {
    "name": "ipython",
    "version": 3
   },
   "file_extension": ".py",
   "mimetype": "text/x-python",
   "name": "python",
   "nbconvert_exporter": "python",
   "pygments_lexer": "ipython3",
   "version": "3.8.5"
  }
 },
 "nbformat": 4,
 "nbformat_minor": 1
}

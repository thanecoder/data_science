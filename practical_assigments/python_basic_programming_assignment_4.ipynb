{
 "cells": [
  {
   "cell_type": "markdown",
   "metadata": {},
   "source": [
    "# Assignment 4"
   ]
  },
  {
   "cell_type": "markdown",
   "metadata": {},
   "source": [
    "#### Submitted By : Paritosh Nichat\n",
    "#### Date : March 27, 2021"
   ]
  },
  {
   "cell_type": "markdown",
   "metadata": {},
   "source": [
    "**1 . Write a Python Program to Find the Factorial of a Number?**"
   ]
  },
  {
   "cell_type": "code",
   "execution_count": 19,
   "metadata": {
    "colab": {
     "base_uri": "https://localhost:8080/"
    },
    "id": "0dPoBtDTBMod",
    "outputId": "d538a7f1-9da3-43df-f1c6-a03d996f1eda"
   },
   "outputs": [
    {
     "name": "stdout",
     "output_type": "stream",
     "text": [
      "Enter a number whose factorial is required : 5\n",
      "Input is : 5\n",
      "Factorial is :120\n"
     ]
    }
   ],
   "source": [
    "# Program for factorial\n",
    "def find_factorial(factorialFor):\n",
    "    print(\"Input is : \",end=\"\")\n",
    "    print(factorialFor)\n",
    "    result = 1\n",
    "    i = 1\n",
    "    while i <= factorialFor:\n",
    "        result = result * i\n",
    "        i = i + 1\n",
    "    return result\n",
    "\n",
    "# Get input from user\n",
    "factorialFor = int(input(\"Enter a number whose factorial is required : \"))\n",
    "result = find_factorial(factorialFor)\n",
    "print(\"Factorial is :\"+str(result))"
   ]
  },
  {
   "cell_type": "markdown",
   "metadata": {},
   "source": [
    "**2 . Write a Python Program to Display the multiplication Table?**"
   ]
  },
  {
   "cell_type": "code",
   "execution_count": 20,
   "metadata": {
    "colab": {
     "base_uri": "https://localhost:8080/"
    },
    "id": "5Jelr_Y8oOoX",
    "outputId": "e6145bb0-1d97-4c4a-c12c-e5d7234b215a"
   },
   "outputs": [
    {
     "name": "stdout",
     "output_type": "stream",
     "text": [
      "Program to print the multiplication table for any number. Table will be printed till 12.\n",
      "Enter a number for which you want to get mutiplication table : 3\n",
      "3 x 1 = 3\n",
      "3 x 2 = 6\n",
      "3 x 3 = 9\n",
      "3 x 4 = 12\n",
      "3 x 5 = 15\n",
      "3 x 6 = 18\n",
      "3 x 7 = 21\n",
      "3 x 8 = 24\n",
      "3 x 9 = 27\n",
      "3 x 10 = 30\n",
      "3 x 11 = 33\n",
      "3 x 12 = 36\n"
     ]
    }
   ],
   "source": [
    "def print_multiplication_table(input_number):\n",
    "    i = 1\n",
    "    while i <= 12:\n",
    "        print(\"{} x {} = {}\".format(input_number, i, input_number * i))\n",
    "        i = i + 1\n",
    "\n",
    "# Get number from user for which multiple table to be printed\n",
    "input_number = int(input(\"Enter a number for which you want to get mutiplication table : \"))\n",
    "print_multiplication_table(input_number)"
   ]
  },
  {
   "cell_type": "markdown",
   "metadata": {},
   "source": [
    "**3 . Write a Python Program to Print the Fibonacci sequence?**"
   ]
  },
  {
   "cell_type": "code",
   "execution_count": 21,
   "metadata": {
    "colab": {
     "base_uri": "https://localhost:8080/"
    },
    "id": "xPonS0VbCSqi",
    "outputId": "a24ad2ab-301d-4fe8-ae45-3cea10f3c004"
   },
   "outputs": [
    {
     "name": "stdout",
     "output_type": "stream",
     "text": [
      "Enter the upper limit till which Fibonacci sequence to be printed : 400\n",
      "[0, 1, 1, 2, 3, 5, 8, 13, 21, 34, 55, 89, 144, 233, 377]\n"
     ]
    }
   ],
   "source": [
    "# Program for fibonacci sequence\n",
    "def fibonacci(upper_limit):\n",
    "    i = 1\n",
    "    result = 0\n",
    "    fibonacci_list = []\n",
    "    fibonacci_list.append(result)\n",
    "    while i < upper_limit:\n",
    "        if result == 0:\n",
    "            result = i + result\n",
    "            fibonacci_list.append(result)    \n",
    "            i = result\n",
    "        else:\n",
    "            result = fibonacci_list[-1]+fibonacci_list[-2]\n",
    "            i = result\n",
    "            if result < upper_limit:\n",
    "                fibonacci_list.append(result)\n",
    "    print(fibonacci_list)\n",
    "\n",
    "fibonacci_limit = int(input(\"Enter the upper limit till which Fibonacci sequence to be printed : \"))\n",
    "fibonacci(fibonacci_limit)"
   ]
  },
  {
   "cell_type": "markdown",
   "metadata": {},
   "source": [
    "**4 . Write a Python Program to Check Armstrong Number?**"
   ]
  },
  {
   "cell_type": "code",
   "execution_count": 31,
   "metadata": {
    "colab": {
     "base_uri": "https://localhost:8080/"
    },
    "id": "_Btg0ilxW0EZ",
    "outputId": "eefffe3b-c2c9-4efc-ff62-485ec60b7959"
   },
   "outputs": [
    {
     "name": "stdout",
     "output_type": "stream",
     "text": [
      "Enter the number which is to be checked for Armstrong No. : 153\n",
      "Yes , 153 is an Armstrong No.\n"
     ]
    }
   ],
   "source": [
    "def is_armstrong_number(input_number):\n",
    "  digits = []\n",
    "  temp = input_number\n",
    "  while temp > 0:\n",
    "    digits.append(int(temp%10))\n",
    "    temp = int(temp/10)\n",
    "  digits = digits[::-1]\n",
    "  # print(digits)\n",
    "  # print(len(digits))\n",
    "  i = 0\n",
    "  sum_of_cube_digits = 0\n",
    "  while i < len(digits):\n",
    "    sum_of_cube_digits = sum_of_cube_digits + int(digits[i]) ** 3\n",
    "    i = i + 1\n",
    "  if sum_of_cube_digits ==  input_number:\n",
    "    return True\n",
    "  else:\n",
    "    return False\n",
    "\n",
    "input_test_for_armstrong = int(input(\"Enter the number which is to be checked for Armstrong No. : \"))\n",
    "if is_armstrong_number(input_test_for_armstrong):\n",
    "  print(\"Yes , {} is an Armstrong No.\".format(str(input_test_for_armstrong)))\n",
    "else:\n",
    "  print(\"No , {} is not an Armstrong No.\".format(str(input_test_for_armstrong)))"
   ]
  },
  {
   "cell_type": "markdown",
   "metadata": {},
   "source": [
    "**5 . Write a Python Program to Find Armstrong Number in an Interval?**"
   ]
  },
  {
   "cell_type": "code",
   "execution_count": 29,
   "metadata": {
    "colab": {
     "base_uri": "https://localhost:8080/"
    },
    "id": "WE1mesRmglgP",
    "outputId": "b57cfd48-766a-4006-cb8a-e31fe8abc0cb"
   },
   "outputs": [
    {
     "name": "stdout",
     "output_type": "stream",
     "text": [
      "Enter the upper limit till which the Armstrong numbers to be printed : 200\n",
      "0\n",
      "1\n",
      "153\n"
     ]
    }
   ],
   "source": [
    "def is_armstrong_number(input_number):\n",
    "    digits = []\n",
    "    temp = input_number\n",
    "    while temp > 0:\n",
    "        digits.append(int(temp%10))\n",
    "        temp = int(temp/10)\n",
    "    digits = digits[::-1]\n",
    "    i = 0\n",
    "    sum_of_cube_digits = 0\n",
    "    while i < len(digits):\n",
    "        sum_of_cube_digits = sum_of_cube_digits + int(digits[i]) ** 3\n",
    "        i = i + 1\n",
    "    if sum_of_cube_digits ==  input_number:\n",
    "        return True\n",
    "    else:\n",
    "        return False\n",
    "\n",
    "upper_limit = int(input(\"Enter the upper limit till which the Armstrong numbers to be printed : \"))\n",
    "i = 0\n",
    "while i <= upper_limit:\n",
    "    if is_armstrong_number(i):\n",
    "        print(i)\n",
    "    i = i + 1"
   ]
  }
 ],
 "metadata": {
  "colab": {
   "collapsed_sections": [],
   "name": "python_basic_programming_assignment_4",
   "provenance": []
  },
  "kernelspec": {
   "display_name": "Python 3",
   "language": "python",
   "name": "python3"
  },
  "language_info": {
   "codemirror_mode": {
    "name": "ipython",
    "version": 3
   },
   "file_extension": ".py",
   "mimetype": "text/x-python",
   "name": "python",
   "nbconvert_exporter": "python",
   "pygments_lexer": "ipython3",
   "version": "3.8.5"
  }
 },
 "nbformat": 4,
 "nbformat_minor": 1
}

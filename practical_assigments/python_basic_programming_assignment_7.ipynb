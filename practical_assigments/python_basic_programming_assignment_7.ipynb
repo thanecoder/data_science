{
 "cells": [
  {
   "cell_type": "markdown",
   "metadata": {},
   "source": [
    "# Assignment 7"
   ]
  },
  {
   "cell_type": "markdown",
   "metadata": {},
   "source": [
    "#### Submitted By : Paritosh Nichat\n",
    "\n",
    "#### Date : June 9, 2021"
   ]
  },
  {
   "cell_type": "markdown",
   "metadata": {
    "id": "5jNASfN0qqyF"
   },
   "source": [
    "**1 . Write a Python Program to find sum of array?**"
   ]
  },
  {
   "cell_type": "code",
   "execution_count": 5,
   "metadata": {
    "colab": {
     "base_uri": "https://localhost:8080/"
    },
    "id": "xP0GjZt_rB0t",
    "outputId": "d5fefef3-3265-43cc-c034-95214fbb1615"
   },
   "outputs": [
    {
     "name": "stdout",
     "output_type": "stream",
     "text": [
      "Please provide numeric input array(comma-separated) : 3,-5,6\n",
      "Sum of array : 4.0\n"
     ]
    }
   ],
   "source": [
    "def get_sum(array):\n",
    "    sum_of_array = 0\n",
    "  \n",
    "    for i in input_array:\n",
    "        sum_of_array += float(i)\n",
    "    # print(input_array)\n",
    "\n",
    "    return sum_of_array\n",
    "\n",
    "\n",
    "try:\n",
    "    # Get the input array \n",
    "    input_array = input(\"Please provide numeric input array(comma-separated) : \")\n",
    "    input_array = input_array.split(\",\")\n",
    "    print(\"Sum of array : \"+str(get_sum(input_array)))\n",
    "except:\n",
    "    print(\"Please provide numeric values as input.\")"
   ]
  },
  {
   "cell_type": "markdown",
   "metadata": {
    "id": "X0IeLtS4qqoZ"
   },
   "source": [
    "**2 . Write a Python Program to find largest element in an array?**"
   ]
  },
  {
   "cell_type": "code",
   "execution_count": 6,
   "metadata": {
    "colab": {
     "base_uri": "https://localhost:8080/"
    },
    "id": "V8HoFqSvrCiA",
    "outputId": "01ac6f6b-d303-4da8-9948-b638413dacfe"
   },
   "outputs": [
    {
     "name": "stdout",
     "output_type": "stream",
     "text": [
      "Please provide numeric input array(comma-separated) : 7,245,34,678,12,734,54,12,34\n",
      "Max of array : 734\n"
     ]
    }
   ],
   "source": [
    "def get_max_value(array):\n",
    "    index_max_of_array = 0\n",
    "    max_of_array = 0\n",
    "  \n",
    "    for i in input_array:\n",
    "        if max_of_array < float(i):\n",
    "            max_of_array = float(i)\n",
    "            index_max_of_array = input_array.index(i)\n",
    "    # print(input_array)\n",
    "    return array[index_max_of_array]\n",
    "\n",
    "try:\n",
    "    # Get the input array \n",
    "    input_array = input(\"Please provide numeric input array(comma-separated) : \")\n",
    "    input_array = input_array.split(\",\")\n",
    "    print(\"Max of array : \"+str(get_max_value(input_array)))\n",
    "except:\n",
    "    print(\"Please provide numeric values as input.\")"
   ]
  },
  {
   "cell_type": "markdown",
   "metadata": {
    "id": "v5bxQU8HqqdL"
   },
   "source": [
    "**3 . Write a Python Program for array rotation?**"
   ]
  },
  {
   "cell_type": "code",
   "execution_count": 4,
   "metadata": {
    "colab": {
     "base_uri": "https://localhost:8080/"
    },
    "id": "1MTweEVtrC8C",
    "outputId": "69fc3eb8-8b3d-417f-c194-b083681b29aa"
   },
   "outputs": [
    {
     "name": "stdout",
     "output_type": "stream",
     "text": [
      "Please provide the input array(comma-separated) : 1,2,3,4,5,6\n",
      "['1', '2', '3', '4', '5', '6']\n",
      "Enter the rotation step count : 2\n",
      "Result : \n",
      "['3', '4', '5', '6', '1', '2']\n"
     ]
    }
   ],
   "source": [
    "import copy\n",
    "\n",
    "def rotate_array(array, steps):\n",
    "    temp_array = copy.deepcopy(array)\n",
    "    for i in array:\n",
    "        temp_array[int(array.index(i)) - int(steps)] = i\n",
    "    return temp_array\n",
    "\n",
    "\n",
    "try:\n",
    "    # Get the input array \n",
    "    input_array = input(\"Please provide numeric input array(comma-separated) : \")\n",
    "    input_array = input_array.split(\",\")\n",
    "    print(input_array)\n",
    "\n",
    "    # input_direction = input(\"Enter the rotation direction - left or right : \")\n",
    "    input_steps = int(input(\"Enter the rotation step count : \"))\n",
    "\n",
    "    print(\"Result : \")\n",
    "    print(rotate_array(input_array, input_steps))\n",
    "except:\n",
    "    print(\"Please provide numeric values as input.\")"
   ]
  },
  {
   "cell_type": "markdown",
   "metadata": {
    "id": "JgOQizP_qqSv"
   },
   "source": [
    "**4 . Write a Python Program to Split the array and add the first part to the end?**"
   ]
  },
  {
   "cell_type": "code",
   "execution_count": 20,
   "metadata": {
    "id": "0V1to8x_rDe0"
   },
   "outputs": [
    {
     "name": "stdout",
     "output_type": "stream",
     "text": [
      "Please provide input array(comma-separated) : 12,10,5,fvsghe,6,52,36\n",
      "Please provide numeric value as index where you want to split the array : 3\n",
      "Result : \n",
      "['fvsghe', '6', '52', '36', '12', '10', '5']\n"
     ]
    }
   ],
   "source": [
    "def split_and_add_array(input_arr, split):\n",
    "    i = int(split)\n",
    "    result_arr = []\n",
    "    while i < len(input_arr):\n",
    "        result_arr.append(input_arr[i])\n",
    "        i = i + 1\n",
    "    j = 0\n",
    "    while j < int(split):\n",
    "        result_arr.append(input_arr[j])\n",
    "        j = j + 1\n",
    "    return result_arr\n",
    "    \n",
    "\n",
    "try:\n",
    "    # Get the input array \n",
    "    input_array = input(\"Please provide input array(comma-separated) : \")\n",
    "    input_array = input_array.split(\",\")\n",
    "    split_index = int(input(\"Please provide numeric value as index where you want to split the array : \"))\n",
    "    print(\"Result : \")\n",
    "    print(split_and_add_array(input_array,split_index))\n",
    "except:\n",
    "    print(\"Please provide valid values as input.\")"
   ]
  },
  {
   "cell_type": "markdown",
   "metadata": {
    "id": "g_Kf4aH0qqGU"
   },
   "source": [
    "**5 . Write a Python Program to check if given array is Monotonic?**"
   ]
  },
  {
   "cell_type": "code",
   "execution_count": 15,
   "metadata": {
    "colab": {
     "base_uri": "https://localhost:8080/"
    },
    "id": "no4uluzXrFq0",
    "outputId": "81fee19d-fbac-4bd8-afbe-562ae2f30ce5"
   },
   "outputs": [
    {
     "name": "stdout",
     "output_type": "stream",
     "text": [
      "Please provide the comma-separated numeric input array : 4,5,3,6\n",
      "Result : Array is not Monotonic\n"
     ]
    }
   ],
   "source": [
    "def check_monotonic(input_array):\n",
    "    comparison = {\"increasing\":[],\"decreasing\":[]}\n",
    "\n",
    "    for i in range(0, len(input_array) - 1):\n",
    "        if float(input_array[i]) <= float(input_array[i+1]):\n",
    "            comparison[\"increasing\"].append(1)\n",
    "        else:\n",
    "            comparison[\"increasing\"].append(0)\n",
    "    for i in range(0, len(input_array) - 1):\n",
    "        if float(input_array[i]) >= float(input_array[i+1]):\n",
    "            comparison[\"decreasing\"].append(1)\n",
    "        else:\n",
    "            comparison[\"decreasing\"].append(0)\n",
    "\n",
    "    if all(comparison[\"increasing\"]) or all(comparison[\"decreasing\"]):\n",
    "        return \"Array is Monotonic\"\n",
    "    else:\n",
    "        return \"Array is not Monotonic\"\n",
    "\n",
    "try:\n",
    "    # Get the input array \n",
    "    input_array = input(\"Please provide numeric input array(comma-separated) : \")\n",
    "    input_array = input_array.split(\",\")\n",
    "    print(\"Result : \"+check_monotonic(input_array))\n",
    "except:\n",
    "    print(\"Monotonicity of array can be found for numeric array only.\")"
   ]
  }
 ],
 "metadata": {
  "colab": {
   "collapsed_sections": [],
   "name": "python_basic_programming_assignment_7",
   "provenance": []
  },
  "kernelspec": {
   "display_name": "Python 3",
   "language": "python",
   "name": "python3"
  },
  "language_info": {
   "codemirror_mode": {
    "name": "ipython",
    "version": 3
   },
   "file_extension": ".py",
   "mimetype": "text/x-python",
   "name": "python",
   "nbconvert_exporter": "python",
   "pygments_lexer": "ipython3",
   "version": "3.8.5"
  }
 },
 "nbformat": 4,
 "nbformat_minor": 1
}

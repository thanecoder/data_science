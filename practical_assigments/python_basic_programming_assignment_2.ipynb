{
 "cells": [
  {
   "cell_type": "markdown",
   "metadata": {},
   "source": [
    "# Assignment 2"
   ]
  },
  {
   "cell_type": "markdown",
   "metadata": {},
   "source": [
    "#### Submitted By : Paritosh Nichat\n",
    "#### Date : April 02, 2021"
   ]
  },
  {
   "cell_type": "markdown",
   "metadata": {},
   "source": [
    "**1 . Write a Python program to convert kilometers to miles?**"
   ]
  },
  {
   "cell_type": "code",
   "execution_count": 15,
   "metadata": {},
   "outputs": [
    {
     "name": "stdout",
     "output_type": "stream",
     "text": [
      "Enter distance in kilometers : 12\n",
      "Equivalent distance in miles : 7.46\n"
     ]
    }
   ],
   "source": [
    "# Get input distance from user in kilometers\n",
    "input_km = float(input(\"Enter distance in kilometers : \"))\n",
    "\n",
    "# Convert km to miles - multiply the distance in kilometers by 0.6214.\n",
    "output_miles = (input_km * 0.6214)\n",
    "\n",
    "# Print the result\n",
    "print(\"Equivalent distance in miles : {:0.2f}\".format(output_miles))"
   ]
  },
  {
   "cell_type": "markdown",
   "metadata": {},
   "source": [
    "**2 . Write a Python program to convert Celsius to Fahrenheit?**"
   ]
  },
  {
   "cell_type": "code",
   "execution_count": 7,
   "metadata": {},
   "outputs": [
    {
     "name": "stdout",
     "output_type": "stream",
     "text": [
      "Enter temparature in Celsius : 100\n",
      "Temperature in Fahrenheit : 212.00\n"
     ]
    }
   ],
   "source": [
    "# Function to calculate the fahrenheit from celsius\n",
    "def celsius_to_fahrenheit(degree_celsius):\n",
    "    degree_fahrenheit = ((degree_celsius * (9/5)) + 32)\n",
    "    return degree_fahrenheit\n",
    "\n",
    "# Get the temperature from user in Celsius\n",
    "input_celsius = float(input(\"Enter temparature in Celsius : \"))\n",
    "output_fahrenheit = celsius_to_fahrenheit(input_celsius)\n",
    "\n",
    "# Print Output in Fahrenheit\n",
    "print(\"Temperature in Fahrenheit : {:0.2f}\".format(output_fahrenheit))"
   ]
  },
  {
   "cell_type": "markdown",
   "metadata": {},
   "source": [
    "**3 . Write a Python program to display calendar?**"
   ]
  },
  {
   "cell_type": "code",
   "execution_count": 6,
   "metadata": {},
   "outputs": [
    {
     "name": "stdout",
     "output_type": "stream",
     "text": [
      "Enter month between 1 and 12 : 2\n",
      "Enter year : 2021\n",
      "   February 2021\n",
      "Mo Tu We Th Fr Sa Su\n",
      " 1  2  3  4  5  6  7\n",
      " 8  9 10 11 12 13 14\n",
      "15 16 17 18 19 20 21\n",
      "22 23 24 25 26 27 28\n",
      "\n"
     ]
    }
   ],
   "source": [
    "# importing calendar module\n",
    "import calendar\n",
    "\n",
    "# Get the input from user for which month and year to be displayed\n",
    "mm = int(input(\"Enter month between 1 and 12 : \"))\n",
    "yy = int(input(\"Enter year : \"))\n",
    "\n",
    "if mm >= 1 and mm <= 12 : \n",
    "    print(calendar.month(yy,mm))\n",
    "else:\n",
    "    print(\"Incorrect month value entered\")"
   ]
  },
  {
   "cell_type": "markdown",
   "metadata": {},
   "source": [
    "**4 . Write a Python program to solve quadratic equation?**"
   ]
  },
  {
   "cell_type": "code",
   "execution_count": 14,
   "metadata": {},
   "outputs": [
    {
     "name": "stdout",
     "output_type": "stream",
     "text": [
      "Quadratic Equation : ax^2 + bx + c = 0\n",
      "Enter value of a : 1\n",
      "Enter value of b : 4\n",
      "Enter value of c : 0\n",
      "Values of X can be : (0.0, -4.0)\n"
     ]
    }
   ],
   "source": [
    "# Get the input from user for the a , b , c values\n",
    "print(\"Quadratic Equation : ax^2 + bx + c = 0\")\n",
    "a = float(input(\"Enter value of a : \"))\n",
    "b = float(input(\"Enter value of b : \"))\n",
    "c = float(input(\"Enter value of c : \"))\n",
    "\n",
    "# Formula for solving the quadratic equation -  (-b±√(b²-4ac))/(2a)\n",
    "def solve_quadratic(a,b,c):\n",
    "    first_result = (((b ** 2) - (4 * a * c)) ** 0.5)\n",
    "    second_result_via_add = (-b + first_result)\n",
    "    second_result_via_minus = (-b - first_result)\n",
    "    value_x_1 = (second_result_via_add / 2 * a)\n",
    "    value_x_2 = (second_result_via_minus / 2 * a)\n",
    "    return value_x_1,value_x_2\n",
    "\n",
    "quad_solution = solve_quadratic(a,b,c)\n",
    "print(\"Values of X can be : \",end=\"\")\n",
    "print(quad_solution)"
   ]
  },
  {
   "cell_type": "markdown",
   "metadata": {},
   "source": [
    "**5 . Write a Python program to swap two variables without temp variable?**"
   ]
  },
  {
   "cell_type": "code",
   "execution_count": 18,
   "metadata": {},
   "outputs": [
    {
     "name": "stdout",
     "output_type": "stream",
     "text": [
      "Enter first number, a: 2\n",
      "Enter second number, b: 4\n",
      "Input Variables\n",
      "a is : 2\n",
      "b is : 4\n",
      "Variables Swapped\n",
      "a is : 4\n",
      "b is : 2\n"
     ]
    }
   ],
   "source": [
    "# Get the two inputs from user\n",
    "a = int(input(\"Enter first number, a: \"))\n",
    "b = int(input(\"Enter second number, b: \"))\n",
    "print(\"Input Variables\")\n",
    "print(\"a is : \"+str(a))\n",
    "print(\"b is : \"+str(b))\n",
    "\n",
    "# Swapping operation\n",
    "a = a + b\n",
    "b = a - b\n",
    "a = a - b\n",
    "\n",
    "print(\"Variables Swapped\")\n",
    "print(\"a is : \"+str(a))\n",
    "print(\"b is : \"+str(b))"
   ]
  }
 ],
 "metadata": {
  "kernelspec": {
   "display_name": "Python 3",
   "language": "python",
   "name": "python3"
  },
  "language_info": {
   "codemirror_mode": {
    "name": "ipython",
    "version": 3
   },
   "file_extension": ".py",
   "mimetype": "text/x-python",
   "name": "python",
   "nbconvert_exporter": "python",
   "pygments_lexer": "ipython3",
   "version": "3.8.5"
  }
 },
 "nbformat": 4,
 "nbformat_minor": 4
}

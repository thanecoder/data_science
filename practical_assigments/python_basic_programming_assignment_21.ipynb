{
 "cells": [
  {
   "cell_type": "markdown",
   "metadata": {
    "id": "DD_q_ogBlauF"
   },
   "source": [
    "# Assignment 21"
   ]
  },
  {
   "cell_type": "markdown",
   "metadata": {
    "id": "_Y6jwuNflh_1"
   },
   "source": [
    "#### Submitted By : Paritosh Nichat\n",
    "\n",
    "#### Date : July 21,2021"
   ]
  },
  {
   "cell_type": "markdown",
   "metadata": {
    "id": "vJQZ5kHQkyx_"
   },
   "source": [
    "1 . Write a function that takes a list and a number as arguments. Add the number to the end of the list, then remove the first element of the list. The function should then return the updated list.Examples\n",
    "\n",
    "next_in_line([5, 6, 7, 8, 9], 1) ➞ [6, 7, 8, 9, 1]\n",
    "\n",
    "next_in_line([7, 6, 3, 23, 17], 10) ➞ [6, 3, 23, 17, 10]\n",
    "\n",
    "next_in_line([1, 10, 20, 42 ], 6) ➞ [10, 20, 42, 6]\n",
    "\n",
    "next_in_line([], 6) ➞ \"No list has been selected\""
   ]
  },
  {
   "cell_type": "code",
   "execution_count": 1,
   "metadata": {
    "colab": {
     "base_uri": "https://localhost:8080/"
    },
    "id": "7vmlwYhykvvG",
    "outputId": "72d3a798-9351-452b-ee91-7421ba5c406f"
   },
   "outputs": [
    {
     "name": "stdout",
     "output_type": "stream",
     "text": [
      "Please provide the input list : \n",
      "Please provide the input element : 6\n",
      "Result :  No list has been selected\n"
     ]
    }
   ],
   "source": [
    "def next_in_line(value_list, value_elem):\n",
    "    if len(value_list) == 1 and value_list[0] == '':\n",
    "        return \"No list has been selected\"\n",
    "    else:\n",
    "        value_list = value_list[1:]\n",
    "        value_list.append(value_elem)\n",
    "        return value_list\n",
    "\n",
    "try:\n",
    "    input_list = input(\"Please provide the input list : \")\n",
    "    input_elem = input(\"Please provide the input element : \")\n",
    "    input_list = input_list.split(\",\")\n",
    "    print(\"Result : \",next_in_line(input_list, input_elem))\n",
    "except:\n",
    "    print(\"Error occured, please try again\")"
   ]
  },
  {
   "cell_type": "markdown",
   "metadata": {
    "id": "j_6EPE3sk1pV"
   },
   "source": [
    "2 . Create the function that takes a list of dictionaries and returns the sum of people's budgets.Examples\n",
    "\n",
    "get_budgets([\n",
    "  { \"name\": \"John\", \"age\": 21, \"budget\": 23000 },\n",
    "  { \"name\": \"Steve\",  \"age\": 32, \"budget\": 40000 },\n",
    "  { \"name\": \"Martin\",  \"age\": 16, \"budget\": 2700 }\n",
    "]) ➞ 65700\n",
    "\n",
    "get_budgets([\n",
    "  { \"name\": \"John\",  \"age\": 21, \"budget\": 29000 },\n",
    "  { \"name\": \"Steve\",  \"age\": 32, \"budget\": 32000 },\n",
    "  { \"name\": \"Martin\",  \"age\": 16, \"budget\": 1600 }\n",
    "]) ➞ 62600"
   ]
  },
  {
   "cell_type": "code",
   "execution_count": 3,
   "metadata": {
    "colab": {
     "base_uri": "https://localhost:8080/"
    },
    "id": "icqQ-kn6k7Ym",
    "outputId": "117f7247-e22b-4865-8bbc-ade16563928c"
   },
   "outputs": [
    {
     "name": "stdout",
     "output_type": "stream",
     "text": [
      "65700\n",
      "62600\n"
     ]
    }
   ],
   "source": [
    "def get_budgets(value_list):\n",
    "    sum_of_budgets = 0\n",
    "    for i in value_list:\n",
    "        sum_of_budgets += i[\"budget\"]\n",
    "    \n",
    "    return sum_of_budgets\n",
    "\n",
    "print(get_budgets([{ \"name\": \"John\", \"age\": 21, \"budget\": 23000 }, \n",
    "             { \"name\": \"Steve\", \"age\": 32, \"budget\": 40000 }, \n",
    "             { \"name\": \"Martin\", \"age\": 16, \"budget\": 2700 } \n",
    "]))\n",
    "print(get_budgets([{ \"name\": \"John\", \"age\": 21, \"budget\": 29000 }, \n",
    "             { \"name\": \"Steve\", \"age\": 32, \"budget\": 32000 }, \n",
    "             { \"name\": \"Martin\", \"age\": 16, \"budget\": 1600 } \n",
    "]))"
   ]
  },
  {
   "cell_type": "markdown",
   "metadata": {
    "id": "fAGN3SwHk7rv"
   },
   "source": [
    "3 . Create a function that takes a string and returns a string with its letters in alphabetical order.Examples\n",
    "\n",
    "alphabet_soup(\"hello\") ➞ \"ehllo\"\n",
    "\n",
    "alphabet_soup(\"edabit\") ➞ \"abdeit\"\n",
    "\n",
    "alphabet_soup(\"hacker\") ➞ \"acehkr\"\n",
    "\n",
    "alphabet_soup(\"geek\") ➞ \"eegk\"\n",
    "\n",
    "alphabet_soup(\"javascript\") ➞ \"aacijprstv\""
   ]
  },
  {
   "cell_type": "code",
   "execution_count": 4,
   "metadata": {
    "colab": {
     "base_uri": "https://localhost:8080/"
    },
    "id": "u0o7n5k-lBXs",
    "outputId": "52ee511c-6db5-4dfd-b77a-5ac6f06bcfb0"
   },
   "outputs": [
    {
     "name": "stdout",
     "output_type": "stream",
     "text": [
      "Please provide the input string : hacker\n",
      "Result :  acehkr\n"
     ]
    }
   ],
   "source": [
    "def alphabet_soup(value_str):\n",
    "    output_str = list(value_str)\n",
    "    output_str.sort()\n",
    "    output_str = \"\".join(output_str)\n",
    "    return output_str\n",
    "\n",
    "try:\n",
    "    input_str = input(\"Please provide the input string : \")\n",
    "    print(\"Result : \",alphabet_soup(input_str))\n",
    "except:\n",
    "    print(\"Error occured, please try again\")"
   ]
  },
  {
   "cell_type": "markdown",
   "metadata": {
    "id": "DKxoZgiIlBpp"
   },
   "source": [
    "4 . Suppose that you invest $10,000 for 10 years at an interest rate of 6% compounded monthly. What will be the value of your investment at the end of the 10 year period?\n",
    "\n",
    "Create a function that accepts the principal p, the term in years t, the interest rate r, and the number of compounding periods per year n. The function returns the value at the end of term rounded to the nearest cent.For the example above:\n",
    "\n",
    "compound_interest(10000, 10, 0.06, 12) ➞ 18193.97\n",
    "\n",
    "Note that the interest rate is given as a decimal and n=12 because with monthly compounding there are 12 periods per year. Compounding can also be done annually, quarterly, weekly, or daily.Examples\n",
    "\n",
    "compound_interest(100, 1, 0.05, 1) ➞ 105.0\n",
    "\n",
    "compound_interest(3500, 15, 0.1, 4) ➞ 15399.26\n",
    "\n",
    "compound_interest(100000, 20, 0.15, 365) ➞ 2007316.26"
   ]
  },
  {
   "cell_type": "code",
   "execution_count": 6,
   "metadata": {
    "colab": {
     "base_uri": "https://localhost:8080/"
    },
    "id": "67vSZblflQpj",
    "outputId": "1375a3aa-484a-4bc9-af5a-fff0c0c3214f"
   },
   "outputs": [
    {
     "name": "stdout",
     "output_type": "stream",
     "text": [
      "Please input the principal amount : 10000\n",
      "Please input the term in years : 10\n",
      "Please input the interest rate : 0.06\n",
      "Please input the number of compounding years : 12\n",
      "Result :  18193.97\n"
     ]
    }
   ],
   "source": [
    "def compound_interest(value_p, value_t, value_r, value_n):\n",
    "    \"\"\"Formula for compound interest - A = P(1 + r/100)n\"\"\"\n",
    "    output_amount = value_p * (1 + (value_r/value_n))**(value_n*value_t)\n",
    "    return round(output_amount,2)\n",
    "\n",
    "try:\n",
    "    input_p = float(input(\"Please input the principal amount : \"))\n",
    "    input_t = float(input(\"Please input the term in years : \"))\n",
    "    input_r = float(input(\"Please input the interest rate : \"))\n",
    "    input_n = float(input(\"Please input the number of compounding years : \"))\n",
    "    print(\"Result : \",compound_interest(input_p, input_t, input_r, input_n))\n",
    "except:\n",
    "    print(\"Error occured, please check the input once and try again\")"
   ]
  },
  {
   "cell_type": "markdown",
   "metadata": {
    "id": "1BQHovFClQ-R"
   },
   "source": [
    "5 . Write a function that takes a list of elements and returns only the integers.Examples\n",
    "\n",
    "return_only_integer([9, 2, \"space\", \"car\", \"lion\", 16]) ➞ [9, 2, 16]\n",
    "\n",
    "return_only_integer([\"hello\", 81, \"basketball\", 123, \"fox\"]) ➞ [81, 123]\n",
    "\n",
    "return_only_integer([10, \"121\", 56, 20, \"car\", 3, \"lion\"]) ➞ [10, 56, 20, 3]\n",
    "\n",
    "return_only_integer([\"String\",  True,  3.3,  1]) ➞ [1]"
   ]
  },
  {
   "cell_type": "code",
   "execution_count": 7,
   "metadata": {
    "colab": {
     "base_uri": "https://localhost:8080/"
    },
    "id": "Bk_TPkY6lXlB",
    "outputId": "b4c02bdb-c10a-4e2c-8903-e514c041b600"
   },
   "outputs": [
    {
     "name": "stdout",
     "output_type": "stream",
     "text": [
      "[9, 2, 16]\n",
      "[81, 123]\n",
      "[10, 56, 20, 3]\n",
      "[1]\n"
     ]
    }
   ],
   "source": [
    "def return_only_integer(value_list):\n",
    "    output_list = []\n",
    "    for i in value_list:\n",
    "        if type(i) == int:\n",
    "            output_list.append(i)\n",
    "    \n",
    "    return output_list\n",
    "\n",
    "\n",
    "print(return_only_integer([9, 2, \"space\", \"car\", \"lion\", 16]))\n",
    "\n",
    "print(return_only_integer([\"hello\", 81, \"basketball\", 123, \"fox\"]))\n",
    "\n",
    "print(return_only_integer([10, \"121\", 56, 20, \"car\", 3, \"lion\"]))\n",
    "\n",
    "print(return_only_integer([\"String\", True, 3.3, 1]))"
   ]
  }
 ],
 "metadata": {
  "colab": {
   "collapsed_sections": [],
   "name": "python_basic_programming_assignment_21",
   "provenance": []
  },
  "kernelspec": {
   "display_name": "Python 3",
   "language": "python",
   "name": "python3"
  },
  "language_info": {
   "codemirror_mode": {
    "name": "ipython",
    "version": 3
   },
   "file_extension": ".py",
   "mimetype": "text/x-python",
   "name": "python",
   "nbconvert_exporter": "python",
   "pygments_lexer": "ipython3",
   "version": "3.8.5"
  }
 },
 "nbformat": 4,
 "nbformat_minor": 1
}

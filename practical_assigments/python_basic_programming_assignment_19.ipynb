{
 "cells": [
  {
   "cell_type": "markdown",
   "metadata": {
    "id": "Lo9DRJ-_jqpB"
   },
   "source": [
    "# Assignment 19"
   ]
  },
  {
   "cell_type": "markdown",
   "metadata": {
    "id": "xyN5kizTjs5B"
   },
   "source": [
    "#### Submitted By : Paritosh Nichat\n",
    "\n",
    "#### Date : July 21, 2021"
   ]
  },
  {
   "cell_type": "markdown",
   "metadata": {
    "id": "WBBoGeoAi8Fo"
   },
   "source": [
    "1 . Create a function that takes a string and returns a string in which each character is repeated once.Examples\n",
    "\n",
    "double_char(\"String\") ➞ \"SSttrriinngg\"\n",
    "\n",
    "double_char(\"Hello World!\") ➞ \"HHeelllloo  WWoorrlldd!!\"\n",
    "\n",
    "double_char(\"1234!_ \") ➞ \"11223344!!__  \""
   ]
  },
  {
   "cell_type": "code",
   "execution_count": 1,
   "metadata": {
    "colab": {
     "base_uri": "https://localhost:8080/"
    },
    "id": "L4DDmVDvi3KN",
    "outputId": "e72aa1f5-1e1d-4aa8-9e2b-9012c199e8c5"
   },
   "outputs": [
    {
     "name": "stdout",
     "output_type": "stream",
     "text": [
      "Please provide the input string : Hello World!\n",
      "Result :  HHeelllloo WWoorrlldd!!\n"
     ]
    }
   ],
   "source": [
    "def double_char(value_str):\n",
    "    output_str = ''\n",
    "    for i in value_str:\n",
    "        if i != ' ':\n",
    "            output_str += i*2\n",
    "        else:\n",
    "            output_str += i\n",
    "    \n",
    "    return output_str\n",
    "    \n",
    "try:\n",
    "    input_str = input(\"Please provide the input string : \")\n",
    "    print(\"Result : \",double_char(input_str))\n",
    "except:\n",
    "    print(\"Error occured, please try again\")"
   ]
  },
  {
   "cell_type": "markdown",
   "metadata": {
    "id": "yEORJM0PjDET"
   },
   "source": [
    "2 . Create a function that reverses a boolean value and returns the string \"boolean expected\" if another variable type is given.Examples\n",
    "\n",
    "reverse(True) ➞ False\n",
    "\n",
    "reverse(False) ➞ True\n",
    "\n",
    "reverse(0) ➞ \"boolean expected\"\n",
    "\n",
    "reverse(None) ➞ \"boolean expected\""
   ]
  },
  {
   "cell_type": "code",
   "execution_count": 2,
   "metadata": {
    "colab": {
     "base_uri": "https://localhost:8080/"
    },
    "id": "G-vGjUsEjJV9",
    "outputId": "9997cc70-5b36-45ed-9a35-0fe79bf6a222"
   },
   "outputs": [
    {
     "name": "stdout",
     "output_type": "stream",
     "text": [
      "Please provide the input boolean value : True\n",
      "Result :  False\n"
     ]
    }
   ],
   "source": [
    "def reverse(value_boolean):\n",
    "    if value_boolean != 'True' and value_boolean != 'False':\n",
    "        return \"boolean expected\"\n",
    "    else:\n",
    "        if value_boolean == 'True':\n",
    "            return False\n",
    "        else:\n",
    "            return True\n",
    "\n",
    "try:\n",
    "    input_bool = (input(\"Please provide the input boolean value : \"))\n",
    "    print(\"Result : \", reverse(input_bool))\n",
    "\n",
    "except:\n",
    "    print(\"Error occured, please try again\")"
   ]
  },
  {
   "cell_type": "markdown",
   "metadata": {
    "id": "LJ73a-eejKD-"
   },
   "source": [
    "3 . Create a function that returns the thickness (in meters) of a piece of paper after folding it n number of times. The paper starts off with a thickness of 0.5mm.Examples\n",
    "\n",
    "num_layers(1) ➞ \"0.001m\"\n",
    "\\# Paper folded once is 1mm (equal to 0.001m)\n",
    "\n",
    "num_layers(4) ➞ \"0.008m\"\n",
    "\\# Paper folded 4 times is 8mm (equal to 0.008m)\n",
    "\n",
    "num_layers(21) ➞ \"1048.576m\"\n",
    "\\# Paper folded 21 times is 1048576mm (equal to 1048.576m)"
   ]
  },
  {
   "cell_type": "code",
   "execution_count": 3,
   "metadata": {
    "colab": {
     "base_uri": "https://localhost:8080/"
    },
    "id": "BHePoYH8jQdl",
    "outputId": "227bc210-b3c6-4f26-86f6-45d2f1b53ef5"
   },
   "outputs": [
    {
     "name": "stdout",
     "output_type": "stream",
     "text": [
      "Please provide the input n : 21\n",
      "Result in meters :  1048.576m\n"
     ]
    }
   ],
   "source": [
    "def num_layers(value_n):\n",
    "    beg_thickness = 0.5\n",
    "    # Calculate thickness in mm first\n",
    "    output_thickness = (beg_thickness * (2**value_n))\n",
    "    # Now convert to meters\n",
    "    output_thickness = (output_thickness/1000)\n",
    "\n",
    "    return  str(output_thickness)+\"m\"\n",
    "\n",
    "try:\n",
    "    input_n = int(input(\"Please provide the input n : \"))\n",
    "    print(\"Result in meters : \",num_layers(input_n))\n",
    "except:\n",
    "    print(\"Error occured, please try again\")"
   ]
  },
  {
   "cell_type": "markdown",
   "metadata": {
    "id": "odJMhyfQjRms"
   },
   "source": [
    "4 . Create a function that takes a single string as argument and returns an ordered list containing the indices of all capital letters in the string. Examples\n",
    "\n",
    "index_of_caps(\"eDaBiT\") ➞ [1, 3, 5]\n",
    "\n",
    "index_of_caps(\"eQuINoX\") ➞ [1, 3, 4, 6]\n",
    "\n",
    "index_of_caps(\"determine\") ➞ []\n",
    "\n",
    "index_of_caps(\"STRIKE\") ➞ [0, 1, 2, 3, 4, 5]\n",
    "\n",
    "index_of_caps(\"sUn\") ➞ [1]"
   ]
  },
  {
   "cell_type": "code",
   "execution_count": 7,
   "metadata": {
    "colab": {
     "base_uri": "https://localhost:8080/"
    },
    "id": "ACV8lgV3jYKq",
    "outputId": "15f226b7-1c1b-4629-ceee-59be1a743e68"
   },
   "outputs": [
    {
     "name": "stdout",
     "output_type": "stream",
     "text": [
      "Please enter the input string : eQuINoX\n",
      "Result :  [1, 3, 4, 6]\n"
     ]
    }
   ],
   "source": [
    "def index_of_caps(value_str):\n",
    "    index_list = []\n",
    "    for i in range(0,len(value_str)):\n",
    "        if ord(value_str[i]) >= 65 and ord(value_str[i]) <= 90:\n",
    "            index_list.append(i)\n",
    "        \n",
    "    return index_list\n",
    "\n",
    "try:\n",
    "    input_str = input(\"Please enter the input string : \")\n",
    "    print(\"Result : \",index_of_caps(input_str))\n",
    "except:\n",
    "    print(\"Error occured, please try again\")"
   ]
  },
  {
   "cell_type": "markdown",
   "metadata": {
    "id": "rKtqmJxjjYcl"
   },
   "source": [
    "5 . Using list comprehensions, create a function that finds all even numbers from 1 to the given number.Examples\n",
    "\n",
    "find_even_nums(8) ➞ [2, 4, 6, 8]\n",
    "\n",
    "find_even_nums(4) ➞ [2, 4]\n",
    "\n",
    "find_even_nums(2) ➞ [2]"
   ]
  },
  {
   "cell_type": "code",
   "execution_count": null,
   "metadata": {
    "colab": {
     "base_uri": "https://localhost:8080/"
    },
    "id": "bC6SLORGjdjf",
    "outputId": "aae51142-5066-44fe-cff4-063c138cd2f8"
   },
   "outputs": [
    {
     "name": "stdout",
     "output_type": "stream",
     "text": [
      "Please provide input number : 4\n",
      "Result :  [2, 4]\n"
     ]
    }
   ],
   "source": [
    "def find_even_nums(value_n):\n",
    "    output_list = [i for i in range(1,value_n+1) if i%2 == 0]\n",
    "    return output_list\n",
    "\n",
    "try:\n",
    "    input_n = int(input(\"Please provide input number : \"))\n",
    "    print(\"Result : \",find_even_nums(input_n))\n",
    "except:\n",
    "    print(\"Error occured, please try again\")"
   ]
  }
 ],
 "metadata": {
  "colab": {
   "collapsed_sections": [],
   "name": "python_basic_programming_assignment_19",
   "provenance": []
  },
  "kernelspec": {
   "display_name": "Python 3",
   "language": "python",
   "name": "python3"
  },
  "language_info": {
   "codemirror_mode": {
    "name": "ipython",
    "version": 3
   },
   "file_extension": ".py",
   "mimetype": "text/x-python",
   "name": "python",
   "nbconvert_exporter": "python",
   "pygments_lexer": "ipython3",
   "version": "3.8.5"
  }
 },
 "nbformat": 4,
 "nbformat_minor": 1
}

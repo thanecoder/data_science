{
 "cells": [
  {
   "cell_type": "markdown",
   "metadata": {
    "id": "DUO16mqwxy1S"
   },
   "source": [
    "# Assignment 15"
   ]
  },
  {
   "cell_type": "markdown",
   "metadata": {
    "id": "cKMLxRCGx1iq"
   },
   "source": [
    "#### Submitted By : Paritosh Nichat\n",
    "\n",
    "#### Date : July 18, 2021"
   ]
  },
  {
   "cell_type": "markdown",
   "metadata": {
    "id": "PKjVi7xXxGmj"
   },
   "source": [
    "1 . Please write a program using generator to print the numbers which can be divisible by 5 and 7 between 0 and n in comma separated form while n is input by console.Example:\n",
    "\n",
    "If the following n is given as input to the program:\n",
    "\n",
    "100\n",
    "\n",
    "Then, the output of the program should be:\n",
    "\n",
    "0,35,70"
   ]
  },
  {
   "cell_type": "code",
   "execution_count": 1,
   "metadata": {
    "colab": {
     "base_uri": "https://localhost:8080/"
    },
    "id": "ybVbNrrYw_Ff",
    "outputId": "350625be-69d7-42dd-f404-02aea1fe7b46"
   },
   "outputs": [
    {
     "name": "stdout",
     "output_type": "stream",
     "text": [
      "Please enter a value of n : 100\n",
      "Result : 0,35,70\n"
     ]
    }
   ],
   "source": [
    "def divisibleBySevenAndFive(value_n):\n",
    "    for i in range(0,value_n):\n",
    "        if i%7 == 0 and i%5 == 0:\n",
    "            yield str(i)\n",
    "\n",
    "try:\n",
    "    input_n = int(input(\"Please enter a value of n : \"))\n",
    "    output_list = list(divisibleBySevenAndFive(input_n))\n",
    "    output_str = ','.join(output_list)\n",
    "    print(\"Result : \"+output_str)\n",
    "except:\n",
    "    print(\"Error occured, please check once the input entered\")"
   ]
  },
  {
   "cell_type": "markdown",
   "metadata": {
    "id": "bbbV1D-AxL-x"
   },
   "source": [
    "2 . Please write a program using generator to print the even numbers between 0 and n in comma separated form while n is input by console.Example:\n",
    "\n",
    "If the following n is given as input to the program:\n",
    "\n",
    "10\n",
    "\n",
    "Then, the output of the program should be:\n",
    "\n",
    "0,2,4,6,8,10"
   ]
  },
  {
   "cell_type": "code",
   "execution_count": 2,
   "metadata": {
    "colab": {
     "base_uri": "https://localhost:8080/"
    },
    "id": "WOvQatFpxMa6",
    "outputId": "6d2e8757-f950-4228-bb16-104a50cef641"
   },
   "outputs": [
    {
     "name": "stdout",
     "output_type": "stream",
     "text": [
      "Please enter a value of n : 10\n",
      "Result : 0,2,4,6,8,10\n"
     ]
    }
   ],
   "source": [
    "def findAllEvenNumbers(value_n):\n",
    "    for i in range(0,value_n+1):\n",
    "        if i%2 == 0:\n",
    "            yield str(i)\n",
    "\n",
    "try:\n",
    "    input_n = int(input(\"Please enter a value of n : \"))\n",
    "    output_list = list(findAllEvenNumbers(input_n))\n",
    "    output_str = ','.join(output_list)\n",
    "    print(\"Result : \"+output_str)\n",
    "except:\n",
    "    print(\"Error occured, please check once the input entered\")"
   ]
  },
  {
   "cell_type": "markdown",
   "metadata": {
    "id": "HJAHfEufxTJy"
   },
   "source": [
    "3 . The Fibonacci Sequence is computed based on the following formula:\n",
    "\n",
    "f(n)=0 if n=0\n",
    "\n",
    "f(n)=1 if n=1\n",
    "\n",
    "f(n)=f(n-1)+f(n-2) if n>1\n",
    "\n",
    "Please write a program using list comprehension to print the Fibonacci Sequence in comma separated form with a given n input by console.Example:\n",
    "\n",
    "If the following n is given as input to the program:\n",
    "\n",
    "7\n",
    "\n",
    "Then, the output of the program should be:\n",
    "\n",
    "0,1,1,2,3,5,8,13"
   ]
  },
  {
   "cell_type": "code",
   "execution_count": 4,
   "metadata": {
    "colab": {
     "base_uri": "https://localhost:8080/"
    },
    "id": "fAgx4l0j-qh9",
    "outputId": "2cb25666-36ea-4988-afc9-2ad2d0f67eb6"
   },
   "outputs": [
    {
     "name": "stdout",
     "output_type": "stream",
     "text": [
      "Please input the value of n : 7\n",
      "Result : 0,1,1,2,3,5,8,13\n"
     ]
    }
   ],
   "source": [
    "def generateFibonacci(value_n):\n",
    "    if value_n == 0:\n",
    "        return 0\n",
    "    elif value_n == 1:\n",
    "        return 1\n",
    "    else:\n",
    "        return generateFibonacci(value_n-1)+generateFibonacci(value_n-2)\n",
    "\n",
    "try:\n",
    "    value_n = int(input(\"Please input the value of n : \"))\n",
    "    fibonacci_list = [str(generateFibonacci(i)) for i in range(0,value_n+1)]\n",
    "    output_str = ','.join(fibonacci_list)\n",
    "    print(\"Result : \"+output_str)\n",
    "except:\n",
    "    print(\"Error occured, please check the input once\")"
   ]
  },
  {
   "cell_type": "markdown",
   "metadata": {
    "id": "YPdlPCFNxd4s"
   },
   "source": [
    "4 . Assuming that we have some email addresses in the \"username@companyname.com\" format, please write program to print the user name of a given email address. Both user names and company names are composed of letters only.Example:\n",
    "\n",
    "If the following email address is given as input to the program:\n",
    "\n",
    "john@google.com\n",
    "\n",
    "Then, the output of the program should be:\n",
    "\n",
    "john"
   ]
  },
  {
   "cell_type": "code",
   "execution_count": 5,
   "metadata": {
    "colab": {
     "base_uri": "https://localhost:8080/"
    },
    "id": "Fho352nWxlLC",
    "outputId": "7e09f2cb-6553-4d80-e423-ad050dd14ff3"
   },
   "outputs": [
    {
     "name": "stdout",
     "output_type": "stream",
     "text": [
      "Please enter email-address : john@google.com\n",
      "john\n"
     ]
    }
   ],
   "source": [
    "def findUsernameFromEmail(value_email):\n",
    "    username = value_email.split('@')[0]\n",
    "    return username \n",
    "\n",
    "try:\n",
    "    input_email = input(\"Please enter email-address : \")\n",
    "    print(findUsernameFromEmail(input_email))\n",
    "except:\n",
    "    print(\"Error occured, please check once the input entered\")"
   ]
  },
  {
   "cell_type": "markdown",
   "metadata": {
    "id": "QTGxLgnVxoOx"
   },
   "source": [
    "5 . Define a class named Shape and its subclass Square. The Square class has an init function which takes a length as argument. Both classes have a area function which can print the area of the shape where Shape's area is 0 by default."
   ]
  },
  {
   "cell_type": "code",
   "execution_count": null,
   "metadata": {
    "colab": {
     "base_uri": "https://localhost:8080/"
    },
    "id": "qjBtQ0KaxqGj",
    "outputId": "b9d27247-e8fb-4acb-8b14-65806ae4865e"
   },
   "outputs": [
    {
     "name": "stdout",
     "output_type": "stream",
     "text": [
      "Area :  0\n",
      "Area :  16\n"
     ]
    }
   ],
   "source": [
    "class Shape:\n",
    "    def area(self):\n",
    "        self.area = 0\n",
    "        print(\"Area : \",self.area)\n",
    "\n",
    "class Square(Shape):\n",
    "    def __init__(self,length):\n",
    "        self.length = length\n",
    "    def area(self):\n",
    "        self.area = self.length ** 2\n",
    "        print(\"Area : \",self.area)\n",
    "\n",
    "shape1 = Shape()\n",
    "square1 = Square(4)\n",
    "\n",
    "sh1.area()\n",
    "sq1.area()"
   ]
  }
 ],
 "metadata": {
  "colab": {
   "collapsed_sections": [],
   "name": "python_basic_programming_assignment_15",
   "provenance": []
  },
  "kernelspec": {
   "display_name": "Python 3",
   "language": "python",
   "name": "python3"
  },
  "language_info": {
   "codemirror_mode": {
    "name": "ipython",
    "version": 3
   },
   "file_extension": ".py",
   "mimetype": "text/x-python",
   "name": "python",
   "nbconvert_exporter": "python",
   "pygments_lexer": "ipython3",
   "version": "3.8.5"
  }
 },
 "nbformat": 4,
 "nbformat_minor": 1
}

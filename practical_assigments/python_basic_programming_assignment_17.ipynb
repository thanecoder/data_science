{
 "cells": [
  {
   "cell_type": "markdown",
   "metadata": {
    "id": "R1GleodPXdjl"
   },
   "source": [
    "# Assignment 17"
   ]
  },
  {
   "cell_type": "markdown",
   "metadata": {
    "id": "kdknVta-Xf3T"
   },
   "source": [
    "#### Submitted By : Paritosh Nichat\n",
    "\n",
    "#### Date : July 18, 2021"
   ]
  },
  {
   "cell_type": "markdown",
   "metadata": {
    "id": "TwieeHR1rul3"
   },
   "source": [
    "1 . Create a function that takes three arguments a, b, c and returns the sum of the numbers that are evenly divided by c from the range a, b inclusive.Examples\n",
    "\n",
    "evenly_divisible(1, 10, 20) ➞ 0\n",
    "\n",
    "\\# No number between 1 and 10 can be evenly divided by 20.\n",
    "\n",
    "evenly_divisible(1, 10, 2) ➞ 30\n",
    "\n",
    "\\# 2 + 4 + 6 + 8 + 10 = 30\n",
    "\n",
    "evenly_divisible(1, 10, 3) ➞ 18\n",
    "\n",
    "\\# 3 + 6 + 9 = 18"
   ]
  },
  {
   "cell_type": "code",
   "execution_count": 25,
   "metadata": {
    "colab": {
     "base_uri": "https://localhost:8080/"
    },
    "id": "HrAZL1dHrrG9",
    "outputId": "83c5a303-e68b-4f70-af2a-e4b543e690f7"
   },
   "outputs": [
    {
     "name": "stdout",
     "output_type": "stream",
     "text": [
      "Please enter a value of a, b, c : 1,10,3\n",
      "Result :  18\n"
     ]
    }
   ],
   "source": [
    "def evenly_divisible(a, b, c):\n",
    "    sum_of_nums = 0\n",
    "    \n",
    "    for i in range(a, b+1):\n",
    "        if i%c == 0:\n",
    "            sum_of_nums += i\n",
    "    \n",
    "    return sum_of_nums\n",
    "\n",
    "try:\n",
    "    input_str = input(\"Please enter a value of a, b, c : \")\n",
    "    input_list = input_str.split(\",\")    \n",
    "    input_a, input_b, input_c = map(int,input_list)\n",
    "    print(\"Result : \",evenly_divisible(input_a, input_b, input_c))\n",
    "except Exception as error:\n",
    "    print(\"Error occured,please check the input values once\")"
   ]
  },
  {
   "cell_type": "markdown",
   "metadata": {
    "id": "KHzpZwUzr_d_"
   },
   "source": [
    "2 . Create a function that returns True if a given inequality expression is correct and False otherwise.Examples\n",
    "\n",
    "correct_signs(\"3 < 7 < 11\") ➞ True\n",
    "\n",
    "correct_signs(\"13 > 44 > 33 > 1\") ➞ False\n",
    "\n",
    "correct_signs(\"1 < 2 < 6 < 9 > 3\") ➞ True"
   ]
  },
  {
   "cell_type": "code",
   "execution_count": 7,
   "metadata": {
    "colab": {
     "base_uri": "https://localhost:8080/"
    },
    "id": "rGfqty3qr_0T",
    "outputId": "cf2834e2-9a0a-4400-cd66-80f27f13c7e3"
   },
   "outputs": [
    {
     "name": "stdout",
     "output_type": "stream",
     "text": [
      "Please enter an inequality expression(space-separated) : 13 > 44 > 33 > 1\n",
      "Result :  False\n"
     ]
    }
   ],
   "source": [
    "def correct_signs(value_str):\n",
    "    incorrect_exp = 0 \n",
    "    value_str = value_str.split(\" \")\n",
    "    for i in range(0,len(value_str)):\n",
    "        if value_str[i] == '<' and int(value_str[i-1]) > int(value_str[i+1]):\n",
    "            incorrect_exp += 1\n",
    "        if value_str[i] == '>' and int(value_str[i-1]) < int(value_str[i+1]):\n",
    "            incorrect_exp += 1\n",
    "    \n",
    "    if incorrect_exp == 0:\n",
    "        return True\n",
    "    else:\n",
    "        return False\n",
    "\n",
    "try:\n",
    "    inq_exp = input(\"Please enter an inequality expression(space-separated) : \")\n",
    "    print(\"Result : \",correct_signs(inq_exp))\n",
    "except:\n",
    "    print(\"Error occured, please check the input once\")"
   ]
  },
  {
   "cell_type": "markdown",
   "metadata": {
    "id": "eoOR7p1WsH1b"
   },
   "source": [
    "3 . Create a function that replaces all the vowels in a string with a specified character.\n",
    "Examples\n",
    "\n",
    "replace_vowels(\"the aardvark\", \"#\") ➞ \"th# ##rdv#rk\"\n",
    "\n",
    "replace_vowels(\"minnie mouse\", \"?\") ➞ \"m?nn?? m??s?\"\n",
    "\n",
    "replace_vowels(\"shakespeare\", \"*\") ➞ \"sh\\*k\\*sp\\*\\*r\\*\""
   ]
  },
  {
   "cell_type": "code",
   "execution_count": 8,
   "metadata": {
    "colab": {
     "base_uri": "https://localhost:8080/"
    },
    "id": "iR4BxgwBsNYI",
    "outputId": "050e13ce-f296-4cec-c83a-231ef05f1494"
   },
   "outputs": [
    {
     "name": "stdout",
     "output_type": "stream",
     "text": [
      "Enter the input string : shakespeare\n",
      "Enter the character to be replaced with: *\n",
      "Result : sh*k*sp**r*\n"
     ]
    }
   ],
   "source": [
    "import re\n",
    "\n",
    "def replace_vowels(value_str, value_char):\n",
    "    vowelsRegex = re.compile(r'[aeiouAEIOU]{1}')\n",
    "    vowelReplacedStr = re.sub(vowelsRegex, value_char, value_str)\n",
    "    return vowelReplacedStr\n",
    "\n",
    "try:\n",
    "    # Get input from user\n",
    "    input_str = input(\"Enter the input string : \")\n",
    "    input_char = input(\"Enter the character to be replaced with: \")\n",
    "    result = replace_vowels(input_str, input_char)\n",
    "    print(\"Result : {}\".format(result))\n",
    "except:\n",
    "    print(\"Error occured, please check the input once\")"
   ]
  },
  {
   "cell_type": "markdown",
   "metadata": {
    "id": "KND0SiQisNtq"
   },
   "source": [
    "4 . Write a function that calculates the factorial of a number recursively.Examples\n",
    "\n",
    "factorial(5) ➞ 120\n",
    "\n",
    "factorial(3) ➞ 6\n",
    "\n",
    "factorial(1) ➞ 1\n",
    "\n",
    "factorial(0) ➞ 1"
   ]
  },
  {
   "cell_type": "code",
   "execution_count": 23,
   "metadata": {
    "colab": {
     "base_uri": "https://localhost:8080/"
    },
    "id": "GC7gdXTKsQjA",
    "outputId": "99663514-4525-4be2-b254-6cf4657bb678"
   },
   "outputs": [
    {
     "name": "stdout",
     "output_type": "stream",
     "text": [
      "Enter a number for which factorial is to be found : 5\n",
      "Factorial(5) => 120\n"
     ]
    }
   ],
   "source": [
    "def factorial(a):\n",
    "    if a == 1:\n",
    "        return a\n",
    "    elif a == 0:\n",
    "        return 1\n",
    "    else:\n",
    "        return a * factorial(a-1)\n",
    "\n",
    "try:\n",
    "    # Get input from user\n",
    "    input_number = int(input(\"Enter a number for which factorial is to be found : \"))\n",
    "    result = factorial(input_number)\n",
    "    print(\"Factorial({}) => {}\".format(str(input_number),str(result)))\n",
    "except:\n",
    "    print(\"Error occured, please check the input once\")"
   ]
  },
  {
   "cell_type": "markdown",
   "metadata": {
    "id": "cko55gMwsQ0B"
   },
   "source": [
    "5 . Hamming distance is the number of characters that differ between two strings.To illustrate:\n",
    "\n",
    "String1: \"abcbba\"\n",
    "\n",
    "String2: \"abcbda\"\n",
    "\n",
    "Hamming Distance: 1 - \"b\" vs. \"d\" is the only difference.\n",
    "\n",
    "Create a function that computes the hamming distance between two strings.Examples\n",
    "\n",
    "hamming_distance(\"abcde\", \"bcdef\") ➞ 5\n",
    "\n",
    "hamming_distance(\"abcde\", \"abcde\") ➞ 0\n",
    "\n",
    "hamming_distance(\"strong\", \"strung\") ➞ 1"
   ]
  },
  {
   "cell_type": "code",
   "execution_count": 22,
   "metadata": {
    "colab": {
     "base_uri": "https://localhost:8080/"
    },
    "id": "9EWohrbqsRRx",
    "outputId": "b12c165c-3c08-4fcd-f93c-574fe8cf2c04"
   },
   "outputs": [
    {
     "name": "stdout",
     "output_type": "stream",
     "text": [
      "Please input first string  : abcde\n",
      "Please input second string  : bcdef\n",
      "Hamming Distance :  5\n"
     ]
    }
   ],
   "source": [
    "def hamming_distance(value_a, value_b):\n",
    "    difference_count = 0\n",
    "    for i,j in zip(value_a,value_b):\n",
    "        if i != j:\n",
    "             difference_count += 1\n",
    "\n",
    "    return difference_count\n",
    "\n",
    "try:\n",
    "    input_a = input(\"Please input first string  : \")\n",
    "    input_b = input(\"Please input second string  : \")\n",
    "    print(\"Hamming Distance : \",hamming_distance(input_a, input_b))\n",
    "except Exception as err:\n",
    "    print(\"Error occured, please check the input once\")"
   ]
  }
 ],
 "metadata": {
  "colab": {
   "collapsed_sections": [],
   "name": "python_basic_programming_assignment_17",
   "provenance": []
  },
  "kernelspec": {
   "display_name": "Python 3",
   "language": "python",
   "name": "python3"
  },
  "language_info": {
   "codemirror_mode": {
    "name": "ipython",
    "version": 3
   },
   "file_extension": ".py",
   "mimetype": "text/x-python",
   "name": "python",
   "nbconvert_exporter": "python",
   "pygments_lexer": "ipython3",
   "version": "3.8.5"
  }
 },
 "nbformat": 4,
 "nbformat_minor": 1
}

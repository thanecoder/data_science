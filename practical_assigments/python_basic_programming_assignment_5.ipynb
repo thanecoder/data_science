{
 "cells": [
  {
   "cell_type": "markdown",
   "metadata": {},
   "source": [
    "# Assignment 5"
   ]
  },
  {
   "cell_type": "markdown",
   "metadata": {},
   "source": [
    "#### Submitted by : Paritosh Nichat\n",
    "\n",
    "#### Date : May 29, 2021"
   ]
  },
  {
   "cell_type": "markdown",
   "metadata": {
    "id": "5UOX0qUXToKp"
   },
   "source": [
    "**1 . Write a Python Program to Find LCM?**"
   ]
  },
  {
   "cell_type": "code",
   "execution_count": 18,
   "metadata": {
    "colab": {
     "base_uri": "https://localhost:8080/"
    },
    "id": "oZiEcDglUC2o",
    "outputId": "e45831fe-0220-481f-fa34-91d2f0eb1a89"
   },
   "outputs": [
    {
     "name": "stdout",
     "output_type": "stream",
     "text": [
      "Enter the first number : 4\n",
      "Enter the second number : 5\n",
      "LCM of a and b is : 20.0\n"
     ]
    }
   ],
   "source": [
    "def get_gcd(a, b):\n",
    "    \"\"\"\n",
    "    This function will return the GCD of two numbers\n",
    "    Input - Two positive numbers whose GCD to be found out.\n",
    "    Output - GCD of two numbers\n",
    "    \"\"\"  \n",
    "    if a == 0:\n",
    "        return b\n",
    "    else:\n",
    "        return get_gcd(b % a, a)\n",
    "\n",
    "def get_lcm(a , b):\n",
    "    \"\"\"\n",
    "    This function will return the LCM of two numbers\n",
    "    Input - Two positive numbers whose LCM to be found out.\n",
    "    Output - LCM of two numbers\n",
    "    \"\"\" \n",
    "    lcm = (a*b)/get_gcd(a, b)\n",
    "    return lcm\n",
    "\n",
    "try:\n",
    "    # Get input from user\n",
    "    num1 = float(input(\"Enter the first number : \"))\n",
    "    num2 = float(input(\"Enter the second number : \"))\n",
    "    \n",
    "    # Check for positive input\n",
    "    if num1 >= 0 and num2 >= 0: \n",
    "        lcm_result = get_lcm(num1,num2)\n",
    "        print(\"LCM of a and b is : {}\".format(str(lcm_result)))\n",
    "    else:\n",
    "        raise Exception\n",
    "\n",
    "except:\n",
    "    print(\"Please enter valid positive numbers as input\")"
   ]
  },
  {
   "cell_type": "markdown",
   "metadata": {
    "id": "Jce715kMTsR_"
   },
   "source": [
    "**2 . Write a Python Program to Find HCF?**"
   ]
  },
  {
   "cell_type": "code",
   "execution_count": 9,
   "metadata": {
    "colab": {
     "base_uri": "https://localhost:8080/"
    },
    "id": "g06trmoxbAAe",
    "outputId": "399f66e1-0135-4d3a-aec9-ae15d3b5cef0"
   },
   "outputs": [
    {
     "name": "stdout",
     "output_type": "stream",
     "text": [
      "Enter the first number, a : 24\n",
      "Enter the second number, b : 60\n",
      "HCF of a and b is : 12.0\n"
     ]
    }
   ],
   "source": [
    "def get_gcd(a, b):\n",
    "    \"\"\"\n",
    "    This function will return the GCD of two numbers\n",
    "    Input - Two numbers whose GCD to be found out.\n",
    "    Output - GCD of two numbers\n",
    "    \"\"\" \n",
    "    if a == 0:\n",
    "        return b\n",
    "    else:\n",
    "        return get_gcd(b % a, a) # This step to be reviewed\n",
    "\n",
    "try:\n",
    "    # Get input from user\n",
    "    num1 = float(input(\"Enter the first number, a : \"))\n",
    "    num2 = float(input(\"Enter the second number, b : \"))\n",
    "    \n",
    "    # Check for positive input\n",
    "    if num1 >= 0 and num2 >= 0:\n",
    "        gcd_result = get_gcd(num1,num2)\n",
    "        print(\"HCF of a and b is : {}\".format(str(gcd_result)))\n",
    "    else:\n",
    "        raise Exception\n",
    "\n",
    "except:\n",
    "    print(\"Please enter valid positive numbers as input\")"
   ]
  },
  {
   "cell_type": "markdown",
   "metadata": {
    "id": "MK2ZejVBTsFE"
   },
   "source": [
    "**3 . Write a Python Program to Convert Decimal to Binary, Octal and Hexadecimal?**"
   ]
  },
  {
   "cell_type": "code",
   "execution_count": 4,
   "metadata": {
    "colab": {
     "base_uri": "https://localhost:8080/"
    },
    "id": "VvB0jaZUcOn_",
    "outputId": "48e348a9-df2c-4efb-cdfe-1f4e26017078"
   },
   "outputs": [
    {
     "name": "stdout",
     "output_type": "stream",
     "text": [
      "Enter the input decimal : 34\n",
      "Binary result is : 0b100010\n",
      "Octal result is : 0o42\n",
      "Hexadecimal result is : 0x22\n"
     ]
    }
   ],
   "source": [
    "try:\n",
    "    input_number = int(input(\"Enter the input decimal : \"))\n",
    "    if input_number >= 0:\n",
    "        print(\"Binary result is : \"+str(bin(input_number)))\n",
    "        print(\"Octal result is : \"+str(oct(input_number)))\n",
    "        print(\"Hexadecimal result is : \"+str(hex(input_number)))\n",
    "    else:\n",
    "        raise Exception\n",
    "except:\n",
    "    print(\"Please enter a valid decimal input\")"
   ]
  },
  {
   "cell_type": "markdown",
   "metadata": {
    "id": "kKe-HgN-Trmz"
   },
   "source": [
    "**4 . Write a Python Program To Find ASCII value of a character?**"
   ]
  },
  {
   "cell_type": "code",
   "execution_count": 3,
   "metadata": {
    "colab": {
     "base_uri": "https://localhost:8080/"
    },
    "id": "a94dKIwqrDlF",
    "outputId": "3b8c5570-4ccb-4083-a204-0c94c56cf966"
   },
   "outputs": [
    {
     "name": "stdout",
     "output_type": "stream",
     "text": [
      "Enter a character for which you want to know the ASCII value : a\n",
      "ASCII value of a is : 97\n"
     ]
    }
   ],
   "source": [
    "def get_ascii(input_char):\n",
    "    \"\"\"\n",
    "    Function to get ascii value for any input character\n",
    "    \"\"\"\n",
    "    return ord(input_char)\n",
    "\n",
    "input_char = input(\"Enter a character for which you want to know the ASCII value : \")\n",
    "for i in input_char:\n",
    "    print(\"ASCII value of {} is : {}\".format(str(i),str(get_ascii(i))))"
   ]
  },
  {
   "cell_type": "markdown",
   "metadata": {
    "id": "v5fTUyOQT9Ct"
   },
   "source": [
    "**5 . Write a Python Program to Make a Simple Calculator with 4 basic mathematical operations?**\n"
   ]
  },
  {
   "cell_type": "code",
   "execution_count": 10,
   "metadata": {
    "colab": {
     "base_uri": "https://localhost:8080/"
    },
    "id": "ohfDPPberEeq",
    "outputId": "b25b4d37-1dbb-4de9-c0d9-02e5db12b74b"
   },
   "outputs": [
    {
     "name": "stdout",
     "output_type": "stream",
     "text": [
      "Do you want to use the calculator [Y/N] ?y\n",
      "Enter the first number : jfvhjz\n",
      "Error occured - could not convert string to float: 'jfvhjz'. Please try again with different input.\n",
      "Do you want to use the calculator [Y/N] ?y\n",
      "Enter the first number : 2\n",
      "Enter the second number : 3\n",
      "Enter an operation - add[+], subtract[-], multiple[*], divide[/] : +\n",
      "Result is : 5\n",
      "Do you want to use the calculator [Y/N] ?n\n",
      "Ok , See you later !\n"
     ]
    }
   ],
   "source": [
    "def add_numbers(a, b):\n",
    "    \"\"\"\n",
    "    Function to return addition of two numbers\n",
    "    \"\"\"\n",
    "    addition_result = str(round(a+b))\n",
    "    return addition_result\n",
    "def subtract_numbers(a, b):\n",
    "    \"\"\"\n",
    "    Function to return subtraction of two numbers\n",
    "    \"\"\"\n",
    "    subract_result = str(round(a-b))\n",
    "    return subract_result\n",
    "def divide_numbers(a, b):\n",
    "    \"\"\"\n",
    "    Function to return division of two numbers\n",
    "    \"\"\"\n",
    "    division_result = ''\n",
    "    try:\n",
    "        division_result = round(a/b)\n",
    "    except ArithmeticError as e:\n",
    "        division_result = \"Error occured - \"+str(e)+\". Please try division with different values.\"\n",
    "    return str(division_result)\n",
    "def multiple_numbers(a, b):\n",
    "    \"\"\"\n",
    "    Function to return multiplication of two numbers\n",
    "    \"\"\"\n",
    "    multiply_result = str(round(a * b))\n",
    "    return multiply_result\n",
    "\n",
    "while True:\n",
    "    use_calculator = input(\"Do you want to use the calculator [Y/N] ?\")\n",
    "    if use_calculator != 'Y' and use_calculator != 'y':\n",
    "        print(\"Ok , See you later !\")\n",
    "        break\n",
    "    else:\n",
    "        try:\n",
    "            first_number = float(input(\"Enter the first number : \"))\n",
    "            second_number = float(input(\"Enter the second number : \"))\n",
    "            operator = input(\"Enter an operation - add[+], subtract[-], multiple[*], divide[/] : \")\n",
    "            if operator == \"+\":\n",
    "                print(\"Result is : {}\".format(add_numbers(first_number, second_number)))\n",
    "            elif operator == \"-\":\n",
    "                print(\"Result is : {}\".format(subtract_numbers(first_number, second_number)))\n",
    "            elif operator == \"*\":\n",
    "                print(\"Result is : {}\".format(multiply_numbers(first_number, second_number)))\n",
    "            elif operator == \"/\":\n",
    "                print(\"Result is : {}\".format(divide_numbers(first_number, second_number)))\n",
    "            else:\n",
    "                print(\"Invalid Operator\")\n",
    "            continue\n",
    "        except Exception as e:\n",
    "            print(\"Error occured - \"+str(e)+\". Please try again with different input.\")\n",
    "            continue"
   ]
  }
 ],
 "metadata": {
  "colab": {
   "collapsed_sections": [],
   "name": "python_basic_programming_assignment_5",
   "provenance": []
  },
  "kernelspec": {
   "display_name": "Python 3",
   "language": "python",
   "name": "python3"
  },
  "language_info": {
   "codemirror_mode": {
    "name": "ipython",
    "version": 3
   },
   "file_extension": ".py",
   "mimetype": "text/x-python",
   "name": "python",
   "nbconvert_exporter": "python",
   "pygments_lexer": "ipython3",
   "version": "3.8.5"
  }
 },
 "nbformat": 4,
 "nbformat_minor": 1
}

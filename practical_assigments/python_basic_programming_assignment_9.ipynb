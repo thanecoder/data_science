{
 "cells": [
  {
   "cell_type": "markdown",
   "metadata": {},
   "source": [
    "# Assignment 9"
   ]
  },
  {
   "cell_type": "markdown",
   "metadata": {},
   "source": [
    "#### Submitted By : Paritosh Nichat\n",
    "\n",
    "#### Date : July 18, 2021"
   ]
  },
  {
   "cell_type": "markdown",
   "metadata": {
    "id": "9-A_VgYGCl5P"
   },
   "source": [
    "**1 . Write a Python program to check if the given number is a Disarium Number?**"
   ]
  },
  {
   "cell_type": "code",
   "execution_count": 1,
   "metadata": {
    "colab": {
     "base_uri": "https://localhost:8080/"
    },
    "id": "MF3HZJxoB80o",
    "outputId": "590792db-73cc-47be-c4e4-4407a34c83b6"
   },
   "outputs": [
    {
     "name": "stdout",
     "output_type": "stream",
     "text": [
      "Enter the number to be checked for Disarium Number : 88\n",
      "Result : No , it is not a Disarium Number\n"
     ]
    }
   ],
   "source": [
    "def check_if_disarium(input_number):\n",
    "    \"\"\"\n",
    "    This function checks if any given input number is a Disarium Number or not.\n",
    "    A Disarium number is a number defined by the following process: Sum of its digits powered \n",
    "    with their respective position is equal to the original number.\n",
    "    Input - Number which is to be tested for Disarium Number.\n",
    "    Output - Returns True if input is a Disarium Number. Else returns False.\n",
    "    \"\"\"\n",
    "    # print(data[\"digits\"])\n",
    "    digits = []\n",
    "    temp = input_number\n",
    "    while temp > 0:\n",
    "        digits.append(int(temp%10))\n",
    "        temp = int(temp/10)\n",
    "    digits.reverse()\n",
    "    sum_of_digits = 0\n",
    "    for i in digits:\n",
    "        sum_of_digits += i**int(digits.index(i)+1)\n",
    "    if sum_of_digits == input_number:\n",
    "        return True\n",
    "    else:\n",
    "        return False\n",
    "\n",
    "input_number = int(input(\"Enter the number to be checked for Disarium Number : \"))\n",
    "try:\n",
    "    # Check for positive number input\n",
    "    if input_number >= 0:\n",
    "        if check_if_disarium(input_number):\n",
    "            print(\"Result : Yes , it is a Disarium Number\")\n",
    "        else:\n",
    "            print(\"Result : No , it is not a Disarium Number\")\n",
    "    else:\n",
    "        raise Exception\n",
    "except:\n",
    "    print(\"Please provide a valid positive natural number as input.\")"
   ]
  },
  {
   "cell_type": "markdown",
   "metadata": {
    "id": "2qrOQHXECqNn"
   },
   "source": [
    "**2 . Write a Python program to print all disarium numbers between 1 to 100?**"
   ]
  },
  {
   "cell_type": "code",
   "execution_count": 2,
   "metadata": {
    "colab": {
     "base_uri": "https://localhost:8080/"
    },
    "id": "1Up_BsPwCudn",
    "outputId": "32cde6a9-fe23-41fe-8176-e2c21e07822e"
   },
   "outputs": [
    {
     "name": "stdout",
     "output_type": "stream",
     "text": [
      "List of Disarium Numbers between 1 and 100 :\n",
      "1\n",
      "2\n",
      "3\n",
      "4\n",
      "5\n",
      "6\n",
      "7\n",
      "8\n",
      "9\n",
      "89\n"
     ]
    }
   ],
   "source": [
    "def check_if_disarium(input_number):\n",
    "    \"\"\"\n",
    "    This function checks if any given input number is a Disarium Number or not.\n",
    "    Input - Number which is to be tested for Disarium Number.\n",
    "    Output - Returns True if input is a Disarium Number. Else returns False.\n",
    "    \"\"\"\n",
    "    digits = []\n",
    "    temp = input_number\n",
    "    while temp > 0:\n",
    "        digits.append(int(temp%10))\n",
    "        temp = int(temp/10)\n",
    "    digits.reverse()\n",
    "    sum_of_digits = 0\n",
    "    for i in digits:\n",
    "        sum_of_digits += i**int(digits.index(i)+1)\n",
    "    if sum_of_digits == input_number:\n",
    "        return True\n",
    "    else:\n",
    "        return False\n",
    "\n",
    "print(\"List of Disarium Numbers between 1 and 100 :\")\n",
    "for i in range(1, 100):\n",
    "    if check_if_disarium(i):\n",
    "        print(i)"
   ]
  },
  {
   "cell_type": "markdown",
   "metadata": {
    "id": "FGqUTE0nCvEA"
   },
   "source": [
    "**3 . Write a Python program to check if the given number is Happy Number?**"
   ]
  },
  {
   "cell_type": "code",
   "execution_count": 3,
   "metadata": {
    "colab": {
     "base_uri": "https://localhost:8080/"
    },
    "id": "TMO1MrJvCzHn",
    "outputId": "4f852b2a-1abd-46fb-8324-fa8d3328ac17"
   },
   "outputs": [
    {
     "name": "stdout",
     "output_type": "stream",
     "text": [
      "Enter a number which is to be tested for Happy Number : 13\n",
      "Result : Yes, it is a Happy Number\n"
     ]
    }
   ],
   "source": [
    "def check_if_happy_number(input_number):\n",
    "    \"\"\"\n",
    "    This function checks if any given input number is a Happy Number or not.\n",
    "    Input - Number which is to be tested for Happy Number.\n",
    "    Output - Returns True if input is a Happy Number. Else returns False.\n",
    "    \"\"\"\n",
    "    sum_of_digits = 0\n",
    "    digits = []\n",
    "    temp_input_number = input_number\n",
    "    temp = input_number\n",
    "    while temp > 0:\n",
    "        digits.append(int(temp%10))\n",
    "        temp = int(temp/10)\n",
    "    digits.reverse()\n",
    "    if len(digits) == 1:\n",
    "        if digits[0] == 1:\n",
    "            return True\n",
    "        else:\n",
    "            return False\n",
    "    else:\n",
    "        for i in digits:\n",
    "            sum_of_digits += int(i**2)\n",
    "        return check_if_happy_number(sum_of_digits)\n",
    "\n",
    "input_number = int(input(\"Enter a number which is to be tested for Happy Number : \"))\n",
    "try:\n",
    "    # Check for positive number input\n",
    "    if input_number >= 0:\n",
    "        if check_if_happy_number(input_number):\n",
    "            print(\"Result : Yes, it is a Happy Number\")\n",
    "        else:\n",
    "            print(\"Result : No, it is not a Happy Number\")\n",
    "    else:\n",
    "        raise Exception\n",
    "except:\n",
    "    print(\"Please enter a valid positive natural number as input\")"
   ]
  },
  {
   "cell_type": "markdown",
   "metadata": {
    "id": "x9RL_bSaCz5h"
   },
   "source": [
    "**4 . Write a Python program to print all happy numbers between 1 and 100?**"
   ]
  },
  {
   "cell_type": "code",
   "execution_count": 4,
   "metadata": {
    "colab": {
     "base_uri": "https://localhost:8080/"
    },
    "id": "il8kfo79C3JG",
    "outputId": "c8113033-aa0b-4e49-b46f-61d8c98f1b37"
   },
   "outputs": [
    {
     "name": "stdout",
     "output_type": "stream",
     "text": [
      "List of Happy Numbers between 1 and 100 : \n",
      "1\n",
      "10\n",
      "13\n",
      "19\n",
      "23\n",
      "28\n",
      "31\n",
      "32\n",
      "44\n",
      "49\n",
      "68\n",
      "70\n",
      "79\n",
      "82\n",
      "86\n",
      "91\n",
      "94\n",
      "97\n"
     ]
    }
   ],
   "source": [
    "def check_if_happy_number(input_number):\n",
    "    \"\"\"\n",
    "    This function checks if any given input number is a Happy Number or not.\n",
    "    Input - Number which is to be tested for Happy Number.\n",
    "    Output - Returns True if input is a Happy Number. Else returns False.\n",
    "    \"\"\"\n",
    "    sum_of_digits = 0\n",
    "    digits = []\n",
    "    temp_input_number = input_number\n",
    "    temp = input_number\n",
    "    while temp > 0:\n",
    "        digits.append(int(temp%10))\n",
    "        temp = int(temp/10)\n",
    "    digits.reverse()\n",
    "    if len(digits) == 1:\n",
    "        if digits[0] == 1:\n",
    "            return True\n",
    "        else:\n",
    "            return False\n",
    "    else:\n",
    "        for i in digits:\n",
    "            sum_of_digits += int(i**2)\n",
    "        return check_if_happy_number(sum_of_digits)\n",
    "\n",
    "print(\"List of Happy Numbers between 1 and 100 : \")\n",
    "for i in range(1, 100):\n",
    "    if(check_if_happy_number(i)):\n",
    "        print(i)"
   ]
  },
  {
   "cell_type": "markdown",
   "metadata": {
    "id": "O-Vhaua8C3wQ"
   },
   "source": [
    "**5 . Write a Python program to determine whether the given number is a Harshad Number?**"
   ]
  },
  {
   "cell_type": "code",
   "execution_count": 5,
   "metadata": {
    "colab": {
     "base_uri": "https://localhost:8080/"
    },
    "id": "m_l5i-9DC6ws",
    "outputId": "076d6028-511f-433d-9ada-93b820241e2d"
   },
   "outputs": [
    {
     "name": "stdout",
     "output_type": "stream",
     "text": [
      "Enter the number which is to be checked for Harshad Number : 20\n",
      "Result : Yes , it is a Harshad Number\n"
     ]
    }
   ],
   "source": [
    "def check_if_harshad_number(input_number):\n",
    "    \"\"\"\n",
    "    This function checks if any given input number is a Harshad Number or not.\n",
    "    Input - Positive Number which is to be tested for Harshad Number.\n",
    "    Output - Returns True if input is a Harshad Number. Else returns False.\n",
    "    \"\"\"\n",
    "    digits = []\n",
    "    temp = input_number\n",
    "    while temp > 0:\n",
    "        digits.append(int(temp%10))\n",
    "        temp = int(temp/10)\n",
    "    digits.reverse()\n",
    "    sum_of_digits = 0\n",
    "    for i in digits:\n",
    "        sum_of_digits += i\n",
    "    # print(sum_of_digits)\n",
    "    if input_number % sum_of_digits == 0:\n",
    "        return True\n",
    "    else:\n",
    "        return False\n",
    "\n",
    "input_number = int(input(\"Enter the number which is to be checked for Harshad Number : \"))\n",
    "\n",
    "try:\n",
    "    # Check for positive number input\n",
    "    if input_number >= 0:\n",
    "        if check_if_harshad_number(input_number):\n",
    "            print(\"Result : Yes , it is a Harshad Number\")\n",
    "        else:\n",
    "            print(\"Result : No , it is not a Harshad Number\")\n",
    "    else:\n",
    "        raise Exception\n",
    "\n",
    "except:\n",
    "    print(\"Please enter a valid positive number as input\")"
   ]
  },
  {
   "cell_type": "markdown",
   "metadata": {
    "id": "Xz2nfCl5C70-"
   },
   "source": [
    "**6 . Write a Python program to print all pronic numbers between 1 and 100?**"
   ]
  },
  {
   "cell_type": "code",
   "execution_count": 6,
   "metadata": {
    "colab": {
     "base_uri": "https://localhost:8080/"
    },
    "id": "g_5GdyhYC_Qs",
    "outputId": "be705ddd-5079-441e-a0d8-fbfc8f09d741"
   },
   "outputs": [
    {
     "name": "stdout",
     "output_type": "stream",
     "text": [
      "List of Pronic Numbers between 1 and 100 : \n",
      "0\n",
      "2\n",
      "6\n",
      "12\n",
      "20\n",
      "30\n",
      "42\n",
      "56\n",
      "72\n",
      "90\n"
     ]
    }
   ],
   "source": [
    "import math\n",
    "\n",
    "def check_if_pronic_number(input_number):\n",
    "    i = 0\n",
    "    while (i <= int(math.sqrt(input_number))):\n",
    "        if (input_number == (i * (i + 1))):\n",
    "            return True\n",
    "        i = i + 1\n",
    "\n",
    "    return False\n",
    "\n",
    "\n",
    "print(\"List of Pronic Numbers between 1 and 100 : \")\n",
    "for i in range(0,101):\n",
    "    if check_if_pronic_number(i):\n",
    "        print(i)"
   ]
  }
 ],
 "metadata": {
  "colab": {
   "collapsed_sections": [],
   "name": "python_basic_programming_assignment_9",
   "provenance": []
  },
  "kernelspec": {
   "display_name": "Python 3",
   "language": "python",
   "name": "python3"
  },
  "language_info": {
   "codemirror_mode": {
    "name": "ipython",
    "version": 3
   },
   "file_extension": ".py",
   "mimetype": "text/x-python",
   "name": "python",
   "nbconvert_exporter": "python",
   "pygments_lexer": "ipython3",
   "version": "3.8.5"
  }
 },
 "nbformat": 4,
 "nbformat_minor": 1
}

{
 "cells": [
  {
   "cell_type": "markdown",
   "metadata": {
    "id": "WDLfvwhtwe0_"
   },
   "source": [
    "# Assignment 14"
   ]
  },
  {
   "cell_type": "markdown",
   "metadata": {
    "id": "8u3dC1D_whEh"
   },
   "source": [
    "#### Submitted By : Paritosh Nichat\n",
    "\n",
    "#### Date : July 18, 2021"
   ]
  },
  {
   "cell_type": "markdown",
   "metadata": {
    "id": "W27_A_MKsXXn"
   },
   "source": [
    "1 . Define a class with a generator which can iterate the numbers, which are divisible by 7, between a given range 0 and n."
   ]
  },
  {
   "cell_type": "code",
   "execution_count": 20,
   "metadata": {
    "colab": {
     "base_uri": "https://localhost:8080/"
    },
    "id": "lEHrBWWlsBbL",
    "outputId": "506dc131-9cb4-4318-ed27-c12d57903ee5"
   },
   "outputs": [
    {
     "name": "stdout",
     "output_type": "stream",
     "text": [
      "Please enter a value of n : 100\n",
      "0,7,14,21,28,35,42,49,56,63,70,77,84,91,98,"
     ]
    }
   ],
   "source": [
    "class DivisibilityBySeven:\n",
    "    def __init__(self,value_n):\n",
    "        self.value_n = value_n\n",
    "\n",
    "    def findIfDivisibleBySeven(self):\n",
    "        for i in range(0,self.value_n):\n",
    "            if i%7 == 0:\n",
    "                yield i\n",
    "\n",
    "try:\n",
    "    input_n = int(input(\"Please enter a value of n : \"))\n",
    "    n1 = DivisibilityBySeven(input_n)\n",
    "    for i in n1.findIfDivisibleBySeven():\n",
    "        print(i,end=\",\")\n",
    "except:\n",
    "    print(\"Error occured, please check once the input entered\")"
   ]
  },
  {
   "cell_type": "markdown",
   "metadata": {
    "id": "lXlQTRcvv1L8"
   },
   "source": [
    "2 . Write a program to compute the frequency of the words from the input. The output should output after sorting the key alphanumerically. Suppose the following input is supplied to the program:\n",
    "\n",
    "New to Python or choosing between Python 2 and Python 3? Read Python 2 or Python 3.\n",
    "\n",
    "Then, the output should be:\n",
    "\n",
    "2:2\n",
    "\n",
    "3.:1\n",
    "\n",
    "3?:1\n",
    "\n",
    "New:1\n",
    "\n",
    "Python:5\n",
    "\n",
    "Read:1\n",
    "\n",
    "and:1\n",
    "\n",
    "between:1\n",
    "\n",
    "choosing:1\n",
    "\n",
    "or:2\n",
    "\n",
    "to:1"
   ]
  },
  {
   "cell_type": "code",
   "execution_count": 19,
   "metadata": {
    "colab": {
     "base_uri": "https://localhost:8080/"
    },
    "id": "tijnRuHNwM3D",
    "outputId": "03ea49ea-1cd0-4778-8a66-4aca2ac6a101"
   },
   "outputs": [
    {
     "name": "stdout",
     "output_type": "stream",
     "text": [
      "Please enter input string : New to Python or choosing between Python 2 and Python 3? Read Python 2 or Python 3.\n",
      "2:2\n",
      "3.:1\n",
      "3?:1\n",
      "New:1\n",
      "Python:5\n",
      "Read:1\n",
      "and:1\n",
      "between:1\n",
      "choosing:1\n",
      "or:2\n",
      "to:1\n"
     ]
    }
   ],
   "source": [
    "def get_occurences(input_list):\n",
    "    occurences = {}\n",
    "    for i in input_list:\n",
    "        if i in occurences:\n",
    "            occurences[i] += 1\n",
    "        else:\n",
    "            occurences[i] = 1\n",
    "    return occurences\n",
    "\n",
    "try:\n",
    "    input_str = input(\"Please enter input string : \")\n",
    "    input_list = input_str.split(\" \")\n",
    "    input_list.sort()\n",
    "    count_dict = get_occurences(input_list)\n",
    "    for key,value in enumerate(count_dict.items()):\n",
    "        print(str(value[0])+\":\"+str(value[1]))\n",
    "\n",
    "except Exception as error:\n",
    "    print(\"Error occured, please check the input once\",error)"
   ]
  },
  {
   "cell_type": "markdown",
   "metadata": {
    "id": "I4BsWy50wNMG"
   },
   "source": [
    "3 . Define a class Person and its two child classes: Male and Female. All classes have a method \"getGender\" which can print \"Male\" for Male class and \"Female\" for Female class."
   ]
  },
  {
   "cell_type": "code",
   "execution_count": 18,
   "metadata": {
    "colab": {
     "base_uri": "https://localhost:8080/"
    },
    "id": "I5kmmrTiwQ5p",
    "outputId": "2c014d01-8efd-4a43-ef28-5ddf0fa930e2"
   },
   "outputs": [
    {
     "name": "stdout",
     "output_type": "stream",
     "text": [
      "Person\n",
      "Male\n",
      "Female\n"
     ]
    }
   ],
   "source": [
    "class Person:\n",
    "    gender = 'Person'\n",
    "    def getGender(self):\n",
    "        print(self.gender)\n",
    "\n",
    "class Male(Person):\n",
    "    gender = \"Male\"\n",
    "    def getGender(self):\n",
    "        print(self.gender)\n",
    "    \n",
    "class Female(Person):\n",
    "    gender = \"Female\"\n",
    "    def getGender(self):\n",
    "        print(self.gender)\n",
    "\n",
    "person1 = Person()\n",
    "male1 = Male()\n",
    "female1 = Female()\n",
    "\n",
    "person1.getGender()\n",
    "male1.getGender()\n",
    "female1.getGender()"
   ]
  },
  {
   "cell_type": "markdown",
   "metadata": {
    "id": "z1RNlNScwRTW"
   },
   "source": [
    "4 . Please write a program to generate all sentences where subject is in [\"I\", \"You\"] and verb is in [\"Play\", \"Love\"] and the object is in [\"Hockey\",\"Football\"]."
   ]
  },
  {
   "cell_type": "code",
   "execution_count": 17,
   "metadata": {
    "colab": {
     "base_uri": "https://localhost:8080/"
    },
    "id": "QzsDc85NwUkD",
    "outputId": "e794a321-e945-40ee-9af9-4f107de37ec3"
   },
   "outputs": [
    {
     "name": "stdout",
     "output_type": "stream",
     "text": [
      "I Play Hockey\n",
      "I Play Football\n",
      "I Love Hockey\n",
      "I Love Football\n",
      "You Play Hockey\n",
      "You Play Football\n",
      "You Love Hockey\n",
      "You Love Football\n"
     ]
    }
   ],
   "source": [
    "subjectArr =  [\"I\", \"You\"]\n",
    "verbArr = [\"Play\", \"Love\"]\n",
    "objectArr = [\"Hockey\",\"Football\"]\n",
    "\n",
    "for i in subjectArr:\n",
    "    for j in verbArr:\n",
    "        for k in objectArr:\n",
    "            print(i+\" \"+j+\" \"+k)"
   ]
  },
  {
   "cell_type": "markdown",
   "metadata": {
    "id": "gY8xnNl3wU9w"
   },
   "source": [
    "5 . Please write a program to compress and decompress the string \"hello world!hello world!hello world!hello world!\"."
   ]
  },
  {
   "cell_type": "code",
   "execution_count": 16,
   "metadata": {
    "colab": {
     "base_uri": "https://localhost:8080/"
    },
    "id": "e4ERvycowYkM",
    "outputId": "fbb16432-09d1-46cd-9615-cb0635b825ee"
   },
   "outputs": [
    {
     "name": "stdout",
     "output_type": "stream",
     "text": [
      "Compressed string b'x\\x9c\\xcbH\\xcd\\xc9\\xc9W(\\xcf/\\xcaIQ\\xcc \\x82\\r\\x00\\xbd[\\x11\\xf5'\n",
      "Decompressed string b'hello world!hello world!hello world!hello world!'\n"
     ]
    }
   ],
   "source": [
    "import zlib\n",
    "input_str = \"hello world!hello world!hello world!hello world!\"\n",
    "input_str = input_str.encode()\n",
    "compressed_str = zlib.compress(input_str)\n",
    "print(\"Compressed string\", compressed_str)\n",
    "decompressed_str = zlib.decompress(compressed_str)\n",
    "print(\"Decompressed string\",str(decompressed_str))"
   ]
  },
  {
   "cell_type": "markdown",
   "metadata": {
    "id": "C6HZhQ8WwYEG"
   },
   "source": [
    "6 . Please write a binary search function which searches an item in a sorted list. The function should return the index of element to be searched in the list."
   ]
  },
  {
   "cell_type": "code",
   "execution_count": 15,
   "metadata": {
    "colab": {
     "base_uri": "https://localhost:8080/"
    },
    "id": "mW07OJLUwcXd",
    "outputId": "0e482bd8-503d-4d2d-a8a5-9c9d594bef20"
   },
   "outputs": [
    {
     "name": "stdout",
     "output_type": "stream",
     "text": [
      "Please input the comma-separated list to be searched : 10,3,40,4,56,67,43,12,89\n",
      "Please input the element to be searched : 12\n",
      "Sorted List :  [3, 4, 10, 12, 40, 43, 56, 67, 89]\n",
      "Element found at index :  3\n"
     ]
    }
   ],
   "source": [
    "def binary_search(value_list, search_elem):\n",
    "    search_index = -1\n",
    "    low_idx = 0\n",
    "    high_idx = len(value_list)-1\n",
    "    mid_idx = int((low_idx + (high_idx - low_idx))/2)\n",
    "    mid_element = value_list[mid_idx]\n",
    "    if mid_element == search_elem:\n",
    "        search_index = mid_idx\n",
    "    elif mid_element < search_elem:\n",
    "        for i in range(mid_idx+1,len(value_list)):\n",
    "            if value_list[i] == search_elem:\n",
    "                search_index = i\n",
    "    else:\n",
    "        for i in range(0,mid_idx):\n",
    "            if value_list[i] == search_elem:\n",
    "                search_index = i\n",
    "    \n",
    "    return search_index\n",
    "\n",
    "try:\n",
    "    input_list = input(\"Please input the comma-separated list to be searched : \")\n",
    "    search_input = int(input(\"Please input the element to be searched : \"))\n",
    "    input_list = input_list.split(\",\")\n",
    "    input_list = [int(i) for i in input_list]\n",
    "    input_list.sort()\n",
    "    print(\"Sorted List : \",input_list)\n",
    "    print(\"Element found at index : \", binary_search(input_list, search_input))\n",
    "except Exception as error:\n",
    "    print(\"Oops, something went wrong, please try again\")"
   ]
  }
 ],
 "metadata": {
  "colab": {
   "collapsed_sections": [],
   "name": "python_basic_programming_assignment_14",
   "provenance": []
  },
  "kernelspec": {
   "display_name": "Python 3",
   "language": "python",
   "name": "python3"
  },
  "language_info": {
   "codemirror_mode": {
    "name": "ipython",
    "version": 3
   },
   "file_extension": ".py",
   "mimetype": "text/x-python",
   "name": "python",
   "nbconvert_exporter": "python",
   "pygments_lexer": "ipython3",
   "version": "3.8.5"
  }
 },
 "nbformat": 4,
 "nbformat_minor": 1
}

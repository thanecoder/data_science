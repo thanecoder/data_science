{
 "cells": [
  {
   "cell_type": "markdown",
   "metadata": {
    "id": "5WzIIiztrcux"
   },
   "source": [
    "# Assignment 16"
   ]
  },
  {
   "cell_type": "markdown",
   "metadata": {
    "id": "asPtxoYrrfD4"
   },
   "source": [
    "#### Submitted By : Paritosh Nichat\n",
    "\n",
    "#### Date : July 18, 2021"
   ]
  },
  {
   "cell_type": "markdown",
   "metadata": {
    "id": "qWr3R_Zrolwy"
   },
   "source": [
    "1 . Write a function that stutters a word as if someone is struggling to read it. The first two letters are repeated twice with an ellipsis ... and space after each, and then the word is pronounced with a question mark ?. Examples:\n",
    "stutter(\"incredible\") ➞ \"in... in... incredible?\"\n",
    "\n",
    "stutter(\"enthusiastic\") ➞ \"en... en... enthusiastic?\"\n",
    "\n",
    "stutter(\"outstanding\") ➞ \"ou... ou... outstanding?\"\n",
    "\n",
    "Hint :- Assume all input is in lower case and at least two characters long."
   ]
  },
  {
   "cell_type": "code",
   "execution_count": 12,
   "metadata": {
    "colab": {
     "base_uri": "https://localhost:8080/"
    },
    "id": "kiuz_Wvtof4A",
    "outputId": "17b21b24-22f1-40e6-e9cc-516c065a9402"
   },
   "outputs": [
    {
     "name": "stdout",
     "output_type": "stream",
     "text": [
      "Please enter input string : outstanding\n",
      "Result :  ou... ou... outstanding?\n"
     ]
    }
   ],
   "source": [
    "def stutter(value_str):\n",
    "    output_str = (value_str[0:2]+\"... \")*2+value_str[0:]+\"?\"\n",
    "    return output_str\n",
    "\n",
    "try:\n",
    "    input_str = input(\"Please enter input string : \")\n",
    "    print(\"Result : \",stutter(input_str))\n",
    "except:\n",
    "    print(\"Error occured, please check the input once\")"
   ]
  },
  {
   "cell_type": "markdown",
   "metadata": {
    "id": "a4Zt3Zu7ovF2"
   },
   "source": [
    "2 . Create a function that takes an angle in radians and returns the corresponding angle in degrees rounded to one decimal place.\n",
    "Examples\n",
    "radians_to_degrees(1) ➞ 57.3\n",
    "\n",
    "radians_to_degrees(20) ➞ 1145.9\n",
    "\n",
    "radians_to_degrees(50) ➞ 2864.8"
   ]
  },
  {
   "cell_type": "code",
   "execution_count": 13,
   "metadata": {
    "colab": {
     "base_uri": "https://localhost:8080/"
    },
    "id": "rr7yQufxovcf",
    "outputId": "a2b99cce-f9bb-4f40-f832-dc11343eb6b2"
   },
   "outputs": [
    {
     "name": "stdout",
     "output_type": "stream",
     "text": [
      "Please enter the angle in radians : 20\n",
      "Result in degrees :  1145.9\n"
     ]
    }
   ],
   "source": [
    "import math\n",
    "\n",
    "def radians_to_degrees(value_radians):\n",
    "    value_degrees = value_radians * (180/math.pi)\n",
    "    return round(value_degrees,1)\n",
    "\n",
    "try:\n",
    "    input_radians = float(input(\"Please enter the angle in radians : \"))\n",
    "    print(\"Result in degrees : \",radians_to_degrees(input_radians))\n",
    "except Exception as error:\n",
    "    print(\"Error occured,please check the input once.\")"
   ]
  },
  {
   "cell_type": "markdown",
   "metadata": {
    "id": "lMQwno1co0ib"
   },
   "source": [
    "3 . In this challenge, establish if a given integer num is a Curzon number. If 1 plus 2 elevated to num is exactly divisible by 1 plus 2 multiplied by num, then num is a Curzon number.\n",
    "Given a non-negative integer num, implement a function that returns True if num is a Curzon number, or False otherwise.Examples\n",
    "\n",
    "is_curzon(5) ➞ True\n",
    "\n",
    "\\# 2 ** 5 + 1 = 33\n",
    "\n",
    "\\# 2 * 5 + 1 = 11\n",
    "\n",
    "\\# 33 is a multiple of 11\n",
    "\n",
    "is_curzon(10) ➞ False\n",
    "\n",
    "\\# 2 ** 10 + 1 = 1025\n",
    "\n",
    "\\# 2 * 10 + 1 = 21\n",
    "\n",
    "\\# 1025 is not a multiple of 21\n",
    "\n",
    "is_curzon(14) ➞ True\n",
    "\n",
    "\\# 2 ** 14 + 1 = 16385\n",
    "\n",
    "\\# 2 * 14 + 1 = 29\n",
    "\n",
    "\\# 16385 is a multiple of 29"
   ]
  },
  {
   "cell_type": "code",
   "execution_count": 14,
   "metadata": {
    "colab": {
     "base_uri": "https://localhost:8080/"
    },
    "id": "awgVo9MTo03M",
    "outputId": "fecb8081-588f-4443-f99f-710bf3cc7bee"
   },
   "outputs": [
    {
     "name": "stdout",
     "output_type": "stream",
     "text": [
      "Please input a non-negative integer value of n : 14\n",
      "Result : True\n"
     ]
    }
   ],
   "source": [
    "def is_curzon(value_n):\n",
    "    numerator = ((2 ** value_n) + 1)\n",
    "    deno = ((2 * value_n) + 1)\n",
    "    if numerator%deno == 0:\n",
    "        return True\n",
    "    else:\n",
    "        return False\n",
    "\n",
    "try:\n",
    "    input_n = int(input(\"Please input a non-negative integer value of n : \"))\n",
    "    if input_n < 0:\n",
    "        raise Exception(\"Negative number not allowed\")\n",
    "    else:\n",
    "        result = is_curzon(input_n)\n",
    "        print(\"Result :\",result)\n",
    "except Exception as e:\n",
    "    print(\"Error occured,please check the input once\")"
   ]
  },
  {
   "cell_type": "markdown",
   "metadata": {
    "id": "u0tYJiLupVA-"
   },
   "source": [
    "4 . Given the side length x find the area of a hexagon.Examples\n",
    "\n",
    "area_of_hexagon(1) ➞ 2.6\n",
    "\n",
    "area_of_hexagon(2) ➞ 10.4\n",
    "\n",
    "area_of_hexagon(3) ➞ 23.4"
   ]
  },
  {
   "cell_type": "code",
   "execution_count": 15,
   "metadata": {
    "colab": {
     "base_uri": "https://localhost:8080/"
    },
    "id": "V2YolDSOpVTT",
    "outputId": "543889dd-6721-4a60-dd6c-215eb55f2f5b"
   },
   "outputs": [
    {
     "name": "stdout",
     "output_type": "stream",
     "text": [
      "Please input the side of the hexagon : 2\n",
      "Area :  10.4\n"
     ]
    }
   ],
   "source": [
    "def area_of_hexagon(value_side):\n",
    "    area = (3*(3**0.5)*(value_side**2))/2\n",
    "    return round(area,1)\n",
    "\n",
    "try:\n",
    "    input_side = int(input(\"Please input the side of the hexagon : \"))\n",
    "    print(\"Area : \",area_of_hexagon(input_side))\n",
    "except Exception as error:\n",
    "    print(\"Error occured, please check the input once.\")"
   ]
  },
  {
   "cell_type": "markdown",
   "metadata": {
    "id": "bN5R-6IDp73P"
   },
   "source": [
    "5 . Create a function that returns a base-2 (binary) representation of a base-10 (decimal) string number. To convert is simple: ((2) means base-2 and (10) means base-10) 010101001(2) = 1 + 8 + 32 + 128.\n",
    "Going from right to left, the value of the most right bit is 1, now from that every bit to the left will be x2 the value, value of an 8 bit binary numbers are (256, 128, 64, 32, 16, 8, 4, 2, 1).\n",
    "Examples\n",
    "\n",
    "binary(1) ➞ \"1\"\n",
    "\n",
    "\\# 1\\*1 = 1\n",
    "\n",
    "binary(5) ➞ \"101\"\n",
    "\n",
    "\\# 1\\*1 + 1\\*4 = 5\n",
    "\n",
    "binary(10) ➞ \"1010\"\n",
    "\n",
    "\\# 1\\*2 + 1\\*8 = 10"
   ]
  },
  {
   "cell_type": "code",
   "execution_count": 1,
   "metadata": {
    "colab": {
     "base_uri": "https://localhost:8080/"
    },
    "id": "ZWuuwl54p8J5",
    "outputId": "950704ac-ef15-4173-fbf1-a2f04a93b44b"
   },
   "outputs": [
    {
     "name": "stdout",
     "output_type": "stream",
     "text": [
      "Please enter the decimal value you want to convert to binary : 5\n",
      "Result :  101\n"
     ]
    }
   ],
   "source": [
    "def binary(value_decimal):\n",
    "    binary_multipliers = []\n",
    "\n",
    "    for i in range(1,11):\n",
    "        binary_multipliers.insert(i, 2**(10-i))\n",
    "    \n",
    "    binary_digits = ['0']*10\n",
    "    i = 0\n",
    "    \n",
    "    while value_decimal > 0 and i < len(binary_multipliers):\n",
    "        if value_decimal >= binary_multipliers[i]:\n",
    "            binary_digits[i] = '1'\n",
    "            value_decimal = value_decimal - binary_multipliers[i]\n",
    "            i = 0\n",
    "        else:\n",
    "            if binary_digits[i] != '1':\n",
    "                binary_digits[i] = '0'\n",
    "            i = i + 1\n",
    "    \n",
    "    binary_value = \"\".join(binary_digits)\n",
    "    binary_value = binary_value.lstrip('0')\n",
    "    return binary_value\n",
    "\n",
    "\n",
    "try:\n",
    "    input_decimal = int(input(\"Please enter the decimal value you want to convert to binary : \"))\n",
    "    print(\"Result : \",binary(input_decimal))\n",
    "except Exception as error:\n",
    "    print(\"Error occured, please check the input once\")"
   ]
  }
 ],
 "metadata": {
  "colab": {
   "collapsed_sections": [],
   "name": "python_basic_programming_assignment_16",
   "provenance": []
  },
  "kernelspec": {
   "display_name": "Python 3",
   "language": "python",
   "name": "python3"
  },
  "language_info": {
   "codemirror_mode": {
    "name": "ipython",
    "version": 3
   },
   "file_extension": ".py",
   "mimetype": "text/x-python",
   "name": "python",
   "nbconvert_exporter": "python",
   "pygments_lexer": "ipython3",
   "version": "3.8.5"
  }
 },
 "nbformat": 4,
 "nbformat_minor": 1
}

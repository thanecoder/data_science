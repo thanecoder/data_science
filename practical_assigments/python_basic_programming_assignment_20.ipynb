{
 "cells": [
  {
   "cell_type": "markdown",
   "metadata": {
    "id": "jOCXUOM4KBK-"
   },
   "source": [
    "# Assignment 20"
   ]
  },
  {
   "cell_type": "markdown",
   "metadata": {
    "id": "lFdaXuDPKDso"
   },
   "source": [
    "#### Submitted By : Paritosh Nichat\n",
    "\n",
    "#### Date : July 21, 2021"
   ]
  },
  {
   "cell_type": "markdown",
   "metadata": {
    "id": "emGaZmxlj5Kp"
   },
   "source": [
    "1 . Create a function that takes a list of strings and integers, and filters out the list so that it returns a list of integers only.Examples\n",
    "\n",
    "filter_list([1, 2, 3, \"a\", \"b\", 4]) ➞ [1, 2, 3, 4]\n",
    "\n",
    "filter_list([\"A\", 0, \"Edabit\", 1729, \"Python\", \"1729\"]) ➞ [0, 1729]\n",
    "\n",
    "filter_list([\"Nothing\", \"here\"]) ➞ []"
   ]
  },
  {
   "cell_type": "code",
   "execution_count": 3,
   "metadata": {
    "colab": {
     "base_uri": "https://localhost:8080/"
    },
    "id": "LA9sUXl5j1n8",
    "outputId": "87b91f38-2afd-4ce1-c3fe-ef1f2e116e83"
   },
   "outputs": [
    {
     "name": "stdout",
     "output_type": "stream",
     "text": [
      "[1, 2, 3, 4]\n",
      "[0, 1729]\n",
      "[]\n"
     ]
    }
   ],
   "source": [
    "def filter_list(value_list):\n",
    "    output_list = []\n",
    "    for i in value_list:\n",
    "        if type(i) == int:\n",
    "            output_list.append(i)\n",
    "    \n",
    "    return output_list\n",
    "\n",
    "print(filter_list([1, 2, 3, \"a\", \"b\", 4]))\n",
    "print(filter_list([\"A\", 0, \"Edabit\", 1729, \"Python\", \"1729\"]))\n",
    "print(filter_list([\"Nothing\", \"here\"]))"
   ]
  },
  {
   "cell_type": "markdown",
   "metadata": {
    "id": "fG5LdpVej_LO"
   },
   "source": [
    "2 . Given a list of numbers, create a function which returns the list but with each element's index in the list added to itself. This means you add 0 to the number at index 0, add 1 to the number at index 1, etc... Examples\n",
    "\n",
    "add_indexes([0, 0, 0, 0, 0]) ➞ [0, 1, 2, 3, 4]\n",
    "\n",
    "add_indexes([1, 2, 3, 4, 5]) ➞ [1, 3, 5, 7, 9]\n",
    "\n",
    "add_indexes([5, 4, 3, 2, 1]) ➞ [5, 5, 5, 5, 5]"
   ]
  },
  {
   "cell_type": "code",
   "execution_count": 2,
   "metadata": {
    "colab": {
     "base_uri": "https://localhost:8080/"
    },
    "id": "Tmp9UZoqkDjL",
    "outputId": "bfddf115-edad-44a0-816f-bbe9ff57797a"
   },
   "outputs": [
    {
     "name": "stdout",
     "output_type": "stream",
     "text": [
      "Please input the list of integers(comma-separated) : 1,2,3,4,5\n",
      "Result :  [1, 3, 5, 7, 9]\n"
     ]
    }
   ],
   "source": [
    "def add_indexes(value_list):\n",
    "    output_list = []\n",
    "    for i in range(0, len(value_list)):\n",
    "        output_list.insert(i, i+int(value_list[i]))\n",
    "    \n",
    "    return output_list\n",
    "\n",
    "try:\n",
    "    input_list = input(\"Please input the list of integers(comma-separated) : \")\n",
    "    input_list = input_list.split(\",\")\n",
    "    print(\"Result : \",add_indexes(input_list))\n",
    "except:\n",
    "    print(\"Error occured, please try again\")"
   ]
  },
  {
   "cell_type": "markdown",
   "metadata": {
    "id": "JNrldHePkD0k"
   },
   "source": [
    "3 . Create a function that takes the height and radius of a cone as arguments and returns the volume of the cone rounded to the nearest hundredth. See the resources tab for the formula.Examples\n",
    "\n",
    "cone_volume(3, 2) ➞ 12.57\n",
    "\n",
    "cone_volume(15, 6) ➞ 565.49\n",
    "\n",
    "cone_volume(18, 0) ➞ 0"
   ]
  },
  {
   "cell_type": "code",
   "execution_count": 1,
   "metadata": {
    "colab": {
     "base_uri": "https://localhost:8080/"
    },
    "id": "Msma2eG8kIJP",
    "outputId": "14510cbf-994c-49d2-e4a4-b4dead0d71da"
   },
   "outputs": [
    {
     "name": "stdout",
     "output_type": "stream",
     "text": [
      "Please provide the input height : 15\n",
      "Please provide the input radius : 6\n",
      "Result :  565.49\n"
     ]
    }
   ],
   "source": [
    "import math\n",
    "\n",
    "def cone_volume(value_h,value_r):\n",
    "    output_volume = (math.pi*(value_r**2)*(value_h/3))\n",
    "    return round(output_volume,2)\n",
    "\n",
    "try:\n",
    "    input_h = float(input(\"Please provide the input height : \"))\n",
    "    input_r = float(input(\"Please provide the input radius : \"))\n",
    "    print(\"Result : \",cone_volume(input_h, input_r))\n",
    "except:\n",
    "    print(\"Error occured, please check the input once and try again\")"
   ]
  },
  {
   "cell_type": "markdown",
   "metadata": {
    "id": "r_qwW59rkIa1"
   },
   "source": [
    "4 . This Triangular Number Sequence is generated from a pattern of dots that form a triangle. The first 5 numbers of the sequence, or dots, are: \n",
    "\n",
    "1, 3, 6, 10, 15\n",
    "\n",
    "This means that the first triangle has just one dot, the second one has three dots, the third one has 6 dots and so on.\n",
    "\n",
    "Write a function that gives the number of dots with its corresponding triangle number of the sequence.Examples\n",
    "\n",
    "triangle(1) ➞ 1\n",
    "\n",
    "triangle(6) ➞ 21\n",
    "\n",
    "triangle(215) ➞ 23220"
   ]
  },
  {
   "cell_type": "code",
   "execution_count": 4,
   "metadata": {
    "colab": {
     "base_uri": "https://localhost:8080/"
    },
    "id": "qKIODonhkY_I",
    "outputId": "d64b96aa-ca44-4389-be68-31107ab7d51b"
   },
   "outputs": [
    {
     "name": "stdout",
     "output_type": "stream",
     "text": [
      "Please input the triangle number : 215\n",
      "Dots :  23220\n"
     ]
    }
   ],
   "source": [
    "def triangle(value_n):\n",
    "    \"\"\"Formula for triangle sequence - ((n)(n+1))/2\"\"\"\n",
    "    output_dots = (((value_n)*(value_n+1))/2)\n",
    "    return round(output_dots)\n",
    "\n",
    "try:\n",
    "    input_n = int(input(\"Please input the triangle number : \"))\n",
    "    print(\"Dots : \",triangle(input_n))\n",
    "except:\n",
    "    print(\"Error occured, please try again.\")"
   ]
  },
  {
   "cell_type": "markdown",
   "metadata": {
    "id": "OBDr2WAjkZTs"
   },
   "source": [
    "5 . Create a function that takes a list of numbers between 1 and 10 (excluding one number) and returns the missing number. Examples\n",
    "\n",
    "missing_num([1, 2, 3, 4, 6, 7, 8, 9, 10]) ➞ 5\n",
    "\n",
    "missing_num([7, 2, 3, 6, 5, 9, 1, 4, 8]) ➞ 10\n",
    "\n",
    "missing_num([10, 5, 1, 2, 4, 6, 8, 3, 9]) ➞ 7"
   ]
  },
  {
   "cell_type": "code",
   "execution_count": 5,
   "metadata": {
    "colab": {
     "base_uri": "https://localhost:8080/"
    },
    "id": "Z90YKWMDkdJ8",
    "outputId": "0f45be44-7ee3-4a9d-ef2e-6f2a139ac7a8"
   },
   "outputs": [
    {
     "name": "stdout",
     "output_type": "stream",
     "text": [
      "Please provide input of numbers between 1-10(comma-separated) :10,5,1,2,4,6,8,3,9\n",
      "Result :  7\n"
     ]
    }
   ],
   "source": [
    "def missing_num(value_list):\n",
    "    numbers_list = [str(i) for i in range(0,11)]\n",
    "    missing = -1\n",
    "    for i in numbers_list:\n",
    "        if i not in value_list:\n",
    "            missing = i\n",
    "    \n",
    "    return missing\n",
    "\n",
    "try:\n",
    "    input_list = input(\"Please provide input of numbers between 1-10(comma-separated) :\")\n",
    "    input_list = input_list.split(\",\")\n",
    "    print(\"Result : \",missing_num(input_list))\n",
    "except:\n",
    "    print(\"Error occured, please try again\")"
   ]
  }
 ],
 "metadata": {
  "colab": {
   "collapsed_sections": [],
   "name": "python_basic_programming_assignment_20",
   "provenance": []
  },
  "kernelspec": {
   "display_name": "Python 3",
   "language": "python",
   "name": "python3"
  },
  "language_info": {
   "codemirror_mode": {
    "name": "ipython",
    "version": 3
   },
   "file_extension": ".py",
   "mimetype": "text/x-python",
   "name": "python",
   "nbconvert_exporter": "python",
   "pygments_lexer": "ipython3",
   "version": "3.8.5"
  }
 },
 "nbformat": 4,
 "nbformat_minor": 1
}

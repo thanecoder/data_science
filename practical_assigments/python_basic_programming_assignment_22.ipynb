{
 "cells": [
  {
   "cell_type": "markdown",
   "metadata": {
    "id": "dMDd1Td5mt6-"
   },
   "source": [
    "# Assignment 22"
   ]
  },
  {
   "cell_type": "markdown",
   "metadata": {
    "id": "A0RYUiuqmvyg"
   },
   "source": [
    "#### Submitted By : Paritosh Nichat\n",
    "\n",
    "#### Date : July 21, 2021"
   ]
  },
  {
   "cell_type": "markdown",
   "metadata": {
    "id": "CkQCld7slsyN"
   },
   "source": [
    "1 . Create a function that takes three parameters where:\n",
    "\n",
    "x is the start of the range (inclusive).\n",
    "\n",
    "y is the end of the range (inclusive).\n",
    "\n",
    "n is the divisor to be checked against.\n",
    "\n",
    "Return an ordered list with numbers in the range that are divisible by the third parameter n. Return an empty list if there are no numbers that are divisible by n.Examples\n",
    "\n",
    "list_operation(1, 10, 3) ➞ [3, 6, 9]\n",
    "\n",
    "list_operation(7, 9, 2) ➞ [8]\n",
    "\n",
    "list_operation(15, 20, 7) ➞ []\n"
   ]
  },
  {
   "cell_type": "code",
   "execution_count": 1,
   "metadata": {
    "colab": {
     "base_uri": "https://localhost:8080/"
    },
    "id": "qasI0IrIlp6z",
    "outputId": "5fdfcb52-67cb-4803-ed73-2ded7f489099"
   },
   "outputs": [
    {
     "name": "stdout",
     "output_type": "stream",
     "text": [
      "Please provide the x value : 7\n",
      "Please provide the y value : 9\n",
      "Please provide the n value : 2\n",
      "Result :  [8]\n"
     ]
    }
   ],
   "source": [
    "def list_operation(x, y, n):\n",
    "    output_list = []\n",
    "    for i in range(x, y+1):\n",
    "        if i%n == 0:\n",
    "            output_list.append(i)\n",
    "    \n",
    "    return output_list\n",
    "\n",
    "try:\n",
    "    input_x = int(input(\"Please provide the x value : \"))\n",
    "    input_y = int(input(\"Please provide the y value : \"))\n",
    "    input_n = int(input(\"Please provide the n value : \"))\n",
    "    print(\"Result : \",list_operation(input_x, input_y, input_n))\n",
    "except:\n",
    "    print(\"Error occured, please try again\")"
   ]
  },
  {
   "cell_type": "markdown",
   "metadata": {
    "id": "LGD3lNZulxsE"
   },
   "source": [
    "2 . Create a function that takes in two lists and returns True if the second list follows the first list by one element, and False otherwise. In other words, determine if the second list is the first list shifted to the right by 1. Examples\n",
    "\n",
    "simon_says([1, 2], [5, 1]) ➞ True\n",
    "\n",
    "simon_says([1, 2], [5, 5]) ➞ False\n",
    "\n",
    "simon_says([1, 2, 3, 4, 5], [0, 1, 2, 3, 4]) ➞ True\n",
    "\n",
    "simon_says([1, 2, 3, 4, 5], [5, 5, 1, 2, 3]) ➞ False\n",
    "\n",
    "Notes\n",
    "\n",
    "Both input lists will be of the same length, and will have a minimum length of 2.\n",
    "\n",
    "The values of the 0-indexed element in the second list and the n-1th indexed element in the first list do not matter."
   ]
  },
  {
   "cell_type": "code",
   "execution_count": 2,
   "metadata": {
    "colab": {
     "base_uri": "https://localhost:8080/"
    },
    "id": "Mc62ZSdzl-60",
    "outputId": "5326e233-a8f3-43d8-e634-374945605c0e"
   },
   "outputs": [
    {
     "name": "stdout",
     "output_type": "stream",
     "text": [
      "Please input the first list(comma-separated) : 1,2,3,4,5\n",
      "Please input the second list(comma-separated) : 0,1,2,3,4\n",
      "Result :  True\n"
     ]
    }
   ],
   "source": [
    "def simon_says(value_list_a, value_list_b):\n",
    "    match_flag = 0\n",
    "    comp_list_a = value_list_a[0:]\n",
    "    comp_list_b = value_list_b[1:]\n",
    "    for i in range(0, len(comp_list_a)-1):\n",
    "        if comp_list_a[i] != comp_list_b[i]:\n",
    "            match_flag += 1\n",
    "        \n",
    "    if match_flag > 0:\n",
    "        return False\n",
    "    else:\n",
    "        return True\n",
    "    \n",
    "try:\n",
    "    input_list_a = input(\"Please input the first list(comma-separated) : \")\n",
    "    input_list_b = input(\"Please input the second list(comma-separated) : \")\n",
    "    input_list_a = input_list_a.split(\",\")\n",
    "    input_list_b = input_list_b.split(\",\")\n",
    "    print(\"Result : \",simon_says(input_list_a,input_list_b))\n",
    "except:\n",
    "    print(\"Error occured, please try again\")"
   ]
  },
  {
   "cell_type": "markdown",
   "metadata": {
    "id": "Lk2qh6Wbl_Mc"
   },
   "source": [
    "3 . A group of friends have decided to start a secret society. The name will be the first letter of each of their names, sorted in alphabetical order.\n",
    "Create a function that takes in a list of names and returns the name of the secret society.Examples\n",
    "\n",
    "society_name([\"Adam\", \"Sarah\", \"Malcolm\"]) ➞ \"AMS\"\n",
    "\n",
    "society_name([\"Harry\", \"Newt\", \"Luna\", \"Cho\"]) ➞ \"CHLN\"\n",
    "\n",
    "society_name([\"Phoebe\", \"Chandler\", \"Rachel\", \"Ross\", \"Monica\", \"Joey\"])"
   ]
  },
  {
   "cell_type": "code",
   "execution_count": 4,
   "metadata": {
    "colab": {
     "base_uri": "https://localhost:8080/"
    },
    "id": "J1g6qek0mM7U",
    "outputId": "4c925c92-7111-48cc-f4cd-87c6df312cc4"
   },
   "outputs": [
    {
     "name": "stdout",
     "output_type": "stream",
     "text": [
      "Please provide the list of names of friends in double-quotes(comma-separated) : \"Phoebe\",\"Chandler\",\"Rachel\",\"Ross\",\"Monica\",\"Joey\"\n",
      "Result :  CJMPRR\n"
     ]
    }
   ],
   "source": [
    "def society_name(value_list):\n",
    "    soc_name = []\n",
    "    for i in value_list:\n",
    "        soc_name += i[1]\n",
    "    soc_name = list(soc_name)\n",
    "    soc_name.sort()\n",
    "    soc_name = \"\".join(soc_name)    \n",
    "    return soc_name\n",
    "\n",
    "try:\n",
    "    input_list = input(\"Please provide the list of names of friends in double-quotes(comma-separated) : \")\n",
    "    input_list = input_list.split(',')\n",
    "    print(\"Result : \",society_name(input_list))\n",
    "except:\n",
    "    print(\"Error occured, please try again\")"
   ]
  },
  {
   "cell_type": "markdown",
   "metadata": {
    "id": "0X5br5IDmNLj"
   },
   "source": [
    "4 . An isogram is a word that has no duplicate letters. Create a function that takes a string and returns either True or False depending on whether or not it's an \"isogram\".\n",
    "Examples\n",
    "\n",
    "is_isogram(\"Algorism\") ➞ True\n",
    "\n",
    "is_isogram(\"PasSword\") ➞ False\n",
    "\\# Not case sensitive.\n",
    "\n",
    "is_isogram(\"Consecutive\") ➞ False\n",
    "\n",
    "Notes\n",
    "\n",
    "Ignore letter case (should not be case sensitive).\n",
    "\n",
    "All test cases contain valid one word strings."
   ]
  },
  {
   "cell_type": "code",
   "execution_count": 2,
   "metadata": {
    "colab": {
     "base_uri": "https://localhost:8080/"
    },
    "id": "Oed3LSqAmT9S",
    "outputId": "d005df37-c2e6-4896-9f92-c60c436ce8e9"
   },
   "outputs": [
    {
     "name": "stdout",
     "output_type": "stream",
     "text": [
      "Please provide the input string : PasSword\n",
      "Result :  False\n"
     ]
    }
   ],
   "source": [
    "def is_isogram(value_str):\n",
    "    value_list = list(value_str.lower())\n",
    "    count_of_chars = {}\n",
    "    for i in value_list:\n",
    "        if i in count_of_chars:\n",
    "            count_of_chars[i] += 1\n",
    "        else:\n",
    "            count_of_chars[i] = 1\n",
    "    \n",
    "\n",
    "    if all(value == 1 for value in count_of_chars.values()):\n",
    "        return True\n",
    "    else:\n",
    "        return False\n",
    "\n",
    "try:\n",
    "    input_str = input(\"Please provide the input string : \")\n",
    "    print(\"Result : \",is_isogram(input_str))\n",
    "except:\n",
    "    print(\"Error occured, please try again\")"
   ]
  },
  {
   "cell_type": "markdown",
   "metadata": {
    "id": "4oLvnHWBmUpH"
   },
   "source": [
    "5 . Create a function that takes a string and returns True or False, depending on whether the characters are in order or not.Examples\n",
    "\n",
    "is_in_order(\"abc\") ➞ True\n",
    "\n",
    "is_in_order(\"edabit\") ➞ False\n",
    "\n",
    "is_in_order(\"123\") ➞ True\n",
    "\n",
    "is_in_order(\"xyzz\") ➞ True\n",
    "\n",
    "Notes\n",
    "\n",
    "You don't have to handle empty strings."
   ]
  },
  {
   "cell_type": "code",
   "execution_count": 3,
   "metadata": {
    "colab": {
     "base_uri": "https://localhost:8080/"
    },
    "id": "g4yDOLETmcKC",
    "outputId": "2719e803-a747-43c8-c1c9-70d3c2f1fa72"
   },
   "outputs": [
    {
     "name": "stdout",
     "output_type": "stream",
     "text": [
      "Please provide input string : xyzz\n",
      "Result :  True\n"
     ]
    }
   ],
   "source": [
    "def is_in_order(value_str):\n",
    "    value_list = list(value_str)\n",
    "    value_ascii_list = [ord(i) for i in value_list]\n",
    "    not_in_order = 0\n",
    "    for i in range(0,len(value_ascii_list)):\n",
    "        if i == 0 and ((value_ascii_list[i+1]) < value_ascii_list[i]):\n",
    "            not_in_order += 1\n",
    "        elif i != 0 and ((value_ascii_list[i-1]) > value_ascii_list[i]):\n",
    "            not_in_order += 1\n",
    "        \n",
    "    if not_in_order != 0:\n",
    "        return False\n",
    "    else:\n",
    "        return True\n",
    "\n",
    "try:\n",
    "    input_str = input(\"Please provide input string : \")\n",
    "    print(\"Result : \",is_in_order(input_str))\n",
    "except:\n",
    "    print(\"Error occured, please try again\")"
   ]
  }
 ],
 "metadata": {
  "colab": {
   "collapsed_sections": [],
   "name": "python_basic_programming_assignment_22",
   "provenance": []
  },
  "kernelspec": {
   "display_name": "Python 3",
   "language": "python",
   "name": "python3"
  },
  "language_info": {
   "codemirror_mode": {
    "name": "ipython",
    "version": 3
   },
   "file_extension": ".py",
   "mimetype": "text/x-python",
   "name": "python",
   "nbconvert_exporter": "python",
   "pygments_lexer": "ipython3",
   "version": "3.8.5"
  }
 },
 "nbformat": 4,
 "nbformat_minor": 1
}

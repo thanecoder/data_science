{
 "cells": [
  {
   "cell_type": "markdown",
   "metadata": {
    "id": "5EW2wya-gufC"
   },
   "source": [
    "# Assignment 8"
   ]
  },
  {
   "cell_type": "markdown",
   "metadata": {
    "id": "G7ERoi-gg3Ma"
   },
   "source": [
    "#### Submitted By : Paritosh Nichat\n",
    "\n",
    "#### Date : July 22, 2021"
   ]
  },
  {
   "cell_type": "markdown",
   "metadata": {
    "id": "06xyMpbpJGVB"
   },
   "source": [
    "**1 . Write a Python Program to Add Two Matrices?**"
   ]
  },
  {
   "cell_type": "code",
   "execution_count": 1,
   "metadata": {
    "colab": {
     "base_uri": "https://localhost:8080/"
    },
    "id": "vKJbJWzo0twE",
    "outputId": "82dcefdc-a569-483b-9e75-968212b2a5a3"
   },
   "outputs": [
    {
     "name": "stdout",
     "output_type": "stream",
     "text": [
      "Enter the number of rows of both matrix : 2\n",
      "Enter the number of cols of both matrix : 2\n",
      "Enter 1,1 first matrix input : 4\n",
      "Enter 1,2 first matrix input : 8\n",
      "Enter 2,1 first matrix input : 3\n",
      "Enter 2,2 first matrix input : 7\n",
      "Enter 1,1 second matrix input : 1\n",
      "Enter 1,2 second matrix input : 0\n",
      "Enter 2,1 second matrix input : 5\n",
      "Enter 2,2 second matrix input : 2\n",
      "Result : \n",
      "[[5, 8], [8, 9]]\n"
     ]
    }
   ],
   "source": [
    "# Get the matrix input\n",
    "def get_matrix_input(num_matrix, rows, cols):  \n",
    "    i, j = 0, 0\n",
    "    temp_input_matrix = []\n",
    "    while i < rows:\n",
    "        j = 0\n",
    "        temp_input_matrix.insert(i,[])\n",
    "        while j < cols:\n",
    "            temp_input_matrix[i].insert(j,(int(input(\"Enter {},{} {} matrix input : \".format(i+1, j+1, num_matrix)))))\n",
    "            j = j + 1\n",
    "        i = i + 1\n",
    "\n",
    "    return temp_input_matrix\n",
    "\n",
    "# Get the matrix addition\n",
    "def get_matrix_addition(rows, cols, matrix_1, matrix_2):\n",
    "    temp_addition_matrix = []\n",
    "    i = 0\n",
    "    while i < rows:\n",
    "        # print(i)\n",
    "        j = 0\n",
    "        temp_addition_matrix.insert(i,[])\n",
    "        while j < cols:\n",
    "            # print(j)\n",
    "            temp_addition_matrix[i].insert(j,matrix_1[i][j] + matrix_2[i][j])\n",
    "            j = j + 1\n",
    "        i = i + 1\n",
    "    \n",
    "    return temp_addition_matrix\n",
    "\n",
    "input_matrix_1 = []\n",
    "input_matrix_2 = []\n",
    "addition_matrix = []\n",
    "\n",
    "# Get the dimensions of both matrices\n",
    "input_rows_number = int(input(\"Enter the number of rows of both matrix : \"))\n",
    "input_cols_number = int(input(\"Enter the number of cols of both matrix : \"))\n",
    "\n",
    "input_matrix_1 = get_matrix_input('first', input_rows_number, input_cols_number)\n",
    "input_matrix_2 = get_matrix_input('second', input_rows_number, input_cols_number)\n",
    "\n",
    "addition_matrix = get_matrix_addition(input_rows_number, input_cols_number, input_matrix_1, input_matrix_2)\n",
    "\n",
    "\n",
    "print(\"Result : \")\n",
    "print(addition_matrix)"
   ]
  },
  {
   "cell_type": "markdown",
   "metadata": {
    "id": "nAMpu5IZJGyv"
   },
   "source": [
    "**2 . Write a Python Program to Multiply Two Matrices?**"
   ]
  },
  {
   "cell_type": "code",
   "execution_count": 2,
   "metadata": {
    "colab": {
     "base_uri": "https://localhost:8080/"
    },
    "id": "vSZcXZrWD8pr",
    "outputId": "ea538f75-8b95-4e8b-85c6-0a68a57af899"
   },
   "outputs": [
    {
     "name": "stdout",
     "output_type": "stream",
     "text": [
      "Enter the number of rows of first matrices : 2\n",
      "Enter the number of rows of first and cols of second matrices : 2\n",
      "Enter the number of rows of both matrices : 2\n",
      "Enter first 1,1 matrix input : 1\n",
      "Enter first 1,2 matrix input : 7\n",
      "Enter first 2,1 matrix input : 2\n",
      "Enter first 2,2 matrix input : 4\n",
      "Enter second 1,1 matrix input : 3\n",
      "Enter second 1,2 matrix input : 3\n",
      "Enter second 2,1 matrix input : 5\n",
      "Enter second 2,2 matrix input : 2\n",
      "Result is : \n",
      "[[38, 17], [26, 14]]\n"
     ]
    }
   ],
   "source": [
    "# Get the matrix input\n",
    "def get_matrix_input(num_matrix, rows, cols):  \n",
    "    i, j = 0, 0\n",
    "    temp_input_matrix = []\n",
    "\n",
    "    while i < rows:\n",
    "        j = 0\n",
    "        temp_input_matrix.insert(i,[])\n",
    "        while j < cols:\n",
    "            temp_input_matrix[i].insert(j,(int(input(\"Enter {} {},{} matrix input : \".format(num_matrix, i+1, j+1)))))\n",
    "            j = j + 1\n",
    "        i = i + 1\n",
    "\n",
    "    return temp_input_matrix\n",
    "\n",
    "# Do the matrix multiplication\n",
    "def get_multiplication_matrix(rows_mat_1, rows_mat_2, cols_mat_2, mat_1, mat_2, result_matrix):\n",
    "    i = 0\n",
    "    while i < rows_mat_1:\n",
    "        j = 0\n",
    "        while j < cols_mat_2:\n",
    "            k = 0\n",
    "            while k < rows_mat_2:\n",
    "                result_matrix[i][j] += mat_1[i][k] * mat_2[k][j]\n",
    "                k = k + 1\n",
    "            j = j + 1\n",
    "        i = i + 1\n",
    "\n",
    "    return result_matrix\n",
    "\n",
    "# Get the dimensions of both matrices\n",
    "input_rows_mat1 = int(input(\"Enter the number of rows of first matrices : \"))\n",
    "input_cols_mat1_rows_mat2 = int(input(\"Enter the number of rows of first and cols of second matrices : \"))\n",
    "input_cols_mat2 = int(input(\"Enter the number of rows of both matrices : \"))\n",
    "\n",
    "input_matrix_1 = get_matrix_input('first', input_rows_mat1, input_cols_mat1_rows_mat2)\n",
    "input_matrix_2 = get_matrix_input('second', input_cols_mat1_rows_mat2, input_cols_mat2)\n",
    "\n",
    "multiplication_matrix = []\n",
    "\n",
    "for i in range(0, input_rows_mat1):\n",
    "    multiplication_matrix.insert(i, [])\n",
    "    for j in range(0, input_cols_mat2):\n",
    "        multiplication_matrix[i].insert(j, 0)\n",
    "\n",
    "multiplication_matrix = get_multiplication_matrix(input_rows_mat1, input_cols_mat1_rows_mat2, \n",
    "                                                  input_cols_mat2, input_matrix_1, \n",
    "                                                  input_matrix_2, multiplication_matrix)\n",
    "\n",
    "\n",
    "print(\"Result is : \")\n",
    "print(multiplication_matrix)"
   ]
  },
  {
   "cell_type": "markdown",
   "metadata": {
    "id": "W5MUc76FJHK6"
   },
   "source": [
    "**3 . Write a Python Program to Transpose a Matrix?**"
   ]
  },
  {
   "cell_type": "code",
   "execution_count": 4,
   "metadata": {
    "colab": {
     "base_uri": "https://localhost:8080/"
    },
    "id": "5vtg6RR3Nykj",
    "outputId": "c0f4fde6-9ff2-449e-bd32-d7c727e7df55"
   },
   "outputs": [
    {
     "name": "stdout",
     "output_type": "stream",
     "text": [
      "Enter the number of rows of the matrix : 2\n",
      "Enter the number of cols of the matrix : 3\n",
      "Enter the 1,1 matrix input : 6\n",
      "Enter the 1,2 matrix input : 4\n",
      "Enter the 1,3 matrix input : 24\n",
      "Enter the 2,1 matrix input : 1\n",
      "Enter the 2,2 matrix input : -9\n",
      "Enter the 2,3 matrix input : 8\n",
      "Input :  [[6, 4, 24], [1, -9, 8]]\n",
      "Result :  [[6, 1], [4, -9], [24, 8]]\n"
     ]
    }
   ],
   "source": [
    "# Get matrox transpose\n",
    "def get_matrix_transpose(rows, cols, input_mat, transpose_mat):\n",
    "    i = 0\n",
    "    j = 0\n",
    "    while i < cols:\n",
    "        # print(i)\n",
    "        j = 0\n",
    "        transpose_mat.insert(i,[])\n",
    "        while j < rows:\n",
    "            # print(j)\n",
    "            transpose_mat[i].insert(j, input_mat[j][i])\n",
    "            j = j + 1\n",
    "        i = i + 1\n",
    "    return transpose_mat\n",
    "\n",
    "# Get the dimensions of both matrices\n",
    "input_rows_number = int(input(\"Enter the number of rows of the matrix : \"))\n",
    "input_cols_number = int(input(\"Enter the number of cols of the matrix : \"))\n",
    "\n",
    "input_matrix_1 = []\n",
    "transpose_matrix = []\n",
    "i = 0\n",
    "while i < input_rows_number:\n",
    "    # print(i)\n",
    "    j = 0\n",
    "    input_matrix_1.insert(i,[])\n",
    "    while j < input_cols_number:\n",
    "        # print(j)\n",
    "        input_matrix_1[i].insert(j,(int(input(\"Enter the {},{} matrix input : \".format(i+1, j+1)))))\n",
    "        j = j + 1\n",
    "    i = i + 1\n",
    "\n",
    "print(\"Input : \",input_matrix_1)\n",
    "transpose_matrix = get_matrix_transpose(input_rows_number, input_cols_number,\n",
    "                                        input_matrix_1, transpose_matrix)\n",
    "print(\"Result : \",transpose_matrix)"
   ]
  },
  {
   "cell_type": "markdown",
   "metadata": {
    "id": "xSRoW5O0JHZ8"
   },
   "source": [
    "\n",
    "**4 . Write a Python Program to Sort Words in Alphabetic Order?**"
   ]
  },
  {
   "cell_type": "code",
   "execution_count": 5,
   "metadata": {
    "colab": {
     "base_uri": "https://localhost:8080/"
    },
    "id": "rIOEHo8PNe97",
    "outputId": "def0d014-c68a-4efc-b9d7-b48f89847d47"
   },
   "outputs": [
    {
     "name": "stdout",
     "output_type": "stream",
     "text": [
      "Enter input string : The quick brown fox jumps over the lazy dog\n",
      "Result :  ['The', 'brown', 'dog', 'fox', 'jumps', 'lazy', 'over', 'quick', 'the']\n"
     ]
    }
   ],
   "source": [
    "import copy\n",
    "\n",
    "input_string = input(\"Enter input string : \")\n",
    "array_of_words = input_string.split(\" \")\n",
    "result_string = ''\n",
    "array_of_words.sort()\n",
    "\n",
    "print(\"Result : \",array_of_words)"
   ]
  },
  {
   "cell_type": "markdown",
   "metadata": {
    "id": "0xVgw2_6JHoG"
   },
   "source": [
    "**5 . Write a Python Program to Remove Punctuation From a String?**"
   ]
  },
  {
   "cell_type": "code",
   "execution_count": 6,
   "metadata": {
    "colab": {
     "base_uri": "https://localhost:8080/"
    },
    "id": "3HSozwSZExnq",
    "outputId": "f5473bfb-acbd-4b9e-f723-2c6162c09815"
   },
   "outputs": [
    {
     "name": "stdout",
     "output_type": "stream",
     "text": [
      "Enter input string : Hello!!!, he said ---and went.\n",
      "Result :  Hello he said and went\n"
     ]
    }
   ],
   "source": [
    "input_string = input(\"Enter input string : \")\n",
    "result_string = ''\n",
    "for i in input_string:\n",
    "    # print(ord(i))\n",
    "    if not ((ord(i) >= 33 and ord(i) <= 64) or (ord(i) >= 91 and ord(i) <= 96) or (ord(i) >= 123 and ord(i) <= 126)):\n",
    "        result_string += i\n",
    "\n",
    "print(\"Result : \",result_string)"
   ]
  }
 ],
 "metadata": {
  "colab": {
   "collapsed_sections": [],
   "name": "python_basic_programming_assignment_8",
   "provenance": []
  },
  "kernelspec": {
   "display_name": "Python 3",
   "language": "python",
   "name": "python3"
  },
  "language_info": {
   "codemirror_mode": {
    "name": "ipython",
    "version": 3
   },
   "file_extension": ".py",
   "mimetype": "text/x-python",
   "name": "python",
   "nbconvert_exporter": "python",
   "pygments_lexer": "ipython3",
   "version": "3.8.5"
  }
 },
 "nbformat": 4,
 "nbformat_minor": 1
}

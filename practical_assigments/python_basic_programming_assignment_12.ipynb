{
 "cells": [
  {
   "cell_type": "markdown",
   "metadata": {
    "id": "pA13twoz2NQO"
   },
   "source": [
    "# Assignment 12"
   ]
  },
  {
   "cell_type": "markdown",
   "metadata": {
    "id": "Xzg2xdbm2Qls"
   },
   "source": [
    "#### Submitted By : Paritosh Nichat\n",
    "\n",
    "#### Date : August 1, 2021"
   ]
  },
  {
   "cell_type": "markdown",
   "metadata": {
    "id": "xJgG-pAWWwSt"
   },
   "source": [
    "**1 . Write a Python program to Extract Unique values dictionary values?**"
   ]
  },
  {
   "cell_type": "code",
   "execution_count": null,
   "metadata": {
    "colab": {
     "base_uri": "https://localhost:8080/"
    },
    "id": "ebmEWMFmWvQz",
    "outputId": "77f4e8f6-4d21-49e4-e8cd-7b314825b862"
   },
   "outputs": [
    {
     "data": {
      "text/plain": [
       "[1, 2, 3, 5]"
      ]
     },
     "execution_count": 10,
     "metadata": {
      "tags": []
     },
     "output_type": "execute_result"
    }
   ],
   "source": [
    "input_dict = { \"A\": 1, \"B\": 2, \"C\": 5, \"D\": 1, \"E\": 2, \"F\": 3 }\n",
    "\n",
    "def extract_unique():\n",
    "    output_list = []\n",
    "    for i in input_dict.values():\n",
    "        output_list.append(i)\n",
    "\n",
    "    output_list = list(set(output_list))\n",
    "    return output_list\n",
    "\n",
    "extract_unique()"
   ]
  },
  {
   "cell_type": "markdown",
   "metadata": {
    "id": "2SilF5HUW-Wb"
   },
   "source": [
    "**2 . Write a Python program to find the sum of all items in a dictionary?**"
   ]
  },
  {
   "cell_type": "code",
   "execution_count": null,
   "metadata": {
    "colab": {
     "base_uri": "https://localhost:8080/"
    },
    "id": "oyoNVvLlXKu3",
    "outputId": "5f405ad7-cae5-46e9-d788-707b84c253c5"
   },
   "outputs": [
    {
     "data": {
      "text/plain": [
       "14"
      ]
     },
     "execution_count": 9,
     "metadata": {
      "tags": []
     },
     "output_type": "execute_result"
    }
   ],
   "source": [
    "input_dict = { \"A\": 1, \"B\": 2, \"C\": 5, \"D\": 1, \"E\": 2, \"F\": 3 }\n",
    "\n",
    "def sum_of_dicts():\n",
    "    sum = 0\n",
    "    for i in input_dict.values():\n",
    "        sum += i\n",
    "\n",
    "    return sum\n",
    "\n",
    "\n",
    "sum_of_dicts()"
   ]
  },
  {
   "cell_type": "markdown",
   "metadata": {
    "id": "SAjvUtWXXAUQ"
   },
   "source": [
    "**3 . Write a Python program to Merging two Dictionaries?**"
   ]
  },
  {
   "cell_type": "code",
   "execution_count": null,
   "metadata": {
    "colab": {
     "base_uri": "https://localhost:8080/"
    },
    "id": "Eo1XmjdjXKYA",
    "outputId": "99d4387b-65e1-4b63-f9a9-6c7d2346f889"
   },
   "outputs": [
    {
     "name": "stdout",
     "output_type": "stream",
     "text": [
      "Input Dict a :  {'A': 1, 'B': 2, 'C': 5, 'D': 1, 'E': 2, 'F': 3}\n",
      "Input Dict b :  {'L': 1, 'M': 2, 'N': 5, 'O': 1, 'P': 2, 'Q': 3}\n",
      "Result :  {'A': 1, 'B': 2, 'C': 5, 'D': 1, 'E': 2, 'F': 3, 'L': 1, 'M': 2, 'N': 5, 'O': 1, 'P': 2, 'Q': 3}\n"
     ]
    }
   ],
   "source": [
    "input_dict_a = { \"A\": 1, \"B\": 2, \"C\": 5, \"D\": 1, \"E\": 2, \"F\": 3 }\n",
    "input_dict_b = { \"L\": 1, \"M\": 2, \"N\": 5, \"O\": 1, \"P\": 2, \"Q\": 3 }\n",
    "\n",
    "print(\"Input Dict a : \",input_dict_a)\n",
    "print(\"Input Dict b : \",input_dict_b)\n",
    "\n",
    "input_dict_a.update(input_dict_b)\n",
    "\n",
    "print(\"Result : \",input_dict_a)"
   ]
  },
  {
   "cell_type": "markdown",
   "metadata": {
    "id": "FfIxTkAMXCQm"
   },
   "source": [
    "**4 . Write a Python program to convert key-values list to flat dictionary?**"
   ]
  },
  {
   "cell_type": "code",
   "execution_count": null,
   "metadata": {
    "colab": {
     "base_uri": "https://localhost:8080/"
    },
    "id": "tuQqn-MmXKBM",
    "outputId": "27e81206-d1e2-4bc4-ef57-0789433ae9f7"
   },
   "outputs": [
    {
     "name": "stdout",
     "output_type": "stream",
     "text": [
      "Input List :  [('A', 1), ('B', 2), ('C', 5), ('D', 1), ('E', 2), ('F', 3)]\n",
      "Result :  {'A': 1, 'B': 2, 'C': 5, 'D': 1, 'E': 2, 'F': 3}\n"
     ]
    }
   ],
   "source": [
    "input_list = [(\"A\", 1), (\"B\", 2), (\"C\", 5), (\"D\", 1), (\"E\", 2), (\"F\", 3)] \n",
    "\n",
    "output_dict = {i[0]:i[1] for i in input_list}\n",
    "print(\"Input List : \",input_list)\n",
    "print(\"Result : \",output_dict)"
   ]
  },
  {
   "cell_type": "markdown",
   "metadata": {
    "id": "Cooy73ZXXD4s"
   },
   "source": [
    "**5 . Write a Python program to insertion at the beginning in OrderedDict?**"
   ]
  },
  {
   "cell_type": "code",
   "execution_count": null,
   "metadata": {
    "colab": {
     "base_uri": "https://localhost:8080/"
    },
    "id": "AxrjlOXCXJpk",
    "outputId": "b3bf3da2-c25d-4c6f-debe-520b4cd01054"
   },
   "outputs": [
    {
     "name": "stdout",
     "output_type": "stream",
     "text": [
      "Input List :  OrderedDict([('A', 1), ('B', 2), ('C', 5), ('D', 1), ('E', 2), ('F', 3)])\n",
      "Result :  OrderedDict([('Z', 3), ('A', 1), ('B', 2), ('C', 5), ('D', 1), ('E', 2), ('F', 3)])\n"
     ]
    }
   ],
   "source": [
    "from collections import OrderedDict\n",
    "\n",
    "input_dict_a = OrderedDict({ \"A\": 1, \"B\": 2, \"C\": 5, \"D\": 1, \"E\": 2, \"F\": 3 })\n",
    "print(\"Input List : \",input_dict_a)\n",
    "\n",
    "input_dict_a.update({'Z':3})\n",
    "input_dict_a.move_to_end('Z',last=False)\n",
    "\n",
    "print(\"Result : \",input_dict_a)"
   ]
  },
  {
   "cell_type": "markdown",
   "metadata": {
    "id": "_X_Z551aXGT9"
   },
   "source": [
    "**6 . Write a Python program to check order of character in string using OrderedDict()?**"
   ]
  },
  {
   "cell_type": "code",
   "execution_count": 22,
   "metadata": {
    "colab": {
     "base_uri": "https://localhost:8080/",
     "height": 367
    },
    "id": "GK9NtscmXJPx",
    "outputId": "bd5dc8df-566b-4252-86df-ad7c2b6de7cc"
   },
   "outputs": [
    {
     "name": "stdout",
     "output_type": "stream",
     "text": [
      "Please provide the input string : alice in winterland\n",
      "Please provide the input pattern : adt\n",
      "Result :  False\n"
     ]
    }
   ],
   "source": [
    "from collections import OrderedDict\n",
    "\n",
    "def check_order_str(value_str, value_pttrn):\n",
    "    value_dict = OrderedDict.fromkeys(value_str)\n",
    "    match_len = 0\n",
    "    for key,value in value_dict.items():\n",
    "        if key == value_pttrn[match_len]:\n",
    "            match_len = match_len + 1\n",
    "        \n",
    "        if (match_len == (len(value_pttrn))):\n",
    "            return True\n",
    "\n",
    "    return False\n",
    "\n",
    "try:\n",
    "    input_str = input(\"Please provide the input string : \")\n",
    "    input_pttrn = input(\"Please provide the input pattern : \")\n",
    "    print(\"Result : \",check_order_str(input_str, input_pttrn))\n",
    "except:\n",
    "    print(\"Error occured, please try again\")"
   ]
  },
  {
   "cell_type": "markdown",
   "metadata": {
    "id": "6II1h_XeXHwo"
   },
   "source": [
    "**7 . Write a Python program to sort Python Dictionaries by Key or Value?**"
   ]
  },
  {
   "cell_type": "code",
   "execution_count": null,
   "metadata": {
    "colab": {
     "base_uri": "https://localhost:8080/"
    },
    "id": "ZS7qSwk5XI0b",
    "outputId": "7a44b3e4-976e-43d7-837f-4b813e88038f"
   },
   "outputs": [
    {
     "name": "stdout",
     "output_type": "stream",
     "text": [
      "Sorted by Key :  {'A': 1, 'B': 2, 'C': 2, 'D': 5, 'E': 1, 'F': 3}\n",
      "Sorted by Value :  {'A': 1, 'E': 1, 'B': 2, 'C': 2, 'F': 3, 'D': 5}\n"
     ]
    }
   ],
   "source": [
    "input_dict = {\"A\": 1, \"B\": 2, \"D\": 5, \"E\": 1, \"C\": 2, \"F\": 3}\n",
    "\n",
    "sorted_by_key = {}\n",
    "sorted_by_val = {}\n",
    "\n",
    "# Sorted by Key\n",
    "for i in sorted(input_dict.keys()):\n",
    "    sorted_by_key[i] = input_dict[i]\n",
    "\n",
    "# Sorted by Value\n",
    "sorted_by_val = {key:value for key, value in sorted(input_dict.items(), key=lambda item: item[1])}\n",
    "\n",
    "print(\"Sorted by Key : \",sorted_by_key)\n",
    "print(\"Sorted by Value : \",sorted_by_val)"
   ]
  }
 ],
 "metadata": {
  "colab": {
   "collapsed_sections": [],
   "name": "python_basic_programming_assignment_12",
   "provenance": []
  },
  "kernelspec": {
   "display_name": "Python 3",
   "language": "python",
   "name": "python3"
  },
  "language_info": {
   "codemirror_mode": {
    "name": "ipython",
    "version": 3
   },
   "file_extension": ".py",
   "mimetype": "text/x-python",
   "name": "python",
   "nbconvert_exporter": "python",
   "pygments_lexer": "ipython3",
   "version": "3.8.5"
  }
 },
 "nbformat": 4,
 "nbformat_minor": 1
}

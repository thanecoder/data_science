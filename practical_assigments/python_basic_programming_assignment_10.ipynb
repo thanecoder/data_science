{
 "cells": [
  {
   "cell_type": "markdown",
   "metadata": {},
   "source": [
    "# Assignment 10"
   ]
  },
  {
   "cell_type": "markdown",
   "metadata": {},
   "source": [
    "#### Submitted By : Paritosh Nichat\n",
    "\n",
    "#### Date : July 18, 2021"
   ]
  },
  {
   "cell_type": "markdown",
   "metadata": {
    "id": "MjjiqZEVDPOu"
   },
   "source": [
    "**1 . Write a Python program to find sum of elements in list?**"
   ]
  },
  {
   "cell_type": "code",
   "execution_count": 1,
   "metadata": {
    "colab": {
     "base_uri": "https://localhost:8080/"
    },
    "id": "FMbkrQSADR7F",
    "outputId": "cb09d9ed-909d-48f7-d9f5-246a9c8d6452"
   },
   "outputs": [
    {
     "name": "stdout",
     "output_type": "stream",
     "text": [
      "Enter list of elements(comma-separated) : 56,4,42,65,23\n",
      "Sum is :  190\n"
     ]
    }
   ],
   "source": [
    "from functools import reduce\n",
    "\n",
    "def sum(a, b):\n",
    "    return int(a) + int(b)\n",
    "\n",
    "input_list = input(\"Enter list of elements(comma-separated) : \")\n",
    "input_list = input_list.split(\",\")\n",
    "try:\n",
    "    total = reduce(sum, input_list)\n",
    "    print(\"Sum is : \",total)\n",
    "except:\n",
    "    print(\"Please provide all elements of list as valid numbers\")"
   ]
  },
  {
   "cell_type": "markdown",
   "metadata": {
    "id": "rvvH4H4sDSpO"
   },
   "source": [
    "**2 . Write a Python program to  Multiply all numbers in the list?**"
   ]
  },
  {
   "cell_type": "code",
   "execution_count": 2,
   "metadata": {
    "colab": {
     "base_uri": "https://localhost:8080/"
    },
    "id": "rV2KL72iDVr5",
    "outputId": "04724b9a-cb51-4e08-e6d5-3cf80bf5b958"
   },
   "outputs": [
    {
     "name": "stdout",
     "output_type": "stream",
     "text": [
      "Enter list of elements(comma-separated) : 2,3,5\n",
      "Product is :  30\n"
     ]
    }
   ],
   "source": [
    "from functools import reduce\n",
    "\n",
    "def multiply(a, b):\n",
    "    return int(a) * int(b)\n",
    "\n",
    "input_list = input(\"Enter list of elements(comma-separated) : \")\n",
    "input_list = input_list.split(\",\")\n",
    "try:\n",
    "    product = reduce(multiply, input_list)\n",
    "    print(\"Product is : \",product)\n",
    "except:\n",
    "    print(\"Please provide all elements of list as valid numbers\")"
   ]
  },
  {
   "cell_type": "markdown",
   "metadata": {
    "id": "EKiJxWDhDWSU"
   },
   "source": [
    "**3 . Write a Python program to find smallest number in a list?**"
   ]
  },
  {
   "cell_type": "code",
   "execution_count": 3,
   "metadata": {
    "colab": {
     "base_uri": "https://localhost:8080/"
    },
    "id": "o1DTKICqDZAb",
    "outputId": "d3982551-c29a-431e-db19-caccafa3aac0"
   },
   "outputs": [
    {
     "name": "stdout",
     "output_type": "stream",
     "text": [
      "Enter list of elements(comma-separated) : 3,4,65,72,2,76,89\n",
      "Smallest of this list is : 2\n"
     ]
    }
   ],
   "source": [
    "def get_smallest_number(input_list):\n",
    "    smallest_number = 999\n",
    "    i = 0\n",
    "    while i < len(input_list):\n",
    "        if (int(input_list[i]) < int(smallest_number)):\n",
    "            smallest_number = input_list[i]\n",
    "        i = i+1\n",
    "    \n",
    "    return str(smallest_number)\n",
    "\n",
    "input_list = input(\"Enter list of elements(comma-separated) : \")\n",
    "input_list = input_list.split(\",\")\n",
    "try:\n",
    "    print(\"Smallest of this list is : \"+get_smallest_number(input_list))\n",
    "except:\n",
    "    print(\"Please provide all elements of list as valid numbers\")"
   ]
  },
  {
   "cell_type": "markdown",
   "metadata": {
    "id": "QlAgmxd3DZqM"
   },
   "source": [
    "**4 . Write a Python program to find largest number in a list?**"
   ]
  },
  {
   "cell_type": "code",
   "execution_count": 4,
   "metadata": {
    "colab": {
     "base_uri": "https://localhost:8080/"
    },
    "id": "i-fE-3TeDc9b",
    "outputId": "73d984b9-1097-4b79-b402-e5f891e7fa09"
   },
   "outputs": [
    {
     "name": "stdout",
     "output_type": "stream",
     "text": [
      "Enter list of elements(comma-separated) : 45,2,1200,78,870,23\n",
      "Largest of this list is : 1200\n"
     ]
    }
   ],
   "source": [
    "def get_largest_number(input_list):\n",
    "    largest_number = 0\n",
    "    i = 0\n",
    "    while i < len(input_list):\n",
    "        if (int(input_list[i]) > int(largest_number)):\n",
    "            largest_number = input_list[i]\n",
    "        i = i+1\n",
    "\n",
    "    return str(largest_number)\n",
    "\n",
    "input_list = input(\"Enter list of elements(comma-separated) : \")\n",
    "input_list = input_list.split(\",\")\n",
    "try:\n",
    "    print(\"Largest of this list is : \"+get_largest_number(input_list))\n",
    "except:\n",
    "    print(\"Please provide all elements of list as valid numbers\")"
   ]
  },
  {
   "cell_type": "markdown",
   "metadata": {
    "id": "CbTgS1pxDd3L"
   },
   "source": [
    "**5 . Write a Python program to find second largest number in a list?**"
   ]
  },
  {
   "cell_type": "code",
   "execution_count": 1,
   "metadata": {
    "id": "wEe5jaTzDivM"
   },
   "outputs": [
    {
     "name": "stdout",
     "output_type": "stream",
     "text": [
      "Enter list of elements(comma-separated) : 1,3,5,2,4,6\n",
      "Second Largest Number is : 5\n"
     ]
    }
   ],
   "source": [
    "input_list = input(\"Enter list of elements(comma-separated) : \")\n",
    "input_list = input_list.split(\",\")\n",
    "try:\n",
    "    sort_list = input_list\n",
    "    sort_list.sort(reverse=True)\n",
    "    print(\"Second Largest Number is :\",sort_list[1])\n",
    "except:\n",
    "    print(\"Please provide all elements of list as valid numbers\")"
   ]
  },
  {
   "cell_type": "markdown",
   "metadata": {
    "id": "Kih5Uc5_Dvcd"
   },
   "source": [
    "**6 . Write a Python program to find N largest elements from a list?**"
   ]
  },
  {
   "cell_type": "code",
   "execution_count": 3,
   "metadata": {
    "id": "Xzs1KSXbEDRv"
   },
   "outputs": [
    {
     "name": "stdout",
     "output_type": "stream",
     "text": [
      "Enter list of numbers(comma-separated) : 1,3,5,2,4,6\n",
      "Enter value of N : 2\n",
      "2 Largest Element/s from list : ['6', '5']\n"
     ]
    }
   ],
   "source": [
    "input_list = input(\"Enter list of numbers(comma-separated) : \")\n",
    "input_list = input_list.split(\",\")\n",
    "value_n = int(input(\"Enter value of N : \"))\n",
    "try:\n",
    "    sort_list = input_list\n",
    "    sort_list.sort(reverse=True)\n",
    "    print(\"{} Largest Element/s from list :\".format(str(value_n)),sort_list[:value_n])\n",
    "except:\n",
    "    print(\"Please provide all elements of list as valid numbers\")"
   ]
  },
  {
   "cell_type": "markdown",
   "metadata": {
    "id": "HarN3f0RED12"
   },
   "source": [
    "**7 . Write a Python program to print even numbers in a list?**"
   ]
  },
  {
   "cell_type": "code",
   "execution_count": 5,
   "metadata": {
    "colab": {
     "base_uri": "https://localhost:8080/"
    },
    "id": "xT9u3w21EGmg",
    "outputId": "67836514-0e61-4d6b-9c2a-a419df4ab336"
   },
   "outputs": [
    {
     "name": "stdout",
     "output_type": "stream",
     "text": [
      "Enter list of elements(comma-separated) : 45,2,1200,78,870,23\n",
      "Even numbers of the list :  ['2', '1200', '78', '870']\n"
     ]
    }
   ],
   "source": [
    "input_list = input(\"Enter list of elements(comma-separated) : \")\n",
    "input_list = input_list.split(\",\")\n",
    "try:\n",
    "    even_numbers = [i for i in input_list if int(i)%2 == 0]\n",
    "    print(\"Even numbers of the list : \",even_numbers)\n",
    "except:\n",
    "    print(\"Please provide all elements of list as valid numbers\")"
   ]
  },
  {
   "cell_type": "markdown",
   "metadata": {
    "id": "jZdH43oFEG_Z"
   },
   "source": [
    "**8 . Write a Python program to print odd numbers in a List?**"
   ]
  },
  {
   "cell_type": "code",
   "execution_count": 2,
   "metadata": {
    "colab": {
     "base_uri": "https://localhost:8080/"
    },
    "id": "aB4kZFXOEJcu",
    "outputId": "2e51bcad-1c7c-4159-be76-eed5806201f1"
   },
   "outputs": [
    {
     "name": "stdout",
     "output_type": "stream",
     "text": [
      "Enter list of elements(comma-separated) : 45,2,72,36,49,8,13,5,14,98\n",
      "Odd numbers of the list :  ['45', '49', '13', '5']\n"
     ]
    }
   ],
   "source": [
    "input_list = input(\"Enter list of elements(comma-separated) : \")\n",
    "input_list = input_list.split(\",\")\n",
    "try:\n",
    "    odd_numbers = [i for i in input_list if int(i)%2 != 0]\n",
    "    print(\"Odd numbers of the list : \",odd_numbers)\n",
    "except:\n",
    "    print(\"Please provide all elements of list as valid numbers\")"
   ]
  },
  {
   "cell_type": "markdown",
   "metadata": {
    "id": "tjoxvxFoEKVO"
   },
   "source": [
    "**9 . Write a Python program to Remove empty List from List?**"
   ]
  },
  {
   "cell_type": "code",
   "execution_count": 5,
   "metadata": {
    "id": "yzhjCpBYENiN"
   },
   "outputs": [
    {
     "name": "stdout",
     "output_type": "stream",
     "text": [
      "Result :  [1, 2, 45, 23, 67, 89, 12]\n"
     ]
    }
   ],
   "source": [
    "input_list = [1,2,[],45,23,67,[],89,[],12]\n",
    "input_list = [i for i in input_list if type(i) != list]\n",
    "print(\"Result : \",input_list)"
   ]
  },
  {
   "cell_type": "markdown",
   "metadata": {
    "id": "6-UTwEhGEN92"
   },
   "source": [
    "**10 . Write a Python program to Cloning or Copying a list?**"
   ]
  },
  {
   "cell_type": "code",
   "execution_count": 8,
   "metadata": {
    "colab": {
     "base_uri": "https://localhost:8080/"
    },
    "id": "BvRC7qXrESTE",
    "outputId": "7fa18516-b33f-4c45-b363-44b9d4a6dc72"
   },
   "outputs": [
    {
     "name": "stdout",
     "output_type": "stream",
     "text": [
      "Enter list of elements(comma-separated) : 3,4,1,6,3,2\n",
      "Copied List is :  ['3', '4', '1', '6', '3', '2']\n"
     ]
    }
   ],
   "source": [
    "import copy\n",
    "def get_copy(input_list):\n",
    "    copy_list = copy.deepcopy(input_list)\n",
    "    return copy_list\n",
    "\n",
    "input_list = input(\"Enter list of elements(comma-separated) : \")\n",
    "input_list = input_list.split(\",\")\n",
    "copy_list = get_copy(input_list)\n",
    "print(\"Copied List is : \",copy_list)"
   ]
  },
  {
   "cell_type": "markdown",
   "metadata": {
    "id": "OekBgvlmESwj"
   },
   "source": [
    "\n",
    "**11 . Write a Python program to Count occurrences of an element in a list?**"
   ]
  },
  {
   "cell_type": "code",
   "execution_count": 1,
   "metadata": {
    "colab": {
     "base_uri": "https://localhost:8080/"
    },
    "id": "qVY9nGwPEV3Q",
    "outputId": "9ad74c1e-8994-4f75-a4bd-866fce988602"
   },
   "outputs": [
    {
     "name": "stdout",
     "output_type": "stream",
     "text": [
      "Enter list of elements(comma-separated) : what,is,your,name,what,would,you,name,your,pet\n",
      "Enter elements to be searched : what\n",
      "Result is :  2\n"
     ]
    }
   ],
   "source": [
    "def get_occurences(input_list):\n",
    "    occurences = {}\n",
    "    for i in input_list:\n",
    "        if i in occurences:\n",
    "            occurences[i] += 1\n",
    "        else:\n",
    "            occurences[i] = 1\n",
    "    return occurences\n",
    "\n",
    "\n",
    "input_list = input(\"Enter list of elements(comma-separated) : \")\n",
    "input_list = input_list.split(\",\")\n",
    "search_element = input(\"Enter elements to be searched : \")\n",
    "all_element_occurences = get_occurences(input_list)\n",
    "print(\"Result is : \",all_element_occurences[search_element])"
   ]
  }
 ],
 "metadata": {
  "colab": {
   "collapsed_sections": [],
   "name": "python_basic_programming_assignment_10",
   "provenance": []
  },
  "kernelspec": {
   "display_name": "Python 3",
   "language": "python",
   "name": "python3"
  },
  "language_info": {
   "codemirror_mode": {
    "name": "ipython",
    "version": 3
   },
   "file_extension": ".py",
   "mimetype": "text/x-python",
   "name": "python",
   "nbconvert_exporter": "python",
   "pygments_lexer": "ipython3",
   "version": "3.8.5"
  }
 },
 "nbformat": 4,
 "nbformat_minor": 1
}

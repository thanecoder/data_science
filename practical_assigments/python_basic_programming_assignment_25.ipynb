{
 "cells": [
  {
   "cell_type": "markdown",
   "metadata": {
    "id": "3Pp-ohFBGV5G"
   },
   "source": [
    "# Assignment 25"
   ]
  },
  {
   "cell_type": "markdown",
   "metadata": {
    "id": "qwF2GqIjGXw9"
   },
   "source": [
    "#### Submitted By : Paritosh Nichat\n",
    "\n",
    "#### Date : July 22, 2021"
   ]
  },
  {
   "cell_type": "markdown",
   "metadata": {
    "id": "CtYhvSWtF2MZ"
   },
   "source": [
    "1 . Create a function that takes three integer arguments (a, b, c) and returns the amount of integers which are of equal value.Examples\n",
    "\n",
    "equal(3, 4, 3) ➞ 2\n",
    "\n",
    "equal(1, 1, 1) ➞ 3\n",
    "\n",
    "equal(3, 4, 1) ➞ 0 \n",
    "\n",
    "Notes\n",
    "\n",
    "Your function must return 0, 2 or 3."
   ]
  },
  {
   "cell_type": "code",
   "execution_count": 2,
   "metadata": {
    "colab": {
     "base_uri": "https://localhost:8080/"
    },
    "id": "ZdfYgfycFDyq",
    "outputId": "e5f04448-9d79-4d8d-b9a0-ad7ad01844e1"
   },
   "outputs": [
    {
     "name": "stdout",
     "output_type": "stream",
     "text": [
      "Please provide three input numbers(comma-separated) : 3,4,3\n",
      "Result :  2\n"
     ]
    }
   ],
   "source": [
    "def equal(a, b, c):\n",
    "    if a == b and a == c:\n",
    "        return 3\n",
    "    elif a == b or a == c or b == c:\n",
    "        return 2\n",
    "    else:\n",
    "        return 0\n",
    "\n",
    "try:\n",
    "    input_nums = input(\"Please provide three input numbers(comma-separated) : \")\n",
    "    input_nums = input_nums.split(\",\")\n",
    "    input_a, input_b, input_c = input_nums\n",
    "    print(\"Result : \",equal(int(input_a), int(input_b), int(input_c)))\n",
    "except:\n",
    "    print(\"Error occured, please try again\")"
   ]
  },
  {
   "cell_type": "markdown",
   "metadata": {
    "id": "ILsiUcEKF8vP"
   },
   "source": [
    "2 . Write a function that converts a dictionary into a list of keys-values tuples.Examples\n",
    "\n",
    "dict_to_list({\n",
    "  \"D\": 1,\n",
    "  \"B\": 2,\n",
    "  \"C\": 3\n",
    "}) ➞ [(\"B\", 2), (\"C\", 3), (\"D\", 1)]\n",
    "\n",
    "dict_to_list({\n",
    "  \"likes\": 2,\n",
    "  \"dislikes\": 3,\n",
    "  \"followers\": 10\n",
    "}) ➞ [(\"dislikes\", 3), (\"followers\", 10), (\"likes\", 2)]\n",
    "\n",
    "Notes\n",
    "\n",
    "Return the elements in the list in alphabetical order."
   ]
  },
  {
   "cell_type": "code",
   "execution_count": 3,
   "metadata": {
    "colab": {
     "base_uri": "https://localhost:8080/"
    },
    "id": "8UKRAFueGDx6",
    "outputId": "d59775b1-e607-4147-dce8-b6b1e593d52a"
   },
   "outputs": [
    {
     "name": "stdout",
     "output_type": "stream",
     "text": [
      "[('B', 2), ('C', 3), ('D', 1)]\n",
      "[('dislikes', 3), ('followers', 10), ('likes', 2)]\n"
     ]
    }
   ],
   "source": [
    "def dict_to_list(value_dict):\n",
    "    output_list = []\n",
    "    for i in value_dict.items():\n",
    "        output_list.append(i)\n",
    "\n",
    "    output_list.sort()\n",
    "    return output_list\n",
    "\n",
    "print(dict_to_list({ \"D\": 1, \"B\": 2, \"C\": 3 }))\n",
    "print(dict_to_list({ \"likes\": 2, \"dislikes\": 3, \"followers\": 10 }))"
   ]
  },
  {
   "cell_type": "markdown",
   "metadata": {
    "id": "qYaeURjgGERY"
   },
   "source": [
    "3 . Write a function that creates a dictionary with each (key, value) pair being the (lower case, upper case) versions of a letter, respectively.Examples\n",
    "\n",
    "mapping([\"p\", \"s\"]) ➞ { \"p\": \"P\", \"s\": \"S\" }\n",
    "\n",
    "mapping([\"a\", \"b\", \"c\"]) ➞ { \"a\": \"A\", \"b\": \"B\", \"c\": \"C\" }\n",
    "\n",
    "mapping([\"a\", \"v\", \"y\", \"z\"]) ➞ { \"a\": \"A\", \"v\": \"V\", \"y\": \"Y\", \"z\": \"Z\" }\n",
    "\n",
    "Notes\n",
    "\n",
    "All of the letters in the input list will always be lowercase."
   ]
  },
  {
   "cell_type": "code",
   "execution_count": 4,
   "metadata": {
    "colab": {
     "base_uri": "https://localhost:8080/"
    },
    "id": "VkVMaUObGJpe",
    "outputId": "0e91890c-f5db-4946-ee45-bbbe68630526"
   },
   "outputs": [
    {
     "name": "stdout",
     "output_type": "stream",
     "text": [
      "Please provide the input list(comma-separated) : p,s\n",
      "Result :  {'p': 'P', 's': 'S'}\n"
     ]
    }
   ],
   "source": [
    "def mapping(value_list):\n",
    "    output_dict = {}\n",
    "    for i in value_list:\n",
    "        output_dict[i] = chr(ord(i)-32)\n",
    "    \n",
    "    return output_dict\n",
    "\n",
    "try:\n",
    "    input_list = input(\"Please provide the input list(comma-separated) : \")\n",
    "    input_list = input_list.split(\",\")\n",
    "    print(\"Result : \",mapping(input_list))\n",
    "except:\n",
    "    print(\"Error occured, please try again\")"
   ]
  },
  {
   "cell_type": "markdown",
   "metadata": {
    "id": "QKQTpt3HGJ4e"
   },
   "source": [
    "4 . Write a function, that replaces all vowels in a string with a specified vowel.Examples\n",
    "\n",
    "vow_replace(\"apples and bananas\", \"u\") ➞ \"upplus und bununus\"\n",
    "\n",
    "vow_replace(\"cheese casserole\", \"o\") ➞ \"chooso cossorolo\"\n",
    "\n",
    "vow_replace(\"stuffed jalapeno poppers\", \"e\") ➞ \"steffed jelepene peppers\"\n",
    "\n",
    "Notes\n",
    "\n",
    "All words will be lowercase. Y is not considered a vowel."
   ]
  },
  {
   "cell_type": "code",
   "execution_count": 5,
   "metadata": {
    "colab": {
     "base_uri": "https://localhost:8080/"
    },
    "id": "uGEHygx7GPL4",
    "outputId": "cadcf087-d579-4161-cd14-5995e0c795a7"
   },
   "outputs": [
    {
     "name": "stdout",
     "output_type": "stream",
     "text": [
      "Enter the input string : apples and bananas\n",
      "Enter the vowel to be replaced with: u\n",
      "Result : upplus und bununus\n"
     ]
    }
   ],
   "source": [
    "import re\n",
    "\n",
    "def replace_vowels(value_str, value_vow):\n",
    "    vowelsRegex = re.compile(r'[aeiouAEIOU]{1}')\n",
    "    vowelReplacedStr = re.sub(vowelsRegex, value_vow, value_str)\n",
    "    return vowelReplacedStr\n",
    "\n",
    "try:\n",
    "    # Get input from user\n",
    "    input_str = input(\"Enter the input string : \")\n",
    "    input_char = input(\"Enter the vowel to be replaced with: \")\n",
    "    result = replace_vowels(input_str, input_char)\n",
    "    print(\"Result : {}\".format(result))\n",
    "except:\n",
    "    print(\"Error occured, please check the input once\")"
   ]
  },
  {
   "cell_type": "markdown",
   "metadata": {
    "id": "KMUkObdtGP3K"
   },
   "source": [
    "5 . Create a function that takes a string as input and capitalizes a letter if its ASCII code is even and returns its lower case version if its ASCII code is odd.Examples\n",
    "\n",
    "ascii_capitalize(\"to be or not to be!\") ➞ \"To Be oR NoT To Be!\"\n",
    "\n",
    "ascii_capitalize(\"THE LITTLE MERMAID\") ➞ \"THe LiTTLe meRmaiD\"\n",
    "\n",
    "ascii_capitalize(\"Oh what a beautiful morning.\") ➞ \"oH wHaT a BeauTiFuL moRNiNg.\""
   ]
  },
  {
   "cell_type": "code",
   "execution_count": 6,
   "metadata": {
    "colab": {
     "base_uri": "https://localhost:8080/"
    },
    "id": "-N0O_BDFGUsC",
    "outputId": "6d888791-9c65-459c-ebdc-2d76ee017aba"
   },
   "outputs": [
    {
     "name": "stdout",
     "output_type": "stream",
     "text": [
      "Please provide the input string : to be or not to be!\n",
      "Result :  To Be oR NoT To Be!\n"
     ]
    }
   ],
   "source": [
    "def ascii_capitalize(value_str):\n",
    "    value_list = list(value_str.lower())\n",
    "    for i in range(0,len(value_list)):\n",
    "        if ord(value_list[i])%2 == 0 and (ord(value_list[i]) >= 97 and ord(value_list[i]) <= 122):\n",
    "            value_list[i] = chr(ord(value_list[i])-32)\n",
    "\n",
    "    value_str = \"\".join(value_list)\n",
    "    return value_str\n",
    "\n",
    "try:\n",
    "    input_str = input(\"Please provide the input string : \")\n",
    "    print(\"Result : \",ascii_capitalize(input_str))\n",
    "except:\n",
    "    print(\"Error occured, please try again\")"
   ]
  }
 ],
 "metadata": {
  "colab": {
   "collapsed_sections": [],
   "name": "python_basic_programming_assignment_25",
   "provenance": []
  },
  "kernelspec": {
   "display_name": "Python 3",
   "language": "python",
   "name": "python3"
  },
  "language_info": {
   "codemirror_mode": {
    "name": "ipython",
    "version": 3
   },
   "file_extension": ".py",
   "mimetype": "text/x-python",
   "name": "python",
   "nbconvert_exporter": "python",
   "pygments_lexer": "ipython3",
   "version": "3.8.5"
  }
 },
 "nbformat": 4,
 "nbformat_minor": 1
}

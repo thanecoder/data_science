{
  "nbformat": 4,
  "nbformat_minor": 0,
  "metadata": {
    "colab": {
      "name": "screening_assignment",
      "provenance": [],
      "collapsed_sections": [],
      "authorship_tag": "ABX9TyMz8OxhvziLObsPo/MwZwgR"
    },
    "kernelspec": {
      "name": "python3",
      "display_name": "Python 3"
    },
    "language_info": {
      "name": "python"
    }
  },
  "cells": [
    {
      "cell_type": "markdown",
      "source": [
        "```\n",
        "Create a function in python to read the text file and replace specific content\n",
        "of the file.\n",
        "```"
      ],
      "metadata": {
        "id": "eizfdeqAE1o6"
      }
    },
    {
      "cell_type": "code",
      "execution_count": null,
      "metadata": {
        "id": "a03KwnW8imrd"
      },
      "outputs": [],
      "source": [
        "with open(\"example.txt\", mode=\"r+\") as file:\n",
        "    file_text = file.read()\n",
        "    x = file_text.replace(\"placement\", \"screening\")\n",
        "    file.seek(0)\n",
        "    file.write(x)\n",
        "    file.close()"
      ]
    },
    {
      "cell_type": "markdown",
      "source": [
        "```\n",
        "Demonstrate use of abstract class, multiple inheritance and decorator in\n",
        "python using examples.\n",
        "```"
      ],
      "metadata": {
        "id": "IYCRWE00E3W9"
      }
    },
    {
      "cell_type": "markdown",
      "source": [
        "Abstract Class"
      ],
      "metadata": {
        "id": "3N9WIcAVsq5l"
      }
    },
    {
      "cell_type": "code",
      "source": [
        "from abc import ABC, abstractmethod\n",
        "\n",
        "class Shape(ABC):\n",
        "    @abstractmethod\n",
        "    def area():\n",
        "        pass\n",
        "\n",
        "class Triangle(Shape):\n",
        "    def area(self, base, height):\n",
        "        area = 0.5 * base * height\n",
        "        print(\"Area is :\",area)\n",
        "\n",
        "class Square(Shape):\n",
        "    def area(self, side):\n",
        "        area = side ** 2\n",
        "        print(\"Area is :\",area)\n",
        "\n",
        "class Rectangle(Shape):\n",
        "    def area(self, length, width):\n",
        "        area = length * width\n",
        "        print(\"Area is :\",area)\n",
        "\n",
        "triangle1 = Triangle()\n",
        "triangle1.area(2, 3)\n",
        " \n",
        "square1 = Square()\n",
        "square1.area(4)\n",
        " \n",
        "rectangle1 = Rectangle()\n",
        "rectangle1.area(2, 3)"
      ],
      "metadata": {
        "id": "G7SK4j5dsrU3",
        "colab": {
          "base_uri": "https://localhost:8080/"
        },
        "outputId": "5fa248fb-bc1b-489e-8782-74367d1a765f"
      },
      "execution_count": null,
      "outputs": [
        {
          "output_type": "stream",
          "name": "stdout",
          "text": [
            "Area is : 3.0\n",
            "Area is : 16\n",
            "Area is : 6\n"
          ]
        }
      ]
    },
    {
      "cell_type": "markdown",
      "source": [
        "Multiple Inheritance"
      ],
      "metadata": {
        "id": "c3_jusAmsrtP"
      }
    },
    {
      "cell_type": "code",
      "source": [
        "class DummyRequest():\n",
        "    def respond(self):\n",
        "        response = \"Sample dummy API request\"\n",
        "        return response\n",
        "\n",
        "class DummyGetRequest():\n",
        "    def respond(self):\n",
        "        response = \"Sample GET API request\"\n",
        "        return response\n",
        "\n",
        "class APIRequest(DummyRequest, DummyGetRequest):\n",
        "    def respond(self):\n",
        "        super()\n",
        "        response = [{\"id\":1, \"data\":\"Text 1\"}, {\"id\":2, \"data\":\"Text 2\"}]\n",
        "        return response\n",
        "\n",
        "get1 = DummyGetRequest\n",
        "api1 = APIRequest()\n",
        "api1.respond()"
      ],
      "metadata": {
        "id": "4QuUSC8ZssAO",
        "colab": {
          "base_uri": "https://localhost:8080/"
        },
        "outputId": "d3f1c0f3-32f8-4602-df48-af30b179eaf7"
      },
      "execution_count": null,
      "outputs": [
        {
          "output_type": "execute_result",
          "data": {
            "text/plain": [
              "[{'data': 'Text 1', 'id': 1}, {'data': 'Text 2', 'id': 2}]"
            ]
          },
          "metadata": {},
          "execution_count": 19
        }
      ]
    },
    {
      "cell_type": "markdown",
      "source": [
        "Decorators"
      ],
      "metadata": {
        "id": "gyxbYQkFsseA"
      }
    },
    {
      "cell_type": "code",
      "source": [
        "def directive(func):\n",
        "    def wrapper():\n",
        "        print('We are in '+func.__name__+' directive')\n",
        "        func()\n",
        "    return wrapper\n",
        "\n",
        "def component(func):\n",
        "    def wrapper():\n",
        "        print('We are in '+func.__name__+' component')\n",
        "        func()\n",
        "    return wrapper\n",
        "\n",
        "\n",
        "@component\n",
        "def Navigation():\n",
        "    print(\"This is a Navbar\")\n",
        "\n",
        "@directive\n",
        "def TextHighlight():\n",
        "    print(\"This is a Navbar\")\n",
        "\n",
        "Navigation()\n",
        "TextHighlight()"
      ],
      "metadata": {
        "id": "pLZZxcMqsszN",
        "colab": {
          "base_uri": "https://localhost:8080/"
        },
        "outputId": "8b2d0cd6-9ec4-4e59-c854-e818714ec0de"
      },
      "execution_count": null,
      "outputs": [
        {
          "output_type": "stream",
          "name": "stdout",
          "text": [
            "We are in Navigation component\n",
            "This is a Navbar\n",
            "We are in TextHighlight directive\n",
            "This is a Navbar\n"
          ]
        }
      ]
    }
  ]
}
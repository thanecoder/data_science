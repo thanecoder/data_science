{
  "nbformat": 4,
  "nbformat_minor": 0,
  "metadata": {
    "colab": {
      "name": "python_advanced_assignment_11",
      "provenance": [],
      "collapsed_sections": [],
      "authorship_tag": "ABX9TyM1Yl/I+Z9KFgRkIHRNC2eG"
    },
    "kernelspec": {
      "name": "python3",
      "display_name": "Python 3"
    },
    "language_info": {
      "name": "python"
    }
  },
  "cells": [
    {
      "cell_type": "markdown",
      "source": [
        "# Advanced Assignment 11"
      ],
      "metadata": {
        "id": "7xZSTRhvCIfk"
      }
    },
    {
      "cell_type": "markdown",
      "source": [
        "#### Submitted By : Paritosh Nichat\n",
        "#### Submitted Date: April 16, 2022"
      ],
      "metadata": {
        "id": "bwkGvzEbDfYi"
      }
    },
    {
      "cell_type": "markdown",
      "source": [
        "Q1. What is the concept of a metaclass?"
      ],
      "metadata": {
        "id": "Zs3mNdfYCCCO"
      }
    },
    {
      "cell_type": "markdown",
      "source": [
        "#### Solution :-\n",
        "\n",
        "A metaclass is a class used to create a class. Normal classes are instances of the\n",
        "type class by default. Metaclasses are usually subclasses of the type class, which\n",
        "redefines class creation protocol methods in order to customize the class creation\n",
        "call issued at the end of a class statement; they typically redefine the methods\n",
        "__new__ and __init__ to tap into the class creation protocol."
      ],
      "metadata": {
        "id": "9LsOKLZECM9_"
      }
    },
    {
      "cell_type": "markdown",
      "source": [
        "Q2. What is the best way to declare a class's metaclass?"
      ],
      "metadata": {
        "id": "u6Oppoc3CEEQ"
      }
    },
    {
      "cell_type": "markdown",
      "source": [
        "#### Solution :- \n",
        "\n",
        "We use a keyword argument in the class header line:class C(metaclass=M).\n",
        "The class header line can also name normal superclasses (a.k.a. base classes) before the metaclass keyword argument."
      ],
      "metadata": {
        "id": "JAZy-qBmCQim"
      }
    },
    {
      "cell_type": "markdown",
      "source": [
        "Q3. How do class decorators overlap with metaclasses for handling classes?"
      ],
      "metadata": {
        "id": "0KIeJ_elCFVU"
      }
    },
    {
      "cell_type": "markdown",
      "source": [
        "#### Solution :- \n",
        "\n",
        "* Because both are automatically triggered at the end of a class statement, \n",
        "class decorators and metaclasses can both be used to \n",
        "manage classes.\n",
        "* Decorators rebind a class name to a callable’s result \n",
        "and metaclasses route class creation through a callable, \n",
        "but both hooks can be used for similar purposes.\n",
        "* To manage classes,decorators simply augment and return the \n",
        "original class objects. \n",
        "* Metaclasses augment a class after they create it."
      ],
      "metadata": {
        "id": "gpSJiHF4CNrv"
      }
    },
    {
      "cell_type": "markdown",
      "source": [
        "Q4. How do class decorators overlap with metaclasses for handling instances?"
      ],
      "metadata": {
        "id": "n3jXhgiyCG5r"
      }
    },
    {
      "cell_type": "markdown",
      "source": [
        "#### Solution :- \n",
        "\n",
        "* Because both are automatically triggered at the end of a class statement, class\n",
        "decorators and metaclasses can both be used to manage class instances, by inserting\n",
        "a wrapper object to catch instance creation calls. \n",
        "* Decorators may rebind the class name to a callable run on instance creation that \n",
        "retains the original class object.\n",
        "* Metaclasses can do the same, but they must also create the class object, \n",
        "so their usage is somewhat more complex in this role."
      ],
      "metadata": {
        "id": "yjTyJ90_CN_h"
      }
    }
  ]
}
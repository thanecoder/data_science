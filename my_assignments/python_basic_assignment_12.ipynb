{
 "cells": [
  {
   "cell_type": "markdown",
   "metadata": {
    "id": "OzWd03RoZ57f"
   },
   "source": [
    "# Assignment 12"
   ]
  },
  {
   "cell_type": "markdown",
   "metadata": {
    "id": "L4sUPkyCZ8Et"
   },
   "source": [
    "#### Submitted By : Paritosh Nichat\n",
    "\n",
    "#### Date : July 29, 2021"
   ]
  },
  {
   "cell_type": "markdown",
   "metadata": {
    "id": "chK5smh-ZUIV"
   },
   "source": [
    "1. In what modes should the PdfFileReader() and PdfFileWriter() File objects will be opened?"
   ]
  },
  {
   "cell_type": "markdown",
   "metadata": {
    "id": "1cDttzu_Zyrc"
   },
   "source": [
    "#### Solution :\n",
    "\n",
    "* Read-binary ('rb') for PdfFileReader()\n",
    "* Write-binary ('wb') for PdfFileWriter()"
   ]
  },
  {
   "cell_type": "markdown",
   "metadata": {
    "id": "t2e5DD_QZUtI"
   },
   "source": [
    "2. From a PdfFileReader object, how do you get a Page object for page 5?"
   ]
  },
  {
   "cell_type": "markdown",
   "metadata": {
    "id": "42mHwuUFZzbt"
   },
   "source": [
    "#### Solution :\n",
    "\n",
    "* Use the getPage(4) method.\n",
    "* Since page 0 is the first page."
   ]
  },
  {
   "cell_type": "markdown",
   "metadata": {
    "id": "1ubkuD8NZVVt"
   },
   "source": [
    "3. What PdfFileReader variable stores the number of pages in the PDF document?"
   ]
  },
  {
   "cell_type": "markdown",
   "metadata": {
    "id": "TzU1RsW6Zz4w"
   },
   "source": [
    "#### Solution :\n",
    "\n",
    "* The variable - numPages stores the number of pages in the PDF document."
   ]
  },
  {
   "cell_type": "markdown",
   "metadata": {
    "id": "mySxDKx7ZV39"
   },
   "source": [
    "4. If a PdfFileReader object’s PDF is encrypted with the password swordfish, what must you do before you can obtain Page objects from it?"
   ]
  },
  {
   "cell_type": "markdown",
   "metadata": {
    "id": "OlA1kg6zZ0bD"
   },
   "source": [
    "#### Solution :\n",
    "\n",
    "* Call the decrypt method\n",
    "* decrypt('swordfish')"
   ]
  },
  {
   "cell_type": "markdown",
   "metadata": {
    "id": "o3bn9BstZfvv"
   },
   "source": [
    "5. What methods do you use to rotate a page?"
   ]
  },
  {
   "cell_type": "markdown",
   "metadata": {
    "id": "34yCmQhtZ01i"
   },
   "source": [
    "#### Solution :\n",
    "\n",
    "* There are two methods - rotateClockwise() and rotateCounterClockwise()\n",
    "* The degrees to rotate which could be - 90, 180, or 270 is passed as an integer argument to these methods."
   ]
  },
  {
   "cell_type": "markdown",
   "metadata": {
    "id": "s6RxxYGWZhcv"
   },
   "source": [
    "6. What is the difference between a Run object and a Paragraph object?"
   ]
  },
  {
   "cell_type": "markdown",
   "metadata": {
    "id": "asa_qnRrZ1gp"
   },
   "source": [
    "#### Solution :\n",
    "\n",
    "* The Document object contains a list of Paragraph objects for the paragraphs in the document.A paragraph begins on a new line and contains multiple runs.\n",
    "* Each of these Paragraph objects contains a list of one or more Run objects.Runs are contiguous groups of characters within a paragraph."
   ]
  },
  {
   "cell_type": "markdown",
   "metadata": {
    "id": "rD7KMWAdZpTZ"
   },
   "source": [
    "7. How do you obtain a list of Paragraph objects for a Document object that’s stored in a variable named doc?"
   ]
  },
  {
   "cell_type": "markdown",
   "metadata": {
    "id": "bqF7dXO_Z16p"
   },
   "source": [
    "#### Solution :\n",
    "\n",
    "* doc.paragraphs"
   ]
  },
  {
   "cell_type": "markdown",
   "metadata": {
    "id": "oDODHI-gZrOW"
   },
   "source": [
    "8. What type of object has bold, underline, italic, strike, and outline variables?"
   ]
  },
  {
   "cell_type": "markdown",
   "metadata": {
    "id": "7WYsEgwcZ2V5"
   },
   "source": [
    "#### Solution :\n",
    "\n",
    "* A Run object has these variables."
   ]
  },
  {
   "cell_type": "markdown",
   "metadata": {
    "id": "KosSUhAjZsm5"
   },
   "source": [
    "9. What is the difference between False, True, and None for the bold variable?"
   ]
  },
  {
   "cell_type": "markdown",
   "metadata": {
    "id": "4MjYxpdTZ2tk"
   },
   "source": [
    "#### Solution :\n",
    "\n",
    "* True always makes the Run object bolded.\n",
    "* False makes it always not bolded, no matter what the style’s bold setting is.\n",
    "* None will make the Run object just use the style’s bold setting."
   ]
  },
  {
   "cell_type": "markdown",
   "metadata": {
    "id": "pga2_kVnZuQW"
   },
   "source": [
    "10. How do you create a Document object for a new Word document?"
   ]
  },
  {
   "cell_type": "markdown",
   "metadata": {
    "id": "eSJwihlPZ3FG"
   },
   "source": [
    "#### Solution :\n",
    "\n",
    "* Call the docx.Document() function."
   ]
  },
  {
   "cell_type": "markdown",
   "metadata": {
    "id": "nT4C8xMUZvv3"
   },
   "source": [
    "11. How do you add a paragraph with the text 'Hello, there!' to a Document object stored in a variable named doc?"
   ]
  },
  {
   "cell_type": "markdown",
   "metadata": {
    "id": "Wr7CzuZlZ3ci"
   },
   "source": [
    "#### Solution :\n",
    "\n",
    "* Use doc.add_paragraph('Hello, world!')"
   ]
  },
  {
   "cell_type": "markdown",
   "metadata": {
    "id": "pZA_cSVKZxRF"
   },
   "source": [
    "12. What integers represent the levels of headings available in Word documents?"
   ]
  },
  {
   "cell_type": "markdown",
   "metadata": {
    "id": "n1RVOsuYZ31i"
   },
   "source": [
    "#### Solution :\n",
    "\n",
    "* Integers - 0,1,2,3,4\n",
    "* The integer 0 makes the heading the Title style, which is used for the top of the document.\n",
    "* Integers 1 to 4 are for various heading levels, with 1 being the main heading and 4 the lowest subheading"
   ]
  }
 ],
 "metadata": {
  "colab": {
   "collapsed_sections": [],
   "name": "python_basic_assignment_12",
   "provenance": []
  },
  "kernelspec": {
   "display_name": "Python 3",
   "language": "python",
   "name": "python3"
  },
  "language_info": {
   "codemirror_mode": {
    "name": "ipython",
    "version": 3
   },
   "file_extension": ".py",
   "mimetype": "text/x-python",
   "name": "python",
   "nbconvert_exporter": "python",
   "pygments_lexer": "ipython3",
   "version": "3.8.5"
  }
 },
 "nbformat": 4,
 "nbformat_minor": 1
}

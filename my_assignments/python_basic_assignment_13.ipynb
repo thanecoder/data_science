{
 "cells": [
  {
   "cell_type": "markdown",
   "metadata": {
    "id": "6AQ10IyoKKdW"
   },
   "source": [
    "# Assignment 13"
   ]
  },
  {
   "cell_type": "markdown",
   "metadata": {
    "id": "UG3bkny3KMRI"
   },
   "source": [
    "#### Submitted By : Paritosh Nichat\n",
    "\n",
    "#### Date :  July 29, 2021"
   ]
  },
  {
   "cell_type": "markdown",
   "metadata": {
    "id": "C4BD3ROqJ506"
   },
   "source": [
    "1 . What advantages do Excel spreadsheets have over CSV spreadsheets?"
   ]
  },
  {
   "cell_type": "markdown",
   "metadata": {
    "id": "Txg_XWdeKTnw"
   },
   "source": [
    "#### Solution :\n",
    "\n",
    "In Excel, spreadsheets can have values of data types other than strings; cells can have different fonts, sizes, or color settings; cells can have varying widths and heights; adjacent cells can be merged; and you can embed images and charts."
   ]
  },
  {
   "cell_type": "markdown",
   "metadata": {
    "id": "joe3D5iCJ5vJ"
   },
   "source": [
    "2 . What do you pass to csv.reader() and csv.writer() to create reader and writer objects?"
   ]
  },
  {
   "cell_type": "markdown",
   "metadata": {
    "id": "EXj4FQo0LGM9"
   },
   "source": [
    "#### Solution :\n",
    "\n",
    "* You pass a File object, obtained from a call to open()."
   ]
  },
  {
   "cell_type": "markdown",
   "metadata": {
    "id": "cNIBQlDSJ5pt"
   },
   "source": [
    "3 . What modes do File objects for reader and writer objects need to be opened in?"
   ]
  },
  {
   "cell_type": "markdown",
   "metadata": {
    "id": "u6kdJWjyLQo4"
   },
   "source": [
    "#### Solution :\n",
    "\n",
    "* File objects need to be opened in read-binary ('rb') for Reader objects and write-binary ('wb') for Writer objects."
   ]
  },
  {
   "cell_type": "markdown",
   "metadata": {
    "id": "GMb89BFHJ5j7"
   },
   "source": [
    "4 . What method takes a list argument and writes it to a CSV file?"
   ]
  },
  {
   "cell_type": "markdown",
   "metadata": {
    "id": "zkBsDOjpLcsH"
   },
   "source": [
    "#### Solution :\n",
    "\n",
    "* The writerow() method"
   ]
  },
  {
   "cell_type": "markdown",
   "metadata": {
    "id": "Ebsly3reJ5eP"
   },
   "source": [
    "5 . What do the keyword arguments delimiter and line terminator do?"
   ]
  },
  {
   "cell_type": "markdown",
   "metadata": {
    "id": "UxGBwsSmLj4u"
   },
   "source": [
    "#### Solution :\n",
    "\n",
    "* The delimiter argument changes the string used to separate cells in a row. \n",
    "* The line terminator argument changes the string used to separate rows."
   ]
  },
  {
   "cell_type": "markdown",
   "metadata": {
    "id": "upfT6YMOJ5W2"
   },
   "source": [
    "6 . What function takes a string of JSON data and returns a Python data structure?"
   ]
  },
  {
   "cell_type": "markdown",
   "metadata": {
    "id": "99u6HU2VLppB"
   },
   "source": [
    "#### Solution :\n",
    "\n",
    "* The json.loads() function"
   ]
  },
  {
   "cell_type": "markdown",
   "metadata": {
    "id": "_ppYkknPKHzb"
   },
   "source": [
    "7 . What function takes a Python data structure and returns a string of JSON data?"
   ]
  },
  {
   "cell_type": "markdown",
   "metadata": {
    "id": "pV0kywYkLrSK"
   },
   "source": [
    "#### Solution :\n",
    "\n",
    "* The json.dumps() function"
   ]
  }
 ],
 "metadata": {
  "colab": {
   "collapsed_sections": [],
   "name": "python_basic_assignment_13",
   "provenance": []
  },
  "kernelspec": {
   "display_name": "Python 3",
   "language": "python",
   "name": "python3"
  },
  "language_info": {
   "codemirror_mode": {
    "name": "ipython",
    "version": 3
   },
   "file_extension": ".py",
   "mimetype": "text/x-python",
   "name": "python",
   "nbconvert_exporter": "python",
   "pygments_lexer": "ipython3",
   "version": "3.8.5"
  }
 },
 "nbformat": 4,
 "nbformat_minor": 1
}

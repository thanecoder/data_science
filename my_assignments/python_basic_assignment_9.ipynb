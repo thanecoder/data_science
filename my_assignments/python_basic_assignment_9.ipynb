{
 "cells": [
  {
   "cell_type": "markdown",
   "metadata": {},
   "source": [
    "# Assignment 9"
   ]
  },
  {
   "cell_type": "markdown",
   "metadata": {},
   "source": [
    "#### Submitted By : Paritosh Nichat\n",
    "\n",
    "#### Date : May 30, 2021"
   ]
  },
  {
   "cell_type": "markdown",
   "metadata": {
    "id": "2inPVu2OyGp5"
   },
   "source": [
    "1 . To what does a relative path refer?"
   ]
  },
  {
   "cell_type": "markdown",
   "metadata": {
    "id": "MSADF5tZYXWm"
   },
   "source": [
    "#### Solution :\n",
    "\n",
    "* Relative paths are relative to the current working directory."
   ]
  },
  {
   "cell_type": "markdown",
   "metadata": {
    "id": "NCu5YNnBYGgO"
   },
   "source": [
    "2 . What does an absolute path start with your operating system?"
   ]
  },
  {
   "cell_type": "markdown",
   "metadata": {
    "id": "5LOjcGEFYhOn"
   },
   "source": [
    "#### Solution :\n",
    "\n",
    "* Absolute paths start with the root folder, such as / in Linux systems or C:\\ in Windows systems."
   ]
  },
  {
   "cell_type": "markdown",
   "metadata": {
    "id": "Ph_pujpeYJRw"
   },
   "source": [
    "3 . What do the functions os.getcwd() and os.chdir() do?"
   ]
  },
  {
   "cell_type": "markdown",
   "metadata": {
    "id": "tIOIEPlkYrni"
   },
   "source": [
    "#### Solution :\n",
    "\n",
    "* The os.getcwd() function returns the current working directory.\n",
    "* The os.chdir() function changes the current working directory."
   ]
  },
  {
   "cell_type": "markdown",
   "metadata": {
    "id": "9G3oouxRYLtS"
   },
   "source": [
    "4 . What are the . and .. folders?"
   ]
  },
  {
   "cell_type": "markdown",
   "metadata": {
    "id": "IWuyXE0RYzF4"
   },
   "source": [
    "#### Solution :\n",
    "\n",
    "* The . folder is the current folder.\n",
    "* The .. is the parent folder."
   ]
  },
  {
   "cell_type": "markdown",
   "metadata": {
    "id": "r7pB19moYNdT"
   },
   "source": [
    "5 . In C:\\bacon\\eggs\\spam.txt, which part is the dir name, and which part is the base name?"
   ]
  },
  {
   "cell_type": "markdown",
   "metadata": {
    "id": "YGQER0hxY4Fu"
   },
   "source": [
    "#### Solution :\n",
    "\n",
    "* Here C:\\bacon\\eggs is the dir name. \n",
    "* And spam.txt is the base name."
   ]
  },
  {
   "cell_type": "markdown",
   "metadata": {
    "id": "91V68tzCYP70"
   },
   "source": [
    "6 . What are the three “mode” arguments that can be passed to the open() function?"
   ]
  },
  {
   "cell_type": "markdown",
   "metadata": {
    "id": "HTiuVGE3ZiUr"
   },
   "source": [
    "#### Solution :\n",
    "\n",
    "* The string 'r' for read mode.\n",
    "* The string 'w' for write mode.\n",
    "* The string 'a' for append mode."
   ]
  },
  {
   "cell_type": "markdown",
   "metadata": {
    "id": "Dspaf4FqYR_x"
   },
   "source": [
    "7 . What happens if an existing file is opened in write mode?"
   ]
  },
  {
   "cell_type": "markdown",
   "metadata": {
    "id": "daxxndfBZdVY"
   },
   "source": [
    "#### Solution :\n",
    "\n",
    "* An existing file opened in write mode is erased and completely overwritten."
   ]
  },
  {
   "cell_type": "markdown",
   "metadata": {
    "id": "orx615WtYTsF"
   },
   "source": [
    "8 . How do you tell the difference between read() and readlines()?"
   ]
  },
  {
   "cell_type": "markdown",
   "metadata": {
    "id": "w4u2wEuIZV-y"
   },
   "source": [
    "#### Solution :\n",
    "\n",
    "* The read() method returns the file’s entire contents as a single string value. \n",
    "* The readlines() method returns a list of strings, where each string is a line from the file’s contents."
   ]
  },
  {
   "cell_type": "markdown",
   "metadata": {
    "id": "v7gcUbO3YVfr"
   },
   "source": [
    "9 . What data structure does a shelf value resemble?"
   ]
  },
  {
   "cell_type": "markdown",
   "metadata": {
    "id": "SgueY_OoZMJE"
   },
   "source": [
    "#### Solution :\n",
    "\n",
    "* A shelf value resembles a dictionary value; it has keys and values.\n",
    "* It also has keys() and values() methods that work similarly to the dictionary methods of the same names."
   ]
  }
 ],
 "metadata": {
  "colab": {
   "collapsed_sections": [],
   "name": "python_basic_assignment_9",
   "provenance": []
  },
  "kernelspec": {
   "display_name": "Python 3",
   "language": "python",
   "name": "python3"
  },
  "language_info": {
   "codemirror_mode": {
    "name": "ipython",
    "version": 3
   },
   "file_extension": ".py",
   "mimetype": "text/x-python",
   "name": "python",
   "nbconvert_exporter": "python",
   "pygments_lexer": "ipython3",
   "version": "3.8.5"
  }
 },
 "nbformat": 4,
 "nbformat_minor": 1
}

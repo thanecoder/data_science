{
 "cells": [
  {
   "cell_type": "markdown",
   "metadata": {},
   "source": [
    "# Assignment 4"
   ]
  },
  {
   "cell_type": "markdown",
   "metadata": {},
   "source": [
    "#### Submitted By : Paritosh Nichat\n",
    "#### Date : March 27th, 2021"
   ]
  },
  {
   "cell_type": "markdown",
   "metadata": {
    "id": "KdRFwqGhkSZM"
   },
   "source": [
    "1 . What exactly is []?"
   ]
  },
  {
   "cell_type": "markdown",
   "metadata": {},
   "source": [
    "#### Solution :\n",
    "\n",
    "* Empty list value, which is a list value that contains no items"
   ]
  },
  {
   "cell_type": "markdown",
   "metadata": {
    "id": "n3Guqq1Zkhwg"
   },
   "source": [
    "2 . In a list of values stored in a variable called spam, how would you assign the value 'hello' as the third value? (Assume [2, 4, 6, 8, 10] are in spam.)"
   ]
  },
  {
   "cell_type": "markdown",
   "metadata": {},
   "source": [
    "#### Solution :\n",
    "`\n",
    "spam[2] = 'hello'\n",
    "`"
   ]
  },
  {
   "cell_type": "markdown",
   "metadata": {
    "id": "lGgsHZ5fkkMg"
   },
   "source": [
    "Let's pretend the spam includes the list ['a', 'b', 'c', 'd'] for the next three queries.\n",
    "\n",
    "3 . What is the value of spam[int(int('3' * 2) / 11)]?\n",
    "\n",
    "4 . What is the value of spam[-1]?\n",
    "\n",
    "5 . What is the value of spam[:2]?"
   ]
  },
  {
   "cell_type": "markdown",
   "metadata": {},
   "source": [
    "#### Solution :\n",
    "\n",
    "3 . 'd'\n",
    "\n",
    "4 . 'd'\n",
    "\n",
    "5 . ['a', 'b']"
   ]
  },
  {
   "cell_type": "code",
   "execution_count": 14,
   "metadata": {},
   "outputs": [
    {
     "name": "stdout",
     "output_type": "stream",
     "text": [
      "d\n",
      "d\n",
      "['a', 'b']\n"
     ]
    }
   ],
   "source": [
    "spam = ['a', 'b', 'c', 'd']\n",
    "print(spam[int(int('3' * 2) // 11)])\n",
    "print(spam[-1])\n",
    "print(spam[:2])"
   ]
  },
  {
   "cell_type": "markdown",
   "metadata": {
    "id": "f3Oxk5_LkpbV"
   },
   "source": [
    "Let's pretend bacon has the list [3.14, 'cat,' 11, 'cat,' True] for the next three questions.\n",
    "\n",
    "6 . What is the value of bacon.index('cat')?\n",
    "\n",
    "7 . How does bacon.append(99) change the look of the list value in bacon?\n",
    "\n",
    "8 . How does bacon.remove('cat') change the look of the list meaning in bacon?\n"
   ]
  },
  {
   "cell_type": "markdown",
   "metadata": {},
   "source": [
    "#### Solution :\n",
    "\n",
    "6 . 1\n",
    "\n",
    "7 . [3.14, 'cat', 11, 'cat', True, 99]\n",
    "\n",
    "8 . [3.14, 11, 'cat', True]"
   ]
  },
  {
   "cell_type": "code",
   "execution_count": 7,
   "metadata": {},
   "outputs": [
    {
     "name": "stdout",
     "output_type": "stream",
     "text": [
      "1\n"
     ]
    }
   ],
   "source": [
    "bacon = [3.14, 'cat', 11, 'cat', True]\n",
    "print(bacon.index('cat'))"
   ]
  },
  {
   "cell_type": "code",
   "execution_count": 8,
   "metadata": {},
   "outputs": [
    {
     "name": "stdout",
     "output_type": "stream",
     "text": [
      "[3.14, 'cat', 11, 'cat', True, 99]\n"
     ]
    }
   ],
   "source": [
    "bacon = [3.14, 'cat', 11, 'cat', True]\n",
    "bacon.append(99)\n",
    "print(bacon)"
   ]
  },
  {
   "cell_type": "code",
   "execution_count": 9,
   "metadata": {},
   "outputs": [
    {
     "name": "stdout",
     "output_type": "stream",
     "text": [
      "[3.14, 11, 'cat', True]\n"
     ]
    }
   ],
   "source": [
    "bacon = [3.14, 'cat', 11, 'cat', True]\n",
    "bacon.remove('cat')\n",
    "print(bacon)"
   ]
  },
  {
   "cell_type": "markdown",
   "metadata": {
    "id": "9hDMTZGYktk1"
   },
   "source": [
    "9 . What are the list concatenation and list replication operators?"
   ]
  },
  {
   "cell_type": "markdown",
   "metadata": {},
   "source": [
    "#### Solution :\n",
    "\n",
    "* The operator for **list concatenation is +**\n",
    "* The operator for **list replication is ***"
   ]
  },
  {
   "cell_type": "markdown",
   "metadata": {
    "id": "-riqM5CNkw02"
   },
   "source": [
    "10 . What is difference between the list methods append() and insert()?"
   ]
  },
  {
   "cell_type": "markdown",
   "metadata": {},
   "source": [
    "#### Solution :\n",
    "\n",
    "* append() will add values only to the end of a list\n",
    "* insert() can add them anywhere in the list"
   ]
  },
  {
   "cell_type": "markdown",
   "metadata": {
    "id": "trxCS4jTky2X"
   },
   "source": [
    "11 . What are the two methods for removing items from a list?"
   ]
  },
  {
   "cell_type": "markdown",
   "metadata": {},
   "source": [
    "#### Solution :\n",
    "\n",
    "* **del** statement\n",
    "* **remove()** list method"
   ]
  },
  {
   "cell_type": "markdown",
   "metadata": {
    "id": "3lujtdtOk1JN"
   },
   "source": [
    "12 . Describe how list values and string values are identical."
   ]
  },
  {
   "cell_type": "markdown",
   "metadata": {},
   "source": [
    "#### Solution :\n",
    "\n",
    "* Both can be used in for loops\n",
    "* Both lists and strings can be passed to len()\n",
    "* Both have indexes and slices\n",
    "* Both lists and strings can be concatenated or replicated\n",
    "* Both lists and strings can be used with the in and not in operators"
   ]
  },
  {
   "cell_type": "markdown",
   "metadata": {
    "id": "bHjEozDqk397"
   },
   "source": [
    "13 . What's the difference between tuples and lists?"
   ]
  },
  {
   "cell_type": "markdown",
   "metadata": {},
   "source": [
    "#### Solution :\n",
    "\n",
    "##### Tuples:\n",
    "* Tuples are **immutable** , that is they **cannot be changed**\n",
    "* Tuples are written using parentheses ( and )\n",
    "\n",
    "##### Lists :\n",
    "* List can be changed; they can have values added, removed, or changed\n",
    "* Lists use the square brackets, [ and ]"
   ]
  },
  {
   "cell_type": "markdown",
   "metadata": {
    "id": "YZizMoD4k_c1"
   },
   "source": [
    "14 . How do you type a tuple value that only contains the integer 42?"
   ]
  },
  {
   "cell_type": "markdown",
   "metadata": {},
   "source": [
    "#### Solution :\n",
    "\n",
    "(42,)"
   ]
  },
  {
   "cell_type": "markdown",
   "metadata": {
    "id": "mkkvr_c9lGeh"
   },
   "source": [
    "15 . How do you get a list value's tuple form? How do you get a tuple value's list form?"
   ]
  },
  {
   "cell_type": "markdown",
   "metadata": {},
   "source": [
    "#### Solution :\n",
    "\n",
    "* tuple() function -  get a list value's tuple form\n",
    "* list() functions - get a tuple value's list form"
   ]
  },
  {
   "cell_type": "markdown",
   "metadata": {
    "id": "NfAdDD67lJTq"
   },
   "source": [
    "16 . Variables that \"contain\" list values are not necessarily lists themselves. Instead, what do they contain?"
   ]
  },
  {
   "cell_type": "markdown",
   "metadata": {},
   "source": [
    "#### Solution :\n",
    "\n",
    "They store references to list values."
   ]
  },
  {
   "cell_type": "markdown",
   "metadata": {
    "id": "xFhtG85wlLWq"
   },
   "source": [
    "17 . How do you distinguish between copy.copy() and copy.deepcopy()?"
   ]
  },
  {
   "cell_type": "markdown",
   "metadata": {},
   "source": [
    "#### Solution :\n",
    "\n",
    "* The **copy.copy()** function - **shallow copy** of a list, \n",
    "* The **copy.deepcopy()** function - **deep copy** of a list. \n",
    "* Only copy.deepcopy() will duplicate any lists inside the list."
   ]
  }
 ],
 "metadata": {
  "colab": {
   "collapsed_sections": [],
   "name": "python_basic_assignment_4",
   "provenance": []
  },
  "kernelspec": {
   "display_name": "Python 3",
   "language": "python",
   "name": "python3"
  },
  "language_info": {
   "codemirror_mode": {
    "name": "ipython",
    "version": 3
   },
   "file_extension": ".py",
   "mimetype": "text/x-python",
   "name": "python",
   "nbconvert_exporter": "python",
   "pygments_lexer": "ipython3",
   "version": "3.8.5"
  }
 },
 "nbformat": 4,
 "nbformat_minor": 1
}

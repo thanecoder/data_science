{
 "cells": [
  {
   "cell_type": "markdown",
   "metadata": {},
   "source": [
    "# Assignement 6"
   ]
  },
  {
   "cell_type": "markdown",
   "metadata": {},
   "source": [
    "#### Submitted by : Paritosh Nichat\n",
    "\n",
    "#### Date : May 8, 2021"
   ]
  },
  {
   "cell_type": "markdown",
   "metadata": {
    "id": "nLNpool0Tq7_"
   },
   "source": [
    "1 . What are escape characters, and how do you use them?"
   ]
  },
  {
   "cell_type": "markdown",
   "metadata": {},
   "source": [
    "#### Solution :\n",
    "\n",
    "Escape characters represent characters in string values that would otherwise be difficult or impossible to type into code."
   ]
  },
  {
   "cell_type": "markdown",
   "metadata": {
    "id": "B4N3zuVrTsRy"
   },
   "source": [
    "2 . What do the escape characters n and t stand for?"
   ]
  },
  {
   "cell_type": "markdown",
   "metadata": {},
   "source": [
    "#### Solution :\n",
    "\n",
    "\\n is a newline; \\t is a tab."
   ]
  },
  {
   "cell_type": "markdown",
   "metadata": {
    "id": "0lRY6m08TuSQ"
   },
   "source": [
    "3 . What is the way to include backslash characters in a string?"
   ]
  },
  {
   "cell_type": "markdown",
   "metadata": {},
   "source": [
    "#### Solution :\n",
    "\n",
    "The \\\\ escape character will represent a backslash character."
   ]
  },
  {
   "cell_type": "markdown",
   "metadata": {
    "id": "R6zXhH4bTv2w"
   },
   "source": [
    "4 . The string \"Howl's Moving Castle\" is a correct value. Why isn't the single quote character in the word Howl's not escaped a problem?"
   ]
  },
  {
   "cell_type": "markdown",
   "metadata": {},
   "source": [
    "#### Solution :\n",
    "\n",
    "The single quote in Howl's is not a problem because double quotes have been used to mark the beginning and end of the string."
   ]
  },
  {
   "cell_type": "markdown",
   "metadata": {
    "id": "2tlg5kZXTyAK"
   },
   "source": [
    "5 . How do you write a string of newlines if you don't want to use the n character?"
   ]
  },
  {
   "cell_type": "markdown",
   "metadata": {},
   "source": [
    "#### Solution :\n",
    "\n",
    "Multiline strings allow you to use newlines in strings without the \\n escape character."
   ]
  },
  {
   "cell_type": "markdown",
   "metadata": {
    "id": "xmx9JVWPT0V8"
   },
   "source": [
    "6 . What are the values of the given expressions?\n",
    "\n",
    "'Hello, world!'[1]\n",
    "\n",
    "'Hello, world!'[0:5]\n",
    "\n",
    "'Hello, world!'[:5]\n",
    "\n",
    "'Hello, world!'[3:]"
   ]
  },
  {
   "cell_type": "markdown",
   "metadata": {},
   "source": [
    "#### Solution :\n",
    "\n",
    "1 . 'e'\n",
    "\n",
    "2 . 'Hello'\n",
    "\n",
    "3 . 'Hello'\n",
    "\n",
    "4 . 'lo, world!"
   ]
  },
  {
   "cell_type": "markdown",
   "metadata": {
    "id": "kC1aJjrlT4-P"
   },
   "source": [
    "7 . What are the values of the following expressions?\n",
    "\n",
    "'Hello'.upper()\n",
    "\n",
    "'Hello'.upper().isupper()\n",
    "\n",
    "'Hello'.upper().lower()\n"
   ]
  },
  {
   "cell_type": "markdown",
   "metadata": {},
   "source": [
    "#### Solution :\n",
    "\n",
    "1 . 'HELLO'\n",
    "\n",
    "2 . True\n",
    "\n",
    "3 . 'hello'"
   ]
  },
  {
   "cell_type": "markdown",
   "metadata": {
    "id": "sxCPNp_xT8Ku"
   },
   "source": [
    "8 . What are the values of the following expressions?\n",
    "\n",
    "'Remember, remember, the fifth of July.'.split()\n",
    "\n",
    "'-'.join('There can only one.'.split())"
   ]
  },
  {
   "cell_type": "markdown",
   "metadata": {},
   "source": [
    "#### Solution :\n",
    "\n",
    "1 . ['Remember,', 'remember,', 'the', 'fifth', 'of', 'July.']\n",
    "\n",
    "2 . 'There-can-be-only-one.'"
   ]
  },
  {
   "cell_type": "markdown",
   "metadata": {
    "id": "eNlrPV4uUBCa"
   },
   "source": [
    "9 . What are the methods for right-justifying, left-justifying, and centering a string?"
   ]
  },
  {
   "cell_type": "markdown",
   "metadata": {},
   "source": [
    "#### Solution :\n",
    "\n",
    "The rjust(), ljust(), and center() string methods, respectively"
   ]
  },
  {
   "cell_type": "markdown",
   "metadata": {
    "id": "XNuxPF6nUD9S"
   },
   "source": [
    "10 . What is the best way to remove whitespace characters from the start or end?"
   ]
  },
  {
   "cell_type": "markdown",
   "metadata": {},
   "source": [
    "#### Solution :\n",
    "\n",
    "The lstrip() and rstrip() methods remove whitespace from the left and right ends of a string, respectively."
   ]
  }
 ],
 "metadata": {
  "colab": {
   "collapsed_sections": [],
   "name": "python_basic_assignment_6",
   "provenance": []
  },
  "kernelspec": {
   "display_name": "Python 3",
   "language": "python",
   "name": "python3"
  },
  "language_info": {
   "codemirror_mode": {
    "name": "ipython",
    "version": 3
   },
   "file_extension": ".py",
   "mimetype": "text/x-python",
   "name": "python",
   "nbconvert_exporter": "python",
   "pygments_lexer": "ipython3",
   "version": "3.8.5"
  }
 },
 "nbformat": 4,
 "nbformat_minor": 1
}

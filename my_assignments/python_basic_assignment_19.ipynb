{
 "cells": [
  {
   "cell_type": "markdown",
   "metadata": {
    "id": "4LOmuXX2dLMZ"
   },
   "source": [
    "# Assignment 19"
   ]
  },
  {
   "cell_type": "markdown",
   "metadata": {
    "id": "bG88qwvmdM9M"
   },
   "source": [
    "#### Submitted By : Paritosh Nichat\n",
    "\n",
    "#### Date : July 31, 2021"
   ]
  },
  {
   "cell_type": "markdown",
   "metadata": {
    "id": "Dj6Sr3LPr9DJ"
   },
   "source": [
    "1 . Make a class called Thing with no contents and print it. Then, create an object called example from this class and also print it. Are the printed values the same or different?"
   ]
  },
  {
   "cell_type": "markdown",
   "metadata": {
    "id": "grIBsYcMltdZ"
   },
   "source": [
    "#### Solution :"
   ]
  },
  {
   "cell_type": "code",
   "execution_count": null,
   "metadata": {
    "colab": {
     "base_uri": "https://localhost:8080/"
    },
    "id": "P3p_4ra_dTvD",
    "outputId": "7fd033e9-e2c8-40ba-98fb-328d7b0ef86b"
   },
   "outputs": [
    {
     "name": "stdout",
     "output_type": "stream",
     "text": [
      "<class '__main__.Thing'>\n",
      "<__main__.Thing object at 0x7f901ee6f050>\n"
     ]
    }
   ],
   "source": [
    "class Thing():\n",
    "    pass\n",
    "\n",
    "print(Thing)\n",
    "\n",
    "example = Thing()\n",
    "print(example)"
   ]
  },
  {
   "cell_type": "markdown",
   "metadata": {
    "id": "ZwW8kXjWsEGq"
   },
   "source": [
    "2 . Create a new class called Thing2 and add the value 'abc' to the letters class attribute. Letters should be printed."
   ]
  },
  {
   "cell_type": "markdown",
   "metadata": {
    "id": "8PvkV66rlrw_"
   },
   "source": [
    "#### Solution :"
   ]
  },
  {
   "cell_type": "code",
   "execution_count": null,
   "metadata": {
    "colab": {
     "base_uri": "https://localhost:8080/"
    },
    "id": "ckgfBU0OdUP2",
    "outputId": "5387a56d-d776-48a5-a3c9-e75266778877"
   },
   "outputs": [
    {
     "name": "stdout",
     "output_type": "stream",
     "text": [
      "abc\n"
     ]
    }
   ],
   "source": [
    "class Thing2():\n",
    "    letters = 'abc'\n",
    "\n",
    "print(Thing2.letters)"
   ]
  },
  {
   "cell_type": "markdown",
   "metadata": {
    "id": "ZevZs0DGsGM-"
   },
   "source": [
    "3 . Make yet another class called, of course, Thing3. This time, assign the value 'xyz' to an instance (object) attribute called letters. Print letters. Do you need to make an object from the class to do this?"
   ]
  },
  {
   "cell_type": "markdown",
   "metadata": {
    "id": "lRKJsUT0fdw9"
   },
   "source": [
    "#### Solution : "
   ]
  },
  {
   "cell_type": "code",
   "execution_count": 1,
   "metadata": {
    "colab": {
     "base_uri": "https://localhost:8080/",
     "height": 198
    },
    "id": "Lfz5FLv_dUq6",
    "outputId": "c62d016f-9793-4cd2-9baf-55ac95bd7f0c"
   },
   "outputs": [
    {
     "name": "stdout",
     "output_type": "stream",
     "text": [
      "type object 'Thing3' has no attribute 'letters'\n"
     ]
    }
   ],
   "source": [
    "class Thing3():\n",
    "    def __init__(self):\n",
    "        self.letters = 'xyz'\n",
    "\n",
    "try:\n",
    "    print(Thing3.letters)\n",
    "except Exception as error:\n",
    "    print(error)"
   ]
  },
  {
   "cell_type": "code",
   "execution_count": 3,
   "metadata": {
    "colab": {
     "base_uri": "https://localhost:8080/"
    },
    "id": "M6wwd-bvfcG2",
    "outputId": "9074e4e1-0e84-4677-f896-496c3af32b8d"
   },
   "outputs": [
    {
     "name": "stdout",
     "output_type": "stream",
     "text": [
      "xyz\n"
     ]
    }
   ],
   "source": [
    "# Letters is an Object attribute , hence it belongs to object created from Thing3 and not to the class Thing3 \n",
    "anything = Thing3()\n",
    "print(anything.letters)"
   ]
  },
  {
   "cell_type": "markdown",
   "metadata": {
    "id": "eAweDwxrsIM9"
   },
   "source": [
    "4 . Create an Element class with the instance attributes name, symbol, and number. Create a class object with the values 'Hydrogen,' 'H,' and 1 ."
   ]
  },
  {
   "cell_type": "markdown",
   "metadata": {
    "id": "ghdakowRlwc6"
   },
   "source": [
    "#### Solution :"
   ]
  },
  {
   "cell_type": "code",
   "execution_count": null,
   "metadata": {
    "id": "CUFWS1UadVMA"
   },
   "outputs": [],
   "source": [
    "class Element():\n",
    "    def __init__(self, name, symbol, number):\n",
    "        self.name = name\n",
    "        self.symbol = symbol\n",
    "        self.number = number\n",
    "\n",
    "hydrogen = Element('Hydrogen', 'H', 1)"
   ]
  },
  {
   "cell_type": "markdown",
   "metadata": {
    "id": "vwZ_r0ylsKZ4"
   },
   "source": [
    "5 . Make a dictionary with these keys and values: 'name': 'Hydrogen', 'symbol': 'H', 'number': 1. Then, create an object called hydrogen from class Element using this dictionary."
   ]
  },
  {
   "cell_type": "markdown",
   "metadata": {
    "id": "h1SUJr-blyL5"
   },
   "source": [
    "#### Solution :"
   ]
  },
  {
   "cell_type": "code",
   "execution_count": null,
   "metadata": {
    "id": "KJs6Sy2kdV1s"
   },
   "outputs": [],
   "source": [
    "dict_hydrogen = {'name': 'Hydrogen', 'symbol': 'H', 'number': 1}\n",
    "\n",
    "hydrogen = Element(dict_hydrogen['name'],dict_hydrogen['symbol'],dict_hydrogen['number'])"
   ]
  },
  {
   "cell_type": "markdown",
   "metadata": {
    "id": "zipu_s2zsMld"
   },
   "source": [
    "6 . For the Element class, define a method called dump() that prints the values of the object’s attributes (name, symbol, and number). Create the hydrogen object from this new definition and use dump() to print its attributes."
   ]
  },
  {
   "cell_type": "markdown",
   "metadata": {
    "id": "dtJ0oVcUlz7Q"
   },
   "source": [
    "#### Solution :"
   ]
  },
  {
   "cell_type": "code",
   "execution_count": null,
   "metadata": {
    "colab": {
     "base_uri": "https://localhost:8080/"
    },
    "id": "If5YF1OjdWRs",
    "outputId": "410c0de4-c93a-4416-dd24-46380209a76d"
   },
   "outputs": [
    {
     "name": "stdout",
     "output_type": "stream",
     "text": [
      "Element name : Hydrogen,Element symbol : H,Element number : 1\n"
     ]
    }
   ],
   "source": [
    "class Element():\n",
    "    def __init__(self, name, symbol, number):\n",
    "        self.name = name\n",
    "        self.symbol = symbol\n",
    "        self.number = number\n",
    "    \n",
    "    def dump(self):\n",
    "        print(\"Element name : \"+self.name+\",Element symbol : \"+self.symbol+\",Element number : \"+str(self.number))\n",
    "\n",
    "hydrogen = Element('Hydrogen', 'H', 1)\n",
    "hydrogen.dump()"
   ]
  },
  {
   "cell_type": "markdown",
   "metadata": {
    "id": "gpufuOBMsOVA"
   },
   "source": [
    "7 . Call print(hydrogen). In the definition of Element, change the name of method dump to \\_\\_str\\_\\_, create a new hydrogen object, and call print(hydrogen) again."
   ]
  },
  {
   "cell_type": "markdown",
   "metadata": {
    "id": "YKSLovvCl1mQ"
   },
   "source": [
    "#### Solution :"
   ]
  },
  {
   "cell_type": "code",
   "execution_count": null,
   "metadata": {
    "colab": {
     "base_uri": "https://localhost:8080/"
    },
    "id": "6_tSFxP9dWrm",
    "outputId": "30ece339-c2b5-4814-d16a-099118a5d274"
   },
   "outputs": [
    {
     "name": "stdout",
     "output_type": "stream",
     "text": [
      "<__main__.Element object at 0x7f90153d3dd0>\n"
     ]
    }
   ],
   "source": [
    "print(hydrogen)"
   ]
  },
  {
   "cell_type": "code",
   "execution_count": null,
   "metadata": {
    "id": "QOvIuUVtheyH"
   },
   "outputs": [],
   "source": [
    "class Element():\n",
    "    def __init__(self, name, symbol, number):\n",
    "        self.name = name\n",
    "        self.symbol = symbol\n",
    "        self.number = number\n",
    "    \n",
    "    def __str__(self):\n",
    "        return (\"Element name : \"+self.name+\",Element symbol : \"+self.symbol+\",Element number : \"+str(self.number))"
   ]
  },
  {
   "cell_type": "code",
   "execution_count": null,
   "metadata": {
    "colab": {
     "base_uri": "https://localhost:8080/"
    },
    "id": "r3IrgvbuhhRW",
    "outputId": "4c804cf6-cdf8-4202-b52b-fbbc8127b7ef"
   },
   "outputs": [
    {
     "name": "stdout",
     "output_type": "stream",
     "text": [
      "Element name : Hydrogen,Element symbol : H,Element number : 1\n"
     ]
    }
   ],
   "source": [
    "hydrogen = Element('Hydrogen', 'H', 1)\n",
    "print(hydrogen)"
   ]
  },
  {
   "cell_type": "markdown",
   "metadata": {
    "id": "rR4tw4JisQNE"
   },
   "source": [
    "8 . Modify Element to make the attributes name, symbol, and number private. Define a getter property for each to return its value."
   ]
  },
  {
   "cell_type": "markdown",
   "metadata": {
    "id": "4_8QDfUHl44c"
   },
   "source": [
    "#### Solution :"
   ]
  },
  {
   "cell_type": "code",
   "execution_count": null,
   "metadata": {
    "colab": {
     "base_uri": "https://localhost:8080/"
    },
    "id": "nf953MQNdXHO",
    "outputId": "11352d3f-559d-410e-a9e0-1f04b7737f49"
   },
   "outputs": [
    {
     "name": "stdout",
     "output_type": "stream",
     "text": [
      "Hydrogen\n",
      "H\n",
      "1\n"
     ]
    }
   ],
   "source": [
    "class Element():\n",
    "    def __init__(self, name, symbol, number):\n",
    "        self.__name = name\n",
    "        self.__symbol = symbol\n",
    "        self.__number = number\n",
    "\n",
    "    @property\n",
    "    def name(self):\n",
    "        return self.__name\n",
    "    \n",
    "    @property\n",
    "    def number(self):\n",
    "        return self.__number\n",
    "\n",
    "    @property\n",
    "    def symbol(self):\n",
    "        return self.__symbol    \n",
    "\n",
    "\n",
    "hydrogen = Element('Hydrogen', 'H', 1)\n",
    "print(hydrogen.name)\n",
    "print(hydrogen.symbol)\n",
    "print(hydrogen.number)"
   ]
  },
  {
   "cell_type": "markdown",
   "metadata": {
    "id": "wrAGX5f-sRtW"
   },
   "source": [
    "9 . Define three classes: Bear, Rabbit, and Octothorpe. For each, define only one method: eats(). This should return 'berries' (Bear), 'clover' (Rabbit), or 'campers' (Octothorpe). Create one object from each and print what it eats."
   ]
  },
  {
   "cell_type": "markdown",
   "metadata": {
    "id": "nM9jfmkdlmg5"
   },
   "source": [
    "#### Solution :"
   ]
  },
  {
   "cell_type": "code",
   "execution_count": null,
   "metadata": {
    "colab": {
     "base_uri": "https://localhost:8080/"
    },
    "id": "sj1Y5TDpdXgx",
    "outputId": "6496a081-6e76-44e9-b77c-157164d33826"
   },
   "outputs": [
    {
     "name": "stdout",
     "output_type": "stream",
     "text": [
      "berries\n",
      "clover\n",
      "campers\n"
     ]
    }
   ],
   "source": [
    "class Bear():\n",
    "    def eats(self):\n",
    "        return 'berries'\n",
    "\n",
    "class Rabbit():\n",
    "    def eats(self):\n",
    "        return 'clover'\n",
    "\n",
    "class Octothorpe():\n",
    "    def eats(self):\n",
    "        return 'campers'\n",
    "\n",
    "bear1 = Bear()\n",
    "print(bear1.eats())\n",
    "rabbit1 = Rabbit()\n",
    "print(rabbit1.eats())\n",
    "octo1 = Octothorpe()\n",
    "print(octo1.eats())"
   ]
  },
  {
   "cell_type": "markdown",
   "metadata": {
    "id": "pKJzFBUxsTWl"
   },
   "source": [
    "10 . Define these classes: Laser, Claw, and SmartPhone. Each has only one method: does(). This returns 'disintegrate' (Laser), 'crush' (Claw), or 'ring' (SmartPhone). Then, define the class Robot that has one instance (object) of each of these. Define a does() method for the Robot that prints what its component objects do."
   ]
  },
  {
   "cell_type": "markdown",
   "metadata": {
    "id": "CEDqnB7Zli-N"
   },
   "source": [
    "#### Solution : "
   ]
  },
  {
   "cell_type": "code",
   "execution_count": null,
   "metadata": {
    "colab": {
     "base_uri": "https://localhost:8080/"
    },
    "id": "hYuFusrlr8ks",
    "outputId": "2c5dfa3e-80cb-4b07-b44d-679256590427"
   },
   "outputs": [
    {
     "name": "stdout",
     "output_type": "stream",
     "text": [
      "Laser does :  disintegrate, Claw does : crush, SmartPhone does : ring\n"
     ]
    }
   ],
   "source": [
    "class Laser():\n",
    "    def does(self):\n",
    "        return 'disintegrate'\n",
    "\n",
    "class Claw():\n",
    "    def does(self):\n",
    "        return 'crush'\n",
    "\n",
    "class SmartPhone():\n",
    "    def does(self):\n",
    "        return 'ring'\n",
    "\n",
    "class Robot(Laser,Claw,SmartPhone):\n",
    "    def __init__(self):\n",
    "        self.laser = Laser()\n",
    "        self.claw = Claw()\n",
    "        self.smartphone = SmartPhone()\n",
    "\n",
    "    def does(self):\n",
    "        print(\"Laser does : \",self.laser.does()+\n",
    "              \", Claw does : \"+self.claw.does()+\n",
    "              \", SmartPhone does : \"+self.smartphone.does())\n",
    "\n",
    "r1 = Robot()\n",
    "r1.does()"
   ]
  }
 ],
 "metadata": {
  "colab": {
   "collapsed_sections": [],
   "name": "python_basic_assignment_19",
   "provenance": []
  },
  "kernelspec": {
   "display_name": "Python 3",
   "language": "python",
   "name": "python3"
  },
  "language_info": {
   "codemirror_mode": {
    "name": "ipython",
    "version": 3
   },
   "file_extension": ".py",
   "mimetype": "text/x-python",
   "name": "python",
   "nbconvert_exporter": "python",
   "pygments_lexer": "ipython3",
   "version": "3.8.5"
  }
 },
 "nbformat": 4,
 "nbformat_minor": 1
}

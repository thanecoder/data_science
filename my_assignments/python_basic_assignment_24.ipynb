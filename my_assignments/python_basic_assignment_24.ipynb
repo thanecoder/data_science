{
 "cells": [
  {
   "cell_type": "markdown",
   "metadata": {
    "id": "FdH9LH1hbnxf"
   },
   "source": [
    "# Assignment 24"
   ]
  },
  {
   "cell_type": "markdown",
   "metadata": {
    "id": "LLcz2pe6bp_y"
   },
   "source": [
    "#### Submitted By : Paritosh Nichat\n",
    "\n",
    "#### Date : July 31, 2021"
   ]
  },
  {
   "cell_type": "markdown",
   "metadata": {
    "id": "D7EwbQOAbUaN"
   },
   "source": [
    "1 . What is the relationship between def statements and lambda expressions ?"
   ]
  },
  {
   "cell_type": "markdown",
   "metadata": {},
   "source": [
    "#### Solution :\n",
    "\n",
    "* Both lambda and def create function objects to be called later. \n",
    "* Because lambda is an expression, though, it returns a function object instead of assigning it to a name,and it can be used to nest a function definition in places where a def will not work syntactically. \n",
    "* A **lambda only allows for a single implicit return value expression**, and because it does not support a block of statements, it is **not ideal for larger functions**."
   ]
  },
  {
   "cell_type": "markdown",
   "metadata": {
    "id": "U7VeMP8SbZRx"
   },
   "source": [
    "2 . What is the benefit of lambda?"
   ]
  },
  {
   "cell_type": "markdown",
   "metadata": {},
   "source": [
    "#### Solution :\n",
    "\n",
    "* Lambdas allow us to “inline” small units of executable code, defer its execution, and provide it with state in the form of default arguments and enclosing scope variables.\n",
    "* Using a lambda is never required; you can always code a def instead and reference the function by name. lambdas come in handy, though, to embed small pieces of deferred code that are unlikely to be used elsewhere in a program. \n",
    "* They commonly appear in callback-based program such as GUIs, and they have a natural affinity with function tools like map and filter that expect a processing function."
   ]
  },
  {
   "cell_type": "markdown",
   "metadata": {
    "id": "d-lf8A3rbays"
   },
   "source": [
    "3 . Compare and contrast map, filter, and reduce."
   ]
  },
  {
   "cell_type": "markdown",
   "metadata": {},
   "source": [
    "#### Solution :\n",
    "\n",
    "* These three built-in functions all apply another function to items in a sequence (iterable) object and collect results. \n",
    "* **Map** passes each item to the function and collects all results.\n",
    "* **Filter** collects items for which the function returns a True value.\n",
    "* **Reduce** computes a single value by applying the function to an accumulator and successive items. \n",
    "* Unlike the other two, reduce is available in the functools module in 3.0, not the built-in scope."
   ]
  },
  {
   "cell_type": "markdown",
   "metadata": {
    "id": "7SGrgBgObcqd"
   },
   "source": [
    "4 . What are function annotations, and how are they used?"
   ]
  },
  {
   "cell_type": "markdown",
   "metadata": {},
   "source": [
    "#### Solution :\n",
    "\n",
    "* Function annotations, available in 3.0 and later, are syntactic embellishments of a function’s arguments and result, which are collected into a dictionary assigned to the function’s \\_\\_annotations\\_\\_ attribute. \n",
    "* There is no semantic meaning on these annotations, but simply packages them for potential use by other tools."
   ]
  },
  {
   "cell_type": "markdown",
   "metadata": {
    "id": "c5CdsTXJbfca"
   },
   "source": [
    "5 . What are recursive functions, and how are they used?"
   ]
  },
  {
   "cell_type": "markdown",
   "metadata": {},
   "source": [
    "#### Solution : \n",
    "\n",
    "* Recursive functions call themselves either directly or indirectly in order to loop.\n",
    "* They may be used to traverse arbitrarily shaped structures, but they can also be used for iteration in general."
   ]
  },
  {
   "cell_type": "markdown",
   "metadata": {
    "id": "eSQYdud5bhfi"
   },
   "source": [
    "6 . What are some general design guidelines for coding functions?"
   ]
  },
  {
   "cell_type": "markdown",
   "metadata": {},
   "source": [
    "#### Solution :\n",
    "\n",
    "* Functions should generally be small, as self-contained as possible, have a single unified purpose, and communicate with other components through input arguments and return values. \n",
    "* They may use mutable arguments to communicate results too if changes are expected, and some types of programs imply other communication mechanisms."
   ]
  },
  {
   "cell_type": "markdown",
   "metadata": {
    "id": "Sn6-OO3ybi6r"
   },
   "source": [
    "7 . Name three or more ways that functions can communicate results to a caller."
   ]
  },
  {
   "cell_type": "markdown",
   "metadata": {},
   "source": [
    "#### Solution :\n",
    "\n",
    "* Functions can send back results with return statements, by changing passed-in mutable arguments, and by setting global variables. \n",
    "* **return** statements are usually best, but changing mutables is fine, if expected. \n",
    "* Functions may also communicate with system devices such as files and sockets."
   ]
  }
 ],
 "metadata": {
  "colab": {
   "collapsed_sections": [],
   "name": "python_basic_assignment_24",
   "provenance": []
  },
  "kernelspec": {
   "display_name": "Python 3",
   "language": "python",
   "name": "python3"
  },
  "language_info": {
   "codemirror_mode": {
    "name": "ipython",
    "version": 3
   },
   "file_extension": ".py",
   "mimetype": "text/x-python",
   "name": "python",
   "nbconvert_exporter": "python",
   "pygments_lexer": "ipython3",
   "version": "3.8.5"
  }
 },
 "nbformat": 4,
 "nbformat_minor": 1
}

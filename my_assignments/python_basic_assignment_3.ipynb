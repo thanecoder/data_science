{
 "cells": [
  {
   "cell_type": "markdown",
   "metadata": {},
   "source": [
    "# Assignment 3"
   ]
  },
  {
   "cell_type": "markdown",
   "metadata": {},
   "source": [
    "#### Submitted By : Paritosh Nichat\n",
    "#### Date : March 27th , 2021"
   ]
  },
  {
   "cell_type": "markdown",
   "metadata": {
    "id": "aitQN1qqiJrQ"
   },
   "source": [
    "1 . What are the benefits of including roles in the programmes?"
   ]
  },
  {
   "cell_type": "markdown",
   "metadata": {},
   "source": [
    "#### Solution :\n",
    "\n",
    "##### The advantages of using functions are:\n",
    "\n",
    "* Reducing Duplicate Code\n",
    "* Break complex problems into simpler pieces\n",
    "* Improving clarity of the code and make it easier to read\n",
    "* Reuse of code"
   ]
  },
  {
   "cell_type": "markdown",
   "metadata": {
    "id": "6C3ZVowviLZ1"
   },
   "source": [
    "2 . When does the code in a function run: when it's specified or when it's called?"
   ]
  },
  {
   "cell_type": "markdown",
   "metadata": {
    "id": "VTVUeu37j9GW"
   },
   "source": [
    "#### Solution :\n",
    "\n",
    "When the function is called."
   ]
  },
  {
   "cell_type": "markdown",
   "metadata": {
    "id": "Ie-ezOmkiNyp"
   },
   "source": [
    "3 . What statement causes a feature to be created?"
   ]
  },
  {
   "cell_type": "markdown",
   "metadata": {},
   "source": [
    "#### Solution :\n",
    "\n",
    "A function is created with the **def** statement.\n",
    "##### Example :\n",
    "`\n",
    "def function():\n",
    "    pass\n",
    "`"
   ]
  },
  {
   "cell_type": "markdown",
   "metadata": {
    "id": "6HBJuGl7iQIe"
   },
   "source": [
    "4 . What is the distinction between a function and a call to a function?"
   ]
  },
  {
   "cell_type": "markdown",
   "metadata": {},
   "source": [
    "#### Solution :\n",
    "\n",
    "* Function is created with the **def** statement.\n",
    "* It consists of name of function and code in its def clause. \n",
    "\n",
    "##### Example of Function\n",
    "`\n",
    "def add(a, b):\n",
    "    print(a+b)\n",
    "`\n",
    "\n",
    "* Function call executes the function, it consists of the function name and arguements/input data. \n",
    "* Function call evaluates to the function’s return value.\n",
    "\n",
    "\n",
    "##### Example of Call to a Function\n",
    "`\n",
    "add(6,4)\n",
    "`"
   ]
  },
  {
   "cell_type": "markdown",
   "metadata": {
    "id": "tnENkxwQiaSl"
   },
   "source": [
    "5 . In a Python application, how many global scopes are there? How many local scopes are there?"
   ]
  },
  {
   "cell_type": "markdown",
   "metadata": {},
   "source": [
    "#### Solution :\n",
    "\n",
    "* In Python, there is one global scope. \n",
    "* Local scope is created whenever a function is called."
   ]
  },
  {
   "cell_type": "markdown",
   "metadata": {
    "id": "xb3iPvewinDs"
   },
   "source": [
    "6 . When a function call returns, what happens to variables in the local scope?"
   ]
  },
  {
   "cell_type": "markdown",
   "metadata": {},
   "source": [
    "#### Solution :\n",
    "\n",
    "* Once the function call returns , it ends the function execution. \n",
    "* Local variables exists for as long as the function is executing.\n",
    "* Hence once the function call returns, the local scope is destroyed, and all the variables in it are forgotten."
   ]
  },
  {
   "cell_type": "markdown",
   "metadata": {
    "id": "cqJpGdt7i23Q"
   },
   "source": [
    "7 . What is the concept of a return value? Is it possible to have a return value in an expression?"
   ]
  },
  {
   "cell_type": "markdown",
   "metadata": {},
   "source": [
    "#### Solution :\n",
    "\n",
    "* In Python, a return value is value that a function call evaluates to.\n",
    "* Like any value, a return value can be used as part of an expression."
   ]
  },
  {
   "cell_type": "markdown",
   "metadata": {
    "id": "5Z4MB9Joi5Ts"
   },
   "source": [
    "8 . What is the return value of a call to a function that does not have a return statement?"
   ]
  },
  {
   "cell_type": "markdown",
   "metadata": {},
   "source": [
    "#### Solution :\n",
    "\n",
    "* Python will return a default value for you, that default return value will always be **None**."
   ]
  },
  {
   "cell_type": "markdown",
   "metadata": {
    "id": "9cdTW2ohi73Z"
   },
   "source": [
    "9 . How do you make a function variable refer to the global variable?"
   ]
  },
  {
   "cell_type": "markdown",
   "metadata": {},
   "source": [
    "#### Solution :\n",
    "\n",
    "Using the Global Keyword - With **global**, you're telling Python to use the globally defined variable instead of locally creating one."
   ]
  },
  {
   "cell_type": "markdown",
   "metadata": {
    "id": "dZHUu5J5i-L_"
   },
   "source": [
    "10 . What data form does None belong to?"
   ]
  },
  {
   "cell_type": "markdown",
   "metadata": {},
   "source": [
    "#### Solution :\n",
    "\n",
    "* The data type of None is **NoneType**."
   ]
  },
  {
   "cell_type": "markdown",
   "metadata": {
    "id": "dmzEXQG5jAVc"
   },
   "source": [
    "11 . What does the sentence import areallyourpetsnamederic do?"
   ]
  },
  {
   "cell_type": "markdown",
   "metadata": {},
   "source": [
    "#### Solution :\n",
    "\n",
    "Imports a module named areallyourpetsnamederic"
   ]
  },
  {
   "cell_type": "markdown",
   "metadata": {
    "id": "wue_4ieYjDH-"
   },
   "source": [
    "12 . If you had a bacon() feature in a spam module, what would you call it after importing spam?"
   ]
  },
  {
   "cell_type": "markdown",
   "metadata": {},
   "source": [
    "#### Solution :\n",
    "\n",
    "spam.bacon()"
   ]
  },
  {
   "cell_type": "markdown",
   "metadata": {
    "id": "pt37EOQ8jZFy"
   },
   "source": [
    "13 . What can you do to save a programme from crashing if it encounters an error?"
   ]
  },
  {
   "cell_type": "markdown",
   "metadata": {},
   "source": [
    "#### Solution :\n",
    "\n",
    "* We use a try clause/block.\n",
    "* We place the code that might run into error, into the **try clause**."
   ]
  },
  {
   "cell_type": "markdown",
   "metadata": {
    "id": "KZPEfPj_jmFR"
   },
   "source": [
    "14 . What is the purpose of the try clause? What is the purpose of the except clause?"
   ]
  },
  {
   "cell_type": "markdown",
   "metadata": {},
   "source": [
    "#### Solution :\n",
    "\n",
    "* The try and except block in Python is used to catch and handle exceptions. \n",
    "* The code that might run into error should be placed into the **try clause**.\n",
    "* The code that executes if an error happens goes in the **except clause**."
   ]
  }
 ],
 "metadata": {
  "colab": {
   "collapsed_sections": [],
   "name": "python_basic_assignment_3",
   "provenance": []
  },
  "kernelspec": {
   "display_name": "Python 3",
   "language": "python",
   "name": "python3"
  },
  "language_info": {
   "codemirror_mode": {
    "name": "ipython",
    "version": 3
   },
   "file_extension": ".py",
   "mimetype": "text/x-python",
   "name": "python",
   "nbconvert_exporter": "python",
   "pygments_lexer": "ipython3",
   "version": "3.8.5"
  }
 },
 "nbformat": 4,
 "nbformat_minor": 1
}

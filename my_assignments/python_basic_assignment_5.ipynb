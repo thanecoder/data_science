{
 "cells": [
  {
   "cell_type": "markdown",
   "metadata": {},
   "source": [
    "# Assignment 5"
   ]
  },
  {
   "cell_type": "markdown",
   "metadata": {},
   "source": [
    "#### Submitted by : Paritosh Nichat\n",
    "\n",
    "#### Date : May 8, 2021"
   ]
  },
  {
   "cell_type": "markdown",
   "metadata": {
    "id": "ekBtr7ktTTKK"
   },
   "source": [
    "1 . What does an empty dictionary's code look like?"
   ]
  },
  {
   "cell_type": "markdown",
   "metadata": {},
   "source": [
    "#### Solution :\n",
    "\n",
    "For Empty dictionary, it is two curly brackets: {}"
   ]
  },
  {
   "cell_type": "markdown",
   "metadata": {
    "id": "EcNlBJ4bTV7U"
   },
   "source": [
    "2 . What is the value of a dictionary value with the key 'foo' and the value 42?"
   ]
  },
  {
   "cell_type": "markdown",
   "metadata": {},
   "source": [
    "#### Solution :\n",
    "\n",
    "{'foo': 42}"
   ]
  },
  {
   "cell_type": "markdown",
   "metadata": {
    "id": "LjU8D3isTYg9"
   },
   "source": [
    "3 . What is the most significant distinction between a dictionary and a list?"
   ]
  },
  {
   "cell_type": "markdown",
   "metadata": {},
   "source": [
    "#### Solution :\n",
    "\n",
    "* The items stored in a dictionary are unordered.\n",
    "* While the items in a list are ordered."
   ]
  },
  {
   "cell_type": "markdown",
   "metadata": {
    "id": "IEr1yc2cTbDD"
   },
   "source": [
    "4 . What happens if you try to access spam['foo'] if spam is {'bar': 100}?"
   ]
  },
  {
   "cell_type": "markdown",
   "metadata": {},
   "source": [
    "#### Solution :\n",
    "\n",
    "You will get a KeyError error."
   ]
  },
  {
   "cell_type": "markdown",
   "metadata": {
    "id": "rZhCXjUrTeLe"
   },
   "source": [
    "5 . If a dictionary is stored in spam, what is the difference between the expressions 'cat' in spam and 'cat' in spam.keys()?"
   ]
  },
  {
   "cell_type": "markdown",
   "metadata": {},
   "source": [
    "#### Solution :\n",
    "\n",
    "There is no difference. The **in** operator checks whether a value exists as a key in the dictionary."
   ]
  },
  {
   "cell_type": "markdown",
   "metadata": {
    "id": "Tt8a1heJTgIM"
   },
   "source": [
    "6 . If a dictionary is stored in spam, what is the difference between the expressions 'cat' in spam and 'cat' in spam.values()?"
   ]
  },
  {
   "cell_type": "markdown",
   "metadata": {},
   "source": [
    "#### Solution :\n",
    "\n",
    "* 'cat' in spam checks whether there is a 'cat' key in the dictionary.\n",
    "* While 'cat' in spam.values() checks whether there is a value 'cat' for one of the keys in spam."
   ]
  },
  {
   "cell_type": "markdown",
   "metadata": {
    "id": "yhQZCmHNTima"
   },
   "source": [
    "7 . What is a shortcut for the following code?\n",
    "\n",
    "if 'color' not in spam:\n",
    "\n",
    "spam['color'] = 'black'"
   ]
  },
  {
   "cell_type": "markdown",
   "metadata": {},
   "source": [
    "#### Solution :\n",
    "\n",
    "spam.setdefault('color', 'black')"
   ]
  },
  {
   "cell_type": "markdown",
   "metadata": {
    "id": "8d2150K1TlTZ"
   },
   "source": [
    "8 . How do you \"pretty print\" dictionary values using which module and function?"
   ]
  },
  {
   "cell_type": "markdown",
   "metadata": {},
   "source": [
    "#### Solution :\n",
    "\n",
    "Use pprint module (Pretty Print) included in Python. \n",
    "\n",
    "pprint.pprint()"
   ]
  }
 ],
 "metadata": {
  "colab": {
   "collapsed_sections": [],
   "name": "python_basic_assignment_5",
   "provenance": []
  },
  "kernelspec": {
   "display_name": "Python 3",
   "language": "python",
   "name": "python3"
  },
  "language_info": {
   "codemirror_mode": {
    "name": "ipython",
    "version": 3
   },
   "file_extension": ".py",
   "mimetype": "text/x-python",
   "name": "python",
   "nbconvert_exporter": "python",
   "pygments_lexer": "ipython3",
   "version": "3.8.5"
  }
 },
 "nbformat": 4,
 "nbformat_minor": 1
}

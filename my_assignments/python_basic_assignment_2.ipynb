{
 "cells": [
  {
   "cell_type": "markdown",
   "metadata": {},
   "source": [
    "# Assignment 2"
   ]
  },
  {
   "cell_type": "markdown",
   "metadata": {},
   "source": [
    "#### Submitted By : Paritosh Nichat\n",
    "#### Date : March 13th , 2021"
   ]
  },
  {
   "cell_type": "markdown",
   "metadata": {
    "id": "UtD4vSE9J8Hf"
   },
   "source": [
    "1 . What are the Boolean data type's two values? How do you go about writing them?"
   ]
  },
  {
   "cell_type": "markdown",
   "metadata": {},
   "source": [
    "#### Solution :\n",
    "\n",
    "Booleans data type can have two values: True or False.\n",
    "\n",
    "a = True\n",
    "\n",
    "b = False"
   ]
  },
  {
   "cell_type": "markdown",
   "metadata": {
    "id": "G50Dm30oKGab"
   },
   "source": [
    "2 . What are the three different types of Boolean operators?"
   ]
  },
  {
   "cell_type": "markdown",
   "metadata": {},
   "source": [
    "#### Solution :\n",
    "\n",
    "| Operator | Example |                            Meaning                           |\n",
    "|:--------:|:-------:|:------------------------------------------------------------:|\n",
    "|    and   | x and y | Returns True if both x and y are True. Else it returns False |\n",
    "|    or    |  x or y | Returns True if either x or y is True. Else it returns False |\n",
    "|    not   |  not x  | Returns True if x is False. False if x is True               |"
   ]
  },
  {
   "cell_type": "markdown",
   "metadata": {
    "id": "0O0XPAQSKJPY"
   },
   "source": [
    "3 . Make a list of each Boolean operator's truth tables (i.e. every possible combination of Boolean values for the operator and what it evaluate)."
   ]
  },
  {
   "cell_type": "markdown",
   "metadata": {},
   "source": [
    "#### Solution :\n",
    "\n",
    "AND :-\n",
    "\n",
    "| x | y | AND |\n",
    "|:-:|:-:|:---:|\n",
    "| 0 | 0 |  0  |\n",
    "| 0 | 1 |  0  |\n",
    "| 1 | 0 |  0  |\n",
    "| 1 | 1 |  1  |\n",
    "\n",
    "OR :- \n",
    "\n",
    "| x | y | OR |\n",
    "|:-:|:-:|:--:|\n",
    "| 0 | 0 |  0 |\n",
    "| 0 | 1 |  1 |\n",
    "| 1 | 0 |  1 |\n",
    "| 1 | 1 |  1 |\n",
    "\n",
    "NOT :-\n",
    "\n",
    "| x | NOT |\n",
    "|:-:|:---:|\n",
    "| 1 |  0  |\n",
    "| 0 |  1  |\n"
   ]
  },
  {
   "cell_type": "markdown",
   "metadata": {
    "id": "KLiVjCsQKL-_"
   },
   "source": [
    "4 . What are the values of the following expressions?\n",
    "\n",
    "(5 > 4) and (3 == 5)\n",
    "\n",
    "not (5 > 4)\n",
    "\n",
    "(5 > 4) or (3 == 5)\n",
    "\n",
    "not ((5 > 4) or (3 == 5))\n",
    "\n",
    "(True and True) and (True == False)\n",
    "\n",
    "(not False) or (not True)"
   ]
  },
  {
   "cell_type": "markdown",
   "metadata": {},
   "source": [
    "#### Solution :\n",
    "\n",
    "(5 > 4) and (3 == 5) - False\n",
    "\n",
    "not (5 > 4) - False\n",
    "\n",
    "(5 > 4) or (3 == 5) - True\n",
    "\n",
    "not ((5 > 4) or (3 == 5)) - False\n",
    "\n",
    "(True and True) and (True == False) - False\n",
    "\n",
    "(not False) or (not True) - True"
   ]
  },
  {
   "cell_type": "code",
   "execution_count": 63,
   "metadata": {},
   "outputs": [
    {
     "data": {
      "text/plain": [
       "False"
      ]
     },
     "execution_count": 63,
     "metadata": {},
     "output_type": "execute_result"
    }
   ],
   "source": [
    "(5 > 4) and (3 == 5)"
   ]
  },
  {
   "cell_type": "code",
   "execution_count": 64,
   "metadata": {},
   "outputs": [
    {
     "data": {
      "text/plain": [
       "False"
      ]
     },
     "execution_count": 64,
     "metadata": {},
     "output_type": "execute_result"
    }
   ],
   "source": [
    "not (5 > 4)"
   ]
  },
  {
   "cell_type": "code",
   "execution_count": 65,
   "metadata": {},
   "outputs": [
    {
     "data": {
      "text/plain": [
       "True"
      ]
     },
     "execution_count": 65,
     "metadata": {},
     "output_type": "execute_result"
    }
   ],
   "source": [
    "(5 > 4) or (3 == 5)"
   ]
  },
  {
   "cell_type": "code",
   "execution_count": 66,
   "metadata": {},
   "outputs": [
    {
     "data": {
      "text/plain": [
       "False"
      ]
     },
     "execution_count": 66,
     "metadata": {},
     "output_type": "execute_result"
    }
   ],
   "source": [
    "not ((5 > 4) or (3 == 5))"
   ]
  },
  {
   "cell_type": "code",
   "execution_count": 67,
   "metadata": {},
   "outputs": [
    {
     "data": {
      "text/plain": [
       "False"
      ]
     },
     "execution_count": 67,
     "metadata": {},
     "output_type": "execute_result"
    }
   ],
   "source": [
    "(True and True) and (True == False)"
   ]
  },
  {
   "cell_type": "code",
   "execution_count": 68,
   "metadata": {},
   "outputs": [
    {
     "data": {
      "text/plain": [
       "True"
      ]
     },
     "execution_count": 68,
     "metadata": {},
     "output_type": "execute_result"
    }
   ],
   "source": [
    "(not False) or (not True)"
   ]
  },
  {
   "cell_type": "markdown",
   "metadata": {
    "id": "x4_ISGcYKTkg"
   },
   "source": [
    "5 . What are the six different types of reference operators?"
   ]
  },
  {
   "cell_type": "markdown",
   "metadata": {
    "id": "lMvxmhLimCeE"
   },
   "source": [
    "#### Solution :\n",
    "\n",
    "| Operator | Description                                                                                  | Example |\n",
    "|:-------------------:|:--------------------------------------------------------------------------------------------:|:-------:|\n",
    "| ==                  | Returns True if two operands are equal, else returns False.                                     | a == b  |\n",
    "| !=                  | Returns True if two operands are not equal, else returns False.                                 | a != b  |\n",
    "| >                   | Returns True if left operand is greater than the right operand, else returns False.             | a > b   |\n",
    "| <                   | Returns True if left operand is smaller than the right operand, else returns False.             | a < b   |\n",
    "| >=                  | Returns True if left operand is greater than or equal to the right operand, else returns False. | a > b   |\n",
    "| <=                  | Returns True if left operand is smaller than or equal to the right operand, else returns False. | a < b   |"
   ]
  },
  {
   "cell_type": "markdown",
   "metadata": {
    "id": "_YoUZax5KXRb"
   },
   "source": [
    "6 . How do you tell the difference between the equal to and assignment operators?"
   ]
  },
  {
   "cell_type": "markdown",
   "metadata": {
    "id": "YD-Q_B2r8leO"
   },
   "source": [
    "#### Solution :\n",
    "\n",
    "The “=” is assignment operator used to assign the value on the right to the variable on the left. \n",
    "Eg. a = 10.\n",
    "\n",
    "The ‘==’ operator checks whether the two given operands are equal or not. If so, it returns true. Otherwise it returns false.    \n",
    "Eg. a == b"
   ]
  },
  {
   "cell_type": "markdown",
   "metadata": {
    "id": "aZroBlKTKZO1"
   },
   "source": [
    "7 . Describe a condition and when you would use one."
   ]
  },
  {
   "cell_type": "markdown",
   "metadata": {},
   "source": [
    "#### Solution :\n",
    "\n",
    "In order to write useful programs, we almost always need the ability to check conditions and change the behavior of the program accordingly.\n",
    "\n",
    "Condition Example - In order to get the grades based on marks of a student.\n",
    "\n",
    "`\n",
    "marks = 80\n",
    "if (marks >= 80 and marks <= 100):\n",
    "    print(\"A++\")\n",
    "elif (marks >= 60 and marks < 80):\n",
    "    print(\"A\")\n",
    "elif (marks >= 50 and marks < 60):\n",
    "    print(\"B\")\n",
    "elif (marks >= 40 and marks < 50):\n",
    "    print(\"C\")\n",
    "else:\n",
    "    print(\"F\")\n",
    "`\n",
    "\n",
    "This will print output as A++, since the marks = 80"
   ]
  },
  {
   "cell_type": "markdown",
   "metadata": {
    "id": "oCILSd0kKbcx"
   },
   "source": [
    "8 . Recognize the following three blocks in this code:\n",
    "\n",
    "`spam = 0\n",
    "if spam == 10:\n",
    "    print('eggs')\n",
    "    if spam > 5:\n",
    "        print('bacon')\n",
    "    else:\n",
    "        print('ham')\n",
    "    print('spam')\n",
    "print('spam')`"
   ]
  },
  {
   "cell_type": "markdown",
   "metadata": {},
   "source": [
    "#### Solution :\n",
    "`\n",
    "spam = 0\n",
    "if spam == 10: ## First Block\n",
    "    print('eggs')\n",
    "    if spam > 5: ## Second Block\n",
    "        print('bacon')\n",
    "    else: ## Third Block\n",
    "        print('ham')\n",
    "    print('spam')\n",
    "print('spam')`"
   ]
  },
  {
   "cell_type": "markdown",
   "metadata": {
    "id": "nZ4YBcJ4Kgm6"
   },
   "source": [
    "9 . Create a programme that prints. If 1 is stored in spam, prints Hello; if 2 is stored in spam, prints Howdy; and if 3 is stored in spam, prints Salutations! if there's something else in spam."
   ]
  },
  {
   "cell_type": "markdown",
   "metadata": {},
   "source": [
    "#### Solution :"
   ]
  },
  {
   "cell_type": "code",
   "execution_count": 69,
   "metadata": {},
   "outputs": [
    {
     "name": "stdout",
     "output_type": "stream",
     "text": [
      "there's something else in spam\n"
     ]
    }
   ],
   "source": [
    "spam = 4\n",
    "if (spam == 1):\n",
    "    print(\"Hello\")\n",
    "elif (spam == 2):\n",
    "    print(\"Howdy\")\n",
    "elif (spam == 3):\n",
    "    print(\"Salutations!\")\n",
    "else:\n",
    "    print(\"there's something else in spam\")"
   ]
  },
  {
   "cell_type": "markdown",
   "metadata": {
    "id": "LvUWTK-bKj0N"
   },
   "source": [
    "10 . If your programme is stuck in an endless loop, what keys can you press?"
   ]
  },
  {
   "cell_type": "markdown",
   "metadata": {
    "id": "RXLXfV6Z5FY4"
   },
   "source": [
    "#### Solution :\n",
    "\n",
    "Ctrl + C"
   ]
  },
  {
   "cell_type": "markdown",
   "metadata": {
    "id": "bguar9dQKlqd"
   },
   "source": [
    "11 . How can you tell the difference between break and continue?"
   ]
  },
  {
   "cell_type": "markdown",
   "metadata": {},
   "source": [
    "#### Solution :\n",
    "With the break statement we can stop the loop before it has looped through all the items.\n",
    "##### Example :\n",
    "In below code, Because of break, code would print only 1 - 8. \n",
    "\n",
    "`\n",
    "for x in range(1,11):\n",
    "    if x == 9:\n",
    "        break\n",
    "    print(x)\n",
    "`\n",
    "\n",
    "With the continue statement we can stop the current iteration of the loop, and continue with the next.\n",
    "##### Example :\n",
    "In below code, Because of continue, code would not print number 9. \n",
    "\n",
    "`\n",
    "for x in range(1,11):\n",
    "    if x == 9:\n",
    "        continue\n",
    "    print(x)\n",
    "`"
   ]
  },
  {
   "cell_type": "markdown",
   "metadata": {
    "id": "UWNqteJUKnn_"
   },
   "source": [
    "12 . In a for loop, what is the difference between range(10), range(0, 10), and range(0, 10, 1)?\n"
   ]
  },
  {
   "cell_type": "markdown",
   "metadata": {},
   "source": [
    "#### Solution : \n",
    "\n",
    "1 . range(10) - Returns a sequence of numbers, starting from 0 by default, and increments by 1 (by default), and ends at 10.\n",
    "\n",
    "2 . range(0, 10) - The range() function defaults to 0 as a starting value, however it is possible to specify the starting value as the first parameter: which is 0 in this case.\n",
    "\n",
    "3 . range(0, 10, 1) - The range() function defaults to increment the sequence by 1, however it is possible to specify the increment value by adding a third parameter: which is 1 in this case.\n",
    "\n",
    "Hence the above three function calls would return the same sequence of numbers , only the parameters specified are different."
   ]
  },
  {
   "cell_type": "markdown",
   "metadata": {
    "id": "tWlkgZ3DKp2B"
   },
   "source": [
    "13 . Using a for loop, write a short programme that prints the numbers 1 to 10 Then, using a while loop, create an identical programme that prints the numbers 1 to 10.\n"
   ]
  },
  {
   "cell_type": "markdown",
   "metadata": {},
   "source": [
    "#### Solution :"
   ]
  },
  {
   "cell_type": "code",
   "execution_count": 70,
   "metadata": {
    "colab": {
     "base_uri": "https://localhost:8080/"
    },
    "id": "BKmrsEFN2_62",
    "outputId": "667d73f1-de2c-476f-a87c-0ce28564cf23"
   },
   "outputs": [
    {
     "name": "stdout",
     "output_type": "stream",
     "text": [
      "1\n",
      "2\n",
      "3\n",
      "4\n",
      "5\n",
      "6\n",
      "7\n",
      "8\n",
      "9\n",
      "10\n",
      "1\n",
      "2\n",
      "3\n",
      "4\n",
      "5\n",
      "6\n",
      "7\n",
      "8\n",
      "9\n",
      "10\n"
     ]
    }
   ],
   "source": [
    "# Solution :\n",
    "\n",
    "# Using For Loop\n",
    "for x in range(1,11):\n",
    "  print(x) \n",
    "\n",
    "\n",
    "# Using While Loop\n",
    "i = 1\n",
    "while i < 11:\n",
    "  print(i)\n",
    "  i += 1"
   ]
  },
  {
   "cell_type": "markdown",
   "metadata": {
    "id": "dOaC7UfFKsh1"
   },
   "source": [
    "14 . If you had a bacon() function within a spam module, what would you call it after importing spam?\n"
   ]
  },
  {
   "cell_type": "markdown",
   "metadata": {},
   "source": [
    "#### Solution :\n",
    "\n",
    "spam.bacon()"
   ]
  }
 ],
 "metadata": {
  "colab": {
   "collapsed_sections": [],
   "name": "python_basic_assignment_2",
   "provenance": []
  },
  "kernelspec": {
   "display_name": "Python 3",
   "language": "python",
   "name": "python3"
  },
  "language_info": {
   "codemirror_mode": {
    "name": "ipython",
    "version": 3
   },
   "file_extension": ".py",
   "mimetype": "text/x-python",
   "name": "python",
   "nbconvert_exporter": "python",
   "pygments_lexer": "ipython3",
   "version": "3.5.2"
  }
 },
 "nbformat": 4,
 "nbformat_minor": 1
}

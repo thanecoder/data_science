{
 "cells": [
  {
   "cell_type": "markdown",
   "metadata": {
    "id": "qSTyAhT3tX0y"
   },
   "source": [
    "# Assignment 7"
   ]
  },
  {
   "cell_type": "markdown",
   "metadata": {
    "id": "kO6hHoeWtb9P"
   },
   "source": [
    "#### Submitted By : Paritosh Nichat\n",
    "\n",
    "#### Date : June 9, 2021"
   ]
  },
  {
   "cell_type": "markdown",
   "metadata": {
    "id": "TX3DPnsCqV4D"
   },
   "source": [
    "1 . What is the name of the feature responsible for generating Regex objects?"
   ]
  },
  {
   "cell_type": "markdown",
   "metadata": {
    "id": "VNotHWzoyP-G"
   },
   "source": [
    "#### Solution :\n",
    "\n",
    "* re.compile() function returns Regex objects"
   ]
  },
  {
   "cell_type": "markdown",
   "metadata": {
    "id": "9pOQElQ8qgVS"
   },
   "source": [
    "2 . Why do raw strings often appear in Regex objects? "
   ]
  },
  {
   "cell_type": "markdown",
   "metadata": {
    "id": "q8zCdm8EykCw"
   },
   "source": [
    "#### Solution :\n",
    "\n",
    "* Raw strings are used so that backslashes do not have to be escaped."
   ]
  },
  {
   "cell_type": "markdown",
   "metadata": {
    "id": "7PvjzzIeqlNy"
   },
   "source": [
    "3 . What is the return value of the search() method?"
   ]
  },
  {
   "cell_type": "markdown",
   "metadata": {
    "id": "trCuF657yqDY"
   },
   "source": [
    "#### Solution :\n",
    "\n",
    "* The search() method returns Match objects."
   ]
  },
  {
   "cell_type": "markdown",
   "metadata": {
    "id": "iyjhIPtwqvXm"
   },
   "source": [
    "4 . From a Match item, how do you get the actual strings that match the pattern?"
   ]
  },
  {
   "cell_type": "markdown",
   "metadata": {
    "id": "mb2dZDNrywL2"
   },
   "source": [
    "#### Solution :\n",
    "\n",
    "* The group() method returns strings of the matched text."
   ]
  },
  {
   "cell_type": "markdown",
   "metadata": {
    "id": "ZWU3gRfeqxbb"
   },
   "source": [
    "5 . In the regex which created from the r'(\\d\\d\\d)-(\\d\\d\\d-\\d\\d\\d\\d)', what does group zero cover? Group 2? Group 1?"
   ]
  },
  {
   "cell_type": "markdown",
   "metadata": {
    "id": "zuOnNA1Gy9h8"
   },
   "source": [
    "#### Solution :\n",
    "\n",
    "* Group 0 is the entire match.\n",
    "* Group 1 covers the first set of parentheses \n",
    "* Group 2 covers the second set of parentheses."
   ]
  },
  {
   "cell_type": "markdown",
   "metadata": {
    "id": "BnKCxaIPs7qL"
   },
   "source": [
    "6 . In standard expression syntax, parentheses and intervals have distinct meanings. How can you tell a regex that you want it to fit real parentheses and periods?"
   ]
  },
  {
   "cell_type": "markdown",
   "metadata": {
    "id": "9U8KdW8iz-2-"
   },
   "source": [
    "#### Solution :\n",
    "\n",
    "* We can use backslash symbol (\\\\).\n",
    "* Periods and parentheses can be escaped with a backslash: '\\\\'., '\\\\'(, and, '\\\\')"
   ]
  },
  {
   "cell_type": "markdown",
   "metadata": {
    "id": "yMP4mfWXs7DL"
   },
   "source": [
    "7 . The findall() method returns a string list or a list of string tuples. What causes it to return one of the two options?"
   ]
  },
  {
   "cell_type": "markdown",
   "metadata": {
    "id": "hmI4mh9p17Ja"
   },
   "source": [
    "#### Solution :\n",
    "\n",
    "* If the regex has no groups, a list of strings is returned. \n",
    "* findall() returns a list of tuples if the pattern has more than one group."
   ]
  },
  {
   "cell_type": "markdown",
   "metadata": {
    "id": "8Npd1sHNqxwR"
   },
   "source": [
    "8 . In standard expressions, what does the | character mean?"
   ]
  },
  {
   "cell_type": "markdown",
   "metadata": {
    "id": "rPt1oLg817tf"
   },
   "source": [
    "#### Solution :\n",
    "\n",
    "* Vertical bar or Pipe character | signifies matching “either, or” between two groups."
   ]
  },
  {
   "cell_type": "markdown",
   "metadata": {
    "id": "6m9MCunrqyHu"
   },
   "source": [
    "9 . In regular expressions, what does the character stand for?"
   ]
  },
  {
   "cell_type": "markdown",
   "metadata": {
    "id": "Nf2UEjxS18qO"
   },
   "source": [
    "#### Solution :\n",
    "\n",
    "* The ? character can either mean “match zero or one of the preceding group” or be used to signify non-greedy matching."
   ]
  },
  {
   "cell_type": "markdown",
   "metadata": {
    "id": "wVEayOr9rDbX"
   },
   "source": [
    "10 . In regular expressions, what is the difference between the + and * characters?"
   ]
  },
  {
   "cell_type": "markdown",
   "metadata": {
    "id": "KFSlkGOl19K9"
   },
   "source": [
    "#### Solution :\n",
    "\n",
    "* The plus symbol + matches one or more occurrences of the pattern left to it.\n",
    "* The star symbol * matches zero or more occurrences of the pattern left to it."
   ]
  },
  {
   "cell_type": "markdown",
   "metadata": {
    "id": "Av1QHbrErDuu"
   },
   "source": [
    "11 . What is the difference between {4} and {4,5} in regular expression?"
   ]
  },
  {
   "cell_type": "markdown",
   "metadata": {
    "id": "i_5FRTJs19nn"
   },
   "source": [
    "#### Solution :\n",
    "\n",
    "* {4} - means exactly 4 matches.\n",
    "* {4,5} - means atleast 4 matches and atmost 5 matches."
   ]
  },
  {
   "cell_type": "markdown",
   "metadata": {
    "id": "GzGrb6zkrEFc"
   },
   "source": [
    "12 . What do you mean by the \\d, \\w, and \\s shorthand character classes signify in regular expressions?"
   ]
  },
  {
   "cell_type": "markdown",
   "metadata": {
    "id": "rcpt37Re1-Ck"
   },
   "source": [
    "#### Solution :\n",
    "\n",
    "* \\d - match a single digit\n",
    "* \\w - match a single word\n",
    "* \\s - match a single space character"
   ]
  },
  {
   "cell_type": "markdown",
   "metadata": {
    "id": "aMqdkVPzrEVX"
   },
   "source": [
    "13 . What do means by \\D, \\W, and \\S shorthand character classes signify in regular expressions?"
   ]
  },
  {
   "cell_type": "markdown",
   "metadata": {
    "id": "P1K5WfkG1-XG"
   },
   "source": [
    "#### Solution :\n",
    "\n",
    "* \\D - match a single character that is not a digit.\n",
    "* \\W - match a single character that is not a word.\n",
    "* \\S - match a single character that is not a space character."
   ]
  },
  {
   "cell_type": "markdown",
   "metadata": {
    "id": "ZQaXHbkurEn9"
   },
   "source": [
    "14 . What is the difference between .* and .*?"
   ]
  },
  {
   "cell_type": "markdown",
   "metadata": {
    "id": "J4CV7vKV1-wQ"
   },
   "source": [
    "#### Solution :\n",
    "\n",
    "* The .* performs a greedy match.\n",
    "* The .*? performs a non-greedy match."
   ]
  },
  {
   "cell_type": "markdown",
   "metadata": {
    "id": "539EZ44vrE2t"
   },
   "source": [
    "15 . What is the syntax for matching both numbers and lowercase letters with a character class?"
   ]
  },
  {
   "cell_type": "markdown",
   "metadata": {
    "id": "LWozS-fz1_Kd"
   },
   "source": [
    "#### Solution :\n",
    "\n",
    "* [a-z0-9]"
   ]
  },
  {
   "cell_type": "markdown",
   "metadata": {
    "id": "OpV9tMA_rFMO"
   },
   "source": [
    "16 . What is the procedure for making a normal expression in regax case insensitive?"
   ]
  },
  {
   "cell_type": "markdown",
   "metadata": {
    "id": "pfl0djle1_v6"
   },
   "source": [
    "#### Solution :\n",
    "\n",
    "* Using re.I or re.IGNORECASE as the second argument to re.compile() will make the matching case insensitive."
   ]
  },
  {
   "cell_type": "markdown",
   "metadata": {
    "id": "YoqpjT7CrFZX"
   },
   "source": [
    "17 . What does the . character normally match? What does it match if re.DOTALL is passed as 2nd argument in re.compile()?"
   ]
  },
  {
   "cell_type": "markdown",
   "metadata": {
    "id": "39F6i46p2AH1"
   },
   "source": [
    "#### Solution :\n",
    "\n",
    "* A period matches any single character (except newline '\\n').\n",
    "* If re.DOTALL is passed as the second argument to re.compile(), then the dot will also match newline characters."
   ]
  },
  {
   "cell_type": "markdown",
   "metadata": {
    "id": "X9g0eL5KrFtD"
   },
   "source": [
    "18 . If numReg = re.compile(r'\\d+'), what will numRegex.sub('X', '11 drummers, 10 pipers, five rings, 4 hen') return?"
   ]
  },
  {
   "cell_type": "markdown",
   "metadata": {
    "id": "G1M317-w2Ae8"
   },
   "source": [
    "#### Solution :\n",
    "\n",
    "* 'X drummers, X pipers, five rings, X hen'"
   ]
  },
  {
   "cell_type": "markdown",
   "metadata": {
    "id": "ACOgKfbFrGB4"
   },
   "source": [
    "19 . What does passing re.VERBOSE as the 2nd argument to re.compile() allow to do?"
   ]
  },
  {
   "cell_type": "markdown",
   "metadata": {
    "id": "doAgFvPZ2A4c"
   },
   "source": [
    "#### Solution :\n",
    "\n",
    "* Passing the variable re.VERBOSE as the second argument to re.compile(), enables the verbose mode.\n",
    "* This tells the re.compile() function to ignore whitespace and comments inside the regular expression string.\n",
    "* Thus allowing you to add whitespace and comments to the string passed to re.compile().\n",
    "* This is useful for the long, convoluted regular expressions."
   ]
  },
  {
   "cell_type": "markdown",
   "metadata": {
    "id": "CfJev_WxrGOS"
   },
   "source": [
    "20 . How would you write a regex that match a number with comma for every three digits? It must match the given following:\n",
    "\n",
    "'42'\n",
    "\n",
    "'1,234'\n",
    "\n",
    "'6,368,745'\n",
    "\n",
    "but not the following:\n",
    "\n",
    "'12,34,567' (which has only two digits between the commas)\n",
    "\n",
    "'1234' (which lacks commas)"
   ]
  },
  {
   "cell_type": "markdown",
   "metadata": {
    "id": "VKubsRsf-DCw"
   },
   "source": [
    "#### Solution :\n",
    "\n",
    "* re.compile(r'^\\d{1,3}(,\\d{3})*$')"
   ]
  },
  {
   "cell_type": "markdown",
   "metadata": {
    "id": "58gPw_xprGh1"
   },
   "source": [
    "21 . How would you write a regex that matches the full name of someone whose last name is Watanabe? You can assume that the first name that comes before it will always be one word that begins with a capital letter. The regex must match the following:\n",
    "\n",
    "'Haruto Watanabe'\n",
    "\n",
    "'Alice Watanabe'\n",
    "\n",
    "'RoboCop Watanabe'\n",
    "\n",
    "but not the following:\n",
    "\n",
    "'haruto Watanabe' (where the first name is not capitalized)\n",
    "\n",
    "'Mr. Watanabe' (where the preceding word has a nonletter character)\n",
    "\n",
    "'Watanabe' (which has no first name)\n",
    "\n",
    "'Haruto watanabe' (where Watanabe is not capitalized)"
   ]
  },
  {
   "cell_type": "markdown",
   "metadata": {
    "id": "YNS7fi9CBr54"
   },
   "source": [
    "#### Solution :\n",
    "\n",
    "* Regex -> [A-Z][a-z]*\\sWatanabe\n",
    "* re.compile(r'[A-Z][a-z]*\\sWatanabe')"
   ]
  },
  {
   "cell_type": "markdown",
   "metadata": {
    "id": "zGMZ-JvUrG7m"
   },
   "source": [
    "22 . How would you write a regex that matches a sentence where the first word is either Alice, Bob, or Carol; the second word is either eats, pets, or throws; the third word is apples, cats, or baseballs; and the sentence ends with a period? This regex should be case-insensitive. It must match the following:\n",
    "\n",
    "'Alice eats apples.'\n",
    "\n",
    "'Bob pets cats.'\n",
    "\n",
    "'Carol throws baseballs.'\n",
    "\n",
    "'Alice throws Apples.'\n",
    "\n",
    "'BOB EATS CATS.'\n",
    "\n",
    "but not the following:\n",
    "\n",
    "'RoboCop eats apples.'\n",
    "\n",
    "'ALICE THROWS FOOTBALLS.'\n",
    "\n",
    "'Carol eats 7 cats.'"
   ]
  },
  {
   "cell_type": "markdown",
   "metadata": {
    "id": "Xdr6TCq0BvYX"
   },
   "source": [
    "#### Solution :\n",
    "\n",
    "* Regex ->  (Alice|Bob|Carol)\\s(eats|pets|throws)\\s(apples|cats|baseballs)\\.\n",
    "* re.compile(r'(Alice|Bob|Carol)\\s(eats|pets|throws)\\s(apples|cats|baseballs)\\.', re.IGNORECASE)"
   ]
  }
 ],
 "metadata": {
  "colab": {
   "collapsed_sections": [],
   "name": "python_basic_assignment_7",
   "provenance": []
  },
  "kernelspec": {
   "display_name": "Python 3",
   "language": "python",
   "name": "python3"
  },
  "language_info": {
   "codemirror_mode": {
    "name": "ipython",
    "version": 3
   },
   "file_extension": ".py",
   "mimetype": "text/x-python",
   "name": "python",
   "nbconvert_exporter": "python",
   "pygments_lexer": "ipython3",
   "version": "3.8.5"
  }
 },
 "nbformat": 4,
 "nbformat_minor": 1
}

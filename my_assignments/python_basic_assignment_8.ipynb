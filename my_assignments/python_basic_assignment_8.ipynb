{
 "cells": [
  {
   "cell_type": "markdown",
   "metadata": {},
   "source": [
    "# Assignment 8"
   ]
  },
  {
   "cell_type": "markdown",
   "metadata": {},
   "source": [
    "#### Submitted By : Paritosh Nichat\n",
    "\n",
    "#### Date : May 29, 2021"
   ]
  },
  {
   "cell_type": "markdown",
   "metadata": {
    "id": "n57uned3v1Og"
   },
   "source": [
    "1 . Is the Python Standard Library included with PyInputPlus?"
   ]
  },
  {
   "cell_type": "markdown",
   "metadata": {},
   "source": [
    "#### Solution :\n",
    "\n",
    "* No, PyInputPlus is not a part of the Python Standard Library, so you must install it separately using Pip."
   ]
  },
  {
   "cell_type": "markdown",
   "metadata": {
    "id": "Qf44Fpqev3Rn"
   },
   "source": [
    "2 . Why is PyInputPlus commonly imported with import pyinputplus as pypi?"
   ]
  },
  {
   "cell_type": "markdown",
   "metadata": {},
   "source": [
    "#### Solution :\n",
    "\n",
    "* You use alias pyip for pyinputplus which optionally makes your code shorter to type. \n",
    "* You can type pyip.inputStr() instead of pyinputplus.inputStr()."
   ]
  },
  {
   "cell_type": "markdown",
   "metadata": {
    "id": "SfmwSF1sv9Au"
   },
   "source": [
    "3 . How do you distinguish between inputInt() and inputFloat()?"
   ]
  },
  {
   "cell_type": "markdown",
   "metadata": {},
   "source": [
    "#### Solution :\n",
    "\n",
    "* The inputInt() function returns an int value, while the inputFloat() function returns a float value. \n",
    "* For example :- This is the difference between returning 3 and 3.14."
   ]
  },
  {
   "cell_type": "markdown",
   "metadata": {
    "id": "YknvbSRvwckn"
   },
   "source": [
    "4 . Using PyInputPlus, how do you ensure that the user enters a whole number between 0 and 99?"
   ]
  },
  {
   "cell_type": "markdown",
   "metadata": {},
   "source": [
    "#### Solution :\n",
    "\n",
    "* We use min and max arguments.\n",
    "* pyip.inputInt(min=0, max=99)"
   ]
  },
  {
   "cell_type": "markdown",
   "metadata": {
    "id": "ezeALfRqw0Xz"
   },
   "source": [
    "5 . What is transferred to the keyword arguments allowRegexes and blockRegexes?"
   ]
  },
  {
   "cell_type": "markdown",
   "metadata": {},
   "source": [
    "#### Solution :\n",
    "\n",
    "* allowRegexes - A list of regex strings that are either explicitly allowed\n",
    "* blockRegexes - A list of regex strings that are either explicitly denied"
   ]
  },
  {
   "cell_type": "markdown",
   "metadata": {
    "id": "iQiK-rzpw2Rz"
   },
   "source": [
    "6 . If a blank input is entered three times, what does inputStr(limit=3) do?"
   ]
  },
  {
   "cell_type": "markdown",
   "metadata": {},
   "source": [
    "#### Solution :\n",
    "\n",
    "* The function will raise RetryLimitException."
   ]
  },
  {
   "cell_type": "markdown",
   "metadata": {
    "id": "4ajxF4WCxN_k"
   },
   "source": [
    "7 . If blank input is entered three times, what does inputStr(limit=3, default='hello') do?"
   ]
  },
  {
   "cell_type": "markdown",
   "metadata": {},
   "source": [
    "#### Solution :\n",
    "\n",
    "* The function returns the value 'hello'."
   ]
  }
 ],
 "metadata": {
  "colab": {
   "collapsed_sections": [],
   "name": "python_basic_assignment_8",
   "provenance": []
  },
  "kernelspec": {
   "display_name": "Python 3",
   "language": "python",
   "name": "python3"
  },
  "language_info": {
   "codemirror_mode": {
    "name": "ipython",
    "version": 3
   },
   "file_extension": ".py",
   "mimetype": "text/x-python",
   "name": "python",
   "nbconvert_exporter": "python",
   "pygments_lexer": "ipython3",
   "version": "3.8.5"
  }
 },
 "nbformat": 4,
 "nbformat_minor": 1
}

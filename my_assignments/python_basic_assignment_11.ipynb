{
 "cells": [
  {
   "cell_type": "markdown",
   "metadata": {
    "id": "QqacQaBO0jNG"
   },
   "source": [
    "# Assignment 11"
   ]
  },
  {
   "cell_type": "markdown",
   "metadata": {
    "id": "TESwOALjjw7H"
   },
   "source": [
    "#### Submitted By : Paritosh Nichat\n",
    "\n",
    "#### Date : May 30, 2021"
   ]
  },
  {
   "cell_type": "markdown",
   "metadata": {
    "id": "UZyXQo1A0mAl"
   },
   "source": [
    "1 . Create an assert statement that throws an AssertionError if the variable spam is a negative integer."
   ]
  },
  {
   "cell_type": "markdown",
   "metadata": {
    "id": "6jcbrNXCfLS1"
   },
   "source": [
    "#### Solution :\n",
    "\n",
    "```\n",
    "assert spam >= 0, 'The spam variable is a negative integer.'\n",
    "```"
   ]
  },
  {
   "cell_type": "markdown",
   "metadata": {
    "id": "xfgbx_j-0r3h"
   },
   "source": [
    "2 . Write an assert statement that triggers an AssertionError if the variables eggs and bacon contain strings that are the same as each other, even if their cases are different (that is, 'hello' and 'hello' are considered the same, and 'goodbye' and 'GOODbye' are also considered the same)."
   ]
  },
  {
   "cell_type": "markdown",
   "metadata": {
    "id": "4nx3sCjnfrQK"
   },
   "source": [
    "#### Solution :\n",
    "\n",
    "```\n",
    "assert eggs.lower() != bacon.lower() 'The eggs and bacon variables are the same!'\n",
    "```"
   ]
  },
  {
   "cell_type": "markdown",
   "metadata": {
    "id": "Fi0aI92g0uSI"
   },
   "source": [
    "3 . Create an assert statement that throws an AssertionError every time."
   ]
  },
  {
   "cell_type": "markdown",
   "metadata": {
    "id": "52jd9K0GfwhN"
   },
   "source": [
    "#### Solution :\n",
    "\n",
    "```\n",
    "assert False, 'This assertion always triggers.'\n",
    "```"
   ]
  },
  {
   "cell_type": "markdown",
   "metadata": {
    "id": "isk6bKNd0w5w"
   },
   "source": [
    "4 . What are the two lines that must be present in your software in order to call logging.debug()?"
   ]
  },
  {
   "cell_type": "markdown",
   "metadata": {
    "id": "_pMRcGb-h1go"
   },
   "source": [
    "#### Solution :\n",
    "\n",
    "To be able to call logging.debug(), you must have these two lines at the start of your program:\n",
    "\n",
    "```\n",
    "import logging\n",
    "\n",
    "logging.basicConfig(level=logging.DEBUG, format='%(asctime)s - %(levelname)s -  %(message)s')\n",
    "```"
   ]
  },
  {
   "cell_type": "markdown",
   "metadata": {
    "id": "OKk2KPZj0zea"
   },
   "source": [
    "5 . What are the two lines that your program must have in order to have logging.debug() send a logging message to a file named programLog.txt?"
   ]
  },
  {
   "cell_type": "markdown",
   "metadata": {
    "id": "5wSyM18fiKPx"
   },
   "source": [
    "#### Solution :\n",
    "\n",
    "To be able to send logging messages to a file named programLog.txt with logging.debug(), you must have these two lines at the start of your program:\n",
    "```\n",
    "import logging\n",
    "\n",
    "logging.basicConfig(filename='programLog.txt', level=logging.DEBUG, format='%(asctime)s -  %levelname)s -  %(message)s')\n",
    "```"
   ]
  },
  {
   "cell_type": "markdown",
   "metadata": {
    "id": "EbCMaGxA02W8"
   },
   "source": [
    "6 . What are the five levels of logging?"
   ]
  },
  {
   "cell_type": "markdown",
   "metadata": {
    "id": "2OS7VXfehZ4Z"
   },
   "source": [
    "#### Solution :\n",
    "\n",
    "* DEBUG \n",
    "* INFO\n",
    "* WARNING \n",
    "* ERROR \n",
    "* CRITICAL"
   ]
  },
  {
   "cell_type": "markdown",
   "metadata": {
    "id": "5G1_kII104f-"
   },
   "source": [
    "7 . What line of code would you add to your software to disable all logging messages?"
   ]
  },
  {
   "cell_type": "markdown",
   "metadata": {
    "id": "cK8c2VhnhQHY"
   },
   "source": [
    "#### Solution :\n",
    "\n",
    "* logging.disable(logging.CRITICAL)\n",
    "* We use above statement to disable all logging calls. It will disable all logs which are at level CRITICAL or below. \n",
    "* Effectively this disables all logging calls."
   ]
  },
  {
   "cell_type": "markdown",
   "metadata": {
    "id": "sXbmTqzV06ki"
   },
   "source": [
    "8 . Why is using logging messages better than using print() to display the same message?"
   ]
  },
  {
   "cell_type": "markdown",
   "metadata": {
    "id": "p2AxSlF9g2u2"
   },
   "source": [
    "#### Solution :\n",
    "\n",
    "* You can disable logging messages without removing the logging function calls. \n",
    "* You can selectively disable lower-level logging messages. \n",
    "* You can create logging messages. \n",
    "* Logging messages provides a timestamp."
   ]
  },
  {
   "cell_type": "markdown",
   "metadata": {
    "id": "KcmUw4pS09o-"
   },
   "source": [
    "9 . What are the differences between the Step Over, Step In, and Step Out buttons in the debugger?"
   ]
  },
  {
   "cell_type": "markdown",
   "metadata": {
    "id": "OSDHXYHxgqnt"
   },
   "source": [
    "#### Solution :\n",
    "\n",
    "* The Step Over button will quickly execute the function call without stepping into it. \n",
    "* The Step In button will move the debugger into a function call. \n",
    "* The Step Out button will quickly execute the rest of the code until it steps out of the function it currently is in."
   ]
  },
  {
   "cell_type": "markdown",
   "metadata": {
    "id": "FC7wH1350_g2"
   },
   "source": [
    "10 . After you click Continue, when will the debugger stop ?"
   ]
  },
  {
   "cell_type": "markdown",
   "metadata": {
    "id": "V-QbOhgvglup"
   },
   "source": [
    "#### Solution :\n",
    "\n",
    "* After you click Continue, the debugger will stop when it has reached the end of the program or a line with a breakpoint."
   ]
  },
  {
   "cell_type": "markdown",
   "metadata": {
    "id": "x0CVV5hW1BWi"
   },
   "source": [
    "11 . What is the concept of a breakpoint?"
   ]
  },
  {
   "cell_type": "markdown",
   "metadata": {
    "id": "tHfhLuZHggtY"
   },
   "source": [
    "#### Solution :\n",
    "\n",
    "* A breakpoint is a setting on a line of code that causes the debugger to pause when the program execution reaches the line."
   ]
  }
 ],
 "metadata": {
  "colab": {
   "collapsed_sections": [],
   "name": "python_basic_assignment_11",
   "provenance": []
  },
  "kernelspec": {
   "display_name": "Python 3",
   "language": "python",
   "name": "python3"
  },
  "language_info": {
   "codemirror_mode": {
    "name": "ipython",
    "version": 3
   },
   "file_extension": ".py",
   "mimetype": "text/x-python",
   "name": "python",
   "nbconvert_exporter": "python",
   "pygments_lexer": "ipython3",
   "version": "3.8.5"
  }
 },
 "nbformat": 4,
 "nbformat_minor": 1
}

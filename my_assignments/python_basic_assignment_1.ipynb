{
 "cells": [
  {
   "cell_type": "markdown",
   "metadata": {
    "id": "y_Sb7vppWQgn"
   },
   "source": [
    "# Assignment 1"
   ]
  },
  {
   "cell_type": "markdown",
   "metadata": {},
   "source": [
    "#### Submitted By : Paritosh Nichat\n",
    "#### Date : March 13th 2021"
   ]
  },
  {
   "cell_type": "markdown",
   "metadata": {
    "id": "1ViByIQJV7mw"
   },
   "source": [
    "1 . What are the differences between operators and values in the following?\n",
    "\n",
    "*\n",
    "\n",
    "'hello'\n",
    "\n",
    "-87.8\n",
    "\n",
    "-\n",
    "\n",
    "/\n",
    "\n",
    "+\n",
    "\n",
    "6"
   ]
  },
  {
   "cell_type": "code",
   "execution_count": 4,
   "metadata": {
    "colab": {
     "base_uri": "https://localhost:8080/",
     "height": 35
    },
    "id": "cAxzMk2QJj4x",
    "outputId": "27fe828e-d29d-4fa5-f83a-fdc479e2e5a8"
   },
   "outputs": [
    {
     "data": {
      "text/plain": [
       "\"\\n* - operator\\n\\n'hello' - value\\n\\n-87.8 - value\\n\\n- - operator\\n\\n/ - operator\\n\\n+ - operator\\n\\n6 - value\\n\""
      ]
     },
     "execution_count": 4,
     "metadata": {},
     "output_type": "execute_result"
    }
   ],
   "source": [
    "#Solution :\n",
    "\n",
    "'''\n",
    "* - operator\n",
    "\n",
    "'hello' - value\n",
    "\n",
    "-87.8 - value\n",
    "\n",
    "- - operator\n",
    "\n",
    "/ - operator\n",
    "\n",
    "+ - operator\n",
    "\n",
    "6 - value\n",
    "'''"
   ]
  },
  {
   "cell_type": "markdown",
   "metadata": {
    "id": "UBUFk0pnVPJc"
   },
   "source": [
    "2 . What is the difference between string and variable?\n",
    "\n",
    "spam\n",
    "\n",
    "'spam'\n",
    "\n"
   ]
  },
  {
   "cell_type": "markdown",
   "metadata": {},
   "source": [
    "#### Solution :\n",
    "\n",
    "spam - Variable which can store any type of data like numbers , strings , floats and boolean etc.\n",
    "\n",
    "'spam' - String value"
   ]
  },
  {
   "cell_type": "markdown",
   "metadata": {
    "id": "UqiGH5vPWcyt"
   },
   "source": [
    "3 . Describe three different data forms.\n"
   ]
  },
  {
   "cell_type": "markdown",
   "metadata": {
    "id": "DygJDFUqGuDr"
   },
   "source": [
    "#### Solution :\n",
    "\n",
    "1. str - \"str\" is the built in string class of python. String literals can be enclosed by single or double quotes.\n",
    "\n",
    "2. int – Signed integers. Can hold both positive and negative value.\n",
    "\n",
    "3. bool - Booleans data type can have two values: True or False. Example -> a, b = True , False"
   ]
  },
  {
   "cell_type": "markdown",
   "metadata": {
    "id": "_Acd1H3vW_E5"
   },
   "source": [
    "4 . What makes up an expression? What are the functions of all expressions?\n"
   ]
  },
  {
   "cell_type": "markdown",
   "metadata": {},
   "source": [
    "#### Solution :\n",
    "\n",
    "An expression is a combination of values, variables, operators, and calls to functions. Expressions need to be evaluated. The evaluation of an expression produces a value.\n",
    "\n",
    "All expressions have operators. Operators are special tokens that represent computations like addition, multiplication and division. The values the operator works on are called operands.\n",
    "Example of operator in Python are :  + , - , % , * , = , etc."
   ]
  },
  {
   "cell_type": "markdown",
   "metadata": {
    "id": "Kw5Ug1fkXMM9"
   },
   "source": [
    "5 . In this chapter, assignment statements such as spam = 10 were added. What's the difference between a declaration and an expression?"
   ]
  },
  {
   "cell_type": "markdown",
   "metadata": {},
   "source": [
    "#### Solution :\n",
    "\n",
    "Declaration of a variable means binding it to a data type.A variable is created the moment you first assign a value to it.\n",
    "Hence a variable is declared.In example , spam = 10 , value 10 was assigned to a variable spam.\n",
    "\n",
    "A Python expression can be defined as any element in our program that evaluates to some value.\n",
    "Example -> result = spam + 5 , which will evaluate value of result as 15, the spam variable which has value 10 assigned will be added to 5."
   ]
  },
  {
   "cell_type": "markdown",
   "metadata": {
    "id": "ESIF6ZLWXOC9"
   },
   "source": [
    "6 . After running the following code, what does the variable bacon contain?\n",
    "\n",
    "bacon = 22\n",
    "\n",
    "bacon + 1\n"
   ]
  },
  {
   "cell_type": "markdown",
   "metadata": {
    "id": "1oZEYKtTDNk-"
   },
   "source": [
    "#### Solution :\n",
    "\n",
    "22"
   ]
  },
  {
   "cell_type": "code",
   "execution_count": 5,
   "metadata": {
    "colab": {
     "base_uri": "https://localhost:8080/"
    },
    "id": "1EPZq0vYawmC",
    "outputId": "756daf18-fcb6-4dff-c596-df9914cd8903"
   },
   "outputs": [
    {
     "data": {
      "text/plain": [
       "23"
      ]
     },
     "execution_count": 5,
     "metadata": {},
     "output_type": "execute_result"
    }
   ],
   "source": [
    "bacon = 22\n",
    "bacon + 1"
   ]
  },
  {
   "cell_type": "code",
   "execution_count": 6,
   "metadata": {},
   "outputs": [
    {
     "data": {
      "text/plain": [
       "22"
      ]
     },
     "execution_count": 6,
     "metadata": {},
     "output_type": "execute_result"
    }
   ],
   "source": [
    "bacon"
   ]
  },
  {
   "cell_type": "markdown",
   "metadata": {
    "id": "6i8YVCAtXSZG"
   },
   "source": [
    "7 . What should the values of the following two terms be?\n",
    "\n",
    "'spam' + 'spamspam'\n",
    "\n",
    "'spam' * 3\n"
   ]
  },
  {
   "cell_type": "markdown",
   "metadata": {
    "id": "WAgdTlXKDTP2"
   },
   "source": [
    "#### Solution :\n",
    "\n",
    "1. spamspamspam\n",
    "\n",
    "2. spamspamspam"
   ]
  },
  {
   "cell_type": "code",
   "execution_count": 7,
   "metadata": {
    "colab": {
     "base_uri": "https://localhost:8080/",
     "height": 35
    },
    "id": "ARwcxa8saftp",
    "outputId": "689655cb-6862-4144-d94a-55e3ef61736f"
   },
   "outputs": [
    {
     "data": {
      "text/plain": [
       "'spamspamspam'"
      ]
     },
     "execution_count": 7,
     "metadata": {},
     "output_type": "execute_result"
    }
   ],
   "source": [
    "'spam' + 'spamspam'"
   ]
  },
  {
   "cell_type": "code",
   "execution_count": 8,
   "metadata": {
    "colab": {
     "base_uri": "https://localhost:8080/",
     "height": 35
    },
    "id": "racZxUueakDX",
    "outputId": "235f7723-e3da-4302-f949-8fe74c8ade8c"
   },
   "outputs": [
    {
     "data": {
      "text/plain": [
       "'spamspamspam'"
      ]
     },
     "execution_count": 8,
     "metadata": {},
     "output_type": "execute_result"
    }
   ],
   "source": [
    "'spam' * 3"
   ]
  },
  {
   "cell_type": "markdown",
   "metadata": {
    "id": "BOWopz0NXaLi"
   },
   "source": [
    "8 . Why is it that eggs is a true variable name but 100 is not?\n"
   ]
  },
  {
   "cell_type": "markdown",
   "metadata": {
    "id": "jqPfxjBcDdG2"
   },
   "source": [
    "#### Solution :\n",
    "\n",
    "A variable name must start with a letter or the underscore character.\n",
    "A variable name cannot start with a number. Hence eggs is a true variable name but 100 is not."
   ]
  },
  {
   "cell_type": "markdown",
   "metadata": {
    "id": "MuvkInJoXeAx"
   },
   "source": [
    "9 . Which of the following three functions may be used to convert a value to an integer, a floating-point number, or a string?\n"
   ]
  },
  {
   "cell_type": "markdown",
   "metadata": {},
   "source": [
    "#### Solution :\n",
    "\n",
    "1 . int() - constructs an integer number from an integer literal, a float literal (by removing all decimals), or a string literal (providing the string represents a whole number)\n",
    "\n",
    "2 . float() - constructs a float number from an integer literal, a float literal or a string literal (providing the string represents a float or an integer)\n",
    "\n",
    "3 . str() - constructs a string from a wide variety of data types, including strings, integer literals and float literals"
   ]
  },
  {
   "cell_type": "markdown",
   "metadata": {
    "id": "TtHiZPkEXe-i"
   },
   "source": [
    "10 . What is the error caused by this expression? What would you do about it?\n",
    "\n",
    "'I have eaten ' + 99 + ' burritos.'\n"
   ]
  },
  {
   "cell_type": "markdown",
   "metadata": {
    "id": "IJTqJqktDz9o"
   },
   "source": [
    "#### Solution :\n",
    "\n",
    "Error caused by this expression is : - TypeError: can only concatenate str (not \"int\") to str\n",
    "\n",
    "Fix for this error :- 'I have eaten ' + str(99) + ' burritos.'"
   ]
  }
 ],
 "metadata": {
  "colab": {
   "collapsed_sections": [],
   "name": "python_basic_assignment_1",
   "provenance": []
  },
  "kernelspec": {
   "display_name": "Python 3",
   "language": "python",
   "name": "python3"
  },
  "language_info": {
   "codemirror_mode": {
    "name": "ipython",
    "version": 3
   },
   "file_extension": ".py",
   "mimetype": "text/x-python",
   "name": "python",
   "nbconvert_exporter": "python",
   "pygments_lexer": "ipython3",
   "version": "3.8.5"
  }
 },
 "nbformat": 4,
 "nbformat_minor": 1
}

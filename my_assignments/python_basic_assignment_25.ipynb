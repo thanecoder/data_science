{
 "cells": [
  {
   "cell_type": "markdown",
   "metadata": {
    "id": "Q7OT5vA3bB-R"
   },
   "source": [
    "# Assignment 25"
   ]
  },
  {
   "cell_type": "markdown",
   "metadata": {
    "id": "phb60uI6bEGZ"
   },
   "source": [
    "#### Submitted By : Paritosh Nichat\n",
    "\n",
    "#### Date : July 31, 2021"
   ]
  },
  {
   "cell_type": "markdown",
   "metadata": {
    "id": "lwNWwA_Gat48"
   },
   "source": [
    "1 . What is the difference between enclosing a list comprehension in square brackets and parentheses?"
   ]
  },
  {
   "cell_type": "markdown",
   "metadata": {
    "id": "h34Lm0ByWMkO"
   },
   "source": [
    "#### Solution :\n",
    "\n",
    "* List comprehensions in square brackets produce the result list all at once in memory. \n",
    "* When they are enclosed in parentheses instead, they are actually generator expressions—they have a similar meaning but do not produce the result list all at once. \n",
    "* Instead, generator expressions return a generator object, which yields one item in the result at a time when used in an iteration context."
   ]
  },
  {
   "cell_type": "markdown",
   "metadata": {
    "id": "QIoWgIZCawEe"
   },
   "source": [
    "2 . What is the relationship between generators and iterators?"
   ]
  },
  {
   "cell_type": "markdown",
   "metadata": {},
   "source": [
    "#### Solution :\n",
    "\n",
    "* Generators are objects that support the iteration protocol — they have a __next__ method that repeatedly advances to the next item in a series of results and raises an exception at the end of the series. \n",
    "* We can code generator functions with def, generator expressions with parenthesized list comprehensions, and generator objects with classes that define a special method named __iter__."
   ]
  },
  {
   "cell_type": "markdown",
   "metadata": {
    "id": "OKJkGNehax_v"
   },
   "source": [
    "3 . What are the signs that a function is a generator function?"
   ]
  },
  {
   "cell_type": "markdown",
   "metadata": {},
   "source": [
    "#### Solution :\n",
    "\n",
    "* A generator function has a yield statement somewhere in its code. \n",
    "* Generator functions are otherwise identical to normal functions syntactically, but they are compiled specially by Python so as to return an iterable object when called."
   ]
  },
  {
   "cell_type": "markdown",
   "metadata": {
    "id": "mDH5C1yQazz_"
   },
   "source": [
    "4 . What is the purpose of a yield statement?"
   ]
  },
  {
   "cell_type": "markdown",
   "metadata": {},
   "source": [
    "#### Solution :\n",
    "\n",
    "* When present, this statement **makes Python compile the function specially as a generator**, when called, the function returns a generator object that supports the iteration protocol. \n",
    "* When the yield statement is run, it sends a result back to the caller and suspends the function’s state; the function can then be resumed after the last yield statement, in response to a next built-in or __next__ method call issued by the caller. \n",
    "* Generator functions may also have a return statement, which terminates the generator."
   ]
  },
  {
   "cell_type": "markdown",
   "metadata": {
    "id": "rImVW6I0a1fN"
   },
   "source": [
    "5 . What is the relationship between map calls and list comprehensions? Make a comparison and contrast between the two."
   ]
  },
  {
   "cell_type": "markdown",
   "metadata": {},
   "source": [
    "#### Solution :\n",
    "\n",
    "* Both the map call and list comprehension build a new list by collecting the results of applying an operation to each item in a sequence or other iterable, one item at a time. \n",
    "* The **main difference is that map applies a function call to each item, and list comprehensions apply arbitrary expressions**. \n",
    "* Because of this, **list comprehensions are more general**; they can apply a function call expression like map, **but map requires a function to apply** other kinds of expressions. \n",
    "* List comprehensions also support extended syntax such as nested for loops and if clauses that subsume the filter built-in."
   ]
  }
 ],
 "metadata": {
  "colab": {
   "collapsed_sections": [],
   "name": "python_basic_assignment_25",
   "provenance": []
  },
  "kernelspec": {
   "display_name": "Python 3",
   "language": "python",
   "name": "python3"
  },
  "language_info": {
   "codemirror_mode": {
    "name": "ipython",
    "version": 3
   },
   "file_extension": ".py",
   "mimetype": "text/x-python",
   "name": "python",
   "nbconvert_exporter": "python",
   "pygments_lexer": "ipython3",
   "version": "3.8.5"
  }
 },
 "nbformat": 4,
 "nbformat_minor": 1
}

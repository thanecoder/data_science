{
 "cells": [
  {
   "cell_type": "markdown",
   "metadata": {
    "id": "h6Efsw8daUqn"
   },
   "source": [
    "# Assignment 22"
   ]
  },
  {
   "cell_type": "markdown",
   "metadata": {
    "id": "w-sTXSMBaWrF"
   },
   "source": [
    "#### Submitted By : Paritosh Nichat\n",
    "\n",
    "#### Date : August 1, 2021"
   ]
  },
  {
   "cell_type": "markdown",
   "metadata": {
    "id": "TAB5UkEcWsg9"
   },
   "source": [
    "1 . What is the result of the code, and explain?\n",
    "```\n",
    ">>> X = 'iNeuron'\n",
    ">>> def func():\n",
    "print(X)\n",
    ">>> func()\n",
    "```"
   ]
  },
  {
   "cell_type": "markdown",
   "metadata": {
    "id": "qkgx6XpPXQwy"
   },
   "source": [
    "#### Solution :\n",
    "```\n",
    "iNeuron\n",
    "```\n",
    "X is defined as 'iNeuron' in the global scope."
   ]
  },
  {
   "cell_type": "markdown",
   "metadata": {
    "id": "xjBxIZhlW0xi"
   },
   "source": [
    "2 . What is the result of the code, and explain?\n",
    "```\n",
    ">>> X = 'iNeuron'\n",
    ">>> def func():\n",
    "X = 'NI!'\n",
    ">>> func()\n",
    ">>> print(X)\n",
    "```"
   ]
  },
  {
   "cell_type": "markdown",
   "metadata": {
    "id": "DoG0ca9TXgn5"
   },
   "source": [
    "#### Solution :\n",
    "```\n",
    "iNeuron\n",
    "```\n",
    "Because X = 'iNeuron' is in global scope while X = 'NI!' is in local scope, hence the value of X does not get changed."
   ]
  },
  {
   "cell_type": "markdown",
   "metadata": {
    "id": "Yg8iLhfoW53Q"
   },
   "source": [
    "3 . What does this code print, and why?\n",
    "```\n",
    ">>> X = 'iNeuron'\n",
    ">>> def func():\n",
    "X = 'NI'\n",
    "print(X)\n",
    ">>> func()\n",
    ">>> print(X)\n",
    "```"
   ]
  },
  {
   "cell_type": "markdown",
   "metadata": {
    "id": "E0_LcuzsYLMe"
   },
   "source": [
    "#### Solution :\n",
    "```\n",
    "NI\n",
    "iNeuron\n",
    "```\n",
    "Because we call func first in which we have printed the local scope X(value='NI'), then we have printed the global scope X(value = 'iNeuron')"
   ]
  },
  {
   "cell_type": "markdown",
   "metadata": {
    "id": "TfCw-0BVW9ft"
   },
   "source": [
    "4 . What output does this code produce? Why?\n",
    "```\n",
    ">>> X = 'iNeuron'\n",
    ">>> def func():\n",
    "global X\n",
    "X = 'NI'\n",
    ">>> func()\n",
    ">>> print(X)\n",
    "```"
   ]
  },
  {
   "cell_type": "markdown",
   "metadata": {
    "id": "sH6wG4NuZVYL"
   },
   "source": [
    "#### Solution :\n",
    "```\n",
    "NI\n",
    "```\n",
    "Because we have used the global keyword , the global scope X(value='iNeuron') is changed"
   ]
  },
  {
   "cell_type": "markdown",
   "metadata": {
    "id": "dO6obPTdXAlF"
   },
   "source": [
    "5 . What about this code—what’s the output, and why?\n",
    "```\n",
    ">>> X = 'iNeuron'\n",
    ">>> def func():\n",
    "X = 'NI'\n",
    "def nested():\n",
    "print(X)\n",
    "nested()\n",
    ">>> func()\n",
    ">>> X\n",
    "```"
   ]
  },
  {
   "cell_type": "markdown",
   "metadata": {
    "id": "HDCABg43Z8Jf"
   },
   "source": [
    "#### Solution :\n",
    "```\n",
    "NI\n",
    "iNeuron\n",
    "```\n",
    "Because the nested function uses the parent function value of X which is 'NI' hence it prints that.Global value of X remains unchanged. "
   ]
  },
  {
   "cell_type": "markdown",
   "metadata": {
    "id": "SEqr3tS3XFPp"
   },
   "source": [
    "6 . How about this code: what is its output in Python 3, and explain?\n",
    "```\n",
    ">>> def func():\n",
    "X = 'NI'\n",
    "def nested():\n",
    "nonlocal X\n",
    "X = 'Spam'\n",
    "nested()\n",
    "print(X)\n",
    ">>> func()\n",
    "```"
   ]
  },
  {
   "cell_type": "markdown",
   "metadata": {
    "id": "c9d6jUyqbjPS"
   },
   "source": [
    "#### Solution :\n",
    "```\n",
    "Spam\n",
    "```\n",
    "Because the nonlocal keyword is used, hence the value of X defined in start of func function is changed. The nonlocal keyword is used to work with variables inside nested functions, and it declares that the variable is not local."
   ]
  }
 ],
 "metadata": {
  "colab": {
   "collapsed_sections": [],
   "name": "python_basic_assignment_22",
   "provenance": []
  },
  "kernelspec": {
   "display_name": "Python 3",
   "language": "python",
   "name": "python3"
  },
  "language_info": {
   "codemirror_mode": {
    "name": "ipython",
    "version": 3
   },
   "file_extension": ".py",
   "mimetype": "text/x-python",
   "name": "python",
   "nbconvert_exporter": "python",
   "pygments_lexer": "ipython3",
   "version": "3.8.5"
  }
 },
 "nbformat": 4,
 "nbformat_minor": 1
}

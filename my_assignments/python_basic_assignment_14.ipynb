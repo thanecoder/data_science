{
 "cells": [
  {
   "cell_type": "markdown",
   "metadata": {
    "id": "8IbZdQB9fi_B"
   },
   "source": [
    "# Assignment 14"
   ]
  },
  {
   "cell_type": "markdown",
   "metadata": {
    "id": "Zll8HGEzfk9I"
   },
   "source": [
    "#### Submitted By : Paritosh Nichat\n",
    "\n",
    "#### Date : July 29, 2021"
   ]
  },
  {
   "cell_type": "markdown",
   "metadata": {
    "id": "oU3JVNT5fVIp"
   },
   "source": [
    "1 . What does RGBA stand for?"
   ]
  },
  {
   "cell_type": "markdown",
   "metadata": {
    "id": "btr8Hy1mfqff"
   },
   "source": [
    "#### Solution :\n",
    "\n",
    "* An RGBA value is a tuple of 4 integers, each ranging from 0 to 255. \n",
    "* The four integers specify the amount of red, green, blue, and alpha (or transparency) in a color."
   ]
  },
  {
   "cell_type": "markdown",
   "metadata": {
    "id": "VeaTnW4nfY_5"
   },
   "source": [
    "2 . From the Pillow module, how do you get the RGBA value of any images?"
   ]
  },
  {
   "cell_type": "markdown",
   "metadata": {
    "id": "QL2ucGwsf0zP"
   },
   "source": [
    "#### Solution :\n",
    "\n",
    "* A function call to ImageColor.getcolor function will return the RGBA value."
   ]
  },
  {
   "cell_type": "markdown",
   "metadata": {
    "id": "FP2nbFtJfab2"
   },
   "source": [
    "3 . What is a box tuple, and how does it work?"
   ]
  },
  {
   "cell_type": "markdown",
   "metadata": {
    "id": "thOoUybLhfU5"
   },
   "source": [
    "#### Solution :\n",
    "\n",
    "* A box tuple is a tuple value of four integers: the left-edge x-coordinate, the top-edge y-coordinate, the width, and the height, respectively.\n",
    "* For example, the box tuple (3, 1, 9, 6)."
   ]
  },
  {
   "cell_type": "markdown",
   "metadata": {
    "id": "MKkTOF4ZfbyE"
   },
   "source": [
    "4 . Use your image and load in notebook then, How can you find out the width and height of an Image object?"
   ]
  },
  {
   "cell_type": "markdown",
   "metadata": {
    "id": "oaWFyKoUiHVG"
   },
   "source": [
    "#### Solution :\n",
    "\n",
    "* imageObj.size is a tuple of two integers, the width and the height."
   ]
  },
  {
   "cell_type": "markdown",
   "metadata": {
    "id": "WnQV5uphfdQf"
   },
   "source": [
    "5 . What method would you call to get Image object for a 100×100 image, excluding the lower-left quarter of it?"
   ]
  },
  {
   "cell_type": "markdown",
   "metadata": {
    "id": "cNMNn_NJiT-H"
   },
   "source": [
    "#### Solution :\n",
    "\n",
    "* imageObj.crop((0, 50, 50, 50)). \n",
    "* A box tuple is passed to crop(), not four separate integer arguments."
   ]
  },
  {
   "cell_type": "markdown",
   "metadata": {
    "id": "A1D8cSBHfefM"
   },
   "source": [
    "6 . After making changes to an Image object, how could you save it as an image file?"
   ]
  },
  {
   "cell_type": "markdown",
   "metadata": {
    "id": "ZMPbdwhdiUhX"
   },
   "source": [
    "#### Solution :\n",
    "\n",
    "* Call the imageObj.save('new_filename.png') method of the Image object."
   ]
  },
  {
   "cell_type": "markdown",
   "metadata": {
    "id": "oZETN0LRfgSQ"
   },
   "source": [
    "7 . What module contains Pillow’s shape-drawing code?"
   ]
  },
  {
   "cell_type": "markdown",
   "metadata": {
    "id": "hJ00KL8iiVC1"
   },
   "source": [
    "#### Solution :\n",
    "\n",
    "* The ImageDraw module contains code to draw on images."
   ]
  },
  {
   "cell_type": "markdown",
   "metadata": {
    "id": "VU7cl8K5fhjT"
   },
   "source": [
    "8 . Image objects do not have drawing methods. What kind of object does? How do you get this kind of object?"
   ]
  },
  {
   "cell_type": "markdown",
   "metadata": {
    "id": "_yd-qIW-iVw3"
   },
   "source": [
    "#### Solution :\n",
    "\n",
    "* ImageDraw objects have shape-drawing methods such as point(), line(), or rectangle(). \n",
    "* They are returned by passing the Image object to the ImageDraw.Draw() function."
   ]
  }
 ],
 "metadata": {
  "colab": {
   "collapsed_sections": [],
   "name": "python_basic_assignment_14",
   "provenance": []
  },
  "kernelspec": {
   "display_name": "Python 3",
   "language": "python",
   "name": "python3"
  },
  "language_info": {
   "codemirror_mode": {
    "name": "ipython",
    "version": 3
   },
   "file_extension": ".py",
   "mimetype": "text/x-python",
   "name": "python",
   "nbconvert_exporter": "python",
   "pygments_lexer": "ipython3",
   "version": "3.8.5"
  }
 },
 "nbformat": 4,
 "nbformat_minor": 1
}

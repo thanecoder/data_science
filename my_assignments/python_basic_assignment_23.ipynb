{
 "cells": [
  {
   "cell_type": "markdown",
   "metadata": {
    "id": "H3mWrQAgRQBK"
   },
   "source": [
    "# Assignment 23"
   ]
  },
  {
   "cell_type": "markdown",
   "metadata": {
    "id": "kFGcoBAIRSsU"
   },
   "source": [
    "#### Submitted By : Paritosh Nichat\n",
    "\n",
    "#### Date : July 31, 2021"
   ]
  },
  {
   "cell_type": "markdown",
   "metadata": {
    "id": "TLUbBIiPRXzH"
   },
   "source": [
    "1 . What is the result of the code, and why?\n",
    "```\n",
    ">>> def func(a, b=6, c=8):\n",
    "print(a, b, c)\n",
    ">>> func(1, 2)\n",
    "```"
   ]
  },
  {
   "cell_type": "markdown",
   "metadata": {
    "id": "Ky0pCiwDR2ta"
   },
   "source": [
    "#### Solution :\n",
    "```\n",
    "1 2 8\n",
    "```\n",
    "In the call to the function func , we pass the values for a and b and default value of c is used."
   ]
  },
  {
   "cell_type": "markdown",
   "metadata": {
    "id": "qy9SB3FlReZF"
   },
   "source": [
    "2 . What is the result of this code, and why?\n",
    "```\n",
    ">>> def func(a, b, c=5):\n",
    "print(a, b, c)\n",
    ">>> func(1, c=3, b=2)\n",
    "```"
   ]
  },
  {
   "cell_type": "markdown",
   "metadata": {
    "id": "bzmGrqroSNJT"
   },
   "source": [
    "#### Solution :\n",
    "```\n",
    "1 2 3\n",
    "```\n",
    "We pass the values for a by position, and b, and c by name hence that is used by the function func."
   ]
  },
  {
   "cell_type": "markdown",
   "metadata": {
    "id": "X-hdQmVHRisl"
   },
   "source": [
    "3 . How about this code: what is its result, and why?\n",
    "```\n",
    ">>> def func(a, *pargs):\n",
    "print(a, pargs)\n",
    ">>> func(1, 2, 3)\n",
    "```"
   ]
  },
  {
   "cell_type": "markdown",
   "metadata": {
    "id": "HAmuLgFOSlES"
   },
   "source": [
    "#### Solution :\n",
    "```\n",
    "1 (2, 3)\n",
    "```\n",
    "value = 1 is assigned to variable a and \\*pargs collects the remaining positional arguments into a new tuple object."
   ]
  },
  {
   "cell_type": "markdown",
   "metadata": {
    "id": "i66ZOxt2RmJT"
   },
   "source": [
    "4 . What does this code print, and why?\n",
    "```\n",
    ">>> def func(a, **kargs):\n",
    "print(a, kargs)\n",
    ">>> func(a=1, c=3, b=2)\n",
    "```"
   ]
  },
  {
   "cell_type": "markdown",
   "metadata": {
    "id": "8GfGIVBrTFJY"
   },
   "source": [
    "#### Solution :\n",
    "```\n",
    "1 {'c': 3, 'b': 2}\n",
    "```\n",
    "value = 1 is assigned to variable a \\*\\*kargs collects the remaining keyword arguments into a dictionary."
   ]
  },
  {
   "cell_type": "markdown",
   "metadata": {
    "id": "4fkySaVCRp3L"
   },
   "source": [
    "5 . What gets printed by this, and explain?\n",
    "```\n",
    ">>> def func(a, b, c=8, d=5): print(a, b, c, d)\n",
    ">>> func(1, *(5, 6))\n",
    "```"
   ]
  },
  {
   "cell_type": "markdown",
   "metadata": {
    "id": "VsBNDNnwTr4z"
   },
   "source": [
    "#### Solution :\n",
    "```\n",
    "1 5 6 5\n",
    "```\n",
    "1 matches a by position, 5 and 6 match b and c by \\*name positionals (6 overrides c’s default), and d defaults to 5 because it was not passed a value"
   ]
  },
  {
   "cell_type": "markdown",
   "metadata": {
    "id": "Iz_npE-HRtCN"
   },
   "source": [
    "6 . what is the result of this, and explain?\n",
    "```\n",
    ">>> def func(a, b, c): a = 2; b[0] = 'x'; c['a'] = 'y'\n",
    ">>> l=1; m=[1]; n={'a':0}\n",
    ">>> func(l, m, n)\n",
    ">>> l, m, n\n",
    "```"
   ]
  },
  {
   "cell_type": "markdown",
   "metadata": {
    "id": "ovgIN_bST_uB"
   },
   "source": [
    "#### Solution :\n",
    "```\n",
    "(1, ['x'], {'a': 'y'})\n",
    "```\n",
    "* Value of l is printed as it is.\n",
    "* 0th index value of m is overwritten by function func to 'x'.\n",
    "* Value of Key 'a' of n is overwritten by function func to 'y'  "
   ]
  }
 ],
 "metadata": {
  "colab": {
   "collapsed_sections": [],
   "name": "python_basic_assignment_23",
   "provenance": []
  },
  "kernelspec": {
   "display_name": "Python 3",
   "language": "python",
   "name": "python3"
  },
  "language_info": {
   "codemirror_mode": {
    "name": "ipython",
    "version": 3
   },
   "file_extension": ".py",
   "mimetype": "text/x-python",
   "name": "python",
   "nbconvert_exporter": "python",
   "pygments_lexer": "ipython3",
   "version": "3.8.5"
  }
 },
 "nbformat": 4,
 "nbformat_minor": 1
}

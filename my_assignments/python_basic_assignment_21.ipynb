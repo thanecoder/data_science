{
 "cells": [
  {
   "cell_type": "markdown",
   "metadata": {
    "id": "6QfeP_nXc1jd"
   },
   "source": [
    "# Assignment 21"
   ]
  },
  {
   "cell_type": "markdown",
   "metadata": {
    "id": "arh7yXmMc3x9"
   },
   "source": [
    "#### Submitted By : Paritosh Nichat\n",
    "\n",
    "#### Date : August 1, 2021"
   ]
  },
  {
   "cell_type": "markdown",
   "metadata": {
    "id": "lW6xrs_0cRKu"
   },
   "source": [
    "1 . Add the current date to the text file today.txt as a string."
   ]
  },
  {
   "cell_type": "code",
   "execution_count": null,
   "metadata": {
    "id": "U3eXgqCedByV"
   },
   "outputs": [],
   "source": [
    "from datetime import date\n",
    "\n",
    "with open(\"today.txt\",mode = \"w\") as file:\n",
    "    curdate = date.today()\n",
    "    file.write(str(curdate))"
   ]
  },
  {
   "cell_type": "markdown",
   "metadata": {
    "id": "qZbdHtdncT-S"
   },
   "source": [
    "2 . Read the text file today.txt into the string today_string"
   ]
  },
  {
   "cell_type": "code",
   "execution_count": null,
   "metadata": {
    "colab": {
     "base_uri": "https://localhost:8080/"
    },
    "id": "PfZaIgaAdw9p",
    "outputId": "cc45325e-1b51-483c-ac45-19d1fa1f28f2"
   },
   "outputs": [
    {
     "name": "stdout",
     "output_type": "stream",
     "text": [
      "2021-07-26\n"
     ]
    }
   ],
   "source": [
    "with open(\"today.txt\",mode = \"r+\") as file:\n",
    "    today_string = file.read()\n",
    "\n",
    "print(today_string)"
   ]
  },
  {
   "cell_type": "markdown",
   "metadata": {
    "id": "1qm99VaVcYAo"
   },
   "source": [
    "3 . Parse the date from today_string."
   ]
  },
  {
   "cell_type": "code",
   "execution_count": null,
   "metadata": {
    "colab": {
     "base_uri": "https://localhost:8080/"
    },
    "id": "MW49ZIkMeCwe",
    "outputId": "200a5171-9015-49f0-c1c4-d0af6f71ac79"
   },
   "outputs": [
    {
     "name": "stdout",
     "output_type": "stream",
     "text": [
      "2021-07-26\n"
     ]
    }
   ],
   "source": [
    "from datetime import datetime\n",
    "\n",
    "curdate = datetime.strptime(today_string,'%Y-%m-%d')\n",
    "print(curdate.date())"
   ]
  },
  {
   "cell_type": "markdown",
   "metadata": {
    "id": "du0rzTeKcaap"
   },
   "source": [
    "4 . List the files in your current directory"
   ]
  },
  {
   "cell_type": "code",
   "execution_count": 12,
   "metadata": {
    "id": "2Suh4VYPIwls"
   },
   "outputs": [
    {
     "data": {
      "text/plain": [
       "['.ipynb_checkpoints',\n",
       " 'python_basic_assignment_6.ipynb',\n",
       " 'test.txt',\n",
       " 'python_basic_assignment_25.ipynb',\n",
       " 'python_basic_assignment_4.ipynb',\n",
       " 'books.db',\n",
       " 'python_basic_assignment_12.ipynb',\n",
       " 'python_basic_assignment_17.ipynb',\n",
       " 'python_basic_assignment_8.ipynb',\n",
       " 'python_basic_assignment_16.ipynb',\n",
       " 'python_basic_assignment_21.ipynb',\n",
       " 'python_basic_assignment_22.ipynb',\n",
       " 'books.csv',\n",
       " 'python_basic_assignment_9.ipynb',\n",
       " 'python_basic_assignment_11.ipynb',\n",
       " 'python_basic_assignment_24.ipynb',\n",
       " 'python_basic_assignment_1.ipynb',\n",
       " 'python_basic_assignment_13.ipynb',\n",
       " 'python_basic_assignment_14.ipynb',\n",
       " 'python_basic_assignment_23.ipynb',\n",
       " 'python_basic_assignment_19.ipynb',\n",
       " '.gitignore',\n",
       " 'python_basic_assignment_5.ipynb',\n",
       " 'python_basic_assignment_10.ipynb',\n",
       " 'python_basic_assignment_2.ipynb',\n",
       " '__pycache__',\n",
       " 'python_basic_assignment_3.ipynb',\n",
       " 'python_basic_assignment_20.ipynb',\n",
       " 'python_basic_assignment_7.ipynb',\n",
       " 'zoo.py',\n",
       " 'python_basic_assignment_18.ipynb']"
      ]
     },
     "execution_count": 12,
     "metadata": {},
     "output_type": "execute_result"
    }
   ],
   "source": [
    "import os\n",
    "\n",
    "os.listdir('.')"
   ]
  },
  {
   "cell_type": "markdown",
   "metadata": {
    "id": "lQsnhjIiccB_"
   },
   "source": [
    "5 . Create a list of all of the files in your parent directory (minimum five files should be available)."
   ]
  },
  {
   "cell_type": "code",
   "execution_count": 13,
   "metadata": {
    "id": "1x65jI1YIxMb"
   },
   "outputs": [
    {
     "data": {
      "text/plain": [
       "['.ipynb_checkpoints',\n",
       " 'course_notes',\n",
       " 'my_assignments',\n",
       " 'practical_assigments',\n",
       " 'README.md',\n",
       " '.gitignore',\n",
       " 'my_books',\n",
       " '.git',\n",
       " 'SQL Dataset-20210312T053443Z-001.zip']"
      ]
     },
     "execution_count": 13,
     "metadata": {},
     "output_type": "execute_result"
    }
   ],
   "source": [
    "import os\n",
    "\n",
    "os.listdir('..')"
   ]
  },
  {
   "cell_type": "markdown",
   "metadata": {
    "id": "Up2d4vVQceII"
   },
   "source": [
    "6 . Use multiprocessing to create three separate processes. Make each one wait a random number of seconds between one and five, print the current time, and then exit."
   ]
  },
  {
   "cell_type": "code",
   "execution_count": 37,
   "metadata": {
    "id": "4KA7jP_1Ixi7"
   },
   "outputs": [
    {
     "name": "stdout",
     "output_type": "stream",
     "text": [
      "Wait :  1 seconds, Time is 2021-07-31 09:07:34.995883\n",
      "Wait :  2 seconds, Time is 2021-07-31 09:07:35.993051\n",
      "Wait :  3 seconds, Time is 2021-07-31 09:07:36.990256\n"
     ]
    }
   ],
   "source": [
    "import multiprocessing\n",
    "import random\n",
    "from datetime import datetime\n",
    "from time import sleep\n",
    "\n",
    "def sleep_and_print_time(seconds):\n",
    "    sleep(seconds)\n",
    "    print('Wait : ', seconds, 'seconds, Time is', datetime.now())\n",
    "\n",
    "i = 0\n",
    "while i < 3:\n",
    "    seconds = random.randrange(1, 6)\n",
    "    proc = multiprocessing.Process(target=sleep_and_print_time, args=(seconds,))\n",
    "    proc.start()\n",
    "    i += 1"
   ]
  },
  {
   "cell_type": "markdown",
   "metadata": {
    "id": "cDDu-k4Bcgqm"
   },
   "source": [
    "7 . Create a date object of your day of birth."
   ]
  },
  {
   "cell_type": "code",
   "execution_count": 2,
   "metadata": {
    "colab": {
     "base_uri": "https://localhost:8080/"
    },
    "id": "TLuL6P-QIx63",
    "outputId": "cb4a8009-d271-4ab9-befc-7ed88a39fdc0"
   },
   "outputs": [
    {
     "data": {
      "text/plain": [
       "datetime.date(1996, 11, 17)"
      ]
     },
     "execution_count": 2,
     "metadata": {},
     "output_type": "execute_result"
    }
   ],
   "source": [
    "from datetime import date\n",
    "\n",
    "dob = date(1996, 11, 17)\n",
    "dob"
   ]
  },
  {
   "cell_type": "markdown",
   "metadata": {
    "id": "epKJGsiQcjJ9"
   },
   "source": [
    "8 . What day of the week was your day of birth?"
   ]
  },
  {
   "cell_type": "code",
   "execution_count": 3,
   "metadata": {
    "colab": {
     "base_uri": "https://localhost:8080/"
    },
    "id": "k1mTjaHAIyKm",
    "outputId": "bebb2848-756b-42cc-887e-5ae36ecdfdb6"
   },
   "outputs": [
    {
     "data": {
      "text/plain": [
       "6"
      ]
     },
     "execution_count": 3,
     "metadata": {},
     "output_type": "execute_result"
    }
   ],
   "source": [
    "dob.weekday()"
   ]
  },
  {
   "cell_type": "code",
   "execution_count": 4,
   "metadata": {},
   "outputs": [
    {
     "data": {
      "text/plain": [
       "7"
      ]
     },
     "execution_count": 4,
     "metadata": {},
     "output_type": "execute_result"
    }
   ],
   "source": [
    "dob.isoweekday()"
   ]
  },
  {
   "cell_type": "markdown",
   "metadata": {
    "id": "ladPSjIuckuT"
   },
   "source": [
    "9 . When will you be (or when were you) 10,000 days old?"
   ]
  },
  {
   "cell_type": "code",
   "execution_count": 5,
   "metadata": {
    "id": "CZsY_T7MIybh"
   },
   "outputs": [
    {
     "data": {
      "text/plain": [
       "datetime.date(2024, 4, 4)"
      ]
     },
     "execution_count": 5,
     "metadata": {},
     "output_type": "execute_result"
    }
   ],
   "source": [
    "from datetime import timedelta\n",
    "\n",
    "dob_10000days = dob + timedelta(days=10000)\n",
    "dob_10000days"
   ]
  }
 ],
 "metadata": {
  "colab": {
   "collapsed_sections": [],
   "name": "python_basic_assignment_21",
   "provenance": []
  },
  "kernelspec": {
   "display_name": "Python 3",
   "language": "python",
   "name": "python3"
  },
  "language_info": {
   "codemirror_mode": {
    "name": "ipython",
    "version": 3
   },
   "file_extension": ".py",
   "mimetype": "text/x-python",
   "name": "python",
   "nbconvert_exporter": "python",
   "pygments_lexer": "ipython3",
   "version": "3.8.5"
  }
 },
 "nbformat": 4,
 "nbformat_minor": 1
}
